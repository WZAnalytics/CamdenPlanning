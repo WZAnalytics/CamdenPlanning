{
 "cells": [
  {
   "cell_type": "code",
   "execution_count": 1,
   "id": "bd394456-d765-45ad-b2ba-c0aad63d8afd",
   "metadata": {
    "editable": true,
    "slideshow": {
     "slide_type": ""
    },
    "tags": []
   },
   "outputs": [
    {
     "name": "stdout",
     "output_type": "stream",
     "text": [
      "Done! Current time: 2025-09-28 19:48:09\n"
     ]
    }
   ],
   "source": [
    "# --- IMPORTS ---\n",
    "\n",
    "\n",
    "import pandas as pd\n",
    "import requests\n",
    "from io import StringIO\n",
    "import matplotlib.pyplot as plt\n",
    "import plotly.express as px\n",
    "import plotly.graph_objects as go\n",
    "from sentence_transformers import SentenceTransformer, util\n",
    "import torch\n",
    "import time\n",
    "import math\n",
    "\n",
    "\n",
    "# Show full string contents in DataFrames - need this for checking addresses later\n",
    "pd.set_option('display.max_colwidth', None)\n",
    "\n",
    "#printing the current time so we can be certain a thing has run now and not just earlier\n",
    "print(f\"Done! Current time: {time.strftime('%Y-%m-%d %H:%M:%S')}\")\n"
   ]
  },
  {
   "cell_type": "code",
   "execution_count": 2,
   "id": "99c5d04d-62a2-4fad-b338-e375e7c2742d",
   "metadata": {
    "scrolled": true
   },
   "outputs": [
    {
     "name": "stdout",
     "output_type": "stream",
     "text": [
      "       ID Application Number  \\\n",
      "0  244655        2010/4360/T   \n",
      "1  215754        2010/1218/P   \n",
      "2  307630        2012/2307/P   \n",
      "3  310796        2012/2672/L   \n",
      "4  227582        2010/2468/P   \n",
      "\n",
      "                                                           Development Address  \\\n",
      "0                                               47 Rosslyn Hill London NW3 5UH   \n",
      "1                                                 2 Malden Road London NW5 3HR   \n",
      "2                              Craven House  119-123 Kingsway London  WC2B 6PA   \n",
      "3  The Granary Building  Kings Cross Development Zone L York Way London N1 0AU   \n",
      "4                      23-30 Kings Mews & 43-45 Grays Inn Road London WC1N 2JB   \n",
      "\n",
      "                                                                                                                                                                                                                                                                                                                                                                                                                                                                                                                                                                                                                                                                                                                                                                            Development Description  \\\n",
      "0                                                                                                                                                                                                                                                                                                                                                                                                                                                                                                                                                                                                                                                                                                   REAR GARDEN: 1 x Ash - Remove branches overhanging 1 Thurlow Road, thin crown and reduce by 30%   \n",
      "1                                                                                                                                                                                                                                                                                                                                                                                                                                                                                                      Change of use of ground level shop (Class A1) and associated basement storage and staff room to a live/work unit (Sui Generis), including alterations to both front elevations to include new windows and a door plus an enlarged lightwell with railings on the Prince of Wales Rd frontage   \n",
      "2                                                                                                                                                                                                                                                                                                                                                             Variation of condition 6 of planning permission dated 27/02/12 (ref: 2011/5090/P) for change of use of part of existing retail unit (Class A1) at basement and ground floor to restaurant use (Class A3), to vary the opening hours from 12:00hrs to 23:00hrs Monday to Saturday and 12:00hrs to 22:00hrs Sundays and Bank Holidays to 10:00hrs to 00:00hrs Monday to Saturday and 10:00hrs to 23:00hrs on Sundays and Bank Holidays.   \n",
      "3                                                                                                                                                                                                                                                                                                                                                                                                                                                                                                                                                                                                                            Details of lighting fixtures and fittings required by condition 21a (xxi) of listed building consent 2007/5230/L dated 08/04/2008 for alterations to Granary Building.   \n",
      "4  Details of a programme of archaeological investigation, pursuant to condition 5 of planning permission reference 2009/0710/P granted on 13/05/2009 for the redevelopment of the site following the demolition of the existing 2 and 3 storey storage buildings at 23-30 Kings Mews including the erection of a new part 3, part 4 storey building to accommodate 18 private residential flats, and erection of rear extension at first to third floor levels and mansard roof extension at fourth floor level at 43-45 Gray's Inn Road and provision of a new shopfront associated with the retained retail use at ground and basement floor levels, and change of use of the upper floors from part offices and part residential to a wholly residential use to accommodate 7 affordable flats.   \n",
      "\n",
      "                                      Decision Type Valid From Date  \\\n",
      "0            No Objection to Works to Tree(s) in CA      28/07/2010   \n",
      "1  Granted Subject to a Section 106 Legal Agreement      16/04/2010   \n",
      "2                                           Granted      16/05/2012   \n",
      "3                                           Granted      14/05/2012   \n",
      "4                                           Granted      06/05/2010   \n",
      "\n",
      "  Registered Date Registered In Last 7 Working Days  \\\n",
      "0      17/08/2010                                No   \n",
      "1      20/04/2010                                No   \n",
      "2      23/05/2012                                No   \n",
      "3      23/05/2012                                No   \n",
      "4      24/05/2010                                No   \n",
      "\n",
      "  Registered In Last 28 Working Days Earliest Decision Date  ...  \\\n",
      "0                                 No             07/09/2010  ...   \n",
      "1                                 No             20/05/2010  ...   \n",
      "2                                 No             15/06/2012  ...   \n",
      "3                                 No             21/06/2012  ...   \n",
      "4                                 No             16/06/2010  ...   \n",
      "\n",
      "                                                   Application Type   Easting  \\\n",
      "0  Notification of Intended Works to Tree(s) in a Conservation Area  526798.0   \n",
      "1                                          Full Planning Permission  528339.0   \n",
      "2                              Variation or Removal of Condition(s)  530518.0   \n",
      "3                             Approval of Details (Listed Building)  530146.0   \n",
      "4                                               Approval of Details  530950.0   \n",
      "\n",
      "   Northing Longitude   Latitude           Spatial Accuracy Last Uploaded  \\\n",
      "0  185536.0 -0.172446  51.554472  Plotted by Camden Officer    27/09/2025   \n",
      "1  184640.0 -0.150557  51.546071  Plotted by Camden Officer    27/09/2025   \n",
      "2  181445.0 -0.120335  51.516859  Plotted by Camden Officer    27/09/2025   \n",
      "3  183656.0 -0.124876  51.536815  Plotted by Camden Officer    27/09/2025   \n",
      "4  181981.0 -0.113913  51.521576  Plotted by Camden Officer    27/09/2025   \n",
      "\n",
      "                 Location Socrata ID  \\\n",
      "0  (51.554472, -0.172446)        100   \n",
      "1  (51.546071, -0.150557)       1001   \n",
      "2  (51.516859, -0.120335)      10124   \n",
      "3  (51.536815, -0.124876)      10125   \n",
      "4  (51.521576, -0.113913)       1013   \n",
      "\n",
      "                                                  Organisation URI  \n",
      "0  http://opendatacommunities.org/id/london-borough-council/camden  \n",
      "1  http://opendatacommunities.org/id/london-borough-council/camden  \n",
      "2  http://opendatacommunities.org/id/london-borough-council/camden  \n",
      "3  http://opendatacommunities.org/id/london-borough-council/camden  \n",
      "4  http://opendatacommunities.org/id/london-borough-council/camden  \n",
      "\n",
      "[5 rows x 33 columns]\n",
      "Longest ward name length: 301\n",
      "Current time: 2025-09-28 19:48:22\n"
     ]
    }
   ],
   "source": [
    "# --- PLANNING APPLICATION DATA ---\n",
    "\n",
    "# retrieve the data\n",
    "url = \"https://opendata.camden.gov.uk/api/views/2eiu-s2cw/rows.csv?accessType=DOWNLOAD\"\n",
    "\n",
    "\n",
    "headers = {\"User-Agent\": \"Mozilla/5.0\"}\n",
    "response = requests.get(url, headers=headers)\n",
    "\n",
    "if response.status_code == 200:\n",
    "    data = StringIO(response.text)\n",
    "    df = pd.read_csv(data)\n",
    "    print(df.head())\n",
    "\n",
    "     # Calculate maximum ward name length - we've got some dodgy ones that need cleaning\n",
    "    max_ward_length = df['Ward'].astype(str).str.len().max()\n",
    "    print(f\"Longest ward name length: {max_ward_length}\")\n",
    "    \n",
    "else:\n",
    "    print(\"Failed to download, status code:\", response.status_code)\n",
    "\n",
    "\n",
    "\n",
    "print(f\"Current time: {time.strftime('%Y-%m-%d %H:%M:%S')}\")\n",
    "\n",
    "    "
   ]
  },
  {
   "cell_type": "code",
   "execution_count": 3,
   "id": "2db7db30-cdcd-4bb6-a2c9-e2dcfb7d1ebc",
   "metadata": {},
   "outputs": [
    {
     "name": "stdout",
     "output_type": "stream",
     "text": [
      "Index(['ID', 'Application Number', 'Development Address',\n",
      "       'Development Description', 'Decision Type', 'Valid From Date',\n",
      "       'Registered Date', 'Registered In Last 7 Working Days',\n",
      "       'Registered In Last 28 Working Days', 'Earliest Decision Date',\n",
      "       'Decision Date', 'Decision Level', 'System Status',\n",
      "       'System Status Change Date', 'Applicant Name', 'Ward',\n",
      "       'Conservation Areas', 'Neighbourhood Areas', 'Case Officer',\n",
      "       'Case Officer Team', 'Responsibility Type', 'Comment',\n",
      "       'Full Application', 'Application Type', 'Easting', 'Northing',\n",
      "       'Longitude', 'Latitude', 'Spatial Accuracy', 'Last Uploaded',\n",
      "       'Location', 'Socrata ID', 'Organisation URI'],\n",
      "      dtype='object')\n",
      "<class 'pandas.core.frame.DataFrame'>\n",
      "RangeIndex: 77966 entries, 0 to 77965\n",
      "Data columns (total 33 columns):\n",
      " #   Column                              Non-Null Count  Dtype  \n",
      "---  ------                              --------------  -----  \n",
      " 0   ID                                  77966 non-null  int64  \n",
      " 1   Application Number                  77966 non-null  object \n",
      " 2   Development Address                 77966 non-null  object \n",
      " 3   Development Description             77966 non-null  object \n",
      " 4   Decision Type                       76874 non-null  object \n",
      " 5   Valid From Date                     77966 non-null  object \n",
      " 6   Registered Date                     77966 non-null  object \n",
      " 7   Registered In Last 7 Working Days   77966 non-null  object \n",
      " 8   Registered In Last 28 Working Days  77966 non-null  object \n",
      " 9   Earliest Decision Date              72795 non-null  object \n",
      " 10  Decision Date                       76874 non-null  object \n",
      " 11  Decision Level                      76874 non-null  object \n",
      " 12  System Status                       77966 non-null  object \n",
      " 13  System Status Change Date           77966 non-null  object \n",
      " 14  Applicant Name                      77415 non-null  object \n",
      " 15  Ward                                77544 non-null  object \n",
      " 16  Conservation Areas                  55582 non-null  object \n",
      " 17  Neighbourhood Areas                 16996 non-null  object \n",
      " 18  Case Officer                        77964 non-null  object \n",
      " 19  Case Officer Team                   77964 non-null  object \n",
      " 20  Responsibility Type                 77964 non-null  object \n",
      " 21  Comment                             77966 non-null  object \n",
      " 22  Full Application                    77966 non-null  object \n",
      " 23  Application Type                    77966 non-null  object \n",
      " 24  Easting                             77958 non-null  float64\n",
      " 25  Northing                            77958 non-null  float64\n",
      " 26  Longitude                           77958 non-null  float64\n",
      " 27  Latitude                            77958 non-null  float64\n",
      " 28  Spatial Accuracy                    77966 non-null  object \n",
      " 29  Last Uploaded                       77966 non-null  object \n",
      " 30  Location                            77958 non-null  object \n",
      " 31  Socrata ID                          77966 non-null  int64  \n",
      " 32  Organisation URI                    77966 non-null  object \n",
      "dtypes: float64(4), int64(2), object(27)\n",
      "memory usage: 19.6+ MB\n",
      "Current time: 2025-09-28 19:48:22\n"
     ]
    }
   ],
   "source": [
    "# --- VIEW PLANNING APPLICATION DATA ---\n",
    "\n",
    "# See column names\n",
    "print(df.columns)\n",
    "\n",
    "# Quick info to check types and nulls\n",
    "df.info()\n",
    "\n",
    "print(f\"Current time: {time.strftime('%Y-%m-%d %H:%M:%S')}\")\n"
   ]
  },
  {
   "cell_type": "code",
   "execution_count": 4,
   "id": "5f4d2fcd-bb5e-443d-8c83-e3e0f3834b1b",
   "metadata": {},
   "outputs": [
    {
     "name": "stdout",
     "output_type": "stream",
     "text": [
      "Rows with matched postcode: 74527\n",
      "Rows without a matched postcode: 1934\n",
      "Current time: 2025-09-28 19:48:22\n"
     ]
    }
   ],
   "source": [
    "# --- CLEAN PLANNING APPLICATION DATA ---\n",
    "\n",
    "# Rename columns to snake_case for convenience\n",
    "df.rename(columns={\n",
    "    'Development Description': 'development_description',\n",
    "    'Decision Type': 'decision',\n",
    "    'Decision Date': 'decision_date',\n",
    "    'Ward': 'ward',\n",
    "    'Development Address': 'development_address'\n",
    "    \n",
    "}, inplace=True)\n",
    "\n",
    "# Trim anything from the first \"(\" onward in ward names\n",
    "df['ward'] = df['ward'].str.replace(r\"\\s*\\(.*\", \"\", regex=True).str.strip()\n",
    "\n",
    "\n",
    "# Keep only relevant columns + Development Address for postcode extraction\n",
    "# in first iteration ward names were iffy so will use postcode + census postcode data to fix\n",
    "df = df[['development_description', 'decision', 'decision_date', 'ward', 'development_address']]\n",
    "\n",
    "# Drop rows with missing essential info -- could we keep in rows without decision or decision date???\n",
    "df = df.dropna(subset=['development_description', 'decision', 'decision_date', 'ward'])\n",
    "\n",
    "# Regex for UK postcodes - refined manually using no_postcode_df below\n",
    "postcode_regex = r'([A-Z]{1,2}\\d[A-Z\\d]?\\s*\\d[A-Z]{2})'\n",
    "\n",
    "# Extract postcode\n",
    "df['postcode_temp'] = df['development_address'].str.extract(postcode_regex, expand=False)\n",
    "\n",
    "# Standardize: remove spaces and uppercase\n",
    "df['postcode_1'] = df['postcode_temp'].str.replace(\" \", \"\", regex=False).str.upper()\n",
    "\n",
    "\n",
    "# Check how many matched now\n",
    "matched = df['postcode_1'].notna().sum()\n",
    "total = len(df)\n",
    "not_matched = total - matched\n",
    "print(f\"Rows with matched postcode: {matched}\")\n",
    "print(f\"Rows without a matched postcode: {not_matched}\")\n",
    "\n",
    "# Preview unmatched addresses - used to fine tune regex\n",
    "no_postcode_df = df[df['postcode_1'].isna()]\n",
    "no_postcode_df[['development_address']]\n",
    "\n",
    "print(f\"Current time: {time.strftime('%Y-%m-%d %H:%M:%S')}\")\n",
    "\n"
   ]
  },
  {
   "cell_type": "code",
   "execution_count": 5,
   "id": "c70db3c0-5127-45c2-ac99-cab1246c2860",
   "metadata": {
    "scrolled": true
   },
   "outputs": [
    {
     "name": "stdout",
     "output_type": "stream",
     "text": [
      "Number of unique wards: 101\n",
      "                                       ward  Application Count\n",
      "0                            Hampstead Town               7844\n",
      "1                   Holborn & Covent Garden               6745\n",
      "2                                Bloomsbury               6202\n",
      "3                       Frognal & Fitzjohns               6111\n",
      "4                                  Highgate               5385\n",
      "..                                      ...                ...\n",
      "96   Holborn and Covent Garden;Regents Park                  1\n",
      "97                   Belsize;West Hampstead                  1\n",
      "98                  Frognal;South Hampstead                  1\n",
      "99            West Hampstead;West Hampstead                  1\n",
      "100                Haverstock;Primrose Hill                  1\n",
      "\n",
      "[101 rows x 2 columns]\n",
      "Current time: 2025-09-28 19:48:22\n"
     ]
    }
   ],
   "source": [
    "# --- CHECK WHAT OUR DATA LOOKS LIKE AGAIN ---\n",
    "\n",
    "# Count number of entries per ward\n",
    "ward_counts = df['ward'].value_counts().sort_values(ascending=False)\n",
    "\n",
    "num_unique_wards = df['ward'].nunique()\n",
    "print(f\"Number of unique wards: {num_unique_wards}\")\n",
    "\n",
    "ward_counts_df = ward_counts.reset_index()\n",
    "ward_counts_df.columns = ['ward', 'Application Count']\n",
    "print(ward_counts_df)\n",
    "\n",
    "print(f\"Current time: {time.strftime('%Y-%m-%d %H:%M:%S')}\")\n"
   ]
  },
  {
   "cell_type": "code",
   "execution_count": 6,
   "id": "a62db72f-278a-4f8b-a2d6-5def4683b078",
   "metadata": {
    "scrolled": true
   },
   "outputs": [
    {
     "data": {
      "image/png": "[encoded data removed]",
      "text/plain": [
       "<Figure size 800x500 with 1 Axes>"
      ]
     },
     "metadata": {},
     "output_type": "display_data"
    },
    {
     "name": "stdout",
     "output_type": "stream",
     "text": [
      "Current time: 2025-09-28 19:48:22\n"
     ]
    }
   ],
   "source": [
    "# --- VISUALISING OUTLIERS V1 ---\n",
    "\n",
    "''' want a way to visualise outliers, specifically wards with very few applications\n",
    "likely caused by having the names entered weirdly\n",
    "obviously the log linear chart doesn't work well\n",
    "'''\n",
    "plt.figure(figsize=(8,5))\n",
    "plt.hist(\n",
    "    ward_counts_df['Application Count'],\n",
    "    bins=30,\n",
    "    color='steelblue',\n",
    "    edgecolor='black'\n",
    ")\n",
    "plt.xscale('log')   # log scale for applications\n",
    "plt.xlabel(\"Applications per Ward (log scale)\")\n",
    "plt.ylabel(\"Number of Wards\")\n",
    "plt.title(\"Distribution of Applications per Ward\")\n",
    "plt.tight_layout()\n",
    "plt.show()\n",
    "\n",
    "print(f\"Current time: {time.strftime('%Y-%m-%d %H:%M:%S')}\")\n"
   ]
  },
  {
   "cell_type": "code",
   "execution_count": 16,
   "id": "959ca278-3ac7-4ac4-9f83-36ce0454d1f2",
   "metadata": {
    "scrolled": true
   },
   "outputs": [
    {
     "data": {
      "application/vnd.plotly.v1+json": {
       "config": {
        "plotlyServerURL": "https://plot.ly"
       },
       "data": [
        {
         "alignmentgroup": "True",
         "boxpoints": "all",
         "fillcolor": "rgba(255,255,255,0)",
         "hoveron": "points",
         "hovertemplate": "<b>%{hovertext}</b><br><br>Application Count=%{x}<br>y=%{y}<extra></extra>",
         "hovertext": [
          "Belsize",
          "Hampstead Town",
          "Bloomsbury",
          "Holborn & Covent Garden",
          "Highgate",
          "Frognal",
          "Regent'S Park",
          "South Hampstead",
          "Primrose Hill",
          "West Hampstead",
          "Fortune Green",
          "Gospel Oak",
          "Haverstock",
          "Camden Town",
          "St Pancras & Somers Town",
          "King'S Cross",
          "Kilburn",
          "Kentish Town South",
          "Kentish Town North",
          "Camden Square",
          "Camden Town With Primrose Hill",
          "Frognal & Fitzjohns",
          "Swiss Cottage",
          "Kentish Town",
          "Cantelowes",
          "Holborn And Covent Garden",
          "Adjoining Borough",
          "St Pancras And Somers Town",
          "Adjoining Borough; Kentish Town",
          "King's Cross; St Pancras and Somers Town",
          "Holborn and Covent Garden; King's Cross",
          "Camden Square; Camden Town",
          "Camden Square; Holborn and Covent Garden; King's Cross",
          "Frognal; Frognal & Fitzjohns",
          "Hampstead Town; Highgate",
          "Camden Town; Primrose Hill",
          "Camden Town; Frognal",
          "Camden Square; Cantelowes",
          "Camden",
          "Bloomsbury; Holborn and Covent Garden",
          "Camden Town; Camden Town with Primrose Hill",
          "Gospel Oak; Haverstock",
          "Unknown",
          "Adjoining Borough; Cantelowes",
          "Adjoining Borough; Regent's Park",
          "South Hampstead; Swiss Cottage",
          "Adjoining Borough; Swiss Cottage",
          "Bloomsbury; Kilburn",
          "King's Cross; Regent's Park; St Pancras and Somers Town",
          "King's Cross; St Pancras & Somers Town",
          "Bloomsbury; King's Cross",
          "Kentish Town South; St Pancras and Somers Town",
          "Camden Town; Primrose Hill; Regent's Park",
          "Camden Square; Haverstock",
          "Camden Town; Haverstock; Primrose Hill",
          "Camden Square; King's Cross",
          "Highgate; South Hampstead",
          "Fortune Green; West Hampstead"
         ],
         "legendgroup": "",
         "line": {
          "color": "rgba(255,255,255,0)"
         },
         "marker": {
          "color": "#636efa"
         },
         "name": "",
         "offsetgroup": "",
         "orientation": "v",
         "pointpos": 0,
         "showlegend": false,
         "type": "box",
         "x": [
          13895,
          13367,
          9782,
          9090,
          7895,
          7211,
          6808,
          6728,
          5807,
          5747,
          5312,
          4486,
          3973,
          3869,
          3753,
          3705,
          3061,
          3036,
          2433,
          2076,
          1580,
          1448,
          1260,
          1002,
          733,
          715,
          209,
          94,
          7,
          7,
          5,
          3,
          3,
          3,
          3,
          3,
          2,
          2,
          2,
          2,
          2,
          1,
          1,
          1,
          1,
          1,
          1,
          1,
          1,
          1,
          1,
          1,
          1,
          1,
          1,
          1,
          1,
          1
         ],
         "x0": " ",
         "xaxis": "x",
         "y": [
          0,
          0,
          0,
          0,
          0,
          0,
          0,
          0,
          0,
          0,
          0,
          0,
          0,
          0,
          0,
          0,
          0,
          0,
          0,
          0,
          0,
          0,
          0,
          0,
          0,
          0,
          0,
          0,
          0,
          0,
          0,
          0,
          0,
          0,
          0,
          0,
          0,
          0,
          0,
          0,
          0,
          0,
          0,
          0,
          0,
          0,
          0,
          0,
          0,
          0,
          0,
          0,
          0,
          0,
          0,
          0,
          0,
          0
         ],
         "y0": " ",
         "yaxis": "y"
        }
       ],
       "layout": {
        "boxmode": "group",
        "legend": {
         "tracegroupgap": 0
        },
        "template": {
         "data": {
          "bar": [
           {
            "error_x": {
             "color": "#2a3f5f"
            },
            "error_y": {
             "color": "#2a3f5f"
            },
            "marker": {
             "line": {
              "color": "#E5ECF6",
              "width": 0.5
             },
             "pattern": {
              "fillmode": "overlay",
              "size": 10,
              "solidity": 0.2
             }
            },
            "type": "bar"
           }
          ],
          "barpolar": [
           {
            "marker": {
             "line": {
              "color": "#E5ECF6",
              "width": 0.5
             },
             "pattern": {
              "fillmode": "overlay",
              "size": 10,
              "solidity": 0.2
             }
            },
            "type": "barpolar"
           }
          ],
          "carpet": [
           {
            "aaxis": {
             "endlinecolor": "#2a3f5f",
             "gridcolor": "white",
             "linecolor": "white",
             "minorgridcolor": "white",
             "startlinecolor": "#2a3f5f"
            },
            "baxis": {
             "endlinecolor": "#2a3f5f",
             "gridcolor": "white",
             "linecolor": "white",
             "minorgridcolor": "white",
             "startlinecolor": "#2a3f5f"
            },
            "type": "carpet"
           }
          ],
          "choropleth": [
           {
            "colorbar": {
             "outlinewidth": 0,
             "ticks": ""
            },
            "type": "choropleth"
           }
          ],
          "contour": [
           {
            "colorbar": {
             "outlinewidth": 0,
             "ticks": ""
            },
            "colorscale": [
             [
              0,
              "#0d0887"
             ],
             [
              0.1111111111111111,
              "#46039f"
             ],
             [
              0.2222222222222222,
              "#7201a8"
             ],
             [
              0.3333333333333333,
              "#9c179e"
             ],
             [
              0.4444444444444444,
              "#bd3786"
             ],
             [
              0.5555555555555556,
              "#d8576b"
             ],
             [
              0.6666666666666666,
              "#ed7953"
             ],
             [
              0.7777777777777778,
              "#fb9f3a"
             ],
             [
              0.8888888888888888,
              "#fdca26"
             ],
             [
              1,
              "#f0f921"
             ]
            ],
            "type": "contour"
           }
          ],
          "contourcarpet": [
           {
            "colorbar": {
             "outlinewidth": 0,
             "ticks": ""
            },
            "type": "contourcarpet"
           }
          ],
          "heatmap": [
           {
            "colorbar": {
             "outlinewidth": 0,
             "ticks": ""
            },
            "colorscale": [
             [
              0,
              "#0d0887"
             ],
             [
              0.1111111111111111,
              "#46039f"
             ],
             [
              0.2222222222222222,
              "#7201a8"
             ],
             [
              0.3333333333333333,
              "#9c179e"
             ],
             [
              0.4444444444444444,
              "#bd3786"
             ],
             [
              0.5555555555555556,
              "#d8576b"
             ],
             [
              0.6666666666666666,
              "#ed7953"
             ],
             [
              0.7777777777777778,
              "#fb9f3a"
             ],
             [
              0.8888888888888888,
              "#fdca26"
             ],
             [
              1,
              "#f0f921"
             ]
            ],
            "type": "heatmap"
           }
          ],
          "heatmapgl": [
           {
            "colorbar": {
             "outlinewidth": 0,
             "ticks": ""
            },
            "colorscale": [
             [
              0,
              "#0d0887"
             ],
             [
              0.1111111111111111,
              "#46039f"
             ],
             [
              0.2222222222222222,
              "#7201a8"
             ],
             [
              0.3333333333333333,
              "#9c179e"
             ],
             [
              0.4444444444444444,
              "#bd3786"
             ],
             [
              0.5555555555555556,
              "#d8576b"
             ],
             [
              0.6666666666666666,
              "#ed7953"
             ],
             [
              0.7777777777777778,
              "#fb9f3a"
             ],
             [
              0.8888888888888888,
              "#fdca26"
             ],
             [
              1,
              "#f0f921"
             ]
            ],
            "type": "heatmapgl"
           }
          ],
          "histogram": [
           {
            "marker": {
             "pattern": {
              "fillmode": "overlay",
              "size": 10,
              "solidity": 0.2
             }
            },
            "type": "histogram"
           }
          ],
          "histogram2d": [
           {
            "colorbar": {
             "outlinewidth": 0,
             "ticks": ""
            },
            "colorscale": [
             [
              0,
              "#0d0887"
             ],
             [
              0.1111111111111111,
              "#46039f"
             ],
             [
              0.2222222222222222,
              "#7201a8"
             ],
             [
              0.3333333333333333,
              "#9c179e"
             ],
             [
              0.4444444444444444,
              "#bd3786"
             ],
             [
              0.5555555555555556,
              "#d8576b"
             ],
             [
              0.6666666666666666,
              "#ed7953"
             ],
             [
              0.7777777777777778,
              "#fb9f3a"
             ],
             [
              0.8888888888888888,
              "#fdca26"
             ],
             [
              1,
              "#f0f921"
             ]
            ],
            "type": "histogram2d"
           }
          ],
          "histogram2dcontour": [
           {
            "colorbar": {
             "outlinewidth": 0,
             "ticks": ""
            },
            "colorscale": [
             [
              0,
              "#0d0887"
             ],
             [
              0.1111111111111111,
              "#46039f"
             ],
             [
              0.2222222222222222,
              "#7201a8"
             ],
             [
              0.3333333333333333,
              "#9c179e"
             ],
             [
              0.4444444444444444,
              "#bd3786"
             ],
             [
              0.5555555555555556,
              "#d8576b"
             ],
             [
              0.6666666666666666,
              "#ed7953"
             ],
             [
              0.7777777777777778,
              "#fb9f3a"
             ],
             [
              0.8888888888888888,
              "#fdca26"
             ],
             [
              1,
              "#f0f921"
             ]
            ],
            "type": "histogram2dcontour"
           }
          ],
          "mesh3d": [
           {
            "colorbar": {
             "outlinewidth": 0,
             "ticks": ""
            },
            "type": "mesh3d"
           }
          ],
          "parcoords": [
           {
            "line": {
             "colorbar": {
              "outlinewidth": 0,
              "ticks": ""
             }
            },
            "type": "parcoords"
           }
          ],
          "pie": [
           {
            "automargin": true,
            "type": "pie"
           }
          ],
          "scatter": [
           {
            "fillpattern": {
             "fillmode": "overlay",
             "size": 10,
             "solidity": 0.2
            },
            "type": "scatter"
           }
          ],
          "scatter3d": [
           {
            "line": {
             "colorbar": {
              "outlinewidth": 0,
              "ticks": ""
             }
            },
            "marker": {
             "colorbar": {
              "outlinewidth": 0,
              "ticks": ""
             }
            },
            "type": "scatter3d"
           }
          ],
          "scattercarpet": [
           {
            "marker": {
             "colorbar": {
              "outlinewidth": 0,
              "ticks": ""
             }
            },
            "type": "scattercarpet"
           }
          ],
          "scattergeo": [
           {
            "marker": {
             "colorbar": {
              "outlinewidth": 0,
              "ticks": ""
             }
            },
            "type": "scattergeo"
           }
          ],
          "scattergl": [
           {
            "marker": {
             "colorbar": {
              "outlinewidth": 0,
              "ticks": ""
             }
            },
            "type": "scattergl"
           }
          ],
          "scattermapbox": [
           {
            "marker": {
             "colorbar": {
              "outlinewidth": 0,
              "ticks": ""
             }
            },
            "type": "scattermapbox"
           }
          ],
          "scatterpolar": [
           {
            "marker": {
             "colorbar": {
              "outlinewidth": 0,
              "ticks": ""
             }
            },
            "type": "scatterpolar"
           }
          ],
          "scatterpolargl": [
           {
            "marker": {
             "colorbar": {
              "outlinewidth": 0,
              "ticks": ""
             }
            },
            "type": "scatterpolargl"
           }
          ],
          "scatterternary": [
           {
            "marker": {
             "colorbar": {
              "outlinewidth": 0,
              "ticks": ""
             }
            },
            "type": "scatterternary"
           }
          ],
          "surface": [
           {
            "colorbar": {
             "outlinewidth": 0,
             "ticks": ""
            },
            "colorscale": [
             [
              0,
              "#0d0887"
             ],
             [
              0.1111111111111111,
              "#46039f"
             ],
             [
              0.2222222222222222,
              "#7201a8"
             ],
             [
              0.3333333333333333,
              "#9c179e"
             ],
             [
              0.4444444444444444,
              "#bd3786"
             ],
             [
              0.5555555555555556,
              "#d8576b"
             ],
             [
              0.6666666666666666,
              "#ed7953"
             ],
             [
              0.7777777777777778,
              "#fb9f3a"
             ],
             [
              0.8888888888888888,
              "#fdca26"
             ],
             [
              1,
              "#f0f921"
             ]
            ],
            "type": "surface"
           }
          ],
          "table": [
           {
            "cells": {
             "fill": {
              "color": "#EBF0F8"
             },
             "line": {
              "color": "white"
             }
            },
            "header": {
             "fill": {
              "color": "#C8D4E3"
             },
             "line": {
              "color": "white"
             }
            },
            "type": "table"
           }
          ]
         },
         "layout": {
          "annotationdefaults": {
           "arrowcolor": "#2a3f5f",
           "arrowhead": 0,
           "arrowwidth": 1
          },
          "autotypenumbers": "strict",
          "coloraxis": {
           "colorbar": {
            "outlinewidth": 0,
            "ticks": ""
           }
          },
          "colorscale": {
           "diverging": [
            [
             0,
             "#8e0152"
            ],
            [
             0.1,
             "#c51b7d"
            ],
            [
             0.2,
             "#de77ae"
            ],
            [
             0.3,
             "#f1b6da"
            ],
            [
             0.4,
             "#fde0ef"
            ],
            [
             0.5,
             "#f7f7f7"
            ],
            [
             0.6,
             "#e6f5d0"
            ],
            [
             0.7,
             "#b8e186"
            ],
            [
             0.8,
             "#7fbc41"
            ],
            [
             0.9,
             "#4d9221"
            ],
            [
             1,
             "#276419"
            ]
           ],
           "sequential": [
            [
             0,
             "#0d0887"
            ],
            [
             0.1111111111111111,
             "#46039f"
            ],
            [
             0.2222222222222222,
             "#7201a8"
            ],
            [
             0.3333333333333333,
             "#9c179e"
            ],
            [
             0.4444444444444444,
             "#bd3786"
            ],
            [
             0.5555555555555556,
             "#d8576b"
            ],
            [
             0.6666666666666666,
             "#ed7953"
            ],
            [
             0.7777777777777778,
             "#fb9f3a"
            ],
            [
             0.8888888888888888,
             "#fdca26"
            ],
            [
             1,
             "#f0f921"
            ]
           ],
           "sequentialminus": [
            [
             0,
             "#0d0887"
            ],
            [
             0.1111111111111111,
             "#46039f"
            ],
            [
             0.2222222222222222,
             "#7201a8"
            ],
            [
             0.3333333333333333,
             "#9c179e"
            ],
            [
             0.4444444444444444,
             "#bd3786"
            ],
            [
             0.5555555555555556,
             "#d8576b"
            ],
            [
             0.6666666666666666,
             "#ed7953"
            ],
            [
             0.7777777777777778,
             "#fb9f3a"
            ],
            [
             0.8888888888888888,
             "#fdca26"
            ],
            [
             1,
             "#f0f921"
            ]
           ]
          },
          "colorway": [
           "#636efa",
           "#EF553B",
           "#00cc96",
           "#ab63fa",
           "#FFA15A",
           "#19d3f3",
           "#FF6692",
           "#B6E880",
           "#FF97FF",
           "#FECB52"
          ],
          "font": {
           "color": "#2a3f5f"
          },
          "geo": {
           "bgcolor": "white",
           "lakecolor": "white",
           "landcolor": "#E5ECF6",
           "showlakes": true,
           "showland": true,
           "subunitcolor": "white"
          },
          "hoverlabel": {
           "align": "left"
          },
          "hovermode": "closest",
          "mapbox": {
           "style": "light"
          },
          "paper_bgcolor": "white",
          "plot_bgcolor": "#E5ECF6",
          "polar": {
           "angularaxis": {
            "gridcolor": "white",
            "linecolor": "white",
            "ticks": ""
           },
           "bgcolor": "#E5ECF6",
           "radialaxis": {
            "gridcolor": "white",
            "linecolor": "white",
            "ticks": ""
           }
          },
          "scene": {
           "xaxis": {
            "backgroundcolor": "#E5ECF6",
            "gridcolor": "white",
            "gridwidth": 2,
            "linecolor": "white",
            "showbackground": true,
            "ticks": "",
            "zerolinecolor": "white"
           },
           "yaxis": {
            "backgroundcolor": "#E5ECF6",
            "gridcolor": "white",
            "gridwidth": 2,
            "linecolor": "white",
            "showbackground": true,
            "ticks": "",
            "zerolinecolor": "white"
           },
           "zaxis": {
            "backgroundcolor": "#E5ECF6",
            "gridcolor": "white",
            "gridwidth": 2,
            "linecolor": "white",
            "showbackground": true,
            "ticks": "",
            "zerolinecolor": "white"
           }
          },
          "shapedefaults": {
           "line": {
            "color": "#2a3f5f"
           }
          },
          "ternary": {
           "aaxis": {
            "gridcolor": "white",
            "linecolor": "white",
            "ticks": ""
           },
           "baxis": {
            "gridcolor": "white",
            "linecolor": "white",
            "ticks": ""
           },
           "bgcolor": "#E5ECF6",
           "caxis": {
            "gridcolor": "white",
            "linecolor": "white",
            "ticks": ""
           }
          },
          "title": {
           "x": 0.05
          },
          "xaxis": {
           "automargin": true,
           "gridcolor": "white",
           "linecolor": "white",
           "ticks": "",
           "title": {
            "standoff": 15
           },
           "zerolinecolor": "white",
           "zerolinewidth": 2
          },
          "yaxis": {
           "automargin": true,
           "gridcolor": "white",
           "linecolor": "white",
           "ticks": "",
           "title": {
            "standoff": 15
           },
           "zerolinecolor": "white",
           "zerolinewidth": 2
          }
         }
        },
        "title": {
         "text": "Applications per Ward – After Initial Clean"
        },
        "xaxis": {
         "anchor": "y",
         "domain": [
          0,
          1
         ],
         "title": {
          "text": "Application Count"
         },
         "type": "log"
        },
        "yaxis": {
         "anchor": "x",
         "domain": [
          0,
          1
         ],
         "title": {
          "text": "y"
         },
         "visible": false
        }
       }
      },
      "image/png": "[encoded data removed]",
      "text/html": [
       "<div>                            <div id=\"927e2a91-7be0-4705-a9d9-eb6868e4e1f3\" class=\"plotly-graph-div\" style=\"height:525px; width:100%;\"></div>            <script type=\"text/javascript\">                require([\"plotly\"], function(Plotly) {                    window.PLOTLYENV=window.PLOTLYENV || {};                                    if (document.getElementById(\"927e2a91-7be0-4705-a9d9-eb6868e4e1f3\")) {                    Plotly.newPlot(                        \"927e2a91-7be0-4705-a9d9-eb6868e4e1f3\",                        [{\"alignmentgroup\":\"True\",\"boxpoints\":\"all\",\"fillcolor\":\"rgba(255,255,255,0)\",\"hoveron\":\"points\",\"hovertemplate\":\"\\u003cb\\u003e%{hovertext}\\u003c\\u002fb\\u003e\\u003cbr\\u003e\\u003cbr\\u003eApplication Count=%{x}\\u003cbr\\u003ey=%{y}\\u003cextra\\u003e\\u003c\\u002fextra\\u003e\",\"hovertext\":[\"Belsize\",\"Hampstead Town\",\"Bloomsbury\",\"Holborn & Covent Garden\",\"Highgate\",\"Frognal\",\"Regent'S Park\",\"South Hampstead\",\"Primrose Hill\",\"West Hampstead\",\"Fortune Green\",\"Gospel Oak\",\"Haverstock\",\"Camden Town\",\"St Pancras & Somers Town\",\"King'S Cross\",\"Kilburn\",\"Kentish Town South\",\"Kentish Town North\",\"Camden Square\",\"Camden Town With Primrose Hill\",\"Frognal & Fitzjohns\",\"Swiss Cottage\",\"Kentish Town\",\"Cantelowes\",\"Holborn And Covent Garden\",\"Adjoining Borough\",\"St Pancras And Somers Town\",\"Adjoining Borough; Kentish Town\",\"King's Cross; St Pancras and Somers Town\",\"Holborn and Covent Garden; King's Cross\",\"Camden Square; Camden Town\",\"Camden Square; Holborn and Covent Garden; King's Cross\",\"Frognal; Frognal & Fitzjohns\",\"Hampstead Town; Highgate\",\"Camden Town; Primrose Hill\",\"Camden Town; Frognal\",\"Camden Square; Cantelowes\",\"Camden\",\"Bloomsbury; Holborn and Covent Garden\",\"Camden Town; Camden Town with Primrose Hill\",\"Gospel Oak; Haverstock\",\"Unknown\",\"Adjoining Borough; Cantelowes\",\"Adjoining Borough; Regent's Park\",\"South Hampstead; Swiss Cottage\",\"Adjoining Borough; Swiss Cottage\",\"Bloomsbury; Kilburn\",\"King's Cross; Regent's Park; St Pancras and Somers Town\",\"King's Cross; St Pancras & Somers Town\",\"Bloomsbury; King's Cross\",\"Kentish Town South; St Pancras and Somers Town\",\"Camden Town; Primrose Hill; Regent's Park\",\"Camden Square; Haverstock\",\"Camden Town; Haverstock; Primrose Hill\",\"Camden Square; King's Cross\",\"Highgate; South Hampstead\",\"Fortune Green; West Hampstead\"],\"legendgroup\":\"\",\"line\":{\"color\":\"rgba(255,255,255,0)\"},\"marker\":{\"color\":\"#636efa\"},\"name\":\"\",\"offsetgroup\":\"\",\"orientation\":\"v\",\"pointpos\":0,\"showlegend\":false,\"x\":[13895,13367,9782,9090,7895,7211,6808,6728,5807,5747,5312,4486,3973,3869,3753,3705,3061,3036,2433,2076,1580,1448,1260,1002,733,715,209,94,7,7,5,3,3,3,3,3,2,2,2,2,2,1,1,1,1,1,1,1,1,1,1,1,1,1,1,1,1,1],\"x0\":\" \",\"xaxis\":\"x\",\"y\":[0,0,0,0,0,0,0,0,0,0,0,0,0,0,0,0,0,0,0,0,0,0,0,0,0,0,0,0,0,0,0,0,0,0,0,0,0,0,0,0,0,0,0,0,0,0,0,0,0,0,0,0,0,0,0,0,0,0],\"y0\":\" \",\"yaxis\":\"y\",\"type\":\"box\"}],                        {\"template\":{\"data\":{\"histogram2dcontour\":[{\"type\":\"histogram2dcontour\",\"colorbar\":{\"outlinewidth\":0,\"ticks\":\"\"},\"colorscale\":[[0.0,\"#0d0887\"],[0.1111111111111111,\"#46039f\"],[0.2222222222222222,\"#7201a8\"],[0.3333333333333333,\"#9c179e\"],[0.4444444444444444,\"#bd3786\"],[0.5555555555555556,\"#d8576b\"],[0.6666666666666666,\"#ed7953\"],[0.7777777777777778,\"#fb9f3a\"],[0.8888888888888888,\"#fdca26\"],[1.0,\"#f0f921\"]]}],\"choropleth\":[{\"type\":\"choropleth\",\"colorbar\":{\"outlinewidth\":0,\"ticks\":\"\"}}],\"histogram2d\":[{\"type\":\"histogram2d\",\"colorbar\":{\"outlinewidth\":0,\"ticks\":\"\"},\"colorscale\":[[0.0,\"#0d0887\"],[0.1111111111111111,\"#46039f\"],[0.2222222222222222,\"#7201a8\"],[0.3333333333333333,\"#9c179e\"],[0.4444444444444444,\"#bd3786\"],[0.5555555555555556,\"#d8576b\"],[0.6666666666666666,\"#ed7953\"],[0.7777777777777778,\"#fb9f3a\"],[0.8888888888888888,\"#fdca26\"],[1.0,\"#f0f921\"]]}],\"heatmap\":[{\"type\":\"heatmap\",\"colorbar\":{\"outlinewidth\":0,\"ticks\":\"\"},\"colorscale\":[[0.0,\"#0d0887\"],[0.1111111111111111,\"#46039f\"],[0.2222222222222222,\"#7201a8\"],[0.3333333333333333,\"#9c179e\"],[0.4444444444444444,\"#bd3786\"],[0.5555555555555556,\"#d8576b\"],[0.6666666666666666,\"#ed7953\"],[0.7777777777777778,\"#fb9f3a\"],[0.8888888888888888,\"#fdca26\"],[1.0,\"#f0f921\"]]}],\"heatmapgl\":[{\"type\":\"heatmapgl\",\"colorbar\":{\"outlinewidth\":0,\"ticks\":\"\"},\"colorscale\":[[0.0,\"#0d0887\"],[0.1111111111111111,\"#46039f\"],[0.2222222222222222,\"#7201a8\"],[0.3333333333333333,\"#9c179e\"],[0.4444444444444444,\"#bd3786\"],[0.5555555555555556,\"#d8576b\"],[0.6666666666666666,\"#ed7953\"],[0.7777777777777778,\"#fb9f3a\"],[0.8888888888888888,\"#fdca26\"],[1.0,\"#f0f921\"]]}],\"contourcarpet\":[{\"type\":\"contourcarpet\",\"colorbar\":{\"outlinewidth\":0,\"ticks\":\"\"}}],\"contour\":[{\"type\":\"contour\",\"colorbar\":{\"outlinewidth\":0,\"ticks\":\"\"},\"colorscale\":[[0.0,\"#0d0887\"],[0.1111111111111111,\"#46039f\"],[0.2222222222222222,\"#7201a8\"],[0.3333333333333333,\"#9c179e\"],[0.4444444444444444,\"#bd3786\"],[0.5555555555555556,\"#d8576b\"],[0.6666666666666666,\"#ed7953\"],[0.7777777777777778,\"#fb9f3a\"],[0.8888888888888888,\"#fdca26\"],[1.0,\"#f0f921\"]]}],\"surface\":[{\"type\":\"surface\",\"colorbar\":{\"outlinewidth\":0,\"ticks\":\"\"},\"colorscale\":[[0.0,\"#0d0887\"],[0.1111111111111111,\"#46039f\"],[0.2222222222222222,\"#7201a8\"],[0.3333333333333333,\"#9c179e\"],[0.4444444444444444,\"#bd3786\"],[0.5555555555555556,\"#d8576b\"],[0.6666666666666666,\"#ed7953\"],[0.7777777777777778,\"#fb9f3a\"],[0.8888888888888888,\"#fdca26\"],[1.0,\"#f0f921\"]]}],\"mesh3d\":[{\"type\":\"mesh3d\",\"colorbar\":{\"outlinewidth\":0,\"ticks\":\"\"}}],\"scatter\":[{\"fillpattern\":{\"fillmode\":\"overlay\",\"size\":10,\"solidity\":0.2},\"type\":\"scatter\"}],\"parcoords\":[{\"type\":\"parcoords\",\"line\":{\"colorbar\":{\"outlinewidth\":0,\"ticks\":\"\"}}}],\"scatterpolargl\":[{\"type\":\"scatterpolargl\",\"marker\":{\"colorbar\":{\"outlinewidth\":0,\"ticks\":\"\"}}}],\"bar\":[{\"error_x\":{\"color\":\"#2a3f5f\"},\"error_y\":{\"color\":\"#2a3f5f\"},\"marker\":{\"line\":{\"color\":\"#E5ECF6\",\"width\":0.5},\"pattern\":{\"fillmode\":\"overlay\",\"size\":10,\"solidity\":0.2}},\"type\":\"bar\"}],\"scattergeo\":[{\"type\":\"scattergeo\",\"marker\":{\"colorbar\":{\"outlinewidth\":0,\"ticks\":\"\"}}}],\"scatterpolar\":[{\"type\":\"scatterpolar\",\"marker\":{\"colorbar\":{\"outlinewidth\":0,\"ticks\":\"\"}}}],\"histogram\":[{\"marker\":{\"pattern\":{\"fillmode\":\"overlay\",\"size\":10,\"solidity\":0.2}},\"type\":\"histogram\"}],\"scattergl\":[{\"type\":\"scattergl\",\"marker\":{\"colorbar\":{\"outlinewidth\":0,\"ticks\":\"\"}}}],\"scatter3d\":[{\"type\":\"scatter3d\",\"line\":{\"colorbar\":{\"outlinewidth\":0,\"ticks\":\"\"}},\"marker\":{\"colorbar\":{\"outlinewidth\":0,\"ticks\":\"\"}}}],\"scattermapbox\":[{\"type\":\"scattermapbox\",\"marker\":{\"colorbar\":{\"outlinewidth\":0,\"ticks\":\"\"}}}],\"scatterternary\":[{\"type\":\"scatterternary\",\"marker\":{\"colorbar\":{\"outlinewidth\":0,\"ticks\":\"\"}}}],\"scattercarpet\":[{\"type\":\"scattercarpet\",\"marker\":{\"colorbar\":{\"outlinewidth\":0,\"ticks\":\"\"}}}],\"carpet\":[{\"aaxis\":{\"endlinecolor\":\"#2a3f5f\",\"gridcolor\":\"white\",\"linecolor\":\"white\",\"minorgridcolor\":\"white\",\"startlinecolor\":\"#2a3f5f\"},\"baxis\":{\"endlinecolor\":\"#2a3f5f\",\"gridcolor\":\"white\",\"linecolor\":\"white\",\"minorgridcolor\":\"white\",\"startlinecolor\":\"#2a3f5f\"},\"type\":\"carpet\"}],\"table\":[{\"cells\":{\"fill\":{\"color\":\"#EBF0F8\"},\"line\":{\"color\":\"white\"}},\"header\":{\"fill\":{\"color\":\"#C8D4E3\"},\"line\":{\"color\":\"white\"}},\"type\":\"table\"}],\"barpolar\":[{\"marker\":{\"line\":{\"color\":\"#E5ECF6\",\"width\":0.5},\"pattern\":{\"fillmode\":\"overlay\",\"size\":10,\"solidity\":0.2}},\"type\":\"barpolar\"}],\"pie\":[{\"automargin\":true,\"type\":\"pie\"}]},\"layout\":{\"autotypenumbers\":\"strict\",\"colorway\":[\"#636efa\",\"#EF553B\",\"#00cc96\",\"#ab63fa\",\"#FFA15A\",\"#19d3f3\",\"#FF6692\",\"#B6E880\",\"#FF97FF\",\"#FECB52\"],\"font\":{\"color\":\"#2a3f5f\"},\"hovermode\":\"closest\",\"hoverlabel\":{\"align\":\"left\"},\"paper_bgcolor\":\"white\",\"plot_bgcolor\":\"#E5ECF6\",\"polar\":{\"bgcolor\":\"#E5ECF6\",\"angularaxis\":{\"gridcolor\":\"white\",\"linecolor\":\"white\",\"ticks\":\"\"},\"radialaxis\":{\"gridcolor\":\"white\",\"linecolor\":\"white\",\"ticks\":\"\"}},\"ternary\":{\"bgcolor\":\"#E5ECF6\",\"aaxis\":{\"gridcolor\":\"white\",\"linecolor\":\"white\",\"ticks\":\"\"},\"baxis\":{\"gridcolor\":\"white\",\"linecolor\":\"white\",\"ticks\":\"\"},\"caxis\":{\"gridcolor\":\"white\",\"linecolor\":\"white\",\"ticks\":\"\"}},\"coloraxis\":{\"colorbar\":{\"outlinewidth\":0,\"ticks\":\"\"}},\"colorscale\":{\"sequential\":[[0.0,\"#0d0887\"],[0.1111111111111111,\"#46039f\"],[0.2222222222222222,\"#7201a8\"],[0.3333333333333333,\"#9c179e\"],[0.4444444444444444,\"#bd3786\"],[0.5555555555555556,\"#d8576b\"],[0.6666666666666666,\"#ed7953\"],[0.7777777777777778,\"#fb9f3a\"],[0.8888888888888888,\"#fdca26\"],[1.0,\"#f0f921\"]],\"sequentialminus\":[[0.0,\"#0d0887\"],[0.1111111111111111,\"#46039f\"],[0.2222222222222222,\"#7201a8\"],[0.3333333333333333,\"#9c179e\"],[0.4444444444444444,\"#bd3786\"],[0.5555555555555556,\"#d8576b\"],[0.6666666666666666,\"#ed7953\"],[0.7777777777777778,\"#fb9f3a\"],[0.8888888888888888,\"#fdca26\"],[1.0,\"#f0f921\"]],\"diverging\":[[0,\"#8e0152\"],[0.1,\"#c51b7d\"],[0.2,\"#de77ae\"],[0.3,\"#f1b6da\"],[0.4,\"#fde0ef\"],[0.5,\"#f7f7f7\"],[0.6,\"#e6f5d0\"],[0.7,\"#b8e186\"],[0.8,\"#7fbc41\"],[0.9,\"#4d9221\"],[1,\"#276419\"]]},\"xaxis\":{\"gridcolor\":\"white\",\"linecolor\":\"white\",\"ticks\":\"\",\"title\":{\"standoff\":15},\"zerolinecolor\":\"white\",\"automargin\":true,\"zerolinewidth\":2},\"yaxis\":{\"gridcolor\":\"white\",\"linecolor\":\"white\",\"ticks\":\"\",\"title\":{\"standoff\":15},\"zerolinecolor\":\"white\",\"automargin\":true,\"zerolinewidth\":2},\"scene\":{\"xaxis\":{\"backgroundcolor\":\"#E5ECF6\",\"gridcolor\":\"white\",\"linecolor\":\"white\",\"showbackground\":true,\"ticks\":\"\",\"zerolinecolor\":\"white\",\"gridwidth\":2},\"yaxis\":{\"backgroundcolor\":\"#E5ECF6\",\"gridcolor\":\"white\",\"linecolor\":\"white\",\"showbackground\":true,\"ticks\":\"\",\"zerolinecolor\":\"white\",\"gridwidth\":2},\"zaxis\":{\"backgroundcolor\":\"#E5ECF6\",\"gridcolor\":\"white\",\"linecolor\":\"white\",\"showbackground\":true,\"ticks\":\"\",\"zerolinecolor\":\"white\",\"gridwidth\":2}},\"shapedefaults\":{\"line\":{\"color\":\"#2a3f5f\"}},\"annotationdefaults\":{\"arrowcolor\":\"#2a3f5f\",\"arrowhead\":0,\"arrowwidth\":1},\"geo\":{\"bgcolor\":\"white\",\"landcolor\":\"#E5ECF6\",\"subunitcolor\":\"white\",\"showland\":true,\"showlakes\":true,\"lakecolor\":\"white\"},\"title\":{\"x\":0.05},\"mapbox\":{\"style\":\"light\"}}},\"xaxis\":{\"anchor\":\"y\",\"domain\":[0.0,1.0],\"title\":{\"text\":\"Application Count\"},\"type\":\"log\"},\"yaxis\":{\"anchor\":\"x\",\"domain\":[0.0,1.0],\"title\":{\"text\":\"y\"},\"visible\":false},\"legend\":{\"tracegroupgap\":0},\"title\":{\"text\":\"Applications per Ward \\u2013 After Initial Clean\"},\"boxmode\":\"group\"},                        {\"responsive\": true}                    ).then(function(){\n",
       "                            \n",
       "var gd = document.getElementById('927e2a91-7be0-4705-a9d9-eb6868e4e1f3');\n",
       "var x = new MutationObserver(function (mutations, observer) {{\n",
       "        var display = window.getComputedStyle(gd).display;\n",
       "        if (!display || display === 'none') {{\n",
       "            console.log([gd, 'removed!']);\n",
       "            Plotly.purge(gd);\n",
       "            observer.disconnect();\n",
       "        }}\n",
       "}});\n",
       "\n",
       "// Listen for the removal of the full notebook cells\n",
       "var notebookContainer = gd.closest('#notebook-container');\n",
       "if (notebookContainer) {{\n",
       "    x.observe(notebookContainer, {childList: true});\n",
       "}}\n",
       "\n",
       "// Listen for the clearing of the current output cell\n",
       "var outputEl = gd.closest('.output');\n",
       "if (outputEl) {{\n",
       "    x.observe(outputEl, {childList: true});\n",
       "}}\n",
       "\n",
       "                        })                };                });            </script>        </div>"
      ]
     },
     "metadata": {},
     "output_type": "display_data"
    },
    {
     "name": "stdout",
     "output_type": "stream",
     "text": [
      "Chart rendered at: 2025-09-28 20:13:59\n"
     ]
    }
   ],
   "source": [
    "# --- VISUALISING OUTLIERS V2 ---\n",
    "\n",
    "'''normally I would put dependent variable on y but screens are landscape'''\n",
    "\n",
    "def plot_ward_strip(df, title):\n",
    "    fig = px.strip(\n",
    "        df, x=\"Application Count\", y=[0]*len(df),\n",
    "        hover_name=\"Ward\", title=title\n",
    "    )\n",
    "    fig.update_xaxes(type=\"log\")\n",
    "    fig.update_yaxes(visible=False)\n",
    "    fig.show()\n",
    "    print(f\"Chart rendered at: {time.strftime('%Y-%m-%d %H:%M:%S')}\")\n",
    "\n",
    "plot_ward_strip(ward_counts_df, \"Applications per Ward – After Initial Clean\")\n"
   ]
  },
  {
   "cell_type": "code",
   "execution_count": 17,
   "id": "9f4bc7ac-f3ea-4f74-a45b-0c094ae9ec19",
   "metadata": {},
   "outputs": [
    {
     "name": "stdout",
     "output_type": "stream",
     "text": [
      "Rows retrieved: 1000\n",
      "  postcode_1           ward_name\n",
      "0    W1T 4AG          Bloomsbury\n",
      "1    NW3 1TN      Hampstead Town\n",
      "2    NW5 3DS  Kentish Town South\n",
      "3    NW6 1XZ      West Hampstead\n",
      "4    NW3 1NY      Hampstead Town\n",
      "Longest ward name length: 24\n",
      "Current time: 2025-09-28 20:14:05\n"
     ]
    }
   ],
   "source": [
    "# --- CLEANING WARD NAMES USING CENSUS POSTCODE DATA ---\n",
    "\n",
    "# Way too slow to pull full 1.8m data set so use Socrata CSV endpoint with query parameters \n",
    "url = ( \"https://opendata.camden.gov.uk/resource/tr8t-gqz7.csv\" \"?$select=postcode_1,ward_name\" \"&$where=local_authority_code='E09000007'\" )\n",
    "\n",
    "# Read data into pandas\n",
    "camden_postcodes = pd.read_csv(url)\n",
    "\n",
    "# Deduplicate to ensure unique postcode-ward pairs\n",
    "camden_postcodes = camden_postcodes.drop_duplicates().reset_index(drop=True)\n",
    "\n",
    "print(f\"Rows retrieved: {len(camden_postcodes)}\")\n",
    "\n",
    "print(camden_postcodes.head())\n",
    "\n",
    " # Calculate maximum ward name length\n",
    "max_ward_length_census = camden_postcodes['ward_name'].astype(str).str.len().max()\n",
    "print(f\"Longest ward name length: {max_ward_length_census}\")\n",
    "\n",
    "print(f\"Current time: {time.strftime('%Y-%m-%d %H:%M:%S')}\")\n"
   ]
  },
  {
   "cell_type": "code",
   "execution_count": 18,
   "id": "44c44e03-bc6b-4bf4-a642-0464f4cb63e9",
   "metadata": {},
   "outputs": [
    {
     "name": "stdout",
     "output_type": "stream",
     "text": [
      "Before cleaning – rows with ward length > max_ward_length: 0\n",
      "Number of planning applications where a Camden ward was pulled from census: 127202\n",
      "Ward replaced (using census data): 50810\n",
      "Ward not replaced (kept original or missing): 78326\n",
      "Done: 2025-09-28 20:14:07\n"
     ]
    }
   ],
   "source": [
    "# --- REPLACE PLANNING APPLICATION WARD NAMES WITH CENSUS WARD NAMES BY MATCHING ON POSTCODE ---\n",
    "\n",
    "\n",
    "# Count rows where original ward length exceeds the max ward length\n",
    "overlong_before = df['ward'].astype(str).str.len().gt(max_ward_length).sum()\n",
    "print(f\"Before cleaning – rows with ward length > max_ward_length: {overlong_before}\")\n",
    "\n",
    "\n",
    "'''Turns out the census data doesn't have every postcode. \n",
    "Long-term solution would be to use a more complete data source\n",
    "Short-term solution will be to assume:\n",
    "    postcodes that match up to but excluding last character\n",
    "    will be in the same ward.\n",
    "This will be true in reality almost always.\n",
    "'''\n",
    "\n",
    "# Remove last character before matching\n",
    "df['postcode_trim'] = df['postcode_1'].str[:-1]\n",
    "\n",
    "camden_postcodes['postcode_trim'] = (\n",
    "    camden_postcodes['postcode_1']\n",
    "      .str.replace(\" \", \"\", regex=False)\n",
    "      .str.upper()\n",
    "      .str[:-1]\n",
    ")\n",
    "\n",
    "\n",
    "# Merge on trimmed postcodes \n",
    "df_merged = df.merge(\n",
    "    camden_postcodes[['postcode_trim', 'ward_name']],\n",
    "    on='postcode_trim',\n",
    "    how='left',\n",
    "    suffixes=('', '_census')\n",
    ")\n",
    "\n",
    "#  Replace original ward with census ward wherever available \n",
    "df_merged['ward_final'] = df_merged['ward_name'].fillna(df_merged['ward'])\n",
    "\n",
    "\n",
    "# Flag where a census ward was available \n",
    "df_merged['census_matched'] = df_merged['ward_final'] != df_merged['ward']\n",
    "\n",
    "# Count rows where postcode match gave a census ward\n",
    "census_matches = df_merged['ward_final'].notna() & df_merged['postcode_trim'].notna()\n",
    "num_census_wards = census_matches.sum()\n",
    "print(f\"Number of planning applications where a Camden ward was pulled from census: {num_census_wards}\")\n",
    "\n",
    "# Count replacements \n",
    "replaced_count = df_merged['census_matched'].sum()\n",
    "not_replaced_count = len(df_merged) - replaced_count\n",
    "print(f\"Ward replaced (using census data): {replaced_count}\")\n",
    "print(f\"Ward not replaced (kept original or missing): {not_replaced_count}\")\n",
    "\n",
    "print(f\"Done: {time.strftime('%Y-%m-%d %H:%M:%S')}\")"
   ]
  },
  {
   "cell_type": "code",
   "execution_count": 19,
   "id": "ac3bec37-f7cb-4e86-9e7b-79a93786bd1b",
   "metadata": {},
   "outputs": [
    {
     "name": "stdout",
     "output_type": "stream",
     "text": [
      "Done: 2025-09-28 20:14:21\n"
     ]
    }
   ],
   "source": [
    "# --- CLEAN DATA AGAIN ---\n",
    "\n",
    "'''\n",
    "Probably better to do it for all wards, seems like others also have apostrophe problem\n",
    "\n",
    "# Normalize \"kings cross\" to \"king's cross - found this from a viz way later\"\n",
    "df_merged['ward_final'] = df_merged['ward_final'].str.replace(r'^kings cross$', \"king's cross\", case=False)\n",
    "'''\n",
    "# --- Normalise names re. apostrophes ---\n",
    "\n",
    "# Get all unique ward names\n",
    "unique_wards = df_merged['ward_final'].dropna().unique()\n",
    "\n",
    "# Find pairs where one has an apostrophe and the other doesn't\n",
    "# We'll map the non-apostrophe version to the apostrophe version - not sure this is always right!!!\n",
    "apostrophe_map = {}\n",
    "for ward in unique_wards:\n",
    "    if \"'\" in ward:\n",
    "        no_apostrophe = ward.replace(\"'\", \"\")\n",
    "        apostrophe_map[no_apostrophe.lower()] = ward  # lowercase for matching\n",
    "\n",
    "# Apply mapping to all ward_final entries\n",
    "def standardize_apostrophe(ward):\n",
    "    if pd.isna(ward):\n",
    "        return ward\n",
    "    \n",
    "    # Split multiple wards by semicolon\n",
    "    parts = [p.strip() for p in ward.split(';')]\n",
    "    \n",
    "    # Replace any part without apostrophe if mapped\n",
    "    parts = [apostrophe_map.get(p.lower(), p) for p in parts]\n",
    "    \n",
    "    # Collapse identical parts if all the same\n",
    "    if len(set(parts)) == 1:\n",
    "        return parts[0]\n",
    "    else:\n",
    "        return '; '.join(parts)\n",
    "\n",
    "    # Convert to Camel Case - still having problems around apostrophes!!!\n",
    "    def camel_case(text):\n",
    "        return ' '.join([w.capitalize() if w else '' for w in text.split()])\n",
    "    \n",
    "    return camel_case(single)\n",
    "\n",
    "df_merged['ward_final'] = df_merged['ward_final'].apply(standardize_apostrophe)\n",
    "\n",
    "print(f\"Done: {time.strftime('%Y-%m-%d %H:%M:%S')}\")"
   ]
  },
  {
   "cell_type": "code",
   "execution_count": 20,
   "id": "c6a3cfdc-0d84-44f3-92a8-b128a70e693b",
   "metadata": {},
   "outputs": [
    {
     "name": "stdout",
     "output_type": "stream",
     "text": [
      "Done: 2025-09-28 20:14:46\n"
     ]
    }
   ],
   "source": [
    "# --- MORE CLEANING ---\n",
    "\n",
    "# Normalize multiple identical ward names separated by semicolons - also spotted the need for this much later \n",
    "def simplify_semicolon_wards(ward):\n",
    "    if pd.isna(ward):\n",
    "        return ward\n",
    "    parts = [p.strip().lower() for p in ward.split(';')]\n",
    "    # If all parts are identical, just keep the first\n",
    "    if len(set(parts)) == 1:\n",
    "        return parts[0].title()  # capitalize properly\n",
    "    else:\n",
    "        return ward  # leave as-is if they differ\n",
    "\n",
    "df_merged['ward_final'] = df_merged['ward_final'].apply(simplify_semicolon_wards)\n",
    "\n",
    "ward_counts_df = (\n",
    "    df_merged.groupby('ward_final', dropna=False)\n",
    "             .size()\n",
    "             .reset_index(name='Application Count')\n",
    "             .sort_values('Application Count', ascending=False)\n",
    ")\n",
    "\n",
    "print(f\"Done: {time.strftime('%Y-%m-%d %H:%M:%S')}\")"
   ]
  },
  {
   "cell_type": "code",
   "execution_count": 21,
   "id": "90789a86-50e4-49df-9f4c-426757e3fcf7",
   "metadata": {},
   "outputs": [
    {
     "name": "stdout",
     "output_type": "stream",
     "text": [
      "                                                                                                                                                                                                                                                                                                                                                                                                                                                                                                                                                                                                                                                                                                                                                                            development_description  \\\n",
      "0                                                                                                                                                                                                                                                                                                                                                                                                                                                                                                                                                                                                                                                                                                   REAR GARDEN: 1 x Ash - Remove branches overhanging 1 Thurlow Road, thin crown and reduce by 30%   \n",
      "1                                                                                                                                                                                                                                                                                                                                                                                                                                                                                                      Change of use of ground level shop (Class A1) and associated basement storage and staff room to a live/work unit (Sui Generis), including alterations to both front elevations to include new windows and a door plus an enlarged lightwell with railings on the Prince of Wales Rd frontage   \n",
      "2                                                                                                                                                                                                                                                                                                                                                             Variation of condition 6 of planning permission dated 27/02/12 (ref: 2011/5090/P) for change of use of part of existing retail unit (Class A1) at basement and ground floor to restaurant use (Class A3), to vary the opening hours from 12:00hrs to 23:00hrs Monday to Saturday and 12:00hrs to 22:00hrs Sundays and Bank Holidays to 10:00hrs to 00:00hrs Monday to Saturday and 10:00hrs to 23:00hrs on Sundays and Bank Holidays.   \n",
      "3                                                                                                                                                                                                                                                                                                                                                                                                                                                                                                                                                                                                                            Details of lighting fixtures and fittings required by condition 21a (xxi) of listed building consent 2007/5230/L dated 08/04/2008 for alterations to Granary Building.   \n",
      "4  Details of a programme of archaeological investigation, pursuant to condition 5 of planning permission reference 2009/0710/P granted on 13/05/2009 for the redevelopment of the site following the demolition of the existing 2 and 3 storey storage buildings at 23-30 Kings Mews including the erection of a new part 3, part 4 storey building to accommodate 18 private residential flats, and erection of rear extension at first to third floor levels and mansard roof extension at fourth floor level at 43-45 Gray's Inn Road and provision of a new shopfront associated with the retained retail use at ground and basement floor levels, and change of use of the upper floors from part offices and part residential to a wholly residential use to accommodate 7 affordable flats.   \n",
      "\n",
      "                                           decision decision_date  \\\n",
      "0            No Objection to Works to Tree(s) in CA    08/09/2010   \n",
      "1  Granted Subject to a Section 106 Legal Agreement    04/02/2011   \n",
      "2                                           Granted    02/07/2012   \n",
      "3                                           Granted    28/06/2012   \n",
      "4                                           Granted    02/06/2010   \n",
      "\n",
      "                       ward  \\\n",
      "0            Hampstead Town   \n",
      "1                Haverstock   \n",
      "2   Holborn & Covent Garden   \n",
      "3  St Pancras & Somers Town   \n",
      "4   Holborn & Covent Garden   \n",
      "\n",
      "                                                           development_address  \\\n",
      "0                                               47 Rosslyn Hill London NW3 5UH   \n",
      "1                                                 2 Malden Road London NW5 3HR   \n",
      "2                              Craven House  119-123 Kingsway London  WC2B 6PA   \n",
      "3  The Granary Building  Kings Cross Development Zone L York Way London N1 0AU   \n",
      "4                      23-30 Kings Mews & 43-45 Grays Inn Road London WC1N 2JB   \n",
      "\n",
      "  postcode_temp postcode_1 postcode_trim ward_name                ward_final  \\\n",
      "0       NW3 5UH     NW35UH         NW35U       NaN            Hampstead Town   \n",
      "1       NW5 3HR     NW53HR         NW53H       NaN                Haverstock   \n",
      "2      WC2B 6PA    WC2B6PA        WC2B6P       NaN   Holborn & Covent Garden   \n",
      "3        N1 0AU      N10AU          N10A       NaN  St Pancras & Somers Town   \n",
      "4      WC1N 2JB    WC1N2JB        WC1N2J       NaN   Holborn & Covent Garden   \n",
      "\n",
      "   census_matched  \n",
      "0           False  \n",
      "1           False  \n",
      "2           False  \n",
      "3           False  \n",
      "4           False  \n",
      "                 ward_final  Application Count\n",
      "5                   Belsize              13895\n",
      "32           Hampstead Town              13367\n",
      "6                Bloomsbury               9782\n",
      "37  Holborn & Covent Garden               9090\n",
      "35                 Highgate               7895\n",
      "Longest ward name length: 55\n",
      "After cleaning – rows with ward length > max_ward_length: 6723\n",
      "Aggregated ward counts at: 2025-09-28 20:14:48\n"
     ]
    }
   ],
   "source": [
    "# --- CHECK DATA AGAIN ---\n",
    "\n",
    "print(df_merged.head())\n",
    "\n",
    "print(ward_counts_df.head()) \n",
    "\n",
    "# Calculate maximum ward name length\n",
    "\n",
    "max_ward_length = df_merged['ward_final'].astype(str).str.len().max()\n",
    "print(f\"Longest ward name length: {max_ward_length}\")\n",
    "\n",
    "# Count rows where final ward length exceeds the max ward length\n",
    "overlong_after = df['ward'].astype(str).str.len().gt(max_ward_length_census).sum()\n",
    "print(f\"After cleaning – rows with ward length > max_ward_length: {overlong_after}\")\n",
    "\n",
    "print(f\"Aggregated ward counts at: {time.strftime('%Y-%m-%d %H:%M:%S')}\")"
   ]
  },
  {
   "cell_type": "code",
   "execution_count": 22,
   "id": "44c8f1cd-57e3-415a-b78e-42ee9962bf76",
   "metadata": {},
   "outputs": [
    {
     "data": {
      "application/vnd.plotly.v1+json": {
       "config": {
        "plotlyServerURL": "https://plot.ly"
       },
       "data": [
        {
         "alignmentgroup": "True",
         "boxpoints": "all",
         "fillcolor": "rgba(255,255,255,0)",
         "hoveron": "points",
         "hovertemplate": "<b>%{hovertext}</b><br><br>Application Count=%{x}<br>y=%{y}<extra></extra>",
         "hovertext": [
          "Belsize",
          "Hampstead Town",
          "Bloomsbury",
          "Holborn & Covent Garden",
          "Highgate",
          "Frognal",
          "Regent'S Park",
          "South Hampstead",
          "Primrose Hill",
          "West Hampstead",
          "Fortune Green",
          "Gospel Oak",
          "Haverstock",
          "Camden Town",
          "St Pancras & Somers Town",
          "King'S Cross",
          "Kilburn",
          "Kentish Town South",
          "Kentish Town North",
          "Camden Square",
          "Camden Town With Primrose Hill",
          "Frognal & Fitzjohns",
          "Swiss Cottage",
          "Kentish Town",
          "Cantelowes",
          "Holborn And Covent Garden",
          "Adjoining Borough",
          "St Pancras And Somers Town",
          "Adjoining Borough; Kentish Town",
          "King's Cross; St Pancras and Somers Town",
          "Holborn and Covent Garden; King's Cross",
          "Camden Square; Camden Town",
          "Camden Square; Holborn and Covent Garden; King's Cross",
          "Frognal; Frognal & Fitzjohns",
          "Hampstead Town; Highgate",
          "Camden Town; Primrose Hill",
          "Camden Town; Frognal",
          "Camden Square; Cantelowes",
          "Camden",
          "Bloomsbury; Holborn and Covent Garden",
          "Camden Town; Camden Town with Primrose Hill",
          "Gospel Oak; Haverstock",
          "Unknown",
          "Adjoining Borough; Cantelowes",
          "Adjoining Borough; Regent's Park",
          "South Hampstead; Swiss Cottage",
          "Adjoining Borough; Swiss Cottage",
          "Bloomsbury; Kilburn",
          "King's Cross; Regent's Park; St Pancras and Somers Town",
          "King's Cross; St Pancras & Somers Town",
          "Bloomsbury; King's Cross",
          "Kentish Town South; St Pancras and Somers Town",
          "Camden Town; Primrose Hill; Regent's Park",
          "Camden Square; Haverstock",
          "Camden Town; Haverstock; Primrose Hill",
          "Camden Square; King's Cross",
          "Highgate; South Hampstead",
          "Fortune Green; West Hampstead"
         ],
         "legendgroup": "",
         "line": {
          "color": "rgba(255,255,255,0)"
         },
         "marker": {
          "color": "#636efa"
         },
         "name": "",
         "offsetgroup": "",
         "orientation": "v",
         "pointpos": 0,
         "showlegend": false,
         "type": "box",
         "x": [
          13895,
          13367,
          9782,
          9090,
          7895,
          7211,
          6808,
          6728,
          5807,
          5747,
          5312,
          4486,
          3973,
          3869,
          3753,
          3705,
          3061,
          3036,
          2433,
          2076,
          1580,
          1448,
          1260,
          1002,
          733,
          715,
          209,
          94,
          7,
          7,
          5,
          3,
          3,
          3,
          3,
          3,
          2,
          2,
          2,
          2,
          2,
          1,
          1,
          1,
          1,
          1,
          1,
          1,
          1,
          1,
          1,
          1,
          1,
          1,
          1,
          1,
          1,
          1
         ],
         "x0": " ",
         "xaxis": "x",
         "y": [
          0,
          0,
          0,
          0,
          0,
          0,
          0,
          0,
          0,
          0,
          0,
          0,
          0,
          0,
          0,
          0,
          0,
          0,
          0,
          0,
          0,
          0,
          0,
          0,
          0,
          0,
          0,
          0,
          0,
          0,
          0,
          0,
          0,
          0,
          0,
          0,
          0,
          0,
          0,
          0,
          0,
          0,
          0,
          0,
          0,
          0,
          0,
          0,
          0,
          0,
          0,
          0,
          0,
          0,
          0,
          0,
          0,
          0
         ],
         "y0": " ",
         "yaxis": "y"
        }
       ],
       "layout": {
        "boxmode": "group",
        "legend": {
         "tracegroupgap": 0
        },
        "template": {
         "data": {
          "bar": [
           {
            "error_x": {
             "color": "#2a3f5f"
            },
            "error_y": {
             "color": "#2a3f5f"
            },
            "marker": {
             "line": {
              "color": "#E5ECF6",
              "width": 0.5
             },
             "pattern": {
              "fillmode": "overlay",
              "size": 10,
              "solidity": 0.2
             }
            },
            "type": "bar"
           }
          ],
          "barpolar": [
           {
            "marker": {
             "line": {
              "color": "#E5ECF6",
              "width": 0.5
             },
             "pattern": {
              "fillmode": "overlay",
              "size": 10,
              "solidity": 0.2
             }
            },
            "type": "barpolar"
           }
          ],
          "carpet": [
           {
            "aaxis": {
             "endlinecolor": "#2a3f5f",
             "gridcolor": "white",
             "linecolor": "white",
             "minorgridcolor": "white",
             "startlinecolor": "#2a3f5f"
            },
            "baxis": {
             "endlinecolor": "#2a3f5f",
             "gridcolor": "white",
             "linecolor": "white",
             "minorgridcolor": "white",
             "startlinecolor": "#2a3f5f"
            },
            "type": "carpet"
           }
          ],
          "choropleth": [
           {
            "colorbar": {
             "outlinewidth": 0,
             "ticks": ""
            },
            "type": "choropleth"
           }
          ],
          "contour": [
           {
            "colorbar": {
             "outlinewidth": 0,
             "ticks": ""
            },
            "colorscale": [
             [
              0,
              "#0d0887"
             ],
             [
              0.1111111111111111,
              "#46039f"
             ],
             [
              0.2222222222222222,
              "#7201a8"
             ],
             [
              0.3333333333333333,
              "#9c179e"
             ],
             [
              0.4444444444444444,
              "#bd3786"
             ],
             [
              0.5555555555555556,
              "#d8576b"
             ],
             [
              0.6666666666666666,
              "#ed7953"
             ],
             [
              0.7777777777777778,
              "#fb9f3a"
             ],
             [
              0.8888888888888888,
              "#fdca26"
             ],
             [
              1,
              "#f0f921"
             ]
            ],
            "type": "contour"
           }
          ],
          "contourcarpet": [
           {
            "colorbar": {
             "outlinewidth": 0,
             "ticks": ""
            },
            "type": "contourcarpet"
           }
          ],
          "heatmap": [
           {
            "colorbar": {
             "outlinewidth": 0,
             "ticks": ""
            },
            "colorscale": [
             [
              0,
              "#0d0887"
             ],
             [
              0.1111111111111111,
              "#46039f"
             ],
             [
              0.2222222222222222,
              "#7201a8"
             ],
             [
              0.3333333333333333,
              "#9c179e"
             ],
             [
              0.4444444444444444,
              "#bd3786"
             ],
             [
              0.5555555555555556,
              "#d8576b"
             ],
             [
              0.6666666666666666,
              "#ed7953"
             ],
             [
              0.7777777777777778,
              "#fb9f3a"
             ],
             [
              0.8888888888888888,
              "#fdca26"
             ],
             [
              1,
              "#f0f921"
             ]
            ],
            "type": "heatmap"
           }
          ],
          "heatmapgl": [
           {
            "colorbar": {
             "outlinewidth": 0,
             "ticks": ""
            },
            "colorscale": [
             [
              0,
              "#0d0887"
             ],
             [
              0.1111111111111111,
              "#46039f"
             ],
             [
              0.2222222222222222,
              "#7201a8"
             ],
             [
              0.3333333333333333,
              "#9c179e"
             ],
             [
              0.4444444444444444,
              "#bd3786"
             ],
             [
              0.5555555555555556,
              "#d8576b"
             ],
             [
              0.6666666666666666,
              "#ed7953"
             ],
             [
              0.7777777777777778,
              "#fb9f3a"
             ],
             [
              0.8888888888888888,
              "#fdca26"
             ],
             [
              1,
              "#f0f921"
             ]
            ],
            "type": "heatmapgl"
           }
          ],
          "histogram": [
           {
            "marker": {
             "pattern": {
              "fillmode": "overlay",
              "size": 10,
              "solidity": 0.2
             }
            },
            "type": "histogram"
           }
          ],
          "histogram2d": [
           {
            "colorbar": {
             "outlinewidth": 0,
             "ticks": ""
            },
            "colorscale": [
             [
              0,
              "#0d0887"
             ],
             [
              0.1111111111111111,
              "#46039f"
             ],
             [
              0.2222222222222222,
              "#7201a8"
             ],
             [
              0.3333333333333333,
              "#9c179e"
             ],
             [
              0.4444444444444444,
              "#bd3786"
             ],
             [
              0.5555555555555556,
              "#d8576b"
             ],
             [
              0.6666666666666666,
              "#ed7953"
             ],
             [
              0.7777777777777778,
              "#fb9f3a"
             ],
             [
              0.8888888888888888,
              "#fdca26"
             ],
             [
              1,
              "#f0f921"
             ]
            ],
            "type": "histogram2d"
           }
          ],
          "histogram2dcontour": [
           {
            "colorbar": {
             "outlinewidth": 0,
             "ticks": ""
            },
            "colorscale": [
             [
              0,
              "#0d0887"
             ],
             [
              0.1111111111111111,
              "#46039f"
             ],
             [
              0.2222222222222222,
              "#7201a8"
             ],
             [
              0.3333333333333333,
              "#9c179e"
             ],
             [
              0.4444444444444444,
              "#bd3786"
             ],
             [
              0.5555555555555556,
              "#d8576b"
             ],
             [
              0.6666666666666666,
              "#ed7953"
             ],
             [
              0.7777777777777778,
              "#fb9f3a"
             ],
             [
              0.8888888888888888,
              "#fdca26"
             ],
             [
              1,
              "#f0f921"
             ]
            ],
            "type": "histogram2dcontour"
           }
          ],
          "mesh3d": [
           {
            "colorbar": {
             "outlinewidth": 0,
             "ticks": ""
            },
            "type": "mesh3d"
           }
          ],
          "parcoords": [
           {
            "line": {
             "colorbar": {
              "outlinewidth": 0,
              "ticks": ""
             }
            },
            "type": "parcoords"
           }
          ],
          "pie": [
           {
            "automargin": true,
            "type": "pie"
           }
          ],
          "scatter": [
           {
            "fillpattern": {
             "fillmode": "overlay",
             "size": 10,
             "solidity": 0.2
            },
            "type": "scatter"
           }
          ],
          "scatter3d": [
           {
            "line": {
             "colorbar": {
              "outlinewidth": 0,
              "ticks": ""
             }
            },
            "marker": {
             "colorbar": {
              "outlinewidth": 0,
              "ticks": ""
             }
            },
            "type": "scatter3d"
           }
          ],
          "scattercarpet": [
           {
            "marker": {
             "colorbar": {
              "outlinewidth": 0,
              "ticks": ""
             }
            },
            "type": "scattercarpet"
           }
          ],
          "scattergeo": [
           {
            "marker": {
             "colorbar": {
              "outlinewidth": 0,
              "ticks": ""
             }
            },
            "type": "scattergeo"
           }
          ],
          "scattergl": [
           {
            "marker": {
             "colorbar": {
              "outlinewidth": 0,
              "ticks": ""
             }
            },
            "type": "scattergl"
           }
          ],
          "scattermapbox": [
           {
            "marker": {
             "colorbar": {
              "outlinewidth": 0,
              "ticks": ""
             }
            },
            "type": "scattermapbox"
           }
          ],
          "scatterpolar": [
           {
            "marker": {
             "colorbar": {
              "outlinewidth": 0,
              "ticks": ""
             }
            },
            "type": "scatterpolar"
           }
          ],
          "scatterpolargl": [
           {
            "marker": {
             "colorbar": {
              "outlinewidth": 0,
              "ticks": ""
             }
            },
            "type": "scatterpolargl"
           }
          ],
          "scatterternary": [
           {
            "marker": {
             "colorbar": {
              "outlinewidth": 0,
              "ticks": ""
             }
            },
            "type": "scatterternary"
           }
          ],
          "surface": [
           {
            "colorbar": {
             "outlinewidth": 0,
             "ticks": ""
            },
            "colorscale": [
             [
              0,
              "#0d0887"
             ],
             [
              0.1111111111111111,
              "#46039f"
             ],
             [
              0.2222222222222222,
              "#7201a8"
             ],
             [
              0.3333333333333333,
              "#9c179e"
             ],
             [
              0.4444444444444444,
              "#bd3786"
             ],
             [
              0.5555555555555556,
              "#d8576b"
             ],
             [
              0.6666666666666666,
              "#ed7953"
             ],
             [
              0.7777777777777778,
              "#fb9f3a"
             ],
             [
              0.8888888888888888,
              "#fdca26"
             ],
             [
              1,
              "#f0f921"
             ]
            ],
            "type": "surface"
           }
          ],
          "table": [
           {
            "cells": {
             "fill": {
              "color": "#EBF0F8"
             },
             "line": {
              "color": "white"
             }
            },
            "header": {
             "fill": {
              "color": "#C8D4E3"
             },
             "line": {
              "color": "white"
             }
            },
            "type": "table"
           }
          ]
         },
         "layout": {
          "annotationdefaults": {
           "arrowcolor": "#2a3f5f",
           "arrowhead": 0,
           "arrowwidth": 1
          },
          "autotypenumbers": "strict",
          "coloraxis": {
           "colorbar": {
            "outlinewidth": 0,
            "ticks": ""
           }
          },
          "colorscale": {
           "diverging": [
            [
             0,
             "#8e0152"
            ],
            [
             0.1,
             "#c51b7d"
            ],
            [
             0.2,
             "#de77ae"
            ],
            [
             0.3,
             "#f1b6da"
            ],
            [
             0.4,
             "#fde0ef"
            ],
            [
             0.5,
             "#f7f7f7"
            ],
            [
             0.6,
             "#e6f5d0"
            ],
            [
             0.7,
             "#b8e186"
            ],
            [
             0.8,
             "#7fbc41"
            ],
            [
             0.9,
             "#4d9221"
            ],
            [
             1,
             "#276419"
            ]
           ],
           "sequential": [
            [
             0,
             "#0d0887"
            ],
            [
             0.1111111111111111,
             "#46039f"
            ],
            [
             0.2222222222222222,
             "#7201a8"
            ],
            [
             0.3333333333333333,
             "#9c179e"
            ],
            [
             0.4444444444444444,
             "#bd3786"
            ],
            [
             0.5555555555555556,
             "#d8576b"
            ],
            [
             0.6666666666666666,
             "#ed7953"
            ],
            [
             0.7777777777777778,
             "#fb9f3a"
            ],
            [
             0.8888888888888888,
             "#fdca26"
            ],
            [
             1,
             "#f0f921"
            ]
           ],
           "sequentialminus": [
            [
             0,
             "#0d0887"
            ],
            [
             0.1111111111111111,
             "#46039f"
            ],
            [
             0.2222222222222222,
             "#7201a8"
            ],
            [
             0.3333333333333333,
             "#9c179e"
            ],
            [
             0.4444444444444444,
             "#bd3786"
            ],
            [
             0.5555555555555556,
             "#d8576b"
            ],
            [
             0.6666666666666666,
             "#ed7953"
            ],
            [
             0.7777777777777778,
             "#fb9f3a"
            ],
            [
             0.8888888888888888,
             "#fdca26"
            ],
            [
             1,
             "#f0f921"
            ]
           ]
          },
          "colorway": [
           "#636efa",
           "#EF553B",
           "#00cc96",
           "#ab63fa",
           "#FFA15A",
           "#19d3f3",
           "#FF6692",
           "#B6E880",
           "#FF97FF",
           "#FECB52"
          ],
          "font": {
           "color": "#2a3f5f"
          },
          "geo": {
           "bgcolor": "white",
           "lakecolor": "white",
           "landcolor": "#E5ECF6",
           "showlakes": true,
           "showland": true,
           "subunitcolor": "white"
          },
          "hoverlabel": {
           "align": "left"
          },
          "hovermode": "closest",
          "mapbox": {
           "style": "light"
          },
          "paper_bgcolor": "white",
          "plot_bgcolor": "#E5ECF6",
          "polar": {
           "angularaxis": {
            "gridcolor": "white",
            "linecolor": "white",
            "ticks": ""
           },
           "bgcolor": "#E5ECF6",
           "radialaxis": {
            "gridcolor": "white",
            "linecolor": "white",
            "ticks": ""
           }
          },
          "scene": {
           "xaxis": {
            "backgroundcolor": "#E5ECF6",
            "gridcolor": "white",
            "gridwidth": 2,
            "linecolor": "white",
            "showbackground": true,
            "ticks": "",
            "zerolinecolor": "white"
           },
           "yaxis": {
            "backgroundcolor": "#E5ECF6",
            "gridcolor": "white",
            "gridwidth": 2,
            "linecolor": "white",
            "showbackground": true,
            "ticks": "",
            "zerolinecolor": "white"
           },
           "zaxis": {
            "backgroundcolor": "#E5ECF6",
            "gridcolor": "white",
            "gridwidth": 2,
            "linecolor": "white",
            "showbackground": true,
            "ticks": "",
            "zerolinecolor": "white"
           }
          },
          "shapedefaults": {
           "line": {
            "color": "#2a3f5f"
           }
          },
          "ternary": {
           "aaxis": {
            "gridcolor": "white",
            "linecolor": "white",
            "ticks": ""
           },
           "baxis": {
            "gridcolor": "white",
            "linecolor": "white",
            "ticks": ""
           },
           "bgcolor": "#E5ECF6",
           "caxis": {
            "gridcolor": "white",
            "linecolor": "white",
            "ticks": ""
           }
          },
          "title": {
           "x": 0.05
          },
          "xaxis": {
           "automargin": true,
           "gridcolor": "white",
           "linecolor": "white",
           "ticks": "",
           "title": {
            "standoff": 15
           },
           "zerolinecolor": "white",
           "zerolinewidth": 2
          },
          "yaxis": {
           "automargin": true,
           "gridcolor": "white",
           "linecolor": "white",
           "ticks": "",
           "title": {
            "standoff": 15
           },
           "zerolinecolor": "white",
           "zerolinewidth": 2
          }
         }
        },
        "title": {
         "text": "Applications per Ward – After Cleaning With Census Data"
        },
        "xaxis": {
         "anchor": "y",
         "domain": [
          0,
          1
         ],
         "title": {
          "text": "Application Count"
         },
         "type": "log"
        },
        "yaxis": {
         "anchor": "x",
         "domain": [
          0,
          1
         ],
         "title": {
          "text": "y"
         },
         "visible": false
        }
       }
      },
      "image/png": "[encoded data removed]",
      "text/html": [
       "<div>                            <div id=\"bd24f374-e45f-4a08-a84a-0fbb307cd1d1\" class=\"plotly-graph-div\" style=\"height:525px; width:100%;\"></div>            <script type=\"text/javascript\">                require([\"plotly\"], function(Plotly) {                    window.PLOTLYENV=window.PLOTLYENV || {};                                    if (document.getElementById(\"bd24f374-e45f-4a08-a84a-0fbb307cd1d1\")) {                    Plotly.newPlot(                        \"bd24f374-e45f-4a08-a84a-0fbb307cd1d1\",                        [{\"alignmentgroup\":\"True\",\"boxpoints\":\"all\",\"fillcolor\":\"rgba(255,255,255,0)\",\"hoveron\":\"points\",\"hovertemplate\":\"\\u003cb\\u003e%{hovertext}\\u003c\\u002fb\\u003e\\u003cbr\\u003e\\u003cbr\\u003eApplication Count=%{x}\\u003cbr\\u003ey=%{y}\\u003cextra\\u003e\\u003c\\u002fextra\\u003e\",\"hovertext\":[\"Belsize\",\"Hampstead Town\",\"Bloomsbury\",\"Holborn & Covent Garden\",\"Highgate\",\"Frognal\",\"Regent'S Park\",\"South Hampstead\",\"Primrose Hill\",\"West Hampstead\",\"Fortune Green\",\"Gospel Oak\",\"Haverstock\",\"Camden Town\",\"St Pancras & Somers Town\",\"King'S Cross\",\"Kilburn\",\"Kentish Town South\",\"Kentish Town North\",\"Camden Square\",\"Camden Town With Primrose Hill\",\"Frognal & Fitzjohns\",\"Swiss Cottage\",\"Kentish Town\",\"Cantelowes\",\"Holborn And Covent Garden\",\"Adjoining Borough\",\"St Pancras And Somers Town\",\"Adjoining Borough; Kentish Town\",\"King's Cross; St Pancras and Somers Town\",\"Holborn and Covent Garden; King's Cross\",\"Camden Square; Camden Town\",\"Camden Square; Holborn and Covent Garden; King's Cross\",\"Frognal; Frognal & Fitzjohns\",\"Hampstead Town; Highgate\",\"Camden Town; Primrose Hill\",\"Camden Town; Frognal\",\"Camden Square; Cantelowes\",\"Camden\",\"Bloomsbury; Holborn and Covent Garden\",\"Camden Town; Camden Town with Primrose Hill\",\"Gospel Oak; Haverstock\",\"Unknown\",\"Adjoining Borough; Cantelowes\",\"Adjoining Borough; Regent's Park\",\"South Hampstead; Swiss Cottage\",\"Adjoining Borough; Swiss Cottage\",\"Bloomsbury; Kilburn\",\"King's Cross; Regent's Park; St Pancras and Somers Town\",\"King's Cross; St Pancras & Somers Town\",\"Bloomsbury; King's Cross\",\"Kentish Town South; St Pancras and Somers Town\",\"Camden Town; Primrose Hill; Regent's Park\",\"Camden Square; Haverstock\",\"Camden Town; Haverstock; Primrose Hill\",\"Camden Square; King's Cross\",\"Highgate; South Hampstead\",\"Fortune Green; West Hampstead\"],\"legendgroup\":\"\",\"line\":{\"color\":\"rgba(255,255,255,0)\"},\"marker\":{\"color\":\"#636efa\"},\"name\":\"\",\"offsetgroup\":\"\",\"orientation\":\"v\",\"pointpos\":0,\"showlegend\":false,\"x\":[13895,13367,9782,9090,7895,7211,6808,6728,5807,5747,5312,4486,3973,3869,3753,3705,3061,3036,2433,2076,1580,1448,1260,1002,733,715,209,94,7,7,5,3,3,3,3,3,2,2,2,2,2,1,1,1,1,1,1,1,1,1,1,1,1,1,1,1,1,1],\"x0\":\" \",\"xaxis\":\"x\",\"y\":[0,0,0,0,0,0,0,0,0,0,0,0,0,0,0,0,0,0,0,0,0,0,0,0,0,0,0,0,0,0,0,0,0,0,0,0,0,0,0,0,0,0,0,0,0,0,0,0,0,0,0,0,0,0,0,0,0,0],\"y0\":\" \",\"yaxis\":\"y\",\"type\":\"box\"}],                        {\"template\":{\"data\":{\"histogram2dcontour\":[{\"type\":\"histogram2dcontour\",\"colorbar\":{\"outlinewidth\":0,\"ticks\":\"\"},\"colorscale\":[[0.0,\"#0d0887\"],[0.1111111111111111,\"#46039f\"],[0.2222222222222222,\"#7201a8\"],[0.3333333333333333,\"#9c179e\"],[0.4444444444444444,\"#bd3786\"],[0.5555555555555556,\"#d8576b\"],[0.6666666666666666,\"#ed7953\"],[0.7777777777777778,\"#fb9f3a\"],[0.8888888888888888,\"#fdca26\"],[1.0,\"#f0f921\"]]}],\"choropleth\":[{\"type\":\"choropleth\",\"colorbar\":{\"outlinewidth\":0,\"ticks\":\"\"}}],\"histogram2d\":[{\"type\":\"histogram2d\",\"colorbar\":{\"outlinewidth\":0,\"ticks\":\"\"},\"colorscale\":[[0.0,\"#0d0887\"],[0.1111111111111111,\"#46039f\"],[0.2222222222222222,\"#7201a8\"],[0.3333333333333333,\"#9c179e\"],[0.4444444444444444,\"#bd3786\"],[0.5555555555555556,\"#d8576b\"],[0.6666666666666666,\"#ed7953\"],[0.7777777777777778,\"#fb9f3a\"],[0.8888888888888888,\"#fdca26\"],[1.0,\"#f0f921\"]]}],\"heatmap\":[{\"type\":\"heatmap\",\"colorbar\":{\"outlinewidth\":0,\"ticks\":\"\"},\"colorscale\":[[0.0,\"#0d0887\"],[0.1111111111111111,\"#46039f\"],[0.2222222222222222,\"#7201a8\"],[0.3333333333333333,\"#9c179e\"],[0.4444444444444444,\"#bd3786\"],[0.5555555555555556,\"#d8576b\"],[0.6666666666666666,\"#ed7953\"],[0.7777777777777778,\"#fb9f3a\"],[0.8888888888888888,\"#fdca26\"],[1.0,\"#f0f921\"]]}],\"heatmapgl\":[{\"type\":\"heatmapgl\",\"colorbar\":{\"outlinewidth\":0,\"ticks\":\"\"},\"colorscale\":[[0.0,\"#0d0887\"],[0.1111111111111111,\"#46039f\"],[0.2222222222222222,\"#7201a8\"],[0.3333333333333333,\"#9c179e\"],[0.4444444444444444,\"#bd3786\"],[0.5555555555555556,\"#d8576b\"],[0.6666666666666666,\"#ed7953\"],[0.7777777777777778,\"#fb9f3a\"],[0.8888888888888888,\"#fdca26\"],[1.0,\"#f0f921\"]]}],\"contourcarpet\":[{\"type\":\"contourcarpet\",\"colorbar\":{\"outlinewidth\":0,\"ticks\":\"\"}}],\"contour\":[{\"type\":\"contour\",\"colorbar\":{\"outlinewidth\":0,\"ticks\":\"\"},\"colorscale\":[[0.0,\"#0d0887\"],[0.1111111111111111,\"#46039f\"],[0.2222222222222222,\"#7201a8\"],[0.3333333333333333,\"#9c179e\"],[0.4444444444444444,\"#bd3786\"],[0.5555555555555556,\"#d8576b\"],[0.6666666666666666,\"#ed7953\"],[0.7777777777777778,\"#fb9f3a\"],[0.8888888888888888,\"#fdca26\"],[1.0,\"#f0f921\"]]}],\"surface\":[{\"type\":\"surface\",\"colorbar\":{\"outlinewidth\":0,\"ticks\":\"\"},\"colorscale\":[[0.0,\"#0d0887\"],[0.1111111111111111,\"#46039f\"],[0.2222222222222222,\"#7201a8\"],[0.3333333333333333,\"#9c179e\"],[0.4444444444444444,\"#bd3786\"],[0.5555555555555556,\"#d8576b\"],[0.6666666666666666,\"#ed7953\"],[0.7777777777777778,\"#fb9f3a\"],[0.8888888888888888,\"#fdca26\"],[1.0,\"#f0f921\"]]}],\"mesh3d\":[{\"type\":\"mesh3d\",\"colorbar\":{\"outlinewidth\":0,\"ticks\":\"\"}}],\"scatter\":[{\"fillpattern\":{\"fillmode\":\"overlay\",\"size\":10,\"solidity\":0.2},\"type\":\"scatter\"}],\"parcoords\":[{\"type\":\"parcoords\",\"line\":{\"colorbar\":{\"outlinewidth\":0,\"ticks\":\"\"}}}],\"scatterpolargl\":[{\"type\":\"scatterpolargl\",\"marker\":{\"colorbar\":{\"outlinewidth\":0,\"ticks\":\"\"}}}],\"bar\":[{\"error_x\":{\"color\":\"#2a3f5f\"},\"error_y\":{\"color\":\"#2a3f5f\"},\"marker\":{\"line\":{\"color\":\"#E5ECF6\",\"width\":0.5},\"pattern\":{\"fillmode\":\"overlay\",\"size\":10,\"solidity\":0.2}},\"type\":\"bar\"}],\"scattergeo\":[{\"type\":\"scattergeo\",\"marker\":{\"colorbar\":{\"outlinewidth\":0,\"ticks\":\"\"}}}],\"scatterpolar\":[{\"type\":\"scatterpolar\",\"marker\":{\"colorbar\":{\"outlinewidth\":0,\"ticks\":\"\"}}}],\"histogram\":[{\"marker\":{\"pattern\":{\"fillmode\":\"overlay\",\"size\":10,\"solidity\":0.2}},\"type\":\"histogram\"}],\"scattergl\":[{\"type\":\"scattergl\",\"marker\":{\"colorbar\":{\"outlinewidth\":0,\"ticks\":\"\"}}}],\"scatter3d\":[{\"type\":\"scatter3d\",\"line\":{\"colorbar\":{\"outlinewidth\":0,\"ticks\":\"\"}},\"marker\":{\"colorbar\":{\"outlinewidth\":0,\"ticks\":\"\"}}}],\"scattermapbox\":[{\"type\":\"scattermapbox\",\"marker\":{\"colorbar\":{\"outlinewidth\":0,\"ticks\":\"\"}}}],\"scatterternary\":[{\"type\":\"scatterternary\",\"marker\":{\"colorbar\":{\"outlinewidth\":0,\"ticks\":\"\"}}}],\"scattercarpet\":[{\"type\":\"scattercarpet\",\"marker\":{\"colorbar\":{\"outlinewidth\":0,\"ticks\":\"\"}}}],\"carpet\":[{\"aaxis\":{\"endlinecolor\":\"#2a3f5f\",\"gridcolor\":\"white\",\"linecolor\":\"white\",\"minorgridcolor\":\"white\",\"startlinecolor\":\"#2a3f5f\"},\"baxis\":{\"endlinecolor\":\"#2a3f5f\",\"gridcolor\":\"white\",\"linecolor\":\"white\",\"minorgridcolor\":\"white\",\"startlinecolor\":\"#2a3f5f\"},\"type\":\"carpet\"}],\"table\":[{\"cells\":{\"fill\":{\"color\":\"#EBF0F8\"},\"line\":{\"color\":\"white\"}},\"header\":{\"fill\":{\"color\":\"#C8D4E3\"},\"line\":{\"color\":\"white\"}},\"type\":\"table\"}],\"barpolar\":[{\"marker\":{\"line\":{\"color\":\"#E5ECF6\",\"width\":0.5},\"pattern\":{\"fillmode\":\"overlay\",\"size\":10,\"solidity\":0.2}},\"type\":\"barpolar\"}],\"pie\":[{\"automargin\":true,\"type\":\"pie\"}]},\"layout\":{\"autotypenumbers\":\"strict\",\"colorway\":[\"#636efa\",\"#EF553B\",\"#00cc96\",\"#ab63fa\",\"#FFA15A\",\"#19d3f3\",\"#FF6692\",\"#B6E880\",\"#FF97FF\",\"#FECB52\"],\"font\":{\"color\":\"#2a3f5f\"},\"hovermode\":\"closest\",\"hoverlabel\":{\"align\":\"left\"},\"paper_bgcolor\":\"white\",\"plot_bgcolor\":\"#E5ECF6\",\"polar\":{\"bgcolor\":\"#E5ECF6\",\"angularaxis\":{\"gridcolor\":\"white\",\"linecolor\":\"white\",\"ticks\":\"\"},\"radialaxis\":{\"gridcolor\":\"white\",\"linecolor\":\"white\",\"ticks\":\"\"}},\"ternary\":{\"bgcolor\":\"#E5ECF6\",\"aaxis\":{\"gridcolor\":\"white\",\"linecolor\":\"white\",\"ticks\":\"\"},\"baxis\":{\"gridcolor\":\"white\",\"linecolor\":\"white\",\"ticks\":\"\"},\"caxis\":{\"gridcolor\":\"white\",\"linecolor\":\"white\",\"ticks\":\"\"}},\"coloraxis\":{\"colorbar\":{\"outlinewidth\":0,\"ticks\":\"\"}},\"colorscale\":{\"sequential\":[[0.0,\"#0d0887\"],[0.1111111111111111,\"#46039f\"],[0.2222222222222222,\"#7201a8\"],[0.3333333333333333,\"#9c179e\"],[0.4444444444444444,\"#bd3786\"],[0.5555555555555556,\"#d8576b\"],[0.6666666666666666,\"#ed7953\"],[0.7777777777777778,\"#fb9f3a\"],[0.8888888888888888,\"#fdca26\"],[1.0,\"#f0f921\"]],\"sequentialminus\":[[0.0,\"#0d0887\"],[0.1111111111111111,\"#46039f\"],[0.2222222222222222,\"#7201a8\"],[0.3333333333333333,\"#9c179e\"],[0.4444444444444444,\"#bd3786\"],[0.5555555555555556,\"#d8576b\"],[0.6666666666666666,\"#ed7953\"],[0.7777777777777778,\"#fb9f3a\"],[0.8888888888888888,\"#fdca26\"],[1.0,\"#f0f921\"]],\"diverging\":[[0,\"#8e0152\"],[0.1,\"#c51b7d\"],[0.2,\"#de77ae\"],[0.3,\"#f1b6da\"],[0.4,\"#fde0ef\"],[0.5,\"#f7f7f7\"],[0.6,\"#e6f5d0\"],[0.7,\"#b8e186\"],[0.8,\"#7fbc41\"],[0.9,\"#4d9221\"],[1,\"#276419\"]]},\"xaxis\":{\"gridcolor\":\"white\",\"linecolor\":\"white\",\"ticks\":\"\",\"title\":{\"standoff\":15},\"zerolinecolor\":\"white\",\"automargin\":true,\"zerolinewidth\":2},\"yaxis\":{\"gridcolor\":\"white\",\"linecolor\":\"white\",\"ticks\":\"\",\"title\":{\"standoff\":15},\"zerolinecolor\":\"white\",\"automargin\":true,\"zerolinewidth\":2},\"scene\":{\"xaxis\":{\"backgroundcolor\":\"#E5ECF6\",\"gridcolor\":\"white\",\"linecolor\":\"white\",\"showbackground\":true,\"ticks\":\"\",\"zerolinecolor\":\"white\",\"gridwidth\":2},\"yaxis\":{\"backgroundcolor\":\"#E5ECF6\",\"gridcolor\":\"white\",\"linecolor\":\"white\",\"showbackground\":true,\"ticks\":\"\",\"zerolinecolor\":\"white\",\"gridwidth\":2},\"zaxis\":{\"backgroundcolor\":\"#E5ECF6\",\"gridcolor\":\"white\",\"linecolor\":\"white\",\"showbackground\":true,\"ticks\":\"\",\"zerolinecolor\":\"white\",\"gridwidth\":2}},\"shapedefaults\":{\"line\":{\"color\":\"#2a3f5f\"}},\"annotationdefaults\":{\"arrowcolor\":\"#2a3f5f\",\"arrowhead\":0,\"arrowwidth\":1},\"geo\":{\"bgcolor\":\"white\",\"landcolor\":\"#E5ECF6\",\"subunitcolor\":\"white\",\"showland\":true,\"showlakes\":true,\"lakecolor\":\"white\"},\"title\":{\"x\":0.05},\"mapbox\":{\"style\":\"light\"}}},\"xaxis\":{\"anchor\":\"y\",\"domain\":[0.0,1.0],\"title\":{\"text\":\"Application Count\"},\"type\":\"log\"},\"yaxis\":{\"anchor\":\"x\",\"domain\":[0.0,1.0],\"title\":{\"text\":\"y\"},\"visible\":false},\"legend\":{\"tracegroupgap\":0},\"title\":{\"text\":\"Applications per Ward \\u2013 After Cleaning With Census Data\"},\"boxmode\":\"group\"},                        {\"responsive\": true}                    ).then(function(){\n",
       "                            \n",
       "var gd = document.getElementById('bd24f374-e45f-4a08-a84a-0fbb307cd1d1');\n",
       "var x = new MutationObserver(function (mutations, observer) {{\n",
       "        var display = window.getComputedStyle(gd).display;\n",
       "        if (!display || display === 'none') {{\n",
       "            console.log([gd, 'removed!']);\n",
       "            Plotly.purge(gd);\n",
       "            observer.disconnect();\n",
       "        }}\n",
       "}});\n",
       "\n",
       "// Listen for the removal of the full notebook cells\n",
       "var notebookContainer = gd.closest('#notebook-container');\n",
       "if (notebookContainer) {{\n",
       "    x.observe(notebookContainer, {childList: true});\n",
       "}}\n",
       "\n",
       "// Listen for the clearing of the current output cell\n",
       "var outputEl = gd.closest('.output');\n",
       "if (outputEl) {{\n",
       "    x.observe(outputEl, {childList: true});\n",
       "}}\n",
       "\n",
       "                        })                };                });            </script>        </div>"
      ]
     },
     "metadata": {},
     "output_type": "display_data"
    },
    {
     "name": "stdout",
     "output_type": "stream",
     "text": [
      "Chart rendered at: 2025-09-28 20:15:04\n"
     ]
    }
   ],
   "source": [
    "# --- VISUALISING CLEANED DATA ---\n",
    "\n",
    "ward_counts_df.rename(columns={\"ward_final\": \"Ward\"}, inplace=True)\n",
    "plot_ward_strip(ward_counts_df, \"Applications per Ward – After Cleaning With Census Data\")\n"
   ]
  },
  {
   "cell_type": "code",
   "execution_count": 23,
   "id": "38291fbc-a71b-4268-9ac9-cb5033545ac4",
   "metadata": {},
   "outputs": [
    {
     "name": "stdout",
     "output_type": "stream",
     "text": [
      "Model loaded and concepts encoded! Time elapsed: 2.4 sec\n",
      "Current time: 2025-09-28 20:15:23\n"
     ]
    }
   ],
   "source": [
    "# --- ASSESSING GREEN CREDENTIALS: STARTING MODEL ---\n",
    "\n",
    "\n",
    "'''I don't want to be limited by a manual set of words so I'm trying with sentencetransformer\n",
    "- never used this before'''\n",
    "\n",
    "start_time = time.time()\n",
    "\n",
    "# Load model\n",
    "model = SentenceTransformer('all-MiniLM-L6-v2')\n",
    "\n",
    "# Define multiple \"green/sustainable\" concepts\n",
    "green_concepts = [\n",
    "    \"green development\",\n",
    "    \"sustainable building\",\n",
    "    \"eco-friendly design\",\n",
    "    \"low-carbon construction\",\n",
    "    \"energy efficient\",\n",
    "    \"environmentally friendly\"\n",
    "]\n",
    "\n",
    "# Encode all concept phrases\n",
    "concept_embeddings = model.encode(green_concepts, convert_to_tensor=True)\n",
    "\n",
    "print(f\"Model loaded and concepts encoded! Time elapsed: {time.time() - start_time:.1f} sec\")\n",
    "\n",
    "print(f\"Current time: {time.strftime('%Y-%m-%d %H:%M:%S')}\")\n"
   ]
  },
  {
   "cell_type": "code",
   "execution_count": 24,
   "id": "e848fb2d-4ea9-433f-bfd4-5e73d78fa4b4",
   "metadata": {},
   "outputs": [
    {
     "name": "stdout",
     "output_type": "stream",
     "text": [
      "Using concepts for matching: ['environmentally-friendly', 'green development', 'sustainable development', 'eco-friendly', 'low carbon', 'carbon footprint', 'renewable energy', 'recycle', 'energy efficiency', 'water recycling', 'urban greening', 'low carbon transport', 'carbon reduction']\n",
      "Processed batch 1/431 - elapsed 2.6s\n",
      "Processed batch 2/431 - elapsed 3.2s\n",
      "Processed batch 3/431 - elapsed 3.7s\n",
      "Processed batch 4/431 - elapsed 4.3s\n",
      "Processed batch 5/431 - elapsed 4.8s\n",
      "Processed batch 6/431 - elapsed 5.4s\n",
      "Processed batch 7/431 - elapsed 5.9s\n",
      "Processed batch 8/431 - elapsed 6.4s\n",
      "Processed batch 9/431 - elapsed 6.9s\n",
      "Processed batch 10/431 - elapsed 7.3s\n",
      "Processed batch 11/431 - elapsed 7.7s\n",
      "Processed batch 12/431 - elapsed 8.2s\n",
      "Processed batch 13/431 - elapsed 8.5s\n",
      "Processed batch 14/431 - elapsed 9.1s\n",
      "Processed batch 15/431 - elapsed 9.7s\n",
      "Processed batch 16/431 - elapsed 10.2s\n",
      "Processed batch 17/431 - elapsed 10.6s\n",
      "Processed batch 18/431 - elapsed 11.1s\n",
      "Processed batch 19/431 - elapsed 11.6s\n",
      "Processed batch 20/431 - elapsed 12.0s\n",
      "Processed batch 21/431 - elapsed 12.5s\n",
      "Processed batch 22/431 - elapsed 12.9s\n",
      "Processed batch 23/431 - elapsed 13.2s\n",
      "Processed batch 24/431 - elapsed 13.6s\n",
      "Processed batch 25/431 - elapsed 14.0s\n",
      "Processed batch 26/431 - elapsed 14.4s\n",
      "Processed batch 27/431 - elapsed 14.9s\n",
      "Processed batch 28/431 - elapsed 15.3s\n",
      "Processed batch 29/431 - elapsed 15.7s\n",
      "Processed batch 30/431 - elapsed 16.1s\n",
      "Processed batch 31/431 - elapsed 16.8s\n",
      "Processed batch 32/431 - elapsed 17.3s\n",
      "Processed batch 33/431 - elapsed 17.8s\n",
      "Processed batch 34/431 - elapsed 18.4s\n",
      "Processed batch 35/431 - elapsed 19.0s\n",
      "Processed batch 36/431 - elapsed 19.5s\n",
      "Processed batch 37/431 - elapsed 20.0s\n",
      "Processed batch 38/431 - elapsed 20.5s\n",
      "Processed batch 39/431 - elapsed 20.9s\n",
      "Processed batch 40/431 - elapsed 21.4s\n",
      "Processed batch 41/431 - elapsed 21.8s\n",
      "Processed batch 42/431 - elapsed 22.2s\n",
      "Processed batch 43/431 - elapsed 22.7s\n",
      "Processed batch 44/431 - elapsed 23.1s\n",
      "Processed batch 45/431 - elapsed 23.5s\n",
      "Processed batch 46/431 - elapsed 24.0s\n",
      "Processed batch 47/431 - elapsed 24.4s\n",
      "Processed batch 48/431 - elapsed 24.9s\n",
      "Processed batch 49/431 - elapsed 25.4s\n",
      "Processed batch 50/431 - elapsed 25.9s\n",
      "Processed batch 51/431 - elapsed 26.2s\n",
      "Processed batch 52/431 - elapsed 26.7s\n",
      "Processed batch 53/431 - elapsed 27.2s\n",
      "Processed batch 54/431 - elapsed 27.6s\n",
      "Processed batch 55/431 - elapsed 28.1s\n",
      "Processed batch 56/431 - elapsed 28.5s\n",
      "Processed batch 57/431 - elapsed 29.0s\n",
      "Processed batch 58/431 - elapsed 29.4s\n",
      "Processed batch 59/431 - elapsed 29.8s\n",
      "Processed batch 60/431 - elapsed 30.3s\n",
      "Processed batch 61/431 - elapsed 30.7s\n",
      "Processed batch 62/431 - elapsed 31.1s\n",
      "Processed batch 63/431 - elapsed 31.5s\n",
      "Processed batch 64/431 - elapsed 31.9s\n",
      "Processed batch 65/431 - elapsed 32.3s\n",
      "Processed batch 66/431 - elapsed 32.7s\n",
      "Processed batch 67/431 - elapsed 33.1s\n",
      "Processed batch 68/431 - elapsed 33.5s\n",
      "Processed batch 69/431 - elapsed 34.1s\n",
      "Processed batch 70/431 - elapsed 34.5s\n",
      "Processed batch 71/431 - elapsed 34.9s\n",
      "Processed batch 72/431 - elapsed 35.4s\n",
      "Processed batch 73/431 - elapsed 35.7s\n",
      "Processed batch 74/431 - elapsed 36.1s\n",
      "Processed batch 75/431 - elapsed 36.4s\n",
      "Processed batch 76/431 - elapsed 36.9s\n",
      "Processed batch 77/431 - elapsed 37.4s\n",
      "Processed batch 78/431 - elapsed 37.9s\n",
      "Processed batch 79/431 - elapsed 38.4s\n",
      "Processed batch 80/431 - elapsed 38.8s\n",
      "Processed batch 81/431 - elapsed 39.4s\n",
      "Processed batch 82/431 - elapsed 39.8s\n",
      "Processed batch 83/431 - elapsed 40.3s\n",
      "Processed batch 84/431 - elapsed 40.8s\n",
      "Processed batch 85/431 - elapsed 41.3s\n",
      "Processed batch 86/431 - elapsed 41.8s\n",
      "Processed batch 87/431 - elapsed 42.2s\n",
      "Processed batch 88/431 - elapsed 42.7s\n",
      "Processed batch 89/431 - elapsed 43.3s\n",
      "Processed batch 90/431 - elapsed 43.8s\n",
      "Processed batch 91/431 - elapsed 44.3s\n",
      "Processed batch 92/431 - elapsed 44.8s\n",
      "Processed batch 93/431 - elapsed 45.3s\n",
      "Processed batch 94/431 - elapsed 45.7s\n",
      "Processed batch 95/431 - elapsed 46.2s\n",
      "Processed batch 96/431 - elapsed 46.6s\n",
      "Processed batch 97/431 - elapsed 47.0s\n",
      "Processed batch 98/431 - elapsed 47.5s\n",
      "Processed batch 99/431 - elapsed 47.9s\n",
      "Processed batch 100/431 - elapsed 48.3s\n",
      "Processed batch 101/431 - elapsed 48.8s\n",
      "Processed batch 102/431 - elapsed 49.2s\n",
      "Processed batch 103/431 - elapsed 49.6s\n",
      "Processed batch 104/431 - elapsed 50.0s\n",
      "Processed batch 105/431 - elapsed 50.5s\n",
      "Processed batch 106/431 - elapsed 51.1s\n",
      "Processed batch 107/431 - elapsed 51.6s\n",
      "Processed batch 108/431 - elapsed 52.2s\n",
      "Processed batch 109/431 - elapsed 52.6s\n",
      "Processed batch 110/431 - elapsed 53.0s\n",
      "Processed batch 111/431 - elapsed 53.4s\n",
      "Processed batch 112/431 - elapsed 53.9s\n",
      "Processed batch 113/431 - elapsed 54.5s\n",
      "Processed batch 114/431 - elapsed 55.0s\n",
      "Processed batch 115/431 - elapsed 55.7s\n",
      "Processed batch 116/431 - elapsed 56.3s\n",
      "Processed batch 117/431 - elapsed 56.8s\n",
      "Processed batch 118/431 - elapsed 57.2s\n",
      "Processed batch 119/431 - elapsed 57.9s\n",
      "Processed batch 120/431 - elapsed 58.4s\n",
      "Processed batch 121/431 - elapsed 59.0s\n",
      "Processed batch 122/431 - elapsed 59.6s\n",
      "Processed batch 123/431 - elapsed 60.0s\n",
      "Processed batch 124/431 - elapsed 60.6s\n",
      "Processed batch 125/431 - elapsed 61.2s\n",
      "Processed batch 126/431 - elapsed 61.7s\n",
      "Processed batch 127/431 - elapsed 62.3s\n",
      "Processed batch 128/431 - elapsed 63.0s\n",
      "Processed batch 129/431 - elapsed 63.5s\n",
      "Processed batch 130/431 - elapsed 63.9s\n",
      "Processed batch 131/431 - elapsed 64.4s\n",
      "Processed batch 132/431 - elapsed 64.9s\n",
      "Processed batch 133/431 - elapsed 65.4s\n",
      "Processed batch 134/431 - elapsed 65.8s\n",
      "Processed batch 135/431 - elapsed 66.3s\n",
      "Processed batch 136/431 - elapsed 66.8s\n",
      "Processed batch 137/431 - elapsed 67.3s\n",
      "Processed batch 138/431 - elapsed 67.7s\n",
      "Processed batch 139/431 - elapsed 68.2s\n",
      "Processed batch 140/431 - elapsed 68.7s\n",
      "Processed batch 141/431 - elapsed 69.1s\n",
      "Processed batch 142/431 - elapsed 69.6s\n",
      "Processed batch 143/431 - elapsed 70.1s\n",
      "Processed batch 144/431 - elapsed 70.7s\n",
      "Processed batch 145/431 - elapsed 71.2s\n",
      "Processed batch 146/431 - elapsed 71.8s\n",
      "Processed batch 147/431 - elapsed 72.3s\n",
      "Processed batch 148/431 - elapsed 72.8s\n",
      "Processed batch 149/431 - elapsed 73.3s\n",
      "Processed batch 150/431 - elapsed 73.6s\n",
      "Processed batch 151/431 - elapsed 74.0s\n",
      "Processed batch 152/431 - elapsed 74.5s\n",
      "Processed batch 153/431 - elapsed 75.0s\n",
      "Processed batch 154/431 - elapsed 75.4s\n",
      "Processed batch 155/431 - elapsed 75.8s\n",
      "Processed batch 156/431 - elapsed 76.3s\n",
      "Processed batch 157/431 - elapsed 76.8s\n",
      "Processed batch 158/431 - elapsed 77.4s\n",
      "Processed batch 159/431 - elapsed 77.8s\n",
      "Processed batch 160/431 - elapsed 78.2s\n",
      "Processed batch 161/431 - elapsed 78.7s\n",
      "Processed batch 162/431 - elapsed 79.1s\n",
      "Processed batch 163/431 - elapsed 79.6s\n",
      "Processed batch 164/431 - elapsed 80.1s\n",
      "Processed batch 165/431 - elapsed 80.6s\n",
      "Processed batch 166/431 - elapsed 81.0s\n",
      "Processed batch 167/431 - elapsed 81.5s\n",
      "Processed batch 168/431 - elapsed 81.9s\n",
      "Processed batch 169/431 - elapsed 82.4s\n",
      "Processed batch 170/431 - elapsed 82.8s\n",
      "Processed batch 171/431 - elapsed 83.3s\n",
      "Processed batch 172/431 - elapsed 83.8s\n",
      "Processed batch 173/431 - elapsed 84.2s\n",
      "Processed batch 174/431 - elapsed 84.7s\n",
      "Processed batch 175/431 - elapsed 85.2s\n",
      "Processed batch 176/431 - elapsed 85.6s\n",
      "Processed batch 177/431 - elapsed 86.0s\n",
      "Processed batch 178/431 - elapsed 86.3s\n",
      "Processed batch 179/431 - elapsed 87.0s\n",
      "Processed batch 180/431 - elapsed 87.4s\n",
      "Processed batch 181/431 - elapsed 87.9s\n",
      "Processed batch 182/431 - elapsed 88.3s\n",
      "Processed batch 183/431 - elapsed 88.8s\n",
      "Processed batch 184/431 - elapsed 89.2s\n",
      "Processed batch 185/431 - elapsed 89.7s\n",
      "Processed batch 186/431 - elapsed 90.1s\n",
      "Processed batch 187/431 - elapsed 90.6s\n",
      "Processed batch 188/431 - elapsed 91.1s\n",
      "Processed batch 189/431 - elapsed 91.7s\n",
      "Processed batch 190/431 - elapsed 92.2s\n",
      "Processed batch 191/431 - elapsed 92.7s\n",
      "Processed batch 192/431 - elapsed 93.2s\n",
      "Processed batch 193/431 - elapsed 93.7s\n",
      "Processed batch 194/431 - elapsed 94.3s\n",
      "Processed batch 195/431 - elapsed 94.7s\n",
      "Processed batch 196/431 - elapsed 95.2s\n",
      "Processed batch 197/431 - elapsed 95.6s\n",
      "Processed batch 198/431 - elapsed 96.0s\n",
      "Processed batch 199/431 - elapsed 96.5s\n",
      "Processed batch 200/431 - elapsed 97.0s\n",
      "Processed batch 201/431 - elapsed 97.4s\n",
      "Processed batch 202/431 - elapsed 97.9s\n",
      "Processed batch 203/431 - elapsed 98.3s\n",
      "Processed batch 204/431 - elapsed 98.8s\n",
      "Processed batch 205/431 - elapsed 99.3s\n",
      "Processed batch 206/431 - elapsed 99.7s\n",
      "Processed batch 207/431 - elapsed 100.3s\n",
      "Processed batch 208/431 - elapsed 100.8s\n",
      "Processed batch 209/431 - elapsed 101.4s\n",
      "Processed batch 210/431 - elapsed 102.1s\n",
      "Processed batch 211/431 - elapsed 102.7s\n",
      "Processed batch 212/431 - elapsed 103.3s\n",
      "Processed batch 213/431 - elapsed 103.8s\n",
      "Processed batch 214/431 - elapsed 104.4s\n",
      "Processed batch 215/431 - elapsed 104.9s\n",
      "Processed batch 216/431 - elapsed 105.5s\n",
      "Processed batch 217/431 - elapsed 106.0s\n",
      "Processed batch 218/431 - elapsed 106.7s\n",
      "Processed batch 219/431 - elapsed 107.2s\n",
      "Processed batch 220/431 - elapsed 107.6s\n",
      "Processed batch 221/431 - elapsed 108.0s\n",
      "Processed batch 222/431 - elapsed 108.4s\n",
      "Processed batch 223/431 - elapsed 109.0s\n",
      "Processed batch 224/431 - elapsed 109.4s\n",
      "Processed batch 225/431 - elapsed 109.9s\n",
      "Processed batch 226/431 - elapsed 110.3s\n",
      "Processed batch 227/431 - elapsed 111.0s\n",
      "Processed batch 228/431 - elapsed 111.6s\n",
      "Processed batch 229/431 - elapsed 112.0s\n",
      "Processed batch 230/431 - elapsed 112.6s\n",
      "Processed batch 231/431 - elapsed 113.2s\n",
      "Processed batch 232/431 - elapsed 113.6s\n",
      "Processed batch 233/431 - elapsed 114.0s\n",
      "Processed batch 234/431 - elapsed 114.5s\n",
      "Processed batch 235/431 - elapsed 115.0s\n",
      "Processed batch 236/431 - elapsed 115.4s\n",
      "Processed batch 237/431 - elapsed 115.9s\n",
      "Processed batch 238/431 - elapsed 116.4s\n",
      "Processed batch 239/431 - elapsed 116.8s\n",
      "Processed batch 240/431 - elapsed 117.4s\n",
      "Processed batch 241/431 - elapsed 117.8s\n",
      "Processed batch 242/431 - elapsed 118.3s\n",
      "Processed batch 243/431 - elapsed 118.9s\n",
      "Processed batch 244/431 - elapsed 119.4s\n",
      "Processed batch 245/431 - elapsed 119.9s\n",
      "Processed batch 246/431 - elapsed 120.4s\n",
      "Processed batch 247/431 - elapsed 120.8s\n",
      "Processed batch 248/431 - elapsed 121.3s\n",
      "Processed batch 249/431 - elapsed 121.8s\n",
      "Processed batch 250/431 - elapsed 122.2s\n",
      "Processed batch 251/431 - elapsed 122.8s\n",
      "Processed batch 252/431 - elapsed 123.3s\n",
      "Processed batch 253/431 - elapsed 123.7s\n",
      "Processed batch 254/431 - elapsed 124.2s\n",
      "Processed batch 255/431 - elapsed 124.6s\n",
      "Processed batch 256/431 - elapsed 125.1s\n",
      "Processed batch 257/431 - elapsed 125.6s\n",
      "Processed batch 258/431 - elapsed 126.1s\n",
      "Processed batch 259/431 - elapsed 126.6s\n",
      "Processed batch 260/431 - elapsed 127.2s\n",
      "Processed batch 261/431 - elapsed 127.7s\n",
      "Processed batch 262/431 - elapsed 128.2s\n",
      "Processed batch 263/431 - elapsed 128.7s\n",
      "Processed batch 264/431 - elapsed 129.3s\n",
      "Processed batch 265/431 - elapsed 129.8s\n",
      "Processed batch 266/431 - elapsed 130.2s\n",
      "Processed batch 267/431 - elapsed 130.9s\n",
      "Processed batch 268/431 - elapsed 131.4s\n",
      "Processed batch 269/431 - elapsed 131.8s\n",
      "Processed batch 270/431 - elapsed 132.3s\n",
      "Processed batch 271/431 - elapsed 132.8s\n",
      "Processed batch 272/431 - elapsed 133.2s\n",
      "Processed batch 273/431 - elapsed 133.7s\n",
      "Processed batch 274/431 - elapsed 134.2s\n",
      "Processed batch 275/431 - elapsed 134.6s\n",
      "Processed batch 276/431 - elapsed 135.2s\n",
      "Processed batch 277/431 - elapsed 135.8s\n",
      "Processed batch 278/431 - elapsed 136.3s\n",
      "Processed batch 279/431 - elapsed 136.8s\n",
      "Processed batch 280/431 - elapsed 137.3s\n",
      "Processed batch 281/431 - elapsed 137.7s\n",
      "Processed batch 282/431 - elapsed 138.2s\n",
      "Processed batch 283/431 - elapsed 138.7s\n",
      "Processed batch 284/431 - elapsed 139.3s\n",
      "Processed batch 285/431 - elapsed 139.9s\n",
      "Processed batch 286/431 - elapsed 140.5s\n",
      "Processed batch 287/431 - elapsed 141.1s\n",
      "Processed batch 288/431 - elapsed 141.5s\n",
      "Processed batch 289/431 - elapsed 141.9s\n",
      "Processed batch 290/431 - elapsed 142.4s\n",
      "Processed batch 291/431 - elapsed 142.9s\n",
      "Processed batch 292/431 - elapsed 143.5s\n",
      "Processed batch 293/431 - elapsed 144.0s\n",
      "Processed batch 294/431 - elapsed 144.4s\n",
      "Processed batch 295/431 - elapsed 144.9s\n",
      "Processed batch 296/431 - elapsed 145.4s\n",
      "Processed batch 297/431 - elapsed 146.0s\n",
      "Processed batch 298/431 - elapsed 146.5s\n",
      "Processed batch 299/431 - elapsed 147.0s\n",
      "Processed batch 300/431 - elapsed 147.5s\n",
      "Processed batch 301/431 - elapsed 148.0s\n",
      "Processed batch 302/431 - elapsed 148.4s\n",
      "Processed batch 303/431 - elapsed 148.8s\n",
      "Processed batch 304/431 - elapsed 149.3s\n",
      "Processed batch 305/431 - elapsed 149.8s\n",
      "Processed batch 306/431 - elapsed 150.2s\n",
      "Processed batch 307/431 - elapsed 150.6s\n",
      "Processed batch 308/431 - elapsed 151.1s\n",
      "Processed batch 309/431 - elapsed 151.5s\n",
      "Processed batch 310/431 - elapsed 151.9s\n",
      "Processed batch 311/431 - elapsed 152.4s\n",
      "Processed batch 312/431 - elapsed 152.9s\n",
      "Processed batch 313/431 - elapsed 153.2s\n",
      "Processed batch 314/431 - elapsed 153.6s\n",
      "Processed batch 315/431 - elapsed 154.1s\n",
      "Processed batch 316/431 - elapsed 154.6s\n",
      "Processed batch 317/431 - elapsed 155.0s\n",
      "Processed batch 318/431 - elapsed 155.5s\n",
      "Processed batch 319/431 - elapsed 155.9s\n",
      "Processed batch 320/431 - elapsed 156.4s\n",
      "Processed batch 321/431 - elapsed 156.8s\n",
      "Processed batch 322/431 - elapsed 157.3s\n",
      "Processed batch 323/431 - elapsed 157.8s\n",
      "Processed batch 324/431 - elapsed 158.3s\n",
      "Processed batch 325/431 - elapsed 158.8s\n",
      "Processed batch 326/431 - elapsed 159.2s\n",
      "Processed batch 327/431 - elapsed 159.6s\n",
      "Processed batch 328/431 - elapsed 160.1s\n",
      "Processed batch 329/431 - elapsed 160.5s\n",
      "Processed batch 330/431 - elapsed 160.9s\n",
      "Processed batch 331/431 - elapsed 161.3s\n",
      "Processed batch 332/431 - elapsed 161.8s\n",
      "Processed batch 333/431 - elapsed 162.2s\n",
      "Processed batch 334/431 - elapsed 162.7s\n",
      "Processed batch 335/431 - elapsed 163.1s\n",
      "Processed batch 336/431 - elapsed 163.4s\n",
      "Processed batch 337/431 - elapsed 163.9s\n",
      "Processed batch 338/431 - elapsed 164.3s\n",
      "Processed batch 339/431 - elapsed 164.9s\n",
      "Processed batch 340/431 - elapsed 165.3s\n",
      "Processed batch 341/431 - elapsed 165.7s\n",
      "Processed batch 342/431 - elapsed 166.0s\n",
      "Processed batch 343/431 - elapsed 166.4s\n",
      "Processed batch 344/431 - elapsed 166.9s\n",
      "Processed batch 345/431 - elapsed 167.3s\n",
      "Processed batch 346/431 - elapsed 167.7s\n",
      "Processed batch 347/431 - elapsed 168.2s\n",
      "Processed batch 348/431 - elapsed 168.6s\n",
      "Processed batch 349/431 - elapsed 169.0s\n",
      "Processed batch 350/431 - elapsed 169.5s\n",
      "Processed batch 351/431 - elapsed 169.9s\n",
      "Processed batch 352/431 - elapsed 170.3s\n",
      "Processed batch 353/431 - elapsed 170.7s\n",
      "Processed batch 354/431 - elapsed 171.2s\n",
      "Processed batch 355/431 - elapsed 171.6s\n",
      "Processed batch 356/431 - elapsed 172.0s\n",
      "Processed batch 357/431 - elapsed 172.6s\n",
      "Processed batch 358/431 - elapsed 172.9s\n",
      "Processed batch 359/431 - elapsed 173.5s\n",
      "Processed batch 360/431 - elapsed 173.9s\n",
      "Processed batch 361/431 - elapsed 174.4s\n",
      "Processed batch 362/431 - elapsed 174.9s\n",
      "Processed batch 363/431 - elapsed 175.4s\n",
      "Processed batch 364/431 - elapsed 175.8s\n",
      "Processed batch 365/431 - elapsed 176.2s\n",
      "Processed batch 366/431 - elapsed 176.7s\n",
      "Processed batch 367/431 - elapsed 177.1s\n",
      "Processed batch 368/431 - elapsed 177.6s\n",
      "Processed batch 369/431 - elapsed 178.1s\n",
      "Processed batch 370/431 - elapsed 178.5s\n",
      "Processed batch 371/431 - elapsed 179.0s\n",
      "Processed batch 372/431 - elapsed 179.5s\n",
      "Processed batch 373/431 - elapsed 180.0s\n",
      "Processed batch 374/431 - elapsed 180.5s\n",
      "Processed batch 375/431 - elapsed 181.0s\n",
      "Processed batch 376/431 - elapsed 181.5s\n",
      "Processed batch 377/431 - elapsed 181.9s\n",
      "Processed batch 378/431 - elapsed 182.4s\n",
      "Processed batch 379/431 - elapsed 182.9s\n",
      "Processed batch 380/431 - elapsed 183.4s\n",
      "Processed batch 381/431 - elapsed 184.0s\n",
      "Processed batch 382/431 - elapsed 184.5s\n",
      "Processed batch 383/431 - elapsed 185.0s\n",
      "Processed batch 384/431 - elapsed 185.5s\n",
      "Processed batch 385/431 - elapsed 186.1s\n",
      "Processed batch 386/431 - elapsed 186.6s\n",
      "Processed batch 387/431 - elapsed 187.1s\n",
      "Processed batch 388/431 - elapsed 187.5s\n",
      "Processed batch 389/431 - elapsed 188.0s\n",
      "Processed batch 390/431 - elapsed 188.5s\n",
      "Processed batch 391/431 - elapsed 188.9s\n",
      "Processed batch 392/431 - elapsed 189.5s\n",
      "Processed batch 393/431 - elapsed 190.1s\n",
      "Processed batch 394/431 - elapsed 190.6s\n",
      "Processed batch 395/431 - elapsed 191.2s\n",
      "Processed batch 396/431 - elapsed 191.7s\n",
      "Processed batch 397/431 - elapsed 192.2s\n",
      "Processed batch 398/431 - elapsed 192.7s\n",
      "Processed batch 399/431 - elapsed 193.0s\n",
      "Processed batch 400/431 - elapsed 193.4s\n",
      "Processed batch 401/431 - elapsed 193.9s\n",
      "Processed batch 402/431 - elapsed 194.4s\n",
      "Processed batch 403/431 - elapsed 194.9s\n",
      "Processed batch 404/431 - elapsed 195.4s\n",
      "Processed batch 405/431 - elapsed 195.9s\n",
      "Processed batch 406/431 - elapsed 196.4s\n",
      "Processed batch 407/431 - elapsed 197.0s\n",
      "Processed batch 408/431 - elapsed 197.4s\n",
      "Processed batch 409/431 - elapsed 197.9s\n",
      "Processed batch 410/431 - elapsed 198.4s\n",
      "Processed batch 411/431 - elapsed 198.8s\n",
      "Processed batch 412/431 - elapsed 199.2s\n",
      "Processed batch 413/431 - elapsed 199.6s\n",
      "Processed batch 414/431 - elapsed 200.0s\n",
      "Processed batch 415/431 - elapsed 200.5s\n",
      "Processed batch 416/431 - elapsed 200.9s\n",
      "Processed batch 417/431 - elapsed 201.5s\n",
      "Processed batch 418/431 - elapsed 202.0s\n",
      "Processed batch 419/431 - elapsed 202.4s\n",
      "Processed batch 420/431 - elapsed 202.9s\n",
      "Processed batch 421/431 - elapsed 203.3s\n",
      "Processed batch 422/431 - elapsed 203.8s\n",
      "Processed batch 423/431 - elapsed 204.3s\n",
      "Processed batch 424/431 - elapsed 204.8s\n",
      "Processed batch 425/431 - elapsed 205.3s\n",
      "Processed batch 426/431 - elapsed 205.7s\n",
      "Processed batch 427/431 - elapsed 206.2s\n",
      "Processed batch 428/431 - elapsed 206.8s\n",
      "Processed batch 429/431 - elapsed 207.2s\n",
      "Processed batch 430/431 - elapsed 207.7s\n",
      "Processed batch 431/431 - elapsed 208.0s\n",
      "Green/sustainable flagging complete! Total time: 208.1 sec\n",
      "Current time: 2025-09-28 20:18:54\n"
     ]
    },
    {
     "data": {
      "text/html": [
       "<div>\n",
       "<style scoped>\n",
       "    .dataframe tbody tr th:only-of-type {\n",
       "        vertical-align: middle;\n",
       "    }\n",
       "\n",
       "    .dataframe tbody tr th {\n",
       "        vertical-align: top;\n",
       "    }\n",
       "\n",
       "    .dataframe thead th {\n",
       "        text-align: right;\n",
       "    }\n",
       "</style>\n",
       "<table border=\"1\" class=\"dataframe\">\n",
       "  <thead>\n",
       "    <tr style=\"text-align: right;\">\n",
       "      <th></th>\n",
       "      <th>development_description</th>\n",
       "      <th>is_green</th>\n",
       "    </tr>\n",
       "  </thead>\n",
       "  <tbody>\n",
       "    <tr>\n",
       "      <th>0</th>\n",
       "      <td>REAR GARDEN: 1 x Ash - Remove branches overhanging 1 Thurlow Road, thin crown and reduce by 30%</td>\n",
       "      <td>False</td>\n",
       "    </tr>\n",
       "    <tr>\n",
       "      <th>1</th>\n",
       "      <td>Change of use of ground level shop (Class A1) and associated basement storage and staff room to a live/work unit (Sui Generis), including alterations to both front elevations to include new windows and a door plus an enlarged lightwell with railings on the Prince of Wales Rd frontage</td>\n",
       "      <td>False</td>\n",
       "    </tr>\n",
       "    <tr>\n",
       "      <th>2</th>\n",
       "      <td>Variation of condition 6 of planning permission dated 27/02/12 (ref: 2011/5090/P) for change of use of part of existing retail unit (Class A1) at basement and ground floor to restaurant use (Class A3), to vary the opening hours from 12:00hrs to 23:00hrs Monday to Saturday and 12:00hrs to 22:00hrs Sundays and Bank Holidays to 10:00hrs to 00:00hrs Monday to Saturday and 10:00hrs to 23:00hrs on Sundays and Bank Holidays.</td>\n",
       "      <td>False</td>\n",
       "    </tr>\n",
       "    <tr>\n",
       "      <th>3</th>\n",
       "      <td>Details of lighting fixtures and fittings required by condition 21a (xxi) of listed building consent 2007/5230/L dated 08/04/2008 for alterations to Granary Building.</td>\n",
       "      <td>False</td>\n",
       "    </tr>\n",
       "    <tr>\n",
       "      <th>4</th>\n",
       "      <td>Details of a programme of archaeological investigation, pursuant to condition 5 of planning permission reference 2009/0710/P granted on 13/05/2009 for the redevelopment of the site following the demolition of the existing 2 and 3 storey storage buildings at 23-30 Kings Mews including the erection of a new part 3, part 4 storey building to accommodate 18 private residential flats, and erection of rear extension at first to third floor levels and mansard roof extension at fourth floor level at 43-45 Gray's Inn Road and provision of a new shopfront associated with the retained retail use at ground and basement floor levels, and change of use of the upper floors from part offices and part residential to a wholly residential use to accommodate 7 affordable flats.</td>\n",
       "      <td>False</td>\n",
       "    </tr>\n",
       "    <tr>\n",
       "      <th>5</th>\n",
       "      <td>Installation of disabled access ramp in front of the communal entrance to Flats 7 to 13 (Class C3).</td>\n",
       "      <td>False</td>\n",
       "    </tr>\n",
       "    <tr>\n",
       "      <th>6</th>\n",
       "      <td>Installation of disabled access ramp in front of the communal entrance to Flats 7 to 13 (Class C3).</td>\n",
       "      <td>False</td>\n",
       "    </tr>\n",
       "    <tr>\n",
       "      <th>7</th>\n",
       "      <td>The installation of a new shopfront to ground floor shop and conversion of two upper floors to provide a maisonette.</td>\n",
       "      <td>False</td>\n",
       "    </tr>\n",
       "    <tr>\n",
       "      <th>8</th>\n",
       "      <td>Erection of a two-storey side extension (fronting onto Lamble Street), installation of railings on front boundary wall (Julia Street) and associated alterations to single-family dwellinghouse (Class C3)</td>\n",
       "      <td>False</td>\n",
       "    </tr>\n",
       "    <tr>\n",
       "      <th>9</th>\n",
       "      <td>Samples required by condition 2 of Planning Permission Ref 2008/5547/P dated 31/03/2009 for amendments to planning permission 2007/4108/P, dated 09/11/2007, for refurbishment of building including erection of new roof extension and rear extension to provide additional office space (Use Class B1), works to office core and lightwell and reversion of entire third floor to office use from part office/part D1 education use. Revisions include alterations to the rear (Gate Street) façade, roof level plant and front (Kingsway) elevation entrance.</td>\n",
       "      <td>False</td>\n",
       "    </tr>\n",
       "  </tbody>\n",
       "</table>\n",
       "</div>"
      ],
      "text/plain": [
       "                                                                                                                                                                                                                                                                                                                                                                                                                                                                                                                                                                                                                                                                                                                                                                            development_description  \\\n",
       "0                                                                                                                                                                                                                                                                                                                                                                                                                                                                                                                                                                                                                                                                                                   REAR GARDEN: 1 x Ash - Remove branches overhanging 1 Thurlow Road, thin crown and reduce by 30%   \n",
       "1                                                                                                                                                                                                                                                                                                                                                                                                                                                                                                      Change of use of ground level shop (Class A1) and associated basement storage and staff room to a live/work unit (Sui Generis), including alterations to both front elevations to include new windows and a door plus an enlarged lightwell with railings on the Prince of Wales Rd frontage   \n",
       "2                                                                                                                                                                                                                                                                                                                                                             Variation of condition 6 of planning permission dated 27/02/12 (ref: 2011/5090/P) for change of use of part of existing retail unit (Class A1) at basement and ground floor to restaurant use (Class A3), to vary the opening hours from 12:00hrs to 23:00hrs Monday to Saturday and 12:00hrs to 22:00hrs Sundays and Bank Holidays to 10:00hrs to 00:00hrs Monday to Saturday and 10:00hrs to 23:00hrs on Sundays and Bank Holidays.   \n",
       "3                                                                                                                                                                                                                                                                                                                                                                                                                                                                                                                                                                                                                            Details of lighting fixtures and fittings required by condition 21a (xxi) of listed building consent 2007/5230/L dated 08/04/2008 for alterations to Granary Building.   \n",
       "4  Details of a programme of archaeological investigation, pursuant to condition 5 of planning permission reference 2009/0710/P granted on 13/05/2009 for the redevelopment of the site following the demolition of the existing 2 and 3 storey storage buildings at 23-30 Kings Mews including the erection of a new part 3, part 4 storey building to accommodate 18 private residential flats, and erection of rear extension at first to third floor levels and mansard roof extension at fourth floor level at 43-45 Gray's Inn Road and provision of a new shopfront associated with the retained retail use at ground and basement floor levels, and change of use of the upper floors from part offices and part residential to a wholly residential use to accommodate 7 affordable flats.   \n",
       "5                                                                                                                                                                                                                                                                                                                                                                                                                                                                                                                                                                                                                                                                                               Installation of disabled access ramp in front of the communal entrance to Flats 7 to 13 (Class C3).   \n",
       "6                                                                                                                                                                                                                                                                                                                                                                                                                                                                                                                                                                                                                                                                                               Installation of disabled access ramp in front of the communal entrance to Flats 7 to 13 (Class C3).   \n",
       "7                                                                                                                                                                                                                                                                                                                                                                                                                                                                                                                                                                                                                                                                              The installation of a new shopfront to ground floor shop and conversion of two upper floors to provide a maisonette.   \n",
       "8                                                                                                                                                                                                                                                                                                                                                                                                                                                                                                                                                                                        Erection of a two-storey side extension (fronting onto Lamble Street), installation of railings on front boundary wall (Julia Street) and associated alterations to single-family dwellinghouse (Class C3)   \n",
       "9                                                                                                                                                                                                                                  Samples required by condition 2 of Planning Permission Ref 2008/5547/P dated 31/03/2009 for amendments to planning permission 2007/4108/P, dated 09/11/2007, for refurbishment of building including erection of new roof extension and rear extension to provide additional office space (Use Class B1), works to office core and lightwell and reversion of entire third floor to office use from part office/part D1 education use. Revisions include alterations to the rear (Gate Street) façade, roof level plant and front (Kingsway) elevation entrance.   \n",
       "\n",
       "   is_green  \n",
       "0     False  \n",
       "1     False  \n",
       "2     False  \n",
       "3     False  \n",
       "4     False  \n",
       "5     False  \n",
       "6     False  \n",
       "7     False  \n",
       "8     False  \n",
       "9     False  "
      ]
     },
     "execution_count": 24,
     "metadata": {},
     "output_type": "execute_result"
    }
   ],
   "source": [
    "# --- SET UP AND RUN MODEL ---\n",
    "\n",
    "''' tried originally doing entire descriptions in one go\n",
    "results were rubbish - only one green application\n",
    "Have attempted chunking. Lots of play here to try to get things fast enough.\n",
    "Seems like encoding all chunks at once makes a big difference.\n",
    "The whole project depends on the concept encoding - huge room for improvement here.\n",
    "'''\n",
    "\n",
    "start_time = time.time()\n",
    "\n",
    "# --- Settings ---\n",
    "chunk_size = 250  # words per chunk\n",
    "batch_size = 300  # descriptions per batch\n",
    "threshold = 0.30   # similarity threshold for \"green\"\n",
    "descriptions = df_merged['development_description'].tolist()\n",
    "total_desc = len(descriptions)\n",
    "\n",
    "# --- Base concept phrases ---\n",
    "base_concepts = [\n",
    "    \"environmentally-friendly\", \"green development\", \"sustainable development\",\n",
    "    \"eco-friendly\", \"low carbon\", \"carbon footprint\", \"renewable energy\", \"recycle\"\n",
    "]\n",
    "\n",
    "# --- Load model ---\n",
    "model = SentenceTransformer('all-MiniLM-L6-v2')\n",
    "\n",
    "# Expand concepts automatically\n",
    "# Candidate terms for possible expansion\n",
    "candidate_terms = [\n",
    "    \"energy efficiency\", \"insulation\", \"LED lighting\", \"passive design\",\n",
    "    \"water recycling\", \"rainwater harvesting\", \"zero waste\",\n",
    "    \"green roof\", \"urban greening\", \"pollinator habitat\",\n",
    "    \"flood resilience\", \"stormwater management\", \"low carbon transport\",\n",
    "    \"biodiversity\", \"carbon reduction\", \"climate adaptation\"\n",
    "]\n",
    "\n",
    "# Encode base concepts and candidates\n",
    "base_embeddings = model.encode(base_concepts, convert_to_tensor=False)\n",
    "candidate_embeddings = model.encode(candidate_terms, convert_to_tensor=False)\n",
    "\n",
    "# Compute similarity and keep only candidates that are semantically close\n",
    "cos_scores = util.cos_sim(torch.tensor(candidate_embeddings), torch.tensor(base_embeddings))\n",
    "expanded_terms = [term for term, score in zip(candidate_terms, cos_scores.max(dim=1).values.tolist()) if score > 0.6]\n",
    "\n",
    "# Final concept list = base + expanded\n",
    "concepts = base_concepts + expanded_terms\n",
    "print(f\"Using concepts for matching: {concepts}\")\n",
    "\n",
    "# Precompute concept embeddings once\n",
    "concept_embeddings = model.encode(concepts, convert_to_tensor=False)  # NumPy arrays for CPU\n",
    "\n",
    "# Function to chunk a description\n",
    "def chunk_text(text, n_words=chunk_size):\n",
    "    words = text.split()\n",
    "    return [\" \".join(words[i:i+n_words]) for i in range(0, len(words), n_words)]\n",
    "\n",
    "# Main loop over description batches\n",
    "is_green_list = []\n",
    "\n",
    "for i in range(0, total_desc, batch_size):\n",
    "    batch_desc = descriptions[i:i+batch_size]\n",
    "    \n",
    "    # Chunk all descriptions in batch\n",
    "    batch_chunks = []\n",
    "    mapping = []\n",
    "    for idx, desc in enumerate(batch_desc):\n",
    "        chunks = chunk_text(desc)\n",
    "        batch_chunks.extend(chunks)\n",
    "        mapping.extend([idx]*len(chunks))\n",
    "    \n",
    "    # Encode all chunks at once\n",
    "    chunk_embeddings = model.encode(batch_chunks, convert_to_tensor=False)\n",
    "    \n",
    "    # Compute cosine similarity to concepts\n",
    "    cos_scores = util.cos_sim(torch.tensor(chunk_embeddings), torch.tensor(concept_embeddings))\n",
    "    \n",
    "    # Max similarity per chunk across concepts\n",
    "    max_per_chunk = torch.max(cos_scores, dim=1).values\n",
    "    \n",
    "    # Max similarity per description\n",
    "    desc_scores = [0]*len(batch_desc)\n",
    "    for score, desc_idx in zip(max_per_chunk.tolist(), mapping):\n",
    "        desc_scores[desc_idx] = max(desc_scores[desc_idx], score)\n",
    "    \n",
    "    # Apply threshold\n",
    "    is_green_list.extend([score > threshold for score in desc_scores])\n",
    "    \n",
    "    print(f\"Processed batch {i//batch_size + 1}/{math.ceil(total_desc/batch_size)} \"\n",
    "          f\"- elapsed {time.time() - start_time:.1f}s\")\n",
    "\n",
    "# Assign back to dataframe\n",
    "df_merged['is_green'] = is_green_list\n",
    "\n",
    "print(f\"Green/sustainable flagging complete! Total time: {time.time() - start_time:.1f} sec\")\n",
    "print(f\"Current time: {time.strftime('%Y-%m-%d %H:%M:%S')}\")\n",
    "df_merged[['development_description', 'is_green']].head(10)\n"
   ]
  },
  {
   "cell_type": "code",
   "execution_count": 25,
   "id": "956fe360-d320-4526-a44f-228cab62cb6b",
   "metadata": {},
   "outputs": [
    {
     "name": "stdout",
     "output_type": "stream",
     "text": [
      "Current time: 2025-09-28 20:18:58\n"
     ]
    }
   ],
   "source": [
    "# --- SUMMARISE DATA BY WARD ---\n",
    "ward_summary = (\n",
    "    df_merged.groupby('ward_final', dropna=False)\n",
    "             .agg(\n",
    "                 total_count=('is_green', 'size'),\n",
    "                 green_count=('is_green', 'sum')\n",
    "             )\n",
    "             .reset_index()\n",
    ")\n",
    "ward_summary['pct_green'] = ward_summary['green_count'] / ward_summary['total_count'] * 100\n",
    "\n",
    "print(f\"Current time: {time.strftime('%Y-%m-%d %H:%M:%S')}\")"
   ]
  },
  {
   "cell_type": "code",
   "execution_count": 26,
   "id": "fb743fbd-b098-4cd3-8b34-b7dbbdca8a39",
   "metadata": {},
   "outputs": [
    {
     "data": {
      "application/vnd.plotly.v1+json": {
       "config": {
        "plotlyServerURL": "https://plot.ly"
       },
       "data": [
        {
         "alignmentgroup": "True",
         "customdata": [
          [
           1,
           1
          ],
          [
           2,
           3
          ],
          [
           1,
           2
          ],
          [
           1,
           2
          ],
          [
           1,
           3
          ],
          [
           1226,
           6728
          ],
          [
           1,
           7
          ],
          [
           1937,
           13895
          ],
          [
           158,
           1260
          ],
          [
           369,
           3036
          ],
          [
           864,
           7211
          ],
          [
           170,
           1448
          ],
          [
           243,
           2076
          ],
          [
           84,
           733
          ],
          [
           23,
           209
          ],
          [
           430,
           3973
          ],
          [
           166,
           1580
          ],
          [
           810,
           7895
          ],
          [
           592,
           5807
          ],
          [
           1319,
           13367
          ],
          [
           302,
           3061
          ],
          [
           427,
           4486
          ],
          [
           91,
           1002
          ],
          [
           323,
           3753
          ],
          [
           444,
           5747
          ],
          [
           7,
           94
          ],
          [
           263,
           3869
          ],
          [
           461,
           6808
          ],
          [
           160,
           2433
          ],
          [
           45,
           715
          ],
          [
           214,
           3705
          ],
          [
           484,
           9090
          ],
          [
           450,
           9782
          ],
          [
           240,
           5312
          ]
         ],
         "hovertemplate": "%{y}<br>%{x:.1f}%<br>%{customdata[0]}/%{customdata[1]}<extra></extra>",
         "legendgroup": "",
         "marker": {
          "color": "#636efa",
          "pattern": {
           "shape": ""
          }
         },
         "name": "",
         "offsetgroup": "",
         "orientation": "h",
         "showlegend": false,
         "textposition": "inside",
         "texttemplate": "%{x:.1f}%",
         "type": "bar",
         "x": [
          100,
          66.66666666666666,
          50,
          50,
          33.33333333333333,
          18.222354340071345,
          14.285714285714285,
          13.940266282835553,
          12.53968253968254,
          12.154150197628459,
          11.981694633199279,
          11.740331491712707,
          11.705202312138727,
          11.459754433833561,
          11.004784688995215,
          10.823055625471936,
          10.506329113924052,
          10.259658011399619,
          10.194592732908559,
          9.867584349517468,
          9.866056844168572,
          9.51850200624164,
          9.081836327345309,
          8.606448174793499,
          7.725769966939272,
          7.446808510638298,
          6.797622124579996,
          6.77144535840188,
          6.576243321002877,
          6.293706293706294,
          5.775978407557355,
          5.324532453245324,
          4.600286240032713,
          4.518072289156627
         ],
         "xaxis": "x",
         "y": [
          "Highgate; South Hampstead",
          "Camden Square; Camden Town",
          "Camden",
          "Camden Square; Cantelowes",
          "Frognal; Frognal & Fitzjohns",
          "South Hampstead",
          "Adjoining Borough; Kentish Town",
          "Belsize",
          "Swiss Cottage",
          "Kentish Town South",
          "Frognal",
          "Frognal & Fitzjohns",
          "Camden Square",
          "Cantelowes",
          "Adjoining Borough",
          "Haverstock",
          "Camden Town With Primrose Hill",
          "Highgate",
          "Primrose Hill",
          "Hampstead Town",
          "Kilburn",
          "Gospel Oak",
          "Kentish Town",
          "St Pancras & Somers Town",
          "West Hampstead",
          "St Pancras And Somers Town",
          "Camden Town",
          "Regent'S Park",
          "Kentish Town North",
          "Holborn And Covent Garden",
          "King'S Cross",
          "Holborn & Covent Garden",
          "Bloomsbury",
          "Fortune Green"
         ],
         "yaxis": "y"
        }
       ],
       "layout": {
        "barmode": "relative",
        "legend": {
         "tracegroupgap": 0
        },
        "template": {
         "data": {
          "bar": [
           {
            "error_x": {
             "color": "#2a3f5f"
            },
            "error_y": {
             "color": "#2a3f5f"
            },
            "marker": {
             "line": {
              "color": "#E5ECF6",
              "width": 0.5
             },
             "pattern": {
              "fillmode": "overlay",
              "size": 10,
              "solidity": 0.2
             }
            },
            "type": "bar"
           }
          ],
          "barpolar": [
           {
            "marker": {
             "line": {
              "color": "#E5ECF6",
              "width": 0.5
             },
             "pattern": {
              "fillmode": "overlay",
              "size": 10,
              "solidity": 0.2
             }
            },
            "type": "barpolar"
           }
          ],
          "carpet": [
           {
            "aaxis": {
             "endlinecolor": "#2a3f5f",
             "gridcolor": "white",
             "linecolor": "white",
             "minorgridcolor": "white",
             "startlinecolor": "#2a3f5f"
            },
            "baxis": {
             "endlinecolor": "#2a3f5f",
             "gridcolor": "white",
             "linecolor": "white",
             "minorgridcolor": "white",
             "startlinecolor": "#2a3f5f"
            },
            "type": "carpet"
           }
          ],
          "choropleth": [
           {
            "colorbar": {
             "outlinewidth": 0,
             "ticks": ""
            },
            "type": "choropleth"
           }
          ],
          "contour": [
           {
            "colorbar": {
             "outlinewidth": 0,
             "ticks": ""
            },
            "colorscale": [
             [
              0,
              "#0d0887"
             ],
             [
              0.1111111111111111,
              "#46039f"
             ],
             [
              0.2222222222222222,
              "#7201a8"
             ],
             [
              0.3333333333333333,
              "#9c179e"
             ],
             [
              0.4444444444444444,
              "#bd3786"
             ],
             [
              0.5555555555555556,
              "#d8576b"
             ],
             [
              0.6666666666666666,
              "#ed7953"
             ],
             [
              0.7777777777777778,
              "#fb9f3a"
             ],
             [
              0.8888888888888888,
              "#fdca26"
             ],
             [
              1,
              "#f0f921"
             ]
            ],
            "type": "contour"
           }
          ],
          "contourcarpet": [
           {
            "colorbar": {
             "outlinewidth": 0,
             "ticks": ""
            },
            "type": "contourcarpet"
           }
          ],
          "heatmap": [
           {
            "colorbar": {
             "outlinewidth": 0,
             "ticks": ""
            },
            "colorscale": [
             [
              0,
              "#0d0887"
             ],
             [
              0.1111111111111111,
              "#46039f"
             ],
             [
              0.2222222222222222,
              "#7201a8"
             ],
             [
              0.3333333333333333,
              "#9c179e"
             ],
             [
              0.4444444444444444,
              "#bd3786"
             ],
             [
              0.5555555555555556,
              "#d8576b"
             ],
             [
              0.6666666666666666,
              "#ed7953"
             ],
             [
              0.7777777777777778,
              "#fb9f3a"
             ],
             [
              0.8888888888888888,
              "#fdca26"
             ],
             [
              1,
              "#f0f921"
             ]
            ],
            "type": "heatmap"
           }
          ],
          "heatmapgl": [
           {
            "colorbar": {
             "outlinewidth": 0,
             "ticks": ""
            },
            "colorscale": [
             [
              0,
              "#0d0887"
             ],
             [
              0.1111111111111111,
              "#46039f"
             ],
             [
              0.2222222222222222,
              "#7201a8"
             ],
             [
              0.3333333333333333,
              "#9c179e"
             ],
             [
              0.4444444444444444,
              "#bd3786"
             ],
             [
              0.5555555555555556,
              "#d8576b"
             ],
             [
              0.6666666666666666,
              "#ed7953"
             ],
             [
              0.7777777777777778,
              "#fb9f3a"
             ],
             [
              0.8888888888888888,
              "#fdca26"
             ],
             [
              1,
              "#f0f921"
             ]
            ],
            "type": "heatmapgl"
           }
          ],
          "histogram": [
           {
            "marker": {
             "pattern": {
              "fillmode": "overlay",
              "size": 10,
              "solidity": 0.2
             }
            },
            "type": "histogram"
           }
          ],
          "histogram2d": [
           {
            "colorbar": {
             "outlinewidth": 0,
             "ticks": ""
            },
            "colorscale": [
             [
              0,
              "#0d0887"
             ],
             [
              0.1111111111111111,
              "#46039f"
             ],
             [
              0.2222222222222222,
              "#7201a8"
             ],
             [
              0.3333333333333333,
              "#9c179e"
             ],
             [
              0.4444444444444444,
              "#bd3786"
             ],
             [
              0.5555555555555556,
              "#d8576b"
             ],
             [
              0.6666666666666666,
              "#ed7953"
             ],
             [
              0.7777777777777778,
              "#fb9f3a"
             ],
             [
              0.8888888888888888,
              "#fdca26"
             ],
             [
              1,
              "#f0f921"
             ]
            ],
            "type": "histogram2d"
           }
          ],
          "histogram2dcontour": [
           {
            "colorbar": {
             "outlinewidth": 0,
             "ticks": ""
            },
            "colorscale": [
             [
              0,
              "#0d0887"
             ],
             [
              0.1111111111111111,
              "#46039f"
             ],
             [
              0.2222222222222222,
              "#7201a8"
             ],
             [
              0.3333333333333333,
              "#9c179e"
             ],
             [
              0.4444444444444444,
              "#bd3786"
             ],
             [
              0.5555555555555556,
              "#d8576b"
             ],
             [
              0.6666666666666666,
              "#ed7953"
             ],
             [
              0.7777777777777778,
              "#fb9f3a"
             ],
             [
              0.8888888888888888,
              "#fdca26"
             ],
             [
              1,
              "#f0f921"
             ]
            ],
            "type": "histogram2dcontour"
           }
          ],
          "mesh3d": [
           {
            "colorbar": {
             "outlinewidth": 0,
             "ticks": ""
            },
            "type": "mesh3d"
           }
          ],
          "parcoords": [
           {
            "line": {
             "colorbar": {
              "outlinewidth": 0,
              "ticks": ""
             }
            },
            "type": "parcoords"
           }
          ],
          "pie": [
           {
            "automargin": true,
            "type": "pie"
           }
          ],
          "scatter": [
           {
            "fillpattern": {
             "fillmode": "overlay",
             "size": 10,
             "solidity": 0.2
            },
            "type": "scatter"
           }
          ],
          "scatter3d": [
           {
            "line": {
             "colorbar": {
              "outlinewidth": 0,
              "ticks": ""
             }
            },
            "marker": {
             "colorbar": {
              "outlinewidth": 0,
              "ticks": ""
             }
            },
            "type": "scatter3d"
           }
          ],
          "scattercarpet": [
           {
            "marker": {
             "colorbar": {
              "outlinewidth": 0,
              "ticks": ""
             }
            },
            "type": "scattercarpet"
           }
          ],
          "scattergeo": [
           {
            "marker": {
             "colorbar": {
              "outlinewidth": 0,
              "ticks": ""
             }
            },
            "type": "scattergeo"
           }
          ],
          "scattergl": [
           {
            "marker": {
             "colorbar": {
              "outlinewidth": 0,
              "ticks": ""
             }
            },
            "type": "scattergl"
           }
          ],
          "scattermapbox": [
           {
            "marker": {
             "colorbar": {
              "outlinewidth": 0,
              "ticks": ""
             }
            },
            "type": "scattermapbox"
           }
          ],
          "scatterpolar": [
           {
            "marker": {
             "colorbar": {
              "outlinewidth": 0,
              "ticks": ""
             }
            },
            "type": "scatterpolar"
           }
          ],
          "scatterpolargl": [
           {
            "marker": {
             "colorbar": {
              "outlinewidth": 0,
              "ticks": ""
             }
            },
            "type": "scatterpolargl"
           }
          ],
          "scatterternary": [
           {
            "marker": {
             "colorbar": {
              "outlinewidth": 0,
              "ticks": ""
             }
            },
            "type": "scatterternary"
           }
          ],
          "surface": [
           {
            "colorbar": {
             "outlinewidth": 0,
             "ticks": ""
            },
            "colorscale": [
             [
              0,
              "#0d0887"
             ],
             [
              0.1111111111111111,
              "#46039f"
             ],
             [
              0.2222222222222222,
              "#7201a8"
             ],
             [
              0.3333333333333333,
              "#9c179e"
             ],
             [
              0.4444444444444444,
              "#bd3786"
             ],
             [
              0.5555555555555556,
              "#d8576b"
             ],
             [
              0.6666666666666666,
              "#ed7953"
             ],
             [
              0.7777777777777778,
              "#fb9f3a"
             ],
             [
              0.8888888888888888,
              "#fdca26"
             ],
             [
              1,
              "#f0f921"
             ]
            ],
            "type": "surface"
           }
          ],
          "table": [
           {
            "cells": {
             "fill": {
              "color": "#EBF0F8"
             },
             "line": {
              "color": "white"
             }
            },
            "header": {
             "fill": {
              "color": "#C8D4E3"
             },
             "line": {
              "color": "white"
             }
            },
            "type": "table"
           }
          ]
         },
         "layout": {
          "annotationdefaults": {
           "arrowcolor": "#2a3f5f",
           "arrowhead": 0,
           "arrowwidth": 1
          },
          "autotypenumbers": "strict",
          "coloraxis": {
           "colorbar": {
            "outlinewidth": 0,
            "ticks": ""
           }
          },
          "colorscale": {
           "diverging": [
            [
             0,
             "#8e0152"
            ],
            [
             0.1,
             "#c51b7d"
            ],
            [
             0.2,
             "#de77ae"
            ],
            [
             0.3,
             "#f1b6da"
            ],
            [
             0.4,
             "#fde0ef"
            ],
            [
             0.5,
             "#f7f7f7"
            ],
            [
             0.6,
             "#e6f5d0"
            ],
            [
             0.7,
             "#b8e186"
            ],
            [
             0.8,
             "#7fbc41"
            ],
            [
             0.9,
             "#4d9221"
            ],
            [
             1,
             "#276419"
            ]
           ],
           "sequential": [
            [
             0,
             "#0d0887"
            ],
            [
             0.1111111111111111,
             "#46039f"
            ],
            [
             0.2222222222222222,
             "#7201a8"
            ],
            [
             0.3333333333333333,
             "#9c179e"
            ],
            [
             0.4444444444444444,
             "#bd3786"
            ],
            [
             0.5555555555555556,
             "#d8576b"
            ],
            [
             0.6666666666666666,
             "#ed7953"
            ],
            [
             0.7777777777777778,
             "#fb9f3a"
            ],
            [
             0.8888888888888888,
             "#fdca26"
            ],
            [
             1,
             "#f0f921"
            ]
           ],
           "sequentialminus": [
            [
             0,
             "#0d0887"
            ],
            [
             0.1111111111111111,
             "#46039f"
            ],
            [
             0.2222222222222222,
             "#7201a8"
            ],
            [
             0.3333333333333333,
             "#9c179e"
            ],
            [
             0.4444444444444444,
             "#bd3786"
            ],
            [
             0.5555555555555556,
             "#d8576b"
            ],
            [
             0.6666666666666666,
             "#ed7953"
            ],
            [
             0.7777777777777778,
             "#fb9f3a"
            ],
            [
             0.8888888888888888,
             "#fdca26"
            ],
            [
             1,
             "#f0f921"
            ]
           ]
          },
          "colorway": [
           "#636efa",
           "#EF553B",
           "#00cc96",
           "#ab63fa",
           "#FFA15A",
           "#19d3f3",
           "#FF6692",
           "#B6E880",
           "#FF97FF",
           "#FECB52"
          ],
          "font": {
           "color": "#2a3f5f"
          },
          "geo": {
           "bgcolor": "white",
           "lakecolor": "white",
           "landcolor": "#E5ECF6",
           "showlakes": true,
           "showland": true,
           "subunitcolor": "white"
          },
          "hoverlabel": {
           "align": "left"
          },
          "hovermode": "closest",
          "mapbox": {
           "style": "light"
          },
          "paper_bgcolor": "white",
          "plot_bgcolor": "#E5ECF6",
          "polar": {
           "angularaxis": {
            "gridcolor": "white",
            "linecolor": "white",
            "ticks": ""
           },
           "bgcolor": "#E5ECF6",
           "radialaxis": {
            "gridcolor": "white",
            "linecolor": "white",
            "ticks": ""
           }
          },
          "scene": {
           "xaxis": {
            "backgroundcolor": "#E5ECF6",
            "gridcolor": "white",
            "gridwidth": 2,
            "linecolor": "white",
            "showbackground": true,
            "ticks": "",
            "zerolinecolor": "white"
           },
           "yaxis": {
            "backgroundcolor": "#E5ECF6",
            "gridcolor": "white",
            "gridwidth": 2,
            "linecolor": "white",
            "showbackground": true,
            "ticks": "",
            "zerolinecolor": "white"
           },
           "zaxis": {
            "backgroundcolor": "#E5ECF6",
            "gridcolor": "white",
            "gridwidth": 2,
            "linecolor": "white",
            "showbackground": true,
            "ticks": "",
            "zerolinecolor": "white"
           }
          },
          "shapedefaults": {
           "line": {
            "color": "#2a3f5f"
           }
          },
          "ternary": {
           "aaxis": {
            "gridcolor": "white",
            "linecolor": "white",
            "ticks": ""
           },
           "baxis": {
            "gridcolor": "white",
            "linecolor": "white",
            "ticks": ""
           },
           "bgcolor": "#E5ECF6",
           "caxis": {
            "gridcolor": "white",
            "linecolor": "white",
            "ticks": ""
           }
          },
          "title": {
           "x": 0.05
          },
          "xaxis": {
           "automargin": true,
           "gridcolor": "white",
           "linecolor": "white",
           "ticks": "",
           "title": {
            "standoff": 15
           },
           "zerolinecolor": "white",
           "zerolinewidth": 2
          },
          "yaxis": {
           "automargin": true,
           "gridcolor": "white",
           "linecolor": "white",
           "ticks": "",
           "title": {
            "standoff": 15
           },
           "zerolinecolor": "white",
           "zerolinewidth": 2
          }
         }
        },
        "title": {
         "text": "Green Planning Applications by Ward (excluding 0% | 34/58 wards included)"
        },
        "xaxis": {
         "anchor": "y",
         "domain": [
          0,
          1
         ],
         "title": {
          "text": "pct_green"
         }
        },
        "yaxis": {
         "anchor": "x",
         "autorange": "reversed",
         "domain": [
          0,
          1
         ],
         "title": {
          "text": "ward_final"
         }
        }
       }
      },
      "image/png": "[encoded data removed]",
      "text/html": [
       "<div>                            <div id=\"8316986c-44f5-4675-a6f0-cefda0d9c9aa\" class=\"plotly-graph-div\" style=\"height:525px; width:100%;\"></div>            <script type=\"text/javascript\">                require([\"plotly\"], function(Plotly) {                    window.PLOTLYENV=window.PLOTLYENV || {};                                    if (document.getElementById(\"8316986c-44f5-4675-a6f0-cefda0d9c9aa\")) {                    Plotly.newPlot(                        \"8316986c-44f5-4675-a6f0-cefda0d9c9aa\",                        [{\"alignmentgroup\":\"True\",\"customdata\":[[1,1],[2,3],[1,2],[1,2],[1,3],[1226,6728],[1,7],[1937,13895],[158,1260],[369,3036],[864,7211],[170,1448],[243,2076],[84,733],[23,209],[430,3973],[166,1580],[810,7895],[592,5807],[1319,13367],[302,3061],[427,4486],[91,1002],[323,3753],[444,5747],[7,94],[263,3869],[461,6808],[160,2433],[45,715],[214,3705],[484,9090],[450,9782],[240,5312]],\"hovertemplate\":\"%{y}\\u003cbr\\u003e%{x:.1f}%\\u003cbr\\u003e%{customdata[0]}\\u002f%{customdata[1]}\\u003cextra\\u003e\\u003c\\u002fextra\\u003e\",\"legendgroup\":\"\",\"marker\":{\"color\":\"#636efa\",\"pattern\":{\"shape\":\"\"}},\"name\":\"\",\"offsetgroup\":\"\",\"orientation\":\"h\",\"showlegend\":false,\"textposition\":\"inside\",\"x\":[100.0,66.66666666666666,50.0,50.0,33.33333333333333,18.222354340071345,14.285714285714285,13.940266282835553,12.53968253968254,12.154150197628459,11.981694633199279,11.740331491712707,11.705202312138727,11.459754433833561,11.004784688995215,10.823055625471936,10.506329113924052,10.259658011399619,10.194592732908559,9.867584349517468,9.866056844168572,9.51850200624164,9.081836327345309,8.606448174793499,7.725769966939272,7.446808510638298,6.797622124579996,6.77144535840188,6.576243321002877,6.293706293706294,5.775978407557355,5.324532453245324,4.600286240032713,4.518072289156627],\"xaxis\":\"x\",\"y\":[\"Highgate; South Hampstead\",\"Camden Square; Camden Town\",\"Camden\",\"Camden Square; Cantelowes\",\"Frognal; Frognal & Fitzjohns\",\"South Hampstead\",\"Adjoining Borough; Kentish Town\",\"Belsize\",\"Swiss Cottage\",\"Kentish Town South\",\"Frognal\",\"Frognal & Fitzjohns\",\"Camden Square\",\"Cantelowes\",\"Adjoining Borough\",\"Haverstock\",\"Camden Town With Primrose Hill\",\"Highgate\",\"Primrose Hill\",\"Hampstead Town\",\"Kilburn\",\"Gospel Oak\",\"Kentish Town\",\"St Pancras & Somers Town\",\"West Hampstead\",\"St Pancras And Somers Town\",\"Camden Town\",\"Regent'S Park\",\"Kentish Town North\",\"Holborn And Covent Garden\",\"King'S Cross\",\"Holborn & Covent Garden\",\"Bloomsbury\",\"Fortune Green\"],\"yaxis\":\"y\",\"type\":\"bar\",\"texttemplate\":\"%{x:.1f}%\"}],                        {\"template\":{\"data\":{\"histogram2dcontour\":[{\"type\":\"histogram2dcontour\",\"colorbar\":{\"outlinewidth\":0,\"ticks\":\"\"},\"colorscale\":[[0.0,\"#0d0887\"],[0.1111111111111111,\"#46039f\"],[0.2222222222222222,\"#7201a8\"],[0.3333333333333333,\"#9c179e\"],[0.4444444444444444,\"#bd3786\"],[0.5555555555555556,\"#d8576b\"],[0.6666666666666666,\"#ed7953\"],[0.7777777777777778,\"#fb9f3a\"],[0.8888888888888888,\"#fdca26\"],[1.0,\"#f0f921\"]]}],\"choropleth\":[{\"type\":\"choropleth\",\"colorbar\":{\"outlinewidth\":0,\"ticks\":\"\"}}],\"histogram2d\":[{\"type\":\"histogram2d\",\"colorbar\":{\"outlinewidth\":0,\"ticks\":\"\"},\"colorscale\":[[0.0,\"#0d0887\"],[0.1111111111111111,\"#46039f\"],[0.2222222222222222,\"#7201a8\"],[0.3333333333333333,\"#9c179e\"],[0.4444444444444444,\"#bd3786\"],[0.5555555555555556,\"#d8576b\"],[0.6666666666666666,\"#ed7953\"],[0.7777777777777778,\"#fb9f3a\"],[0.8888888888888888,\"#fdca26\"],[1.0,\"#f0f921\"]]}],\"heatmap\":[{\"type\":\"heatmap\",\"colorbar\":{\"outlinewidth\":0,\"ticks\":\"\"},\"colorscale\":[[0.0,\"#0d0887\"],[0.1111111111111111,\"#46039f\"],[0.2222222222222222,\"#7201a8\"],[0.3333333333333333,\"#9c179e\"],[0.4444444444444444,\"#bd3786\"],[0.5555555555555556,\"#d8576b\"],[0.6666666666666666,\"#ed7953\"],[0.7777777777777778,\"#fb9f3a\"],[0.8888888888888888,\"#fdca26\"],[1.0,\"#f0f921\"]]}],\"heatmapgl\":[{\"type\":\"heatmapgl\",\"colorbar\":{\"outlinewidth\":0,\"ticks\":\"\"},\"colorscale\":[[0.0,\"#0d0887\"],[0.1111111111111111,\"#46039f\"],[0.2222222222222222,\"#7201a8\"],[0.3333333333333333,\"#9c179e\"],[0.4444444444444444,\"#bd3786\"],[0.5555555555555556,\"#d8576b\"],[0.6666666666666666,\"#ed7953\"],[0.7777777777777778,\"#fb9f3a\"],[0.8888888888888888,\"#fdca26\"],[1.0,\"#f0f921\"]]}],\"contourcarpet\":[{\"type\":\"contourcarpet\",\"colorbar\":{\"outlinewidth\":0,\"ticks\":\"\"}}],\"contour\":[{\"type\":\"contour\",\"colorbar\":{\"outlinewidth\":0,\"ticks\":\"\"},\"colorscale\":[[0.0,\"#0d0887\"],[0.1111111111111111,\"#46039f\"],[0.2222222222222222,\"#7201a8\"],[0.3333333333333333,\"#9c179e\"],[0.4444444444444444,\"#bd3786\"],[0.5555555555555556,\"#d8576b\"],[0.6666666666666666,\"#ed7953\"],[0.7777777777777778,\"#fb9f3a\"],[0.8888888888888888,\"#fdca26\"],[1.0,\"#f0f921\"]]}],\"surface\":[{\"type\":\"surface\",\"colorbar\":{\"outlinewidth\":0,\"ticks\":\"\"},\"colorscale\":[[0.0,\"#0d0887\"],[0.1111111111111111,\"#46039f\"],[0.2222222222222222,\"#7201a8\"],[0.3333333333333333,\"#9c179e\"],[0.4444444444444444,\"#bd3786\"],[0.5555555555555556,\"#d8576b\"],[0.6666666666666666,\"#ed7953\"],[0.7777777777777778,\"#fb9f3a\"],[0.8888888888888888,\"#fdca26\"],[1.0,\"#f0f921\"]]}],\"mesh3d\":[{\"type\":\"mesh3d\",\"colorbar\":{\"outlinewidth\":0,\"ticks\":\"\"}}],\"scatter\":[{\"fillpattern\":{\"fillmode\":\"overlay\",\"size\":10,\"solidity\":0.2},\"type\":\"scatter\"}],\"parcoords\":[{\"type\":\"parcoords\",\"line\":{\"colorbar\":{\"outlinewidth\":0,\"ticks\":\"\"}}}],\"scatterpolargl\":[{\"type\":\"scatterpolargl\",\"marker\":{\"colorbar\":{\"outlinewidth\":0,\"ticks\":\"\"}}}],\"bar\":[{\"error_x\":{\"color\":\"#2a3f5f\"},\"error_y\":{\"color\":\"#2a3f5f\"},\"marker\":{\"line\":{\"color\":\"#E5ECF6\",\"width\":0.5},\"pattern\":{\"fillmode\":\"overlay\",\"size\":10,\"solidity\":0.2}},\"type\":\"bar\"}],\"scattergeo\":[{\"type\":\"scattergeo\",\"marker\":{\"colorbar\":{\"outlinewidth\":0,\"ticks\":\"\"}}}],\"scatterpolar\":[{\"type\":\"scatterpolar\",\"marker\":{\"colorbar\":{\"outlinewidth\":0,\"ticks\":\"\"}}}],\"histogram\":[{\"marker\":{\"pattern\":{\"fillmode\":\"overlay\",\"size\":10,\"solidity\":0.2}},\"type\":\"histogram\"}],\"scattergl\":[{\"type\":\"scattergl\",\"marker\":{\"colorbar\":{\"outlinewidth\":0,\"ticks\":\"\"}}}],\"scatter3d\":[{\"type\":\"scatter3d\",\"line\":{\"colorbar\":{\"outlinewidth\":0,\"ticks\":\"\"}},\"marker\":{\"colorbar\":{\"outlinewidth\":0,\"ticks\":\"\"}}}],\"scattermapbox\":[{\"type\":\"scattermapbox\",\"marker\":{\"colorbar\":{\"outlinewidth\":0,\"ticks\":\"\"}}}],\"scatterternary\":[{\"type\":\"scatterternary\",\"marker\":{\"colorbar\":{\"outlinewidth\":0,\"ticks\":\"\"}}}],\"scattercarpet\":[{\"type\":\"scattercarpet\",\"marker\":{\"colorbar\":{\"outlinewidth\":0,\"ticks\":\"\"}}}],\"carpet\":[{\"aaxis\":{\"endlinecolor\":\"#2a3f5f\",\"gridcolor\":\"white\",\"linecolor\":\"white\",\"minorgridcolor\":\"white\",\"startlinecolor\":\"#2a3f5f\"},\"baxis\":{\"endlinecolor\":\"#2a3f5f\",\"gridcolor\":\"white\",\"linecolor\":\"white\",\"minorgridcolor\":\"white\",\"startlinecolor\":\"#2a3f5f\"},\"type\":\"carpet\"}],\"table\":[{\"cells\":{\"fill\":{\"color\":\"#EBF0F8\"},\"line\":{\"color\":\"white\"}},\"header\":{\"fill\":{\"color\":\"#C8D4E3\"},\"line\":{\"color\":\"white\"}},\"type\":\"table\"}],\"barpolar\":[{\"marker\":{\"line\":{\"color\":\"#E5ECF6\",\"width\":0.5},\"pattern\":{\"fillmode\":\"overlay\",\"size\":10,\"solidity\":0.2}},\"type\":\"barpolar\"}],\"pie\":[{\"automargin\":true,\"type\":\"pie\"}]},\"layout\":{\"autotypenumbers\":\"strict\",\"colorway\":[\"#636efa\",\"#EF553B\",\"#00cc96\",\"#ab63fa\",\"#FFA15A\",\"#19d3f3\",\"#FF6692\",\"#B6E880\",\"#FF97FF\",\"#FECB52\"],\"font\":{\"color\":\"#2a3f5f\"},\"hovermode\":\"closest\",\"hoverlabel\":{\"align\":\"left\"},\"paper_bgcolor\":\"white\",\"plot_bgcolor\":\"#E5ECF6\",\"polar\":{\"bgcolor\":\"#E5ECF6\",\"angularaxis\":{\"gridcolor\":\"white\",\"linecolor\":\"white\",\"ticks\":\"\"},\"radialaxis\":{\"gridcolor\":\"white\",\"linecolor\":\"white\",\"ticks\":\"\"}},\"ternary\":{\"bgcolor\":\"#E5ECF6\",\"aaxis\":{\"gridcolor\":\"white\",\"linecolor\":\"white\",\"ticks\":\"\"},\"baxis\":{\"gridcolor\":\"white\",\"linecolor\":\"white\",\"ticks\":\"\"},\"caxis\":{\"gridcolor\":\"white\",\"linecolor\":\"white\",\"ticks\":\"\"}},\"coloraxis\":{\"colorbar\":{\"outlinewidth\":0,\"ticks\":\"\"}},\"colorscale\":{\"sequential\":[[0.0,\"#0d0887\"],[0.1111111111111111,\"#46039f\"],[0.2222222222222222,\"#7201a8\"],[0.3333333333333333,\"#9c179e\"],[0.4444444444444444,\"#bd3786\"],[0.5555555555555556,\"#d8576b\"],[0.6666666666666666,\"#ed7953\"],[0.7777777777777778,\"#fb9f3a\"],[0.8888888888888888,\"#fdca26\"],[1.0,\"#f0f921\"]],\"sequentialminus\":[[0.0,\"#0d0887\"],[0.1111111111111111,\"#46039f\"],[0.2222222222222222,\"#7201a8\"],[0.3333333333333333,\"#9c179e\"],[0.4444444444444444,\"#bd3786\"],[0.5555555555555556,\"#d8576b\"],[0.6666666666666666,\"#ed7953\"],[0.7777777777777778,\"#fb9f3a\"],[0.8888888888888888,\"#fdca26\"],[1.0,\"#f0f921\"]],\"diverging\":[[0,\"#8e0152\"],[0.1,\"#c51b7d\"],[0.2,\"#de77ae\"],[0.3,\"#f1b6da\"],[0.4,\"#fde0ef\"],[0.5,\"#f7f7f7\"],[0.6,\"#e6f5d0\"],[0.7,\"#b8e186\"],[0.8,\"#7fbc41\"],[0.9,\"#4d9221\"],[1,\"#276419\"]]},\"xaxis\":{\"gridcolor\":\"white\",\"linecolor\":\"white\",\"ticks\":\"\",\"title\":{\"standoff\":15},\"zerolinecolor\":\"white\",\"automargin\":true,\"zerolinewidth\":2},\"yaxis\":{\"gridcolor\":\"white\",\"linecolor\":\"white\",\"ticks\":\"\",\"title\":{\"standoff\":15},\"zerolinecolor\":\"white\",\"automargin\":true,\"zerolinewidth\":2},\"scene\":{\"xaxis\":{\"backgroundcolor\":\"#E5ECF6\",\"gridcolor\":\"white\",\"linecolor\":\"white\",\"showbackground\":true,\"ticks\":\"\",\"zerolinecolor\":\"white\",\"gridwidth\":2},\"yaxis\":{\"backgroundcolor\":\"#E5ECF6\",\"gridcolor\":\"white\",\"linecolor\":\"white\",\"showbackground\":true,\"ticks\":\"\",\"zerolinecolor\":\"white\",\"gridwidth\":2},\"zaxis\":{\"backgroundcolor\":\"#E5ECF6\",\"gridcolor\":\"white\",\"linecolor\":\"white\",\"showbackground\":true,\"ticks\":\"\",\"zerolinecolor\":\"white\",\"gridwidth\":2}},\"shapedefaults\":{\"line\":{\"color\":\"#2a3f5f\"}},\"annotationdefaults\":{\"arrowcolor\":\"#2a3f5f\",\"arrowhead\":0,\"arrowwidth\":1},\"geo\":{\"bgcolor\":\"white\",\"landcolor\":\"#E5ECF6\",\"subunitcolor\":\"white\",\"showland\":true,\"showlakes\":true,\"lakecolor\":\"white\"},\"title\":{\"x\":0.05},\"mapbox\":{\"style\":\"light\"}}},\"xaxis\":{\"anchor\":\"y\",\"domain\":[0.0,1.0],\"title\":{\"text\":\"pct_green\"}},\"yaxis\":{\"anchor\":\"x\",\"domain\":[0.0,1.0],\"title\":{\"text\":\"ward_final\"},\"autorange\":\"reversed\"},\"legend\":{\"tracegroupgap\":0},\"title\":{\"text\":\"Green Planning Applications by Ward (excluding 0% | 34\\u002f58 wards included)\"},\"barmode\":\"relative\"},                        {\"responsive\": true}                    ).then(function(){\n",
       "                            \n",
       "var gd = document.getElementById('8316986c-44f5-4675-a6f0-cefda0d9c9aa');\n",
       "var x = new MutationObserver(function (mutations, observer) {{\n",
       "        var display = window.getComputedStyle(gd).display;\n",
       "        if (!display || display === 'none') {{\n",
       "            console.log([gd, 'removed!']);\n",
       "            Plotly.purge(gd);\n",
       "            observer.disconnect();\n",
       "        }}\n",
       "}});\n",
       "\n",
       "// Listen for the removal of the full notebook cells\n",
       "var notebookContainer = gd.closest('#notebook-container');\n",
       "if (notebookContainer) {{\n",
       "    x.observe(notebookContainer, {childList: true});\n",
       "}}\n",
       "\n",
       "// Listen for the clearing of the current output cell\n",
       "var outputEl = gd.closest('.output');\n",
       "if (outputEl) {{\n",
       "    x.observe(outputEl, {childList: true});\n",
       "}}\n",
       "\n",
       "                        })                };                });            </script>        </div>"
      ]
     },
     "metadata": {},
     "output_type": "display_data"
    },
    {
     "name": "stdout",
     "output_type": "stream",
     "text": [
      "Current time: 2025-09-28 20:19:02\n"
     ]
    }
   ],
   "source": [
    "# --- VISUALISING GREEN APPLICATIONS BY WARD ---\n",
    "\n",
    "\n",
    "# Filter out wards with 0% green\n",
    "ward_summary_filtered = ward_summary[ward_summary['pct_green'] > 0].copy()\n",
    "\n",
    "# Sort by percentage descending\n",
    "ward_summary_filtered = ward_summary_filtered.sort_values('pct_green', ascending=False)\n",
    "\n",
    "# Count included and total wards\n",
    "num_included = len(ward_summary_filtered)\n",
    "num_total = len(ward_summary)\n",
    "\n",
    "# Build title\n",
    "chart_title = f\"Green Planning Applications by Ward (excluding 0% | {num_included}/{num_total} wards included)\"\n",
    "\n",
    "# Build hover text using hovertemplate\n",
    "hover_template = (\n",
    "    \"%{y}<br>\" +                 # ward name\n",
    "    \"%{x:.1f}%<br>\" +            # percentage\n",
    "    \"%{customdata[0]}/%{customdata[1]}\" +  # green_count / total_count\n",
    "    \"<extra></extra>\"             # remove trace info\n",
    ")\n",
    "\n",
    "fig = px.bar(\n",
    "    ward_summary_filtered,\n",
    "    x='pct_green',\n",
    "    y='ward_final',\n",
    "    orientation='h',\n",
    "    title=chart_title,\n",
    "    custom_data=['green_count', 'total_count']  # for num/denom\n",
    ")\n",
    "\n",
    "fig.update_traces(hovertemplate=hover_template, texttemplate='%{x:.1f}%', textposition='inside')\n",
    "fig.update_yaxes(autorange='reversed')  # largest on top\n",
    "fig.show()\n",
    "\n",
    "print(f\"Current time: {time.strftime('%Y-%m-%d %H:%M:%S')}\")\n"
   ]
  },
  {
   "cell_type": "code",
   "execution_count": 27,
   "id": "0de98987-a604-4384-bc4c-582503a5523e",
   "metadata": {},
   "outputs": [
    {
     "name": "stdout",
     "output_type": "stream",
     "text": [
      "Wards with no green applications:\n"
     ]
    },
    {
     "data": {
      "text/html": [
       "<div>\n",
       "<style scoped>\n",
       "    .dataframe tbody tr th:only-of-type {\n",
       "        vertical-align: middle;\n",
       "    }\n",
       "\n",
       "    .dataframe tbody tr th {\n",
       "        vertical-align: top;\n",
       "    }\n",
       "\n",
       "    .dataframe thead th {\n",
       "        text-align: right;\n",
       "    }\n",
       "</style>\n",
       "<table border=\"1\" class=\"dataframe\">\n",
       "  <thead>\n",
       "    <tr style=\"text-align: right;\">\n",
       "      <th></th>\n",
       "      <th>Ward</th>\n",
       "      <th>Number of Applications</th>\n",
       "    </tr>\n",
       "  </thead>\n",
       "  <tbody>\n",
       "    <tr>\n",
       "      <th>1</th>\n",
       "      <td>Adjoining Borough; Cantelowes</td>\n",
       "      <td>1</td>\n",
       "    </tr>\n",
       "    <tr>\n",
       "      <th>3</th>\n",
       "      <td>Adjoining Borough; Regent's Park</td>\n",
       "      <td>1</td>\n",
       "    </tr>\n",
       "    <tr>\n",
       "      <th>4</th>\n",
       "      <td>Adjoining Borough; Swiss Cottage</td>\n",
       "      <td>1</td>\n",
       "    </tr>\n",
       "    <tr>\n",
       "      <th>7</th>\n",
       "      <td>Bloomsbury; Holborn and Covent Garden</td>\n",
       "      <td>2</td>\n",
       "    </tr>\n",
       "    <tr>\n",
       "      <th>8</th>\n",
       "      <td>Bloomsbury; Kilburn</td>\n",
       "      <td>1</td>\n",
       "    </tr>\n",
       "    <tr>\n",
       "      <th>9</th>\n",
       "      <td>Bloomsbury; King's Cross</td>\n",
       "      <td>1</td>\n",
       "    </tr>\n",
       "    <tr>\n",
       "      <th>14</th>\n",
       "      <td>Camden Square; Haverstock</td>\n",
       "      <td>1</td>\n",
       "    </tr>\n",
       "    <tr>\n",
       "      <th>15</th>\n",
       "      <td>Camden Square; Holborn and Covent Garden; King's Cross</td>\n",
       "      <td>3</td>\n",
       "    </tr>\n",
       "    <tr>\n",
       "      <th>16</th>\n",
       "      <td>Camden Square; King's Cross</td>\n",
       "      <td>1</td>\n",
       "    </tr>\n",
       "    <tr>\n",
       "      <th>19</th>\n",
       "      <td>Camden Town; Camden Town with Primrose Hill</td>\n",
       "      <td>2</td>\n",
       "    </tr>\n",
       "    <tr>\n",
       "      <th>20</th>\n",
       "      <td>Camden Town; Frognal</td>\n",
       "      <td>2</td>\n",
       "    </tr>\n",
       "    <tr>\n",
       "      <th>21</th>\n",
       "      <td>Camden Town; Haverstock; Primrose Hill</td>\n",
       "      <td>1</td>\n",
       "    </tr>\n",
       "    <tr>\n",
       "      <th>22</th>\n",
       "      <td>Camden Town; Primrose Hill</td>\n",
       "      <td>3</td>\n",
       "    </tr>\n",
       "    <tr>\n",
       "      <th>23</th>\n",
       "      <td>Camden Town; Primrose Hill; Regent's Park</td>\n",
       "      <td>1</td>\n",
       "    </tr>\n",
       "    <tr>\n",
       "      <th>26</th>\n",
       "      <td>Fortune Green; West Hampstead</td>\n",
       "      <td>1</td>\n",
       "    </tr>\n",
       "    <tr>\n",
       "      <th>31</th>\n",
       "      <td>Gospel Oak; Haverstock</td>\n",
       "      <td>1</td>\n",
       "    </tr>\n",
       "    <tr>\n",
       "      <th>33</th>\n",
       "      <td>Hampstead Town; Highgate</td>\n",
       "      <td>3</td>\n",
       "    </tr>\n",
       "    <tr>\n",
       "      <th>39</th>\n",
       "      <td>Holborn and Covent Garden; King's Cross</td>\n",
       "      <td>5</td>\n",
       "    </tr>\n",
       "    <tr>\n",
       "      <th>43</th>\n",
       "      <td>Kentish Town South; St Pancras and Somers Town</td>\n",
       "      <td>1</td>\n",
       "    </tr>\n",
       "    <tr>\n",
       "      <th>46</th>\n",
       "      <td>King's Cross; Regent's Park; St Pancras and Somers Town</td>\n",
       "      <td>1</td>\n",
       "    </tr>\n",
       "    <tr>\n",
       "      <th>47</th>\n",
       "      <td>King's Cross; St Pancras &amp; Somers Town</td>\n",
       "      <td>1</td>\n",
       "    </tr>\n",
       "    <tr>\n",
       "      <th>48</th>\n",
       "      <td>King's Cross; St Pancras and Somers Town</td>\n",
       "      <td>7</td>\n",
       "    </tr>\n",
       "    <tr>\n",
       "      <th>52</th>\n",
       "      <td>South Hampstead; Swiss Cottage</td>\n",
       "      <td>1</td>\n",
       "    </tr>\n",
       "    <tr>\n",
       "      <th>56</th>\n",
       "      <td>Unknown</td>\n",
       "      <td>1</td>\n",
       "    </tr>\n",
       "  </tbody>\n",
       "</table>\n",
       "</div>"
      ],
      "text/plain": [
       "                                                       Ward  \\\n",
       "1                             Adjoining Borough; Cantelowes   \n",
       "3                          Adjoining Borough; Regent's Park   \n",
       "4                          Adjoining Borough; Swiss Cottage   \n",
       "7                     Bloomsbury; Holborn and Covent Garden   \n",
       "8                                       Bloomsbury; Kilburn   \n",
       "9                                  Bloomsbury; King's Cross   \n",
       "14                                Camden Square; Haverstock   \n",
       "15   Camden Square; Holborn and Covent Garden; King's Cross   \n",
       "16                              Camden Square; King's Cross   \n",
       "19              Camden Town; Camden Town with Primrose Hill   \n",
       "20                                     Camden Town; Frognal   \n",
       "21                   Camden Town; Haverstock; Primrose Hill   \n",
       "22                               Camden Town; Primrose Hill   \n",
       "23                Camden Town; Primrose Hill; Regent's Park   \n",
       "26                            Fortune Green; West Hampstead   \n",
       "31                                   Gospel Oak; Haverstock   \n",
       "33                                 Hampstead Town; Highgate   \n",
       "39                  Holborn and Covent Garden; King's Cross   \n",
       "43           Kentish Town South; St Pancras and Somers Town   \n",
       "46  King's Cross; Regent's Park; St Pancras and Somers Town   \n",
       "47                   King's Cross; St Pancras & Somers Town   \n",
       "48                 King's Cross; St Pancras and Somers Town   \n",
       "52                           South Hampstead; Swiss Cottage   \n",
       "56                                                  Unknown   \n",
       "\n",
       "    Number of Applications  \n",
       "1                        1  \n",
       "3                        1  \n",
       "4                        1  \n",
       "7                        2  \n",
       "8                        1  \n",
       "9                        1  \n",
       "14                       1  \n",
       "15                       3  \n",
       "16                       1  \n",
       "19                       2  \n",
       "20                       2  \n",
       "21                       1  \n",
       "22                       3  \n",
       "23                       1  \n",
       "26                       1  \n",
       "31                       1  \n",
       "33                       3  \n",
       "39                       5  \n",
       "43                       1  \n",
       "46                       1  \n",
       "47                       1  \n",
       "48                       7  \n",
       "52                       1  \n",
       "56                       1  "
      ]
     },
     "metadata": {},
     "output_type": "display_data"
    },
    {
     "name": "stdout",
     "output_type": "stream",
     "text": [
      "Current time: 2025-09-28 20:19:06\n"
     ]
    }
   ],
   "source": [
    "# --- TABLE OF WARDS WITHOUT GREEN APPLICATIONS ---\n",
    "\n",
    "# Filter wards with 0% green applications\n",
    "no_green_wards = ward_summary[ward_summary['pct_green'] == 0][['ward_final', 'total_count']].copy()\n",
    "\n",
    "# Rename columns for clarity\n",
    "no_green_wards.rename(columns={'ward_final': 'Ward', 'total_count': 'Number of Applications'}, inplace=True)\n",
    "\n",
    "# Display the table\n",
    "print(\"Wards with no green applications:\")\n",
    "display(no_green_wards)\n",
    "\n",
    "print(f\"Current time: {time.strftime('%Y-%m-%d %H:%M:%S')}\")\n"
   ]
  },
  {
   "cell_type": "code",
   "execution_count": 28,
   "id": "094497f5-23c0-4a7d-bcb9-752e099a72ee",
   "metadata": {
    "scrolled": true
   },
   "outputs": [
    {
     "data": {
      "application/vnd.plotly.v1+json": {
       "config": {
        "plotlyServerURL": "https://plot.ly"
       },
       "data": [
        {
         "customdata": [
          [
           0,
           1
          ],
          [
           3,
           63
          ],
          [
           8,
           66
          ],
          [
           12,
           80
          ],
          [
           5,
           84
          ],
          [
           4,
           97
          ],
          [
           5,
           108
          ],
          [
           11,
           122
          ],
          [
           5,
           87
          ],
          [
           4,
           64
          ],
          [
           10,
           72
          ],
          [
           15,
           75
          ],
          [
           5,
           50
          ],
          [
           2,
           25
          ],
          [
           2,
           4
          ],
          [
           0,
           4
          ]
         ],
         "hovertemplate": "%{fullData.name}<br>%{y:.1f}%<br>%{customdata[0]}/%{customdata[1]}",
         "legendgroup": "Kentish Town",
         "line": {
          "color": "#636efa",
          "dash": "solid"
         },
         "marker": {
          "symbol": "circle"
         },
         "mode": "lines",
         "name": "Kentish Town",
         "orientation": "v",
         "showlegend": true,
         "type": "scatter",
         "visible": "legendonly",
         "x": [
          1975,
          2010,
          2011,
          2012,
          2013,
          2014,
          2015,
          2016,
          2017,
          2018,
          2019,
          2020,
          2021,
          2022,
          2023,
          2024
         ],
         "xaxis": "x",
         "y": [
          0,
          4.761904761904762,
          12.121212121212121,
          15,
          5.9523809523809526,
          4.123711340206185,
          4.62962962962963,
          9.01639344262295,
          5.747126436781609,
          6.25,
          13.88888888888889,
          20,
          10,
          8,
          50,
          0
         ],
         "yaxis": "y"
        },
        {
         "customdata": [
          [
           2,
           24
          ],
          [
           4,
           34
          ],
          [
           4,
           27
          ],
          [
           4,
           27
          ],
          [
           2,
           20
          ],
          [
           0,
           13
          ],
          [
           4,
           11
          ],
          [
           2,
           33
          ],
          [
           1,
           11
          ],
          [
           0,
           2
          ],
          [
           0,
           5
          ],
          [
           0,
           1
          ],
          [
           0,
           1
          ]
         ],
         "hovertemplate": "%{fullData.name}<br>%{y:.1f}%<br>%{customdata[0]}/%{customdata[1]}",
         "legendgroup": "Adjoining Borough",
         "line": {
          "color": "#EF553B",
          "dash": "solid"
         },
         "marker": {
          "symbol": "circle"
         },
         "mode": "lines",
         "name": "Adjoining Borough",
         "orientation": "v",
         "showlegend": true,
         "type": "scatter",
         "visible": "legendonly",
         "x": [
          2010,
          2011,
          2012,
          2013,
          2014,
          2015,
          2016,
          2017,
          2018,
          2019,
          2020,
          2021,
          2023
         ],
         "xaxis": "x",
         "y": [
          8.333333333333334,
          11.764705882352942,
          14.814814814814815,
          14.814814814814815,
          10,
          0,
          36.36363636363637,
          6.0606060606060606,
          9.090909090909092,
          0,
          0,
          0,
          0
         ],
         "yaxis": "y"
        },
        {
         "customdata": [
          [
           0,
           1
          ],
          [
           1,
           5
          ],
          [
           0,
           1
          ]
         ],
         "hovertemplate": "%{fullData.name}<br>%{y:.1f}%<br>%{customdata[0]}/%{customdata[1]}",
         "legendgroup": "Adjoining Borough; Kentish Town",
         "line": {
          "color": "#00cc96",
          "dash": "solid"
         },
         "marker": {
          "symbol": "circle"
         },
         "mode": "lines",
         "name": "Adjoining Borough; Kentish Town",
         "orientation": "v",
         "showlegend": true,
         "type": "scatter",
         "visible": "legendonly",
         "x": [
          2010,
          2011,
          2018
         ],
         "xaxis": "x",
         "y": [
          0,
          20,
          0
         ],
         "yaxis": "y"
        },
        {
         "customdata": [
          [
           96,
           724
          ],
          [
           146,
           905
          ],
          [
           111,
           885
          ],
          [
           193,
           1126
          ],
          [
           105,
           881
          ],
          [
           112,
           833
          ],
          [
           101,
           875
          ],
          [
           152,
           1007
          ],
          [
           88,
           766
          ],
          [
           88,
           768
          ],
          [
           126,
           852
          ],
          [
           123,
           915
          ],
          [
           115,
           818
          ],
          [
           148,
           962
          ],
          [
           107,
           941
          ],
          [
           126,
           637
          ]
         ],
         "hovertemplate": "%{fullData.name}<br>%{y:.1f}%<br>%{customdata[0]}/%{customdata[1]}",
         "legendgroup": "Belsize",
         "line": {
          "color": "#ab63fa",
          "dash": "solid"
         },
         "marker": {
          "symbol": "circle"
         },
         "mode": "lines",
         "name": "Belsize",
         "orientation": "v",
         "showlegend": true,
         "type": "scatter",
         "visible": "legendonly",
         "x": [
          2010,
          2011,
          2012,
          2013,
          2014,
          2015,
          2016,
          2017,
          2018,
          2019,
          2020,
          2021,
          2022,
          2023,
          2024,
          2025
         ],
         "xaxis": "x",
         "y": [
          13.259668508287293,
          16.132596685082873,
          12.542372881355933,
          17.14031971580817,
          11.91827468785471,
          13.445378151260504,
          11.542857142857143,
          15.09433962264151,
          11.488250652741515,
          11.458333333333334,
          14.788732394366198,
          13.442622950819672,
          14.058679706601467,
          15.384615384615385,
          11.370882040382572,
          19.78021978021978
         ],
         "yaxis": "y"
        },
        {
         "customdata": [
          [
           13,
           466
          ],
          [
           25,
           638
          ],
          [
           10,
           741
          ],
          [
           22,
           746
          ],
          [
           40,
           816
          ],
          [
           34,
           720
          ],
          [
           30,
           782
          ],
          [
           21,
           588
          ],
          [
           24,
           603
          ],
          [
           28,
           608
          ],
          [
           37,
           525
          ],
          [
           20,
           456
          ],
          [
           20,
           469
          ],
          [
           35,
           548
          ],
          [
           46,
           606
          ],
          [
           45,
           470
          ]
         ],
         "hovertemplate": "%{fullData.name}<br>%{y:.1f}%<br>%{customdata[0]}/%{customdata[1]}",
         "legendgroup": "Bloomsbury",
         "line": {
          "color": "#FFA15A",
          "dash": "solid"
         },
         "marker": {
          "symbol": "circle"
         },
         "mode": "lines",
         "name": "Bloomsbury",
         "orientation": "v",
         "showlegend": true,
         "type": "scatter",
         "visible": "legendonly",
         "x": [
          2010,
          2011,
          2012,
          2013,
          2014,
          2015,
          2016,
          2017,
          2018,
          2019,
          2020,
          2021,
          2022,
          2023,
          2024,
          2025
         ],
         "xaxis": "x",
         "y": [
          2.7896995708154506,
          3.9184952978056424,
          1.349527665317139,
          2.9490616621983916,
          4.901960784313726,
          4.722222222222222,
          3.836317135549872,
          3.5714285714285716,
          3.9800995024875623,
          4.605263157894737,
          7.0476190476190474,
          4.385964912280702,
          4.264392324093817,
          6.386861313868613,
          7.590759075907591,
          9.574468085106384
         ],
         "yaxis": "y"
        },
        {
         "customdata": [
          [
           19,
           106
          ],
          [
           15,
           141
          ],
          [
           10,
           144
          ],
          [
           14,
           104
          ],
          [
           12,
           110
          ],
          [
           10,
           152
          ],
          [
           15,
           153
          ],
          [
           21,
           141
          ],
          [
           2,
           128
          ],
          [
           5,
           113
          ],
          [
           9,
           86
          ],
          [
           11,
           114
          ],
          [
           27,
           154
          ],
          [
           24,
           146
          ],
          [
           40,
           192
          ],
          [
           9,
           92
          ]
         ],
         "hovertemplate": "%{fullData.name}<br>%{y:.1f}%<br>%{customdata[0]}/%{customdata[1]}",
         "legendgroup": "Camden Square",
         "line": {
          "color": "#19d3f3",
          "dash": "solid"
         },
         "marker": {
          "symbol": "circle"
         },
         "mode": "lines",
         "name": "Camden Square",
         "orientation": "v",
         "showlegend": true,
         "type": "scatter",
         "visible": "legendonly",
         "x": [
          2010,
          2011,
          2012,
          2013,
          2014,
          2015,
          2016,
          2017,
          2018,
          2019,
          2020,
          2021,
          2022,
          2023,
          2024,
          2025
         ],
         "xaxis": "x",
         "y": [
          17.92452830188679,
          10.638297872340425,
          6.944444444444445,
          13.461538461538462,
          10.909090909090908,
          6.578947368421052,
          9.803921568627452,
          14.893617021276595,
          1.5625,
          4.424778761061947,
          10.465116279069768,
          9.649122807017545,
          17.532467532467532,
          16.438356164383563,
          20.833333333333332,
          9.782608695652174
         ],
         "yaxis": "y"
        },
        {
         "customdata": [
          [
           10,
           195
          ],
          [
           10,
           225
          ],
          [
           28,
           263
          ],
          [
           8,
           261
          ],
          [
           24,
           232
          ],
          [
           16,
           313
          ],
          [
           22,
           322
          ],
          [
           21,
           277
          ],
          [
           9,
           234
          ],
          [
           8,
           214
          ],
          [
           18,
           157
          ],
          [
           20,
           210
          ],
          [
           22,
           229
          ],
          [
           15,
           237
          ],
          [
           21,
           280
          ],
          [
           11,
           220
          ]
         ],
         "hovertemplate": "%{fullData.name}<br>%{y:.1f}%<br>%{customdata[0]}/%{customdata[1]}",
         "legendgroup": "Camden Town",
         "line": {
          "color": "#FF6692",
          "dash": "solid"
         },
         "marker": {
          "symbol": "circle"
         },
         "mode": "lines",
         "name": "Camden Town",
         "orientation": "v",
         "showlegend": true,
         "type": "scatter",
         "visible": "legendonly",
         "x": [
          2010,
          2011,
          2012,
          2013,
          2014,
          2015,
          2016,
          2017,
          2018,
          2019,
          2020,
          2021,
          2022,
          2023,
          2024,
          2025
         ],
         "xaxis": "x",
         "y": [
          5.128205128205129,
          4.444444444444445,
          10.64638783269962,
          3.0651340996168583,
          10.344827586206897,
          5.111821086261981,
          6.832298136645963,
          7.581227436823105,
          3.8461538461538463,
          3.7383177570093458,
          11.464968152866241,
          9.523809523809524,
          9.606986899563319,
          6.329113924050633,
          7.5,
          5
         ],
         "yaxis": "y"
        },
        {
         "customdata": [
          [
           9,
           98
          ],
          [
           17,
           141
          ],
          [
           15,
           131
          ],
          [
           14,
           155
          ],
          [
           16,
           137
          ],
          [
           16,
           169
          ],
          [
           14,
           137
          ],
          [
           19,
           137
          ],
          [
           13,
           98
          ],
          [
           10,
           121
          ],
          [
           5,
           97
          ],
          [
           8,
           91
          ],
          [
           10,
           59
          ],
          [
           0,
           8
          ],
          [
           0,
           1
          ]
         ],
         "hovertemplate": "%{fullData.name}<br>%{y:.1f}%<br>%{customdata[0]}/%{customdata[1]}",
         "legendgroup": "Camden Town With Primrose Hill",
         "line": {
          "color": "#B6E880",
          "dash": "solid"
         },
         "marker": {
          "symbol": "circle"
         },
         "mode": "lines",
         "name": "Camden Town With Primrose Hill",
         "orientation": "v",
         "showlegend": true,
         "type": "scatter",
         "visible": "legendonly",
         "x": [
          2010,
          2011,
          2012,
          2013,
          2014,
          2015,
          2016,
          2017,
          2018,
          2019,
          2020,
          2021,
          2022,
          2023,
          2024
         ],
         "xaxis": "x",
         "y": [
          9.183673469387756,
          12.056737588652481,
          11.450381679389313,
          9.03225806451613,
          11.678832116788321,
          9.467455621301776,
          10.218978102189782,
          13.86861313868613,
          13.26530612244898,
          8.264462809917354,
          5.154639175257732,
          8.791208791208792,
          16.949152542372882,
          0,
          0
         ],
         "yaxis": "y"
        },
        {
         "customdata": [
          [
           0,
           49
          ],
          [
           10,
           73
          ],
          [
           8,
           56
          ],
          [
           4,
           32
          ],
          [
           13,
           67
          ],
          [
           5,
           57
          ],
          [
           3,
           56
          ],
          [
           8,
           70
          ],
          [
           8,
           62
          ],
          [
           6,
           51
          ],
          [
           6,
           64
          ],
          [
           7,
           48
          ],
          [
           6,
           44
          ],
          [
           0,
           1
          ],
          [
           0,
           3
          ]
         ],
         "hovertemplate": "%{fullData.name}<br>%{y:.1f}%<br>%{customdata[0]}/%{customdata[1]}",
         "legendgroup": "Cantelowes",
         "line": {
          "color": "#FF97FF",
          "dash": "solid"
         },
         "marker": {
          "symbol": "circle"
         },
         "mode": "lines",
         "name": "Cantelowes",
         "orientation": "v",
         "showlegend": true,
         "type": "scatter",
         "visible": "legendonly",
         "x": [
          2010,
          2011,
          2012,
          2013,
          2014,
          2015,
          2016,
          2017,
          2018,
          2019,
          2020,
          2021,
          2022,
          2023,
          2024
         ],
         "xaxis": "x",
         "y": [
          0,
          13.698630136986301,
          14.285714285714286,
          12.5,
          19.402985074626866,
          8.771929824561404,
          5.357142857142857,
          11.428571428571429,
          12.903225806451612,
          11.764705882352942,
          9.375,
          14.583333333333334,
          13.636363636363637,
          0,
          0
         ],
         "yaxis": "y"
        },
        {
         "customdata": [
          [
           9,
           261
          ],
          [
           19,
           370
          ],
          [
           18,
           393
          ],
          [
           10,
           333
          ],
          [
           4,
           369
          ],
          [
           15,
           397
          ],
          [
           18,
           402
          ],
          [
           3,
           403
          ],
          [
           27,
           397
          ],
          [
           10,
           354
          ],
          [
           31,
           310
          ],
          [
           17,
           292
          ],
          [
           13,
           245
          ],
          [
           12,
           310
          ],
          [
           19,
           328
          ],
          [
           15,
           148
          ]
         ],
         "hovertemplate": "%{fullData.name}<br>%{y:.1f}%<br>%{customdata[0]}/%{customdata[1]}",
         "legendgroup": "Fortune Green",
         "line": {
          "color": "#FECB52",
          "dash": "solid"
         },
         "marker": {
          "symbol": "circle"
         },
         "mode": "lines",
         "name": "Fortune Green",
         "orientation": "v",
         "showlegend": true,
         "type": "scatter",
         "visible": "legendonly",
         "x": [
          2010,
          2011,
          2012,
          2013,
          2014,
          2015,
          2016,
          2017,
          2018,
          2019,
          2020,
          2021,
          2022,
          2023,
          2024,
          2025
         ],
         "xaxis": "x",
         "y": [
          3.4482758620689653,
          5.135135135135135,
          4.580152671755725,
          3.003003003003003,
          1.084010840108401,
          3.7783375314861463,
          4.477611940298507,
          0.7444168734491315,
          6.801007556675063,
          2.824858757062147,
          10,
          5.821917808219178,
          5.3061224489795915,
          3.870967741935484,
          5.7926829268292686,
          10.135135135135135
         ],
         "yaxis": "y"
        },
        {
         "customdata": [
          [
           39,
           399
          ],
          [
           54,
           478
          ],
          [
           45,
           428
          ],
          [
           65,
           474
          ],
          [
           49,
           439
          ],
          [
           50,
           505
          ],
          [
           44,
           474
          ],
          [
           76,
           487
          ],
          [
           56,
           371
          ],
          [
           49,
           407
          ],
          [
           61,
           472
          ],
          [
           51,
           408
          ],
          [
           61,
           448
          ],
          [
           49,
           504
          ],
          [
           61,
           509
          ],
          [
           54,
           408
          ]
         ],
         "hovertemplate": "%{fullData.name}<br>%{y:.1f}%<br>%{customdata[0]}/%{customdata[1]}",
         "legendgroup": "Frognal",
         "line": {
          "color": "#636efa",
          "dash": "solid"
         },
         "marker": {
          "symbol": "circle"
         },
         "mode": "lines",
         "name": "Frognal",
         "orientation": "v",
         "showlegend": true,
         "type": "scatter",
         "visible": "legendonly",
         "x": [
          2010,
          2011,
          2012,
          2013,
          2014,
          2015,
          2016,
          2017,
          2018,
          2019,
          2020,
          2021,
          2022,
          2023,
          2024,
          2025
         ],
         "xaxis": "x",
         "y": [
          9.774436090225564,
          11.297071129707113,
          10.514018691588785,
          13.713080168776372,
          11.161731207289295,
          9.900990099009901,
          9.282700421940929,
          15.605749486652977,
          15.09433962264151,
          12.039312039312039,
          12.923728813559322,
          12.5,
          13.616071428571429,
          9.722222222222221,
          11.984282907662083,
          13.235294117647058
         ],
         "yaxis": "y"
        },
        {
         "customdata": [
          [
           8,
           119
          ],
          [
           12,
           104
          ],
          [
           9,
           117
          ],
          [
           20,
           155
          ],
          [
           15,
           98
          ],
          [
           20,
           129
          ],
          [
           12,
           118
          ],
          [
           9,
           97
          ],
          [
           21,
           131
          ],
          [
           11,
           105
          ],
          [
           13,
           113
          ],
          [
           14,
           104
          ],
          [
           6,
           46
          ],
          [
           0,
           6
          ],
          [
           0,
           6
          ]
         ],
         "hovertemplate": "%{fullData.name}<br>%{y:.1f}%<br>%{customdata[0]}/%{customdata[1]}",
         "legendgroup": "Frognal & Fitzjohns",
         "line": {
          "color": "#EF553B",
          "dash": "solid"
         },
         "marker": {
          "symbol": "circle"
         },
         "mode": "lines",
         "name": "Frognal & Fitzjohns",
         "orientation": "v",
         "showlegend": true,
         "type": "scatter",
         "visible": "legendonly",
         "x": [
          2010,
          2011,
          2012,
          2013,
          2014,
          2015,
          2016,
          2017,
          2018,
          2019,
          2020,
          2021,
          2022,
          2023,
          2024
         ],
         "xaxis": "x",
         "y": [
          6.722689075630252,
          11.538461538461538,
          7.6923076923076925,
          12.903225806451612,
          15.306122448979592,
          15.503875968992247,
          10.169491525423728,
          9.278350515463918,
          16.03053435114504,
          10.476190476190476,
          11.504424778761061,
          13.461538461538462,
          13.043478260869565,
          0,
          0
         ],
         "yaxis": "y"
        },
        {
         "customdata": [
          [
           20,
           208
          ],
          [
           31,
           244
          ],
          [
           11,
           284
          ],
          [
           38,
           316
          ],
          [
           29,
           303
          ],
          [
           28,
           315
          ],
          [
           43,
           350
          ],
          [
           34,
           320
          ],
          [
           15,
           265
          ],
          [
           17,
           264
          ],
          [
           25,
           285
          ],
          [
           32,
           290
          ],
          [
           23,
           255
          ],
          [
           42,
           311
          ],
          [
           21,
           266
          ],
          [
           18,
           210
          ]
         ],
         "hovertemplate": "%{fullData.name}<br>%{y:.1f}%<br>%{customdata[0]}/%{customdata[1]}",
         "legendgroup": "Gospel Oak",
         "line": {
          "color": "#00cc96",
          "dash": "solid"
         },
         "marker": {
          "symbol": "circle"
         },
         "mode": "lines",
         "name": "Gospel Oak",
         "orientation": "v",
         "showlegend": true,
         "type": "scatter",
         "visible": "legendonly",
         "x": [
          2010,
          2011,
          2012,
          2013,
          2014,
          2015,
          2016,
          2017,
          2018,
          2019,
          2020,
          2021,
          2022,
          2023,
          2024,
          2025
         ],
         "xaxis": "x",
         "y": [
          9.615384615384615,
          12.704918032786885,
          3.8732394366197185,
          12.025316455696203,
          9.570957095709572,
          8.88888888888889,
          12.285714285714286,
          10.625,
          5.660377358490566,
          6.4393939393939394,
          8.771929824561404,
          11.03448275862069,
          9.019607843137255,
          13.504823151125402,
          7.894736842105263,
          8.571428571428571
         ],
         "yaxis": "y"
        },
        {
         "customdata": [
          [
           65,
           784
          ],
          [
           107,
           952
          ],
          [
           85,
           921
          ],
          [
           86,
           904
          ],
          [
           73,
           894
          ],
          [
           97,
           934
          ],
          [
           88,
           857
          ],
          [
           80,
           864
          ],
          [
           80,
           784
          ],
          [
           83,
           794
          ],
          [
           86,
           748
          ],
          [
           73,
           781
          ],
          [
           77,
           758
          ],
          [
           110,
           942
          ],
          [
           92,
           932
          ],
          [
           37,
           518
          ]
         ],
         "hovertemplate": "%{fullData.name}<br>%{y:.1f}%<br>%{customdata[0]}/%{customdata[1]}",
         "legendgroup": "Hampstead Town",
         "line": {
          "color": "#ab63fa",
          "dash": "solid"
         },
         "marker": {
          "symbol": "circle"
         },
         "mode": "lines",
         "name": "Hampstead Town",
         "orientation": "v",
         "showlegend": true,
         "type": "scatter",
         "visible": "legendonly",
         "x": [
          2010,
          2011,
          2012,
          2013,
          2014,
          2015,
          2016,
          2017,
          2018,
          2019,
          2020,
          2021,
          2022,
          2023,
          2024,
          2025
         ],
         "xaxis": "x",
         "y": [
          8.290816326530612,
          11.239495798319327,
          9.229098805646037,
          9.513274336283185,
          8.165548098434005,
          10.38543897216274,
          10.268378063010502,
          9.25925925925926,
          10.204081632653061,
          10.453400503778338,
          11.497326203208557,
          9.346991037131883,
          10.158311345646437,
          11.67728237791932,
          9.871244635193133,
          7.142857142857143
         ],
         "yaxis": "y"
        },
        {
         "customdata": [
          [
           14,
           134
          ],
          [
           26,
           212
          ],
          [
           13,
           165
          ],
          [
           44,
           244
          ],
          [
           19,
           247
          ],
          [
           25,
           265
          ],
          [
           28,
           374
          ],
          [
           28,
           336
          ],
          [
           31,
           263
          ],
          [
           17,
           248
          ],
          [
           12,
           228
          ],
          [
           35,
           271
          ],
          [
           42,
           238
          ],
          [
           35,
           321
          ],
          [
           32,
           216
          ],
          [
           29,
           211
          ]
         ],
         "hovertemplate": "%{fullData.name}<br>%{y:.1f}%<br>%{customdata[0]}/%{customdata[1]}",
         "legendgroup": "Haverstock",
         "line": {
          "color": "#FFA15A",
          "dash": "solid"
         },
         "marker": {
          "symbol": "circle"
         },
         "mode": "lines",
         "name": "Haverstock",
         "orientation": "v",
         "showlegend": true,
         "type": "scatter",
         "visible": "legendonly",
         "x": [
          2010,
          2011,
          2012,
          2013,
          2014,
          2015,
          2016,
          2017,
          2018,
          2019,
          2020,
          2021,
          2022,
          2023,
          2024,
          2025
         ],
         "xaxis": "x",
         "y": [
          10.447761194029852,
          12.264150943396226,
          7.878787878787879,
          18.0327868852459,
          7.6923076923076925,
          9.433962264150944,
          7.4866310160427805,
          8.333333333333334,
          11.787072243346008,
          6.854838709677419,
          5.2631578947368425,
          12.915129151291513,
          17.647058823529413,
          10.903426791277258,
          14.814814814814815,
          13.744075829383887
         ],
         "yaxis": "y"
        },
        {
         "customdata": [
          [
           24,
           413
          ],
          [
           73,
           628
          ],
          [
           47,
           551
          ],
          [
           57,
           470
          ],
          [
           51,
           440
          ],
          [
           39,
           513
          ],
          [
           39,
           439
          ],
          [
           44,
           462
          ],
          [
           52,
           469
          ],
          [
           41,
           522
          ],
          [
           65,
           507
          ],
          [
           58,
           567
          ],
          [
           52,
           444
          ],
          [
           42,
           510
          ],
          [
           69,
           573
          ],
          [
           57,
           387
          ]
         ],
         "hovertemplate": "%{fullData.name}<br>%{y:.1f}%<br>%{customdata[0]}/%{customdata[1]}",
         "legendgroup": "Highgate",
         "line": {
          "color": "#19d3f3",
          "dash": "solid"
         },
         "marker": {
          "symbol": "circle"
         },
         "mode": "lines",
         "name": "Highgate",
         "orientation": "v",
         "showlegend": true,
         "type": "scatter",
         "visible": "legendonly",
         "x": [
          2010,
          2011,
          2012,
          2013,
          2014,
          2015,
          2016,
          2017,
          2018,
          2019,
          2020,
          2021,
          2022,
          2023,
          2024,
          2025
         ],
         "xaxis": "x",
         "y": [
          5.811138014527845,
          11.624203821656051,
          8.52994555353902,
          12.127659574468085,
          11.590909090909092,
          7.60233918128655,
          8.883826879271071,
          9.523809523809524,
          11.087420042643924,
          7.854406130268199,
          12.820512820512821,
          10.229276895943563,
          11.711711711711711,
          8.235294117647058,
          12.041884816753926,
          14.728682170542635
         ],
         "yaxis": "y"
        },
        {
         "customdata": [
          [
           19,
           522
          ],
          [
           18,
           646
          ],
          [
           20,
           709
          ],
          [
           27,
           659
          ],
          [
           35,
           675
          ],
          [
           34,
           638
          ],
          [
           40,
           706
          ],
          [
           44,
           797
          ],
          [
           32,
           682
          ],
          [
           28,
           706
          ],
          [
           38,
           559
          ],
          [
           34,
           507
          ],
          [
           27,
           333
          ],
          [
           40,
           379
          ],
          [
           33,
           368
          ],
          [
           15,
           204
          ]
         ],
         "hovertemplate": "%{fullData.name}<br>%{y:.1f}%<br>%{customdata[0]}/%{customdata[1]}",
         "legendgroup": "Holborn & Covent Garden",
         "line": {
          "color": "#FF6692",
          "dash": "solid"
         },
         "marker": {
          "symbol": "circle"
         },
         "mode": "lines",
         "name": "Holborn & Covent Garden",
         "orientation": "v",
         "showlegend": true,
         "type": "scatter",
         "visible": "legendonly",
         "x": [
          2010,
          2011,
          2012,
          2013,
          2014,
          2015,
          2016,
          2017,
          2018,
          2019,
          2020,
          2021,
          2022,
          2023,
          2024,
          2025
         ],
         "xaxis": "x",
         "y": [
          3.6398467432950192,
          2.7863777089783284,
          2.8208744710860367,
          4.09711684370258,
          5.185185185185185,
          5.329153605015674,
          5.665722379603399,
          5.520702634880803,
          4.69208211143695,
          3.9660056657223794,
          6.797853309481217,
          6.70611439842209,
          8.108108108108109,
          10.554089709762533,
          8.967391304347826,
          7.352941176470588
         ],
         "yaxis": "y"
        },
        {
         "customdata": [
          [
           3,
           145
          ],
          [
           6,
           145
          ],
          [
           11,
           161
          ],
          [
           13,
           169
          ],
          [
           8,
           160
          ],
          [
           5,
           157
          ],
          [
           6,
           162
          ],
          [
           5,
           159
          ],
          [
           8,
           156
          ],
          [
           10,
           147
          ],
          [
           11,
           137
          ],
          [
           13,
           144
          ],
          [
           10,
           162
          ],
          [
           20,
           178
          ],
          [
           17,
           154
          ],
          [
           14,
           97
          ]
         ],
         "hovertemplate": "%{fullData.name}<br>%{y:.1f}%<br>%{customdata[0]}/%{customdata[1]}",
         "legendgroup": "Kentish Town North",
         "line": {
          "color": "#B6E880",
          "dash": "solid"
         },
         "marker": {
          "symbol": "circle"
         },
         "mode": "lines",
         "name": "Kentish Town North",
         "orientation": "v",
         "showlegend": true,
         "type": "scatter",
         "visible": "legendonly",
         "x": [
          2010,
          2011,
          2012,
          2013,
          2014,
          2015,
          2016,
          2017,
          2018,
          2019,
          2020,
          2021,
          2022,
          2023,
          2024,
          2025
         ],
         "xaxis": "x",
         "y": [
          2.0689655172413794,
          4.137931034482759,
          6.832298136645963,
          7.6923076923076925,
          5,
          3.1847133757961785,
          3.7037037037037037,
          3.1446540880503147,
          5.128205128205129,
          6.802721088435374,
          8.02919708029197,
          9.027777777777779,
          6.172839506172839,
          11.235955056179776,
          11.03896103896104,
          14.43298969072165
         ],
         "yaxis": "y"
        },
        {
         "customdata": [
          [
           24,
           118
          ],
          [
           22,
           178
          ],
          [
           22,
           227
          ],
          [
           25,
           213
          ],
          [
           18,
           201
          ],
          [
           11,
           202
          ],
          [
           19,
           202
          ],
          [
           20,
           191
          ],
          [
           18,
           214
          ],
          [
           23,
           185
          ],
          [
           24,
           157
          ],
          [
           18,
           171
          ],
          [
           31,
           194
          ],
          [
           23,
           203
          ],
          [
           44,
           213
          ],
          [
           27,
           167
          ]
         ],
         "hovertemplate": "%{fullData.name}<br>%{y:.1f}%<br>%{customdata[0]}/%{customdata[1]}",
         "legendgroup": "Kentish Town South",
         "line": {
          "color": "#FF97FF",
          "dash": "solid"
         },
         "marker": {
          "symbol": "circle"
         },
         "mode": "lines",
         "name": "Kentish Town South",
         "orientation": "v",
         "showlegend": true,
         "type": "scatter",
         "visible": "legendonly",
         "x": [
          2010,
          2011,
          2012,
          2013,
          2014,
          2015,
          2016,
          2017,
          2018,
          2019,
          2020,
          2021,
          2022,
          2023,
          2024,
          2025
         ],
         "xaxis": "x",
         "y": [
          20.338983050847457,
          12.359550561797754,
          9.691629955947137,
          11.737089201877934,
          8.955223880597014,
          5.445544554455446,
          9.405940594059405,
          10.471204188481675,
          8.411214953271028,
          12.432432432432432,
          15.286624203821656,
          10.526315789473685,
          15.97938144329897,
          11.330049261083744,
          20.657276995305164,
          16.167664670658684
         ],
         "yaxis": "y"
        },
        {
         "customdata": [
          [
           12,
           185
          ],
          [
           13,
           194
          ],
          [
           20,
           263
          ],
          [
           18,
           260
          ],
          [
           21,
           195
          ],
          [
           43,
           241
          ],
          [
           15,
           201
          ],
          [
           19,
           252
          ],
          [
           22,
           175
          ],
          [
           15,
           159
          ],
          [
           11,
           166
          ],
          [
           27,
           177
          ],
          [
           22,
           135
          ],
          [
           26,
           200
          ],
          [
           13,
           172
          ],
          [
           5,
           86
          ]
         ],
         "hovertemplate": "%{fullData.name}<br>%{y:.1f}%<br>%{customdata[0]}/%{customdata[1]}",
         "legendgroup": "Kilburn",
         "line": {
          "color": "#FECB52",
          "dash": "solid"
         },
         "marker": {
          "symbol": "circle"
         },
         "mode": "lines",
         "name": "Kilburn",
         "orientation": "v",
         "showlegend": true,
         "type": "scatter",
         "visible": "legendonly",
         "x": [
          2010,
          2011,
          2012,
          2013,
          2014,
          2015,
          2016,
          2017,
          2018,
          2019,
          2020,
          2021,
          2022,
          2023,
          2024,
          2025
         ],
         "xaxis": "x",
         "y": [
          6.486486486486487,
          6.701030927835052,
          7.604562737642586,
          6.923076923076923,
          10.76923076923077,
          17.842323651452283,
          7.462686567164179,
          7.5396825396825395,
          12.571428571428571,
          9.433962264150944,
          6.626506024096385,
          15.254237288135593,
          16.296296296296298,
          13,
          7.558139534883721,
          5.813953488372093
         ],
         "yaxis": "y"
        },
        {
         "customdata": [
          [
           5,
           219
          ],
          [
           6,
           204
          ],
          [
           20,
           257
          ],
          [
           14,
           263
          ],
          [
           10,
           353
          ],
          [
           19,
           273
          ],
          [
           9,
           258
          ],
          [
           22,
           257
          ],
          [
           10,
           239
          ],
          [
           10,
           193
          ],
          [
           9,
           198
          ],
          [
           4,
           154
          ],
          [
           14,
           219
          ],
          [
           22,
           214
          ],
          [
           20,
           233
          ],
          [
           20,
           171
          ]
         ],
         "hovertemplate": "%{fullData.name}<br>%{y:.1f}%<br>%{customdata[0]}/%{customdata[1]}",
         "legendgroup": "King'S Cross",
         "line": {
          "color": "#636efa",
          "dash": "solid"
         },
         "marker": {
          "symbol": "circle"
         },
         "mode": "lines",
         "name": "King'S Cross",
         "orientation": "v",
         "showlegend": true,
         "type": "scatter",
         "visible": "legendonly",
         "x": [
          2010,
          2011,
          2012,
          2013,
          2014,
          2015,
          2016,
          2017,
          2018,
          2019,
          2020,
          2021,
          2022,
          2023,
          2024,
          2025
         ],
         "xaxis": "x",
         "y": [
          2.2831050228310503,
          2.9411764705882355,
          7.782101167315175,
          5.32319391634981,
          2.8328611898016995,
          6.95970695970696,
          3.488372093023256,
          8.560311284046692,
          4.184100418410042,
          5.181347150259067,
          4.545454545454546,
          2.5974025974025974,
          6.392694063926941,
          10.280373831775702,
          8.583690987124463,
          11.695906432748538
         ],
         "yaxis": "y"
        },
        {
         "customdata": [
          [
           23,
           249
          ],
          [
           31,
           343
          ],
          [
           41,
           434
          ],
          [
           44,
           446
          ],
          [
           38,
           397
          ],
          [
           26,
           356
          ],
          [
           34,
           355
          ],
          [
           45,
           358
          ],
          [
           30,
           299
          ],
          [
           29,
           352
          ],
          [
           24,
           274
          ],
          [
           30,
           340
          ],
          [
           43,
           378
          ],
          [
           61,
           440
          ],
          [
           42,
           435
          ],
          [
           51,
           351
          ]
         ],
         "hovertemplate": "%{fullData.name}<br>%{y:.1f}%<br>%{customdata[0]}/%{customdata[1]}",
         "legendgroup": "Primrose Hill",
         "line": {
          "color": "#EF553B",
          "dash": "solid"
         },
         "marker": {
          "symbol": "circle"
         },
         "mode": "lines",
         "name": "Primrose Hill",
         "orientation": "v",
         "showlegend": true,
         "type": "scatter",
         "visible": "legendonly",
         "x": [
          2010,
          2011,
          2012,
          2013,
          2014,
          2015,
          2016,
          2017,
          2018,
          2019,
          2020,
          2021,
          2022,
          2023,
          2024,
          2025
         ],
         "xaxis": "x",
         "y": [
          9.236947791164658,
          9.037900874635568,
          9.44700460829493,
          9.865470852017937,
          9.571788413098236,
          7.303370786516854,
          9.577464788732394,
          12.569832402234637,
          10.033444816053512,
          8.238636363636363,
          8.75912408759124,
          8.823529411764707,
          11.375661375661375,
          13.863636363636363,
          9.655172413793103,
          14.52991452991453
         ],
         "yaxis": "y"
        },
        {
         "customdata": [
          [
           9,
           272
          ],
          [
           22,
           394
          ],
          [
           29,
           424
          ],
          [
           27,
           472
          ],
          [
           31,
           435
          ],
          [
           21,
           452
          ],
          [
           33,
           444
          ],
          [
           34,
           450
          ],
          [
           32,
           447
          ],
          [
           23,
           505
          ],
          [
           21,
           372
          ],
          [
           34,
           549
          ],
          [
           46,
           511
          ],
          [
           40,
           394
          ],
          [
           32,
           400
          ],
          [
           27,
           287
          ]
         ],
         "hovertemplate": "%{fullData.name}<br>%{y:.1f}%<br>%{customdata[0]}/%{customdata[1]}",
         "legendgroup": "Regent'S Park",
         "line": {
          "color": "#00cc96",
          "dash": "solid"
         },
         "marker": {
          "symbol": "circle"
         },
         "mode": "lines",
         "name": "Regent'S Park",
         "orientation": "v",
         "showlegend": true,
         "type": "scatter",
         "visible": "legendonly",
         "x": [
          2010,
          2011,
          2012,
          2013,
          2014,
          2015,
          2016,
          2017,
          2018,
          2019,
          2020,
          2021,
          2022,
          2023,
          2024,
          2025
         ],
         "xaxis": "x",
         "y": [
          3.3088235294117645,
          5.583756345177665,
          6.839622641509434,
          5.720338983050848,
          7.126436781609195,
          4.646017699115045,
          7.4324324324324325,
          7.555555555555555,
          7.158836689038031,
          4.554455445544554,
          5.645161290322581,
          6.193078324225866,
          9.001956947162427,
          10.152284263959391,
          8,
          9.40766550522648
         ],
         "yaxis": "y"
        },
        {
         "customdata": [
          [
           50,
           334
          ],
          [
           83,
           470
          ],
          [
           130,
           553
          ],
          [
           70,
           473
          ],
          [
           54,
           379
          ],
          [
           61,
           439
          ],
          [
           92,
           503
          ],
          [
           65,
           395
          ],
          [
           73,
           374
          ],
          [
           83,
           371
          ],
          [
           82,
           392
          ],
          [
           77,
           453
          ],
          [
           44,
           320
          ],
          [
           99,
           444
          ],
          [
           106,
           554
          ],
          [
           57,
           274
          ]
         ],
         "hovertemplate": "%{fullData.name}<br>%{y:.1f}%<br>%{customdata[0]}/%{customdata[1]}",
         "legendgroup": "South Hampstead",
         "line": {
          "color": "#ab63fa",
          "dash": "solid"
         },
         "marker": {
          "symbol": "circle"
         },
         "mode": "lines",
         "name": "South Hampstead",
         "orientation": "v",
         "showlegend": true,
         "type": "scatter",
         "visible": "legendonly",
         "x": [
          2010,
          2011,
          2012,
          2013,
          2014,
          2015,
          2016,
          2017,
          2018,
          2019,
          2020,
          2021,
          2022,
          2023,
          2024,
          2025
         ],
         "xaxis": "x",
         "y": [
          14.970059880239521,
          17.659574468085108,
          23.508137432188065,
          14.799154334038056,
          14.248021108179419,
          13.895216400911162,
          18.290258449304176,
          16.455696202531644,
          19.518716577540108,
          22.371967654986523,
          20.918367346938776,
          16.997792494481235,
          13.75,
          22.2972972972973,
          19.133574007220215,
          20.802919708029197
         ],
         "yaxis": "y"
        },
        {
         "customdata": [
          [
           8,
           228
          ],
          [
           18,
           340
          ],
          [
           16,
           267
          ],
          [
           16,
           301
          ],
          [
           27,
           309
          ],
          [
           28,
           292
          ],
          [
           26,
           315
          ],
          [
           25,
           327
          ],
          [
           25,
           232
          ],
          [
           14,
           212
          ],
          [
           13,
           196
          ],
          [
           15,
           140
          ],
          [
           8,
           125
          ],
          [
           31,
           198
          ],
          [
           37,
           188
          ],
          [
           16,
           83
          ]
         ],
         "hovertemplate": "%{fullData.name}<br>%{y:.1f}%<br>%{customdata[0]}/%{customdata[1]}",
         "legendgroup": "St Pancras & Somers Town",
         "line": {
          "color": "#FFA15A",
          "dash": "solid"
         },
         "marker": {
          "symbol": "circle"
         },
         "mode": "lines",
         "name": "St Pancras & Somers Town",
         "orientation": "v",
         "showlegend": true,
         "type": "scatter",
         "visible": "legendonly",
         "x": [
          2010,
          2011,
          2012,
          2013,
          2014,
          2015,
          2016,
          2017,
          2018,
          2019,
          2020,
          2021,
          2022,
          2023,
          2024,
          2025
         ],
         "xaxis": "x",
         "y": [
          3.508771929824561,
          5.294117647058823,
          5.992509363295881,
          5.3156146179401995,
          8.737864077669903,
          9.58904109589041,
          8.253968253968255,
          7.6452599388379205,
          10.775862068965518,
          6.60377358490566,
          6.63265306122449,
          10.714285714285714,
          6.4,
          15.656565656565656,
          19.680851063829788,
          19.27710843373494
         ],
         "yaxis": "y"
        },
        {
         "customdata": [
          [
           13,
           117
          ],
          [
           7,
           109
          ],
          [
           17,
           118
          ],
          [
           10,
           107
          ],
          [
           19,
           114
          ],
          [
           16,
           129
          ],
          [
           12,
           88
          ],
          [
           14,
           108
          ],
          [
           10,
           68
          ],
          [
           11,
           92
          ],
          [
           15,
           89
          ],
          [
           12,
           77
          ],
          [
           2,
           38
          ],
          [
           0,
           4
          ],
          [
           0,
           2
          ]
         ],
         "hovertemplate": "%{fullData.name}<br>%{y:.1f}%<br>%{customdata[0]}/%{customdata[1]}",
         "legendgroup": "Swiss Cottage",
         "line": {
          "color": "#19d3f3",
          "dash": "solid"
         },
         "marker": {
          "symbol": "circle"
         },
         "mode": "lines",
         "name": "Swiss Cottage",
         "orientation": "v",
         "showlegend": true,
         "type": "scatter",
         "visible": "legendonly",
         "x": [
          2010,
          2011,
          2012,
          2013,
          2014,
          2015,
          2016,
          2017,
          2018,
          2019,
          2020,
          2021,
          2022,
          2023,
          2024
         ],
         "xaxis": "x",
         "y": [
          11.11111111111111,
          6.422018348623853,
          14.40677966101695,
          9.345794392523365,
          16.666666666666668,
          12.4031007751938,
          13.636363636363637,
          12.962962962962964,
          14.705882352941176,
          11.956521739130435,
          16.853932584269664,
          15.584415584415584,
          5.2631578947368425,
          0,
          0
         ],
         "yaxis": "y"
        },
        {
         "customdata": [
          [
           9,
           307
          ],
          [
           39,
           436
          ],
          [
           37,
           480
          ],
          [
           39,
           445
          ],
          [
           25,
           439
          ],
          [
           30,
           394
          ],
          [
           25,
           444
          ],
          [
           19,
           374
          ],
          [
           18,
           328
          ],
          [
           13,
           289
          ],
          [
           19,
           293
          ],
          [
           17,
           228
          ],
          [
           48,
           361
          ],
          [
           23,
           300
          ],
          [
           55,
           410
          ],
          [
           28,
           219
          ]
         ],
         "hovertemplate": "%{fullData.name}<br>%{y:.1f}%<br>%{customdata[0]}/%{customdata[1]}",
         "legendgroup": "West Hampstead",
         "line": {
          "color": "#FF6692",
          "dash": "solid"
         },
         "marker": {
          "symbol": "circle"
         },
         "mode": "lines",
         "name": "West Hampstead",
         "orientation": "v",
         "showlegend": true,
         "type": "scatter",
         "visible": "legendonly",
         "x": [
          2010,
          2011,
          2012,
          2013,
          2014,
          2015,
          2016,
          2017,
          2018,
          2019,
          2020,
          2021,
          2022,
          2023,
          2024,
          2025
         ],
         "xaxis": "x",
         "y": [
          2.9315960912052117,
          8.944954128440367,
          7.708333333333333,
          8.764044943820224,
          5.694760820045558,
          7.614213197969543,
          5.63063063063063,
          5.080213903743315,
          5.487804878048781,
          4.498269896193771,
          6.484641638225256,
          7.456140350877193,
          13.296398891966758,
          7.666666666666667,
          13.414634146341463,
          12.785388127853881
         ],
         "yaxis": "y"
        },
        {
         "customdata": [
          [
           1,
           1
          ],
          [
           0,
           1
          ]
         ],
         "hovertemplate": "%{fullData.name}<br>%{y:.1f}%<br>%{customdata[0]}/%{customdata[1]}",
         "legendgroup": "Camden",
         "line": {
          "color": "#B6E880",
          "dash": "solid"
         },
         "marker": {
          "symbol": "circle"
         },
         "mode": "lines",
         "name": "Camden",
         "orientation": "v",
         "showlegend": true,
         "type": "scatter",
         "visible": "legendonly",
         "x": [
          2012,
          2016
         ],
         "xaxis": "x",
         "y": [
          100,
          0
         ],
         "yaxis": "y"
        },
        {
         "customdata": [
          [
           0,
           1
          ],
          [
           1,
           1
          ],
          [
           1,
           1
          ]
         ],
         "hovertemplate": "%{fullData.name}<br>%{y:.1f}%<br>%{customdata[0]}/%{customdata[1]}",
         "legendgroup": "Camden Square; Camden Town",
         "line": {
          "color": "#FF97FF",
          "dash": "solid"
         },
         "marker": {
          "symbol": "circle"
         },
         "mode": "lines",
         "name": "Camden Square; Camden Town",
         "orientation": "v",
         "showlegend": true,
         "type": "scatter",
         "visible": "legendonly",
         "x": [
          2022,
          2024,
          2025
         ],
         "xaxis": "x",
         "y": [
          0,
          100,
          100
         ],
         "yaxis": "y"
        },
        {
         "customdata": [
          [
           9,
           113
          ],
          [
           18,
           226
          ],
          [
           7,
           206
          ],
          [
           11,
           170
          ]
         ],
         "hovertemplate": "%{fullData.name}<br>%{y:.1f}%<br>%{customdata[0]}/%{customdata[1]}",
         "legendgroup": "Holborn And Covent Garden",
         "line": {
          "color": "#FECB52",
          "dash": "solid"
         },
         "marker": {
          "symbol": "circle"
         },
         "mode": "lines",
         "name": "Holborn And Covent Garden",
         "orientation": "v",
         "showlegend": true,
         "type": "scatter",
         "visible": "legendonly",
         "x": [
          2022,
          2023,
          2024,
          2025
         ],
         "xaxis": "x",
         "y": [
          7.964601769911504,
          7.964601769911504,
          3.3980582524271843,
          6.470588235294118
         ],
         "yaxis": "y"
        },
        {
         "customdata": [
          [
           1,
           10
          ],
          [
           4,
           35
          ],
          [
           2,
           34
          ],
          [
           0,
           15
          ]
         ],
         "hovertemplate": "%{fullData.name}<br>%{y:.1f}%<br>%{customdata[0]}/%{customdata[1]}",
         "legendgroup": "St Pancras And Somers Town",
         "line": {
          "color": "#636efa",
          "dash": "solid"
         },
         "marker": {
          "symbol": "circle"
         },
         "mode": "lines",
         "name": "St Pancras And Somers Town",
         "orientation": "v",
         "showlegend": true,
         "type": "scatter",
         "visible": "legendonly",
         "x": [
          2022,
          2023,
          2024,
          2025
         ],
         "xaxis": "x",
         "y": [
          10,
          11.428571428571429,
          5.882352941176471,
          0
         ],
         "yaxis": "y"
        },
        {
         "customdata": [
          [
           0,
           2
          ],
          [
           1,
           1
          ]
         ],
         "hovertemplate": "%{fullData.name}<br>%{y:.1f}%<br>%{customdata[0]}/%{customdata[1]}",
         "legendgroup": "Frognal; Frognal & Fitzjohns",
         "line": {
          "color": "#EF553B",
          "dash": "solid"
         },
         "marker": {
          "symbol": "circle"
         },
         "mode": "lines",
         "name": "Frognal; Frognal & Fitzjohns",
         "orientation": "v",
         "showlegend": true,
         "type": "scatter",
         "visible": "legendonly",
         "x": [
          2023,
          2024
         ],
         "xaxis": "x",
         "y": [
          0,
          100
         ],
         "yaxis": "y"
        },
        {
         "customdata": [
          [
           1,
           1
          ]
         ],
         "hovertemplate": "%{fullData.name}<br>%{y:.1f}%<br>%{customdata[0]}/%{customdata[1]}",
         "legendgroup": "Highgate; South Hampstead",
         "line": {
          "color": "#00cc96",
          "dash": "solid"
         },
         "marker": {
          "symbol": "circle"
         },
         "mode": "lines",
         "name": "Highgate; South Hampstead",
         "orientation": "v",
         "showlegend": true,
         "type": "scatter",
         "visible": "legendonly",
         "x": [
          2023
         ],
         "xaxis": "x",
         "y": [
          100
         ],
         "yaxis": "y"
        },
        {
         "customdata": [
          [
           1,
           1
          ],
          [
           0,
           1
          ]
         ],
         "hovertemplate": "%{fullData.name}<br>%{y:.1f}%<br>%{customdata[0]}/%{customdata[1]}",
         "legendgroup": "Camden Square; Cantelowes",
         "line": {
          "color": "#ab63fa",
          "dash": "solid"
         },
         "marker": {
          "symbol": "circle"
         },
         "mode": "lines",
         "name": "Camden Square; Cantelowes",
         "orientation": "v",
         "showlegend": true,
         "type": "scatter",
         "visible": "legendonly",
         "x": [
          2024,
          2025
         ],
         "xaxis": "x",
         "y": [
          100,
          0
         ],
         "yaxis": "y"
        },
        {
         "customdata": [
          [
           0,
           1
          ],
          [
           506,
           6740
          ],
          [
           823,
           8676
          ],
          [
           790,
           9080
          ],
          [
           887,
           9239
          ],
          [
           742,
           8807
          ],
          [
           766,
           8997
          ],
          [
           783,
           9151
          ],
          [
           835,
           8977
          ],
          [
           709,
           7862
          ],
          [
           642,
           7854
          ],
          [
           776,
           7357
          ],
          [
           755,
           7538
          ],
          [
           781,
           7135
          ],
          [
           922,
           8037
          ],
          [
           919,
           8244
          ],
          [
           673,
           5441
          ]
         ],
         "hovertemplate": "%{fullData.name}<br>%{y:.1f}%<br>%{customdata[0]}/%{customdata[1]}",
         "legendgroup": "All Wards",
         "line": {
          "color": "#FFA15A",
          "dash": "solid"
         },
         "marker": {
          "symbol": "circle"
         },
         "mode": "lines",
         "name": "All Wards",
         "orientation": "v",
         "showlegend": true,
         "type": "scatter",
         "visible": true,
         "x": [
          1975,
          2010,
          2011,
          2012,
          2013,
          2014,
          2015,
          2016,
          2017,
          2018,
          2019,
          2020,
          2021,
          2022,
          2023,
          2024,
          2025
         ],
         "xaxis": "x",
         "y": [
          0,
          7.507418397626113,
          9.485938220378054,
          8.700440528634362,
          9.600606126204134,
          8.425116384693993,
          8.513949094142491,
          8.556441918915965,
          9.301548401470425,
          9.018061561943526,
          8.174178762414057,
          10.547777626750033,
          10.015919342000531,
          10.94604064470918,
          11.471942267015056,
          11.147501213003396,
          12.369049807020769
         ],
         "yaxis": "y"
        }
       ],
       "layout": {
        "hovermode": "x unified",
        "legend": {
         "itemclick": "toggle",
         "itemdoubleclick": "toggleothers",
         "title": {
          "text": "Ward"
         },
         "tracegroupgap": 0
        },
        "template": {
         "data": {
          "bar": [
           {
            "error_x": {
             "color": "#2a3f5f"
            },
            "error_y": {
             "color": "#2a3f5f"
            },
            "marker": {
             "line": {
              "color": "#E5ECF6",
              "width": 0.5
             },
             "pattern": {
              "fillmode": "overlay",
              "size": 10,
              "solidity": 0.2
             }
            },
            "type": "bar"
           }
          ],
          "barpolar": [
           {
            "marker": {
             "line": {
              "color": "#E5ECF6",
              "width": 0.5
             },
             "pattern": {
              "fillmode": "overlay",
              "size": 10,
              "solidity": 0.2
             }
            },
            "type": "barpolar"
           }
          ],
          "carpet": [
           {
            "aaxis": {
             "endlinecolor": "#2a3f5f",
             "gridcolor": "white",
             "linecolor": "white",
             "minorgridcolor": "white",
             "startlinecolor": "#2a3f5f"
            },
            "baxis": {
             "endlinecolor": "#2a3f5f",
             "gridcolor": "white",
             "linecolor": "white",
             "minorgridcolor": "white",
             "startlinecolor": "#2a3f5f"
            },
            "type": "carpet"
           }
          ],
          "choropleth": [
           {
            "colorbar": {
             "outlinewidth": 0,
             "ticks": ""
            },
            "type": "choropleth"
           }
          ],
          "contour": [
           {
            "colorbar": {
             "outlinewidth": 0,
             "ticks": ""
            },
            "colorscale": [
             [
              0,
              "#0d0887"
             ],
             [
              0.1111111111111111,
              "#46039f"
             ],
             [
              0.2222222222222222,
              "#7201a8"
             ],
             [
              0.3333333333333333,
              "#9c179e"
             ],
             [
              0.4444444444444444,
              "#bd3786"
             ],
             [
              0.5555555555555556,
              "#d8576b"
             ],
             [
              0.6666666666666666,
              "#ed7953"
             ],
             [
              0.7777777777777778,
              "#fb9f3a"
             ],
             [
              0.8888888888888888,
              "#fdca26"
             ],
             [
              1,
              "#f0f921"
             ]
            ],
            "type": "contour"
           }
          ],
          "contourcarpet": [
           {
            "colorbar": {
             "outlinewidth": 0,
             "ticks": ""
            },
            "type": "contourcarpet"
           }
          ],
          "heatmap": [
           {
            "colorbar": {
             "outlinewidth": 0,
             "ticks": ""
            },
            "colorscale": [
             [
              0,
              "#0d0887"
             ],
             [
              0.1111111111111111,
              "#46039f"
             ],
             [
              0.2222222222222222,
              "#7201a8"
             ],
             [
              0.3333333333333333,
              "#9c179e"
             ],
             [
              0.4444444444444444,
              "#bd3786"
             ],
             [
              0.5555555555555556,
              "#d8576b"
             ],
             [
              0.6666666666666666,
              "#ed7953"
             ],
             [
              0.7777777777777778,
              "#fb9f3a"
             ],
             [
              0.8888888888888888,
              "#fdca26"
             ],
             [
              1,
              "#f0f921"
             ]
            ],
            "type": "heatmap"
           }
          ],
          "heatmapgl": [
           {
            "colorbar": {
             "outlinewidth": 0,
             "ticks": ""
            },
            "colorscale": [
             [
              0,
              "#0d0887"
             ],
             [
              0.1111111111111111,
              "#46039f"
             ],
             [
              0.2222222222222222,
              "#7201a8"
             ],
             [
              0.3333333333333333,
              "#9c179e"
             ],
             [
              0.4444444444444444,
              "#bd3786"
             ],
             [
              0.5555555555555556,
              "#d8576b"
             ],
             [
              0.6666666666666666,
              "#ed7953"
             ],
             [
              0.7777777777777778,
              "#fb9f3a"
             ],
             [
              0.8888888888888888,
              "#fdca26"
             ],
             [
              1,
              "#f0f921"
             ]
            ],
            "type": "heatmapgl"
           }
          ],
          "histogram": [
           {
            "marker": {
             "pattern": {
              "fillmode": "overlay",
              "size": 10,
              "solidity": 0.2
             }
            },
            "type": "histogram"
           }
          ],
          "histogram2d": [
           {
            "colorbar": {
             "outlinewidth": 0,
             "ticks": ""
            },
            "colorscale": [
             [
              0,
              "#0d0887"
             ],
             [
              0.1111111111111111,
              "#46039f"
             ],
             [
              0.2222222222222222,
              "#7201a8"
             ],
             [
              0.3333333333333333,
              "#9c179e"
             ],
             [
              0.4444444444444444,
              "#bd3786"
             ],
             [
              0.5555555555555556,
              "#d8576b"
             ],
             [
              0.6666666666666666,
              "#ed7953"
             ],
             [
              0.7777777777777778,
              "#fb9f3a"
             ],
             [
              0.8888888888888888,
              "#fdca26"
             ],
             [
              1,
              "#f0f921"
             ]
            ],
            "type": "histogram2d"
           }
          ],
          "histogram2dcontour": [
           {
            "colorbar": {
             "outlinewidth": 0,
             "ticks": ""
            },
            "colorscale": [
             [
              0,
              "#0d0887"
             ],
             [
              0.1111111111111111,
              "#46039f"
             ],
             [
              0.2222222222222222,
              "#7201a8"
             ],
             [
              0.3333333333333333,
              "#9c179e"
             ],
             [
              0.4444444444444444,
              "#bd3786"
             ],
             [
              0.5555555555555556,
              "#d8576b"
             ],
             [
              0.6666666666666666,
              "#ed7953"
             ],
             [
              0.7777777777777778,
              "#fb9f3a"
             ],
             [
              0.8888888888888888,
              "#fdca26"
             ],
             [
              1,
              "#f0f921"
             ]
            ],
            "type": "histogram2dcontour"
           }
          ],
          "mesh3d": [
           {
            "colorbar": {
             "outlinewidth": 0,
             "ticks": ""
            },
            "type": "mesh3d"
           }
          ],
          "parcoords": [
           {
            "line": {
             "colorbar": {
              "outlinewidth": 0,
              "ticks": ""
             }
            },
            "type": "parcoords"
           }
          ],
          "pie": [
           {
            "automargin": true,
            "type": "pie"
           }
          ],
          "scatter": [
           {
            "fillpattern": {
             "fillmode": "overlay",
             "size": 10,
             "solidity": 0.2
            },
            "type": "scatter"
           }
          ],
          "scatter3d": [
           {
            "line": {
             "colorbar": {
              "outlinewidth": 0,
              "ticks": ""
             }
            },
            "marker": {
             "colorbar": {
              "outlinewidth": 0,
              "ticks": ""
             }
            },
            "type": "scatter3d"
           }
          ],
          "scattercarpet": [
           {
            "marker": {
             "colorbar": {
              "outlinewidth": 0,
              "ticks": ""
             }
            },
            "type": "scattercarpet"
           }
          ],
          "scattergeo": [
           {
            "marker": {
             "colorbar": {
              "outlinewidth": 0,
              "ticks": ""
             }
            },
            "type": "scattergeo"
           }
          ],
          "scattergl": [
           {
            "marker": {
             "colorbar": {
              "outlinewidth": 0,
              "ticks": ""
             }
            },
            "type": "scattergl"
           }
          ],
          "scattermapbox": [
           {
            "marker": {
             "colorbar": {
              "outlinewidth": 0,
              "ticks": ""
             }
            },
            "type": "scattermapbox"
           }
          ],
          "scatterpolar": [
           {
            "marker": {
             "colorbar": {
              "outlinewidth": 0,
              "ticks": ""
             }
            },
            "type": "scatterpolar"
           }
          ],
          "scatterpolargl": [
           {
            "marker": {
             "colorbar": {
              "outlinewidth": 0,
              "ticks": ""
             }
            },
            "type": "scatterpolargl"
           }
          ],
          "scatterternary": [
           {
            "marker": {
             "colorbar": {
              "outlinewidth": 0,
              "ticks": ""
             }
            },
            "type": "scatterternary"
           }
          ],
          "surface": [
           {
            "colorbar": {
             "outlinewidth": 0,
             "ticks": ""
            },
            "colorscale": [
             [
              0,
              "#0d0887"
             ],
             [
              0.1111111111111111,
              "#46039f"
             ],
             [
              0.2222222222222222,
              "#7201a8"
             ],
             [
              0.3333333333333333,
              "#9c179e"
             ],
             [
              0.4444444444444444,
              "#bd3786"
             ],
             [
              0.5555555555555556,
              "#d8576b"
             ],
             [
              0.6666666666666666,
              "#ed7953"
             ],
             [
              0.7777777777777778,
              "#fb9f3a"
             ],
             [
              0.8888888888888888,
              "#fdca26"
             ],
             [
              1,
              "#f0f921"
             ]
            ],
            "type": "surface"
           }
          ],
          "table": [
           {
            "cells": {
             "fill": {
              "color": "#EBF0F8"
             },
             "line": {
              "color": "white"
             }
            },
            "header": {
             "fill": {
              "color": "#C8D4E3"
             },
             "line": {
              "color": "white"
             }
            },
            "type": "table"
           }
          ]
         },
         "layout": {
          "annotationdefaults": {
           "arrowcolor": "#2a3f5f",
           "arrowhead": 0,
           "arrowwidth": 1
          },
          "autotypenumbers": "strict",
          "coloraxis": {
           "colorbar": {
            "outlinewidth": 0,
            "ticks": ""
           }
          },
          "colorscale": {
           "diverging": [
            [
             0,
             "#8e0152"
            ],
            [
             0.1,
             "#c51b7d"
            ],
            [
             0.2,
             "#de77ae"
            ],
            [
             0.3,
             "#f1b6da"
            ],
            [
             0.4,
             "#fde0ef"
            ],
            [
             0.5,
             "#f7f7f7"
            ],
            [
             0.6,
             "#e6f5d0"
            ],
            [
             0.7,
             "#b8e186"
            ],
            [
             0.8,
             "#7fbc41"
            ],
            [
             0.9,
             "#4d9221"
            ],
            [
             1,
             "#276419"
            ]
           ],
           "sequential": [
            [
             0,
             "#0d0887"
            ],
            [
             0.1111111111111111,
             "#46039f"
            ],
            [
             0.2222222222222222,
             "#7201a8"
            ],
            [
             0.3333333333333333,
             "#9c179e"
            ],
            [
             0.4444444444444444,
             "#bd3786"
            ],
            [
             0.5555555555555556,
             "#d8576b"
            ],
            [
             0.6666666666666666,
             "#ed7953"
            ],
            [
             0.7777777777777778,
             "#fb9f3a"
            ],
            [
             0.8888888888888888,
             "#fdca26"
            ],
            [
             1,
             "#f0f921"
            ]
           ],
           "sequentialminus": [
            [
             0,
             "#0d0887"
            ],
            [
             0.1111111111111111,
             "#46039f"
            ],
            [
             0.2222222222222222,
             "#7201a8"
            ],
            [
             0.3333333333333333,
             "#9c179e"
            ],
            [
             0.4444444444444444,
             "#bd3786"
            ],
            [
             0.5555555555555556,
             "#d8576b"
            ],
            [
             0.6666666666666666,
             "#ed7953"
            ],
            [
             0.7777777777777778,
             "#fb9f3a"
            ],
            [
             0.8888888888888888,
             "#fdca26"
            ],
            [
             1,
             "#f0f921"
            ]
           ]
          },
          "colorway": [
           "#636efa",
           "#EF553B",
           "#00cc96",
           "#ab63fa",
           "#FFA15A",
           "#19d3f3",
           "#FF6692",
           "#B6E880",
           "#FF97FF",
           "#FECB52"
          ],
          "font": {
           "color": "#2a3f5f"
          },
          "geo": {
           "bgcolor": "white",
           "lakecolor": "white",
           "landcolor": "#E5ECF6",
           "showlakes": true,
           "showland": true,
           "subunitcolor": "white"
          },
          "hoverlabel": {
           "align": "left"
          },
          "hovermode": "closest",
          "mapbox": {
           "style": "light"
          },
          "paper_bgcolor": "white",
          "plot_bgcolor": "#E5ECF6",
          "polar": {
           "angularaxis": {
            "gridcolor": "white",
            "linecolor": "white",
            "ticks": ""
           },
           "bgcolor": "#E5ECF6",
           "radialaxis": {
            "gridcolor": "white",
            "linecolor": "white",
            "ticks": ""
           }
          },
          "scene": {
           "xaxis": {
            "backgroundcolor": "#E5ECF6",
            "gridcolor": "white",
            "gridwidth": 2,
            "linecolor": "white",
            "showbackground": true,
            "ticks": "",
            "zerolinecolor": "white"
           },
           "yaxis": {
            "backgroundcolor": "#E5ECF6",
            "gridcolor": "white",
            "gridwidth": 2,
            "linecolor": "white",
            "showbackground": true,
            "ticks": "",
            "zerolinecolor": "white"
           },
           "zaxis": {
            "backgroundcolor": "#E5ECF6",
            "gridcolor": "white",
            "gridwidth": 2,
            "linecolor": "white",
            "showbackground": true,
            "ticks": "",
            "zerolinecolor": "white"
           }
          },
          "shapedefaults": {
           "line": {
            "color": "#2a3f5f"
           }
          },
          "ternary": {
           "aaxis": {
            "gridcolor": "white",
            "linecolor": "white",
            "ticks": ""
           },
           "baxis": {
            "gridcolor": "white",
            "linecolor": "white",
            "ticks": ""
           },
           "bgcolor": "#E5ECF6",
           "caxis": {
            "gridcolor": "white",
            "linecolor": "white",
            "ticks": ""
           }
          },
          "title": {
           "x": 0.05
          },
          "xaxis": {
           "automargin": true,
           "gridcolor": "white",
           "linecolor": "white",
           "ticks": "",
           "title": {
            "standoff": 15
           },
           "zerolinecolor": "white",
           "zerolinewidth": 2
          },
          "yaxis": {
           "automargin": true,
           "gridcolor": "white",
           "linecolor": "white",
           "ticks": "",
           "title": {
            "standoff": 15
           },
           "zerolinecolor": "white",
           "zerolinewidth": 2
          }
         }
        },
        "title": {
         "text": "Green Planning Applications Over Time"
        },
        "xaxis": {
         "anchor": "y",
         "domain": [
          0,
          1
         ],
         "title": {
          "text": "Year"
         }
        },
        "yaxis": {
         "anchor": "x",
         "domain": [
          0,
          1
         ],
         "title": {
          "text": "% Green Applications"
         }
        }
       }
      },
      "image/png": "[encoded data removed]",
      "text/html": [
       "<div>                            <div id=\"33717f52-77f1-4187-8b28-559f63b36475\" class=\"plotly-graph-div\" style=\"height:525px; width:100%;\"></div>            <script type=\"text/javascript\">                require([\"plotly\"], function(Plotly) {                    window.PLOTLYENV=window.PLOTLYENV || {};                                    if (document.getElementById(\"33717f52-77f1-4187-8b28-559f63b36475\")) {                    Plotly.newPlot(                        \"33717f52-77f1-4187-8b28-559f63b36475\",                        [{\"customdata\":[[0,1],[3,63],[8,66],[12,80],[5,84],[4,97],[5,108],[11,122],[5,87],[4,64],[10,72],[15,75],[5,50],[2,25],[2,4],[0,4]],\"hovertemplate\":\"%{fullData.name}\\u003cbr\\u003e%{y:.1f}%\\u003cbr\\u003e%{customdata[0]}\\u002f%{customdata[1]}\",\"legendgroup\":\"Kentish Town\",\"line\":{\"color\":\"#636efa\",\"dash\":\"solid\"},\"marker\":{\"symbol\":\"circle\"},\"mode\":\"lines\",\"name\":\"Kentish Town\",\"orientation\":\"v\",\"showlegend\":true,\"x\":[1975,2010,2011,2012,2013,2014,2015,2016,2017,2018,2019,2020,2021,2022,2023,2024],\"xaxis\":\"x\",\"y\":[0.0,4.761904761904762,12.121212121212121,15.0,5.9523809523809526,4.123711340206185,4.62962962962963,9.01639344262295,5.747126436781609,6.25,13.88888888888889,20.0,10.0,8.0,50.0,0.0],\"yaxis\":\"y\",\"type\":\"scatter\",\"visible\":\"legendonly\"},{\"customdata\":[[2,24],[4,34],[4,27],[4,27],[2,20],[0,13],[4,11],[2,33],[1,11],[0,2],[0,5],[0,1],[0,1]],\"hovertemplate\":\"%{fullData.name}\\u003cbr\\u003e%{y:.1f}%\\u003cbr\\u003e%{customdata[0]}\\u002f%{customdata[1]}\",\"legendgroup\":\"Adjoining Borough\",\"line\":{\"color\":\"#EF553B\",\"dash\":\"solid\"},\"marker\":{\"symbol\":\"circle\"},\"mode\":\"lines\",\"name\":\"Adjoining Borough\",\"orientation\":\"v\",\"showlegend\":true,\"x\":[2010,2011,2012,2013,2014,2015,2016,2017,2018,2019,2020,2021,2023],\"xaxis\":\"x\",\"y\":[8.333333333333334,11.764705882352942,14.814814814814815,14.814814814814815,10.0,0.0,36.36363636363637,6.0606060606060606,9.090909090909092,0.0,0.0,0.0,0.0],\"yaxis\":\"y\",\"type\":\"scatter\",\"visible\":\"legendonly\"},{\"customdata\":[[0,1],[1,5],[0,1]],\"hovertemplate\":\"%{fullData.name}\\u003cbr\\u003e%{y:.1f}%\\u003cbr\\u003e%{customdata[0]}\\u002f%{customdata[1]}\",\"legendgroup\":\"Adjoining Borough; Kentish Town\",\"line\":{\"color\":\"#00cc96\",\"dash\":\"solid\"},\"marker\":{\"symbol\":\"circle\"},\"mode\":\"lines\",\"name\":\"Adjoining Borough; Kentish Town\",\"orientation\":\"v\",\"showlegend\":true,\"x\":[2010,2011,2018],\"xaxis\":\"x\",\"y\":[0.0,20.0,0.0],\"yaxis\":\"y\",\"type\":\"scatter\",\"visible\":\"legendonly\"},{\"customdata\":[[96,724],[146,905],[111,885],[193,1126],[105,881],[112,833],[101,875],[152,1007],[88,766],[88,768],[126,852],[123,915],[115,818],[148,962],[107,941],[126,637]],\"hovertemplate\":\"%{fullData.name}\\u003cbr\\u003e%{y:.1f}%\\u003cbr\\u003e%{customdata[0]}\\u002f%{customdata[1]}\",\"legendgroup\":\"Belsize\",\"line\":{\"color\":\"#ab63fa\",\"dash\":\"solid\"},\"marker\":{\"symbol\":\"circle\"},\"mode\":\"lines\",\"name\":\"Belsize\",\"orientation\":\"v\",\"showlegend\":true,\"x\":[2010,2011,2012,2013,2014,2015,2016,2017,2018,2019,2020,2021,2022,2023,2024,2025],\"xaxis\":\"x\",\"y\":[13.259668508287293,16.132596685082873,12.542372881355933,17.14031971580817,11.91827468785471,13.445378151260504,11.542857142857143,15.09433962264151,11.488250652741515,11.458333333333334,14.788732394366198,13.442622950819672,14.058679706601467,15.384615384615385,11.370882040382572,19.78021978021978],\"yaxis\":\"y\",\"type\":\"scatter\",\"visible\":\"legendonly\"},{\"customdata\":[[13,466],[25,638],[10,741],[22,746],[40,816],[34,720],[30,782],[21,588],[24,603],[28,608],[37,525],[20,456],[20,469],[35,548],[46,606],[45,470]],\"hovertemplate\":\"%{fullData.name}\\u003cbr\\u003e%{y:.1f}%\\u003cbr\\u003e%{customdata[0]}\\u002f%{customdata[1]}\",\"legendgroup\":\"Bloomsbury\",\"line\":{\"color\":\"#FFA15A\",\"dash\":\"solid\"},\"marker\":{\"symbol\":\"circle\"},\"mode\":\"lines\",\"name\":\"Bloomsbury\",\"orientation\":\"v\",\"showlegend\":true,\"x\":[2010,2011,2012,2013,2014,2015,2016,2017,2018,2019,2020,2021,2022,2023,2024,2025],\"xaxis\":\"x\",\"y\":[2.7896995708154506,3.9184952978056424,1.349527665317139,2.9490616621983916,4.901960784313726,4.722222222222222,3.836317135549872,3.5714285714285716,3.9800995024875623,4.605263157894737,7.0476190476190474,4.385964912280702,4.264392324093817,6.386861313868613,7.590759075907591,9.574468085106384],\"yaxis\":\"y\",\"type\":\"scatter\",\"visible\":\"legendonly\"},{\"customdata\":[[19,106],[15,141],[10,144],[14,104],[12,110],[10,152],[15,153],[21,141],[2,128],[5,113],[9,86],[11,114],[27,154],[24,146],[40,192],[9,92]],\"hovertemplate\":\"%{fullData.name}\\u003cbr\\u003e%{y:.1f}%\\u003cbr\\u003e%{customdata[0]}\\u002f%{customdata[1]}\",\"legendgroup\":\"Camden Square\",\"line\":{\"color\":\"#19d3f3\",\"dash\":\"solid\"},\"marker\":{\"symbol\":\"circle\"},\"mode\":\"lines\",\"name\":\"Camden Square\",\"orientation\":\"v\",\"showlegend\":true,\"x\":[2010,2011,2012,2013,2014,2015,2016,2017,2018,2019,2020,2021,2022,2023,2024,2025],\"xaxis\":\"x\",\"y\":[17.92452830188679,10.638297872340425,6.944444444444445,13.461538461538462,10.909090909090908,6.578947368421052,9.803921568627452,14.893617021276595,1.5625,4.424778761061947,10.465116279069768,9.649122807017545,17.532467532467532,16.438356164383563,20.833333333333332,9.782608695652174],\"yaxis\":\"y\",\"type\":\"scatter\",\"visible\":\"legendonly\"},{\"customdata\":[[10,195],[10,225],[28,263],[8,261],[24,232],[16,313],[22,322],[21,277],[9,234],[8,214],[18,157],[20,210],[22,229],[15,237],[21,280],[11,220]],\"hovertemplate\":\"%{fullData.name}\\u003cbr\\u003e%{y:.1f}%\\u003cbr\\u003e%{customdata[0]}\\u002f%{customdata[1]}\",\"legendgroup\":\"Camden Town\",\"line\":{\"color\":\"#FF6692\",\"dash\":\"solid\"},\"marker\":{\"symbol\":\"circle\"},\"mode\":\"lines\",\"name\":\"Camden Town\",\"orientation\":\"v\",\"showlegend\":true,\"x\":[2010,2011,2012,2013,2014,2015,2016,2017,2018,2019,2020,2021,2022,2023,2024,2025],\"xaxis\":\"x\",\"y\":[5.128205128205129,4.444444444444445,10.64638783269962,3.0651340996168583,10.344827586206897,5.111821086261981,6.832298136645963,7.581227436823105,3.8461538461538463,3.7383177570093458,11.464968152866241,9.523809523809524,9.606986899563319,6.329113924050633,7.5,5.0],\"yaxis\":\"y\",\"type\":\"scatter\",\"visible\":\"legendonly\"},{\"customdata\":[[9,98],[17,141],[15,131],[14,155],[16,137],[16,169],[14,137],[19,137],[13,98],[10,121],[5,97],[8,91],[10,59],[0,8],[0,1]],\"hovertemplate\":\"%{fullData.name}\\u003cbr\\u003e%{y:.1f}%\\u003cbr\\u003e%{customdata[0]}\\u002f%{customdata[1]}\",\"legendgroup\":\"Camden Town With Primrose Hill\",\"line\":{\"color\":\"#B6E880\",\"dash\":\"solid\"},\"marker\":{\"symbol\":\"circle\"},\"mode\":\"lines\",\"name\":\"Camden Town With Primrose Hill\",\"orientation\":\"v\",\"showlegend\":true,\"x\":[2010,2011,2012,2013,2014,2015,2016,2017,2018,2019,2020,2021,2022,2023,2024],\"xaxis\":\"x\",\"y\":[9.183673469387756,12.056737588652481,11.450381679389313,9.03225806451613,11.678832116788321,9.467455621301776,10.218978102189782,13.86861313868613,13.26530612244898,8.264462809917354,5.154639175257732,8.791208791208792,16.949152542372882,0.0,0.0],\"yaxis\":\"y\",\"type\":\"scatter\",\"visible\":\"legendonly\"},{\"customdata\":[[0,49],[10,73],[8,56],[4,32],[13,67],[5,57],[3,56],[8,70],[8,62],[6,51],[6,64],[7,48],[6,44],[0,1],[0,3]],\"hovertemplate\":\"%{fullData.name}\\u003cbr\\u003e%{y:.1f}%\\u003cbr\\u003e%{customdata[0]}\\u002f%{customdata[1]}\",\"legendgroup\":\"Cantelowes\",\"line\":{\"color\":\"#FF97FF\",\"dash\":\"solid\"},\"marker\":{\"symbol\":\"circle\"},\"mode\":\"lines\",\"name\":\"Cantelowes\",\"orientation\":\"v\",\"showlegend\":true,\"x\":[2010,2011,2012,2013,2014,2015,2016,2017,2018,2019,2020,2021,2022,2023,2024],\"xaxis\":\"x\",\"y\":[0.0,13.698630136986301,14.285714285714286,12.5,19.402985074626866,8.771929824561404,5.357142857142857,11.428571428571429,12.903225806451612,11.764705882352942,9.375,14.583333333333334,13.636363636363637,0.0,0.0],\"yaxis\":\"y\",\"type\":\"scatter\",\"visible\":\"legendonly\"},{\"customdata\":[[9,261],[19,370],[18,393],[10,333],[4,369],[15,397],[18,402],[3,403],[27,397],[10,354],[31,310],[17,292],[13,245],[12,310],[19,328],[15,148]],\"hovertemplate\":\"%{fullData.name}\\u003cbr\\u003e%{y:.1f}%\\u003cbr\\u003e%{customdata[0]}\\u002f%{customdata[1]}\",\"legendgroup\":\"Fortune Green\",\"line\":{\"color\":\"#FECB52\",\"dash\":\"solid\"},\"marker\":{\"symbol\":\"circle\"},\"mode\":\"lines\",\"name\":\"Fortune Green\",\"orientation\":\"v\",\"showlegend\":true,\"x\":[2010,2011,2012,2013,2014,2015,2016,2017,2018,2019,2020,2021,2022,2023,2024,2025],\"xaxis\":\"x\",\"y\":[3.4482758620689653,5.135135135135135,4.580152671755725,3.003003003003003,1.084010840108401,3.7783375314861463,4.477611940298507,0.7444168734491315,6.801007556675063,2.824858757062147,10.0,5.821917808219178,5.3061224489795915,3.870967741935484,5.7926829268292686,10.135135135135135],\"yaxis\":\"y\",\"type\":\"scatter\",\"visible\":\"legendonly\"},{\"customdata\":[[39,399],[54,478],[45,428],[65,474],[49,439],[50,505],[44,474],[76,487],[56,371],[49,407],[61,472],[51,408],[61,448],[49,504],[61,509],[54,408]],\"hovertemplate\":\"%{fullData.name}\\u003cbr\\u003e%{y:.1f}%\\u003cbr\\u003e%{customdata[0]}\\u002f%{customdata[1]}\",\"legendgroup\":\"Frognal\",\"line\":{\"color\":\"#636efa\",\"dash\":\"solid\"},\"marker\":{\"symbol\":\"circle\"},\"mode\":\"lines\",\"name\":\"Frognal\",\"orientation\":\"v\",\"showlegend\":true,\"x\":[2010,2011,2012,2013,2014,2015,2016,2017,2018,2019,2020,2021,2022,2023,2024,2025],\"xaxis\":\"x\",\"y\":[9.774436090225564,11.297071129707113,10.514018691588785,13.713080168776372,11.161731207289295,9.900990099009901,9.282700421940929,15.605749486652977,15.09433962264151,12.039312039312039,12.923728813559322,12.5,13.616071428571429,9.722222222222221,11.984282907662083,13.235294117647058],\"yaxis\":\"y\",\"type\":\"scatter\",\"visible\":\"legendonly\"},{\"customdata\":[[8,119],[12,104],[9,117],[20,155],[15,98],[20,129],[12,118],[9,97],[21,131],[11,105],[13,113],[14,104],[6,46],[0,6],[0,6]],\"hovertemplate\":\"%{fullData.name}\\u003cbr\\u003e%{y:.1f}%\\u003cbr\\u003e%{customdata[0]}\\u002f%{customdata[1]}\",\"legendgroup\":\"Frognal & Fitzjohns\",\"line\":{\"color\":\"#EF553B\",\"dash\":\"solid\"},\"marker\":{\"symbol\":\"circle\"},\"mode\":\"lines\",\"name\":\"Frognal & Fitzjohns\",\"orientation\":\"v\",\"showlegend\":true,\"x\":[2010,2011,2012,2013,2014,2015,2016,2017,2018,2019,2020,2021,2022,2023,2024],\"xaxis\":\"x\",\"y\":[6.722689075630252,11.538461538461538,7.6923076923076925,12.903225806451612,15.306122448979592,15.503875968992247,10.169491525423728,9.278350515463918,16.03053435114504,10.476190476190476,11.504424778761061,13.461538461538462,13.043478260869565,0.0,0.0],\"yaxis\":\"y\",\"type\":\"scatter\",\"visible\":\"legendonly\"},{\"customdata\":[[20,208],[31,244],[11,284],[38,316],[29,303],[28,315],[43,350],[34,320],[15,265],[17,264],[25,285],[32,290],[23,255],[42,311],[21,266],[18,210]],\"hovertemplate\":\"%{fullData.name}\\u003cbr\\u003e%{y:.1f}%\\u003cbr\\u003e%{customdata[0]}\\u002f%{customdata[1]}\",\"legendgroup\":\"Gospel Oak\",\"line\":{\"color\":\"#00cc96\",\"dash\":\"solid\"},\"marker\":{\"symbol\":\"circle\"},\"mode\":\"lines\",\"name\":\"Gospel Oak\",\"orientation\":\"v\",\"showlegend\":true,\"x\":[2010,2011,2012,2013,2014,2015,2016,2017,2018,2019,2020,2021,2022,2023,2024,2025],\"xaxis\":\"x\",\"y\":[9.615384615384615,12.704918032786885,3.8732394366197185,12.025316455696203,9.570957095709572,8.88888888888889,12.285714285714286,10.625,5.660377358490566,6.4393939393939394,8.771929824561404,11.03448275862069,9.019607843137255,13.504823151125402,7.894736842105263,8.571428571428571],\"yaxis\":\"y\",\"type\":\"scatter\",\"visible\":\"legendonly\"},{\"customdata\":[[65,784],[107,952],[85,921],[86,904],[73,894],[97,934],[88,857],[80,864],[80,784],[83,794],[86,748],[73,781],[77,758],[110,942],[92,932],[37,518]],\"hovertemplate\":\"%{fullData.name}\\u003cbr\\u003e%{y:.1f}%\\u003cbr\\u003e%{customdata[0]}\\u002f%{customdata[1]}\",\"legendgroup\":\"Hampstead Town\",\"line\":{\"color\":\"#ab63fa\",\"dash\":\"solid\"},\"marker\":{\"symbol\":\"circle\"},\"mode\":\"lines\",\"name\":\"Hampstead Town\",\"orientation\":\"v\",\"showlegend\":true,\"x\":[2010,2011,2012,2013,2014,2015,2016,2017,2018,2019,2020,2021,2022,2023,2024,2025],\"xaxis\":\"x\",\"y\":[8.290816326530612,11.239495798319327,9.229098805646037,9.513274336283185,8.165548098434005,10.38543897216274,10.268378063010502,9.25925925925926,10.204081632653061,10.453400503778338,11.497326203208557,9.346991037131883,10.158311345646437,11.67728237791932,9.871244635193133,7.142857142857143],\"yaxis\":\"y\",\"type\":\"scatter\",\"visible\":\"legendonly\"},{\"customdata\":[[14,134],[26,212],[13,165],[44,244],[19,247],[25,265],[28,374],[28,336],[31,263],[17,248],[12,228],[35,271],[42,238],[35,321],[32,216],[29,211]],\"hovertemplate\":\"%{fullData.name}\\u003cbr\\u003e%{y:.1f}%\\u003cbr\\u003e%{customdata[0]}\\u002f%{customdata[1]}\",\"legendgroup\":\"Haverstock\",\"line\":{\"color\":\"#FFA15A\",\"dash\":\"solid\"},\"marker\":{\"symbol\":\"circle\"},\"mode\":\"lines\",\"name\":\"Haverstock\",\"orientation\":\"v\",\"showlegend\":true,\"x\":[2010,2011,2012,2013,2014,2015,2016,2017,2018,2019,2020,2021,2022,2023,2024,2025],\"xaxis\":\"x\",\"y\":[10.447761194029852,12.264150943396226,7.878787878787879,18.0327868852459,7.6923076923076925,9.433962264150944,7.4866310160427805,8.333333333333334,11.787072243346008,6.854838709677419,5.2631578947368425,12.915129151291513,17.647058823529413,10.903426791277258,14.814814814814815,13.744075829383887],\"yaxis\":\"y\",\"type\":\"scatter\",\"visible\":\"legendonly\"},{\"customdata\":[[24,413],[73,628],[47,551],[57,470],[51,440],[39,513],[39,439],[44,462],[52,469],[41,522],[65,507],[58,567],[52,444],[42,510],[69,573],[57,387]],\"hovertemplate\":\"%{fullData.name}\\u003cbr\\u003e%{y:.1f}%\\u003cbr\\u003e%{customdata[0]}\\u002f%{customdata[1]}\",\"legendgroup\":\"Highgate\",\"line\":{\"color\":\"#19d3f3\",\"dash\":\"solid\"},\"marker\":{\"symbol\":\"circle\"},\"mode\":\"lines\",\"name\":\"Highgate\",\"orientation\":\"v\",\"showlegend\":true,\"x\":[2010,2011,2012,2013,2014,2015,2016,2017,2018,2019,2020,2021,2022,2023,2024,2025],\"xaxis\":\"x\",\"y\":[5.811138014527845,11.624203821656051,8.52994555353902,12.127659574468085,11.590909090909092,7.60233918128655,8.883826879271071,9.523809523809524,11.087420042643924,7.854406130268199,12.820512820512821,10.229276895943563,11.711711711711711,8.235294117647058,12.041884816753926,14.728682170542635],\"yaxis\":\"y\",\"type\":\"scatter\",\"visible\":\"legendonly\"},{\"customdata\":[[19,522],[18,646],[20,709],[27,659],[35,675],[34,638],[40,706],[44,797],[32,682],[28,706],[38,559],[34,507],[27,333],[40,379],[33,368],[15,204]],\"hovertemplate\":\"%{fullData.name}\\u003cbr\\u003e%{y:.1f}%\\u003cbr\\u003e%{customdata[0]}\\u002f%{customdata[1]}\",\"legendgroup\":\"Holborn & Covent Garden\",\"line\":{\"color\":\"#FF6692\",\"dash\":\"solid\"},\"marker\":{\"symbol\":\"circle\"},\"mode\":\"lines\",\"name\":\"Holborn & Covent Garden\",\"orientation\":\"v\",\"showlegend\":true,\"x\":[2010,2011,2012,2013,2014,2015,2016,2017,2018,2019,2020,2021,2022,2023,2024,2025],\"xaxis\":\"x\",\"y\":[3.6398467432950192,2.7863777089783284,2.8208744710860367,4.09711684370258,5.185185185185185,5.329153605015674,5.665722379603399,5.520702634880803,4.69208211143695,3.9660056657223794,6.797853309481217,6.70611439842209,8.108108108108109,10.554089709762533,8.967391304347826,7.352941176470588],\"yaxis\":\"y\",\"type\":\"scatter\",\"visible\":\"legendonly\"},{\"customdata\":[[3,145],[6,145],[11,161],[13,169],[8,160],[5,157],[6,162],[5,159],[8,156],[10,147],[11,137],[13,144],[10,162],[20,178],[17,154],[14,97]],\"hovertemplate\":\"%{fullData.name}\\u003cbr\\u003e%{y:.1f}%\\u003cbr\\u003e%{customdata[0]}\\u002f%{customdata[1]}\",\"legendgroup\":\"Kentish Town North\",\"line\":{\"color\":\"#B6E880\",\"dash\":\"solid\"},\"marker\":{\"symbol\":\"circle\"},\"mode\":\"lines\",\"name\":\"Kentish Town North\",\"orientation\":\"v\",\"showlegend\":true,\"x\":[2010,2011,2012,2013,2014,2015,2016,2017,2018,2019,2020,2021,2022,2023,2024,2025],\"xaxis\":\"x\",\"y\":[2.0689655172413794,4.137931034482759,6.832298136645963,7.6923076923076925,5.0,3.1847133757961785,3.7037037037037037,3.1446540880503147,5.128205128205129,6.802721088435374,8.02919708029197,9.027777777777779,6.172839506172839,11.235955056179776,11.03896103896104,14.43298969072165],\"yaxis\":\"y\",\"type\":\"scatter\",\"visible\":\"legendonly\"},{\"customdata\":[[24,118],[22,178],[22,227],[25,213],[18,201],[11,202],[19,202],[20,191],[18,214],[23,185],[24,157],[18,171],[31,194],[23,203],[44,213],[27,167]],\"hovertemplate\":\"%{fullData.name}\\u003cbr\\u003e%{y:.1f}%\\u003cbr\\u003e%{customdata[0]}\\u002f%{customdata[1]}\",\"legendgroup\":\"Kentish Town South\",\"line\":{\"color\":\"#FF97FF\",\"dash\":\"solid\"},\"marker\":{\"symbol\":\"circle\"},\"mode\":\"lines\",\"name\":\"Kentish Town South\",\"orientation\":\"v\",\"showlegend\":true,\"x\":[2010,2011,2012,2013,2014,2015,2016,2017,2018,2019,2020,2021,2022,2023,2024,2025],\"xaxis\":\"x\",\"y\":[20.338983050847457,12.359550561797754,9.691629955947137,11.737089201877934,8.955223880597014,5.445544554455446,9.405940594059405,10.471204188481675,8.411214953271028,12.432432432432432,15.286624203821656,10.526315789473685,15.97938144329897,11.330049261083744,20.657276995305164,16.167664670658684],\"yaxis\":\"y\",\"type\":\"scatter\",\"visible\":\"legendonly\"},{\"customdata\":[[12,185],[13,194],[20,263],[18,260],[21,195],[43,241],[15,201],[19,252],[22,175],[15,159],[11,166],[27,177],[22,135],[26,200],[13,172],[5,86]],\"hovertemplate\":\"%{fullData.name}\\u003cbr\\u003e%{y:.1f}%\\u003cbr\\u003e%{customdata[0]}\\u002f%{customdata[1]}\",\"legendgroup\":\"Kilburn\",\"line\":{\"color\":\"#FECB52\",\"dash\":\"solid\"},\"marker\":{\"symbol\":\"circle\"},\"mode\":\"lines\",\"name\":\"Kilburn\",\"orientation\":\"v\",\"showlegend\":true,\"x\":[2010,2011,2012,2013,2014,2015,2016,2017,2018,2019,2020,2021,2022,2023,2024,2025],\"xaxis\":\"x\",\"y\":[6.486486486486487,6.701030927835052,7.604562737642586,6.923076923076923,10.76923076923077,17.842323651452283,7.462686567164179,7.5396825396825395,12.571428571428571,9.433962264150944,6.626506024096385,15.254237288135593,16.296296296296298,13.0,7.558139534883721,5.813953488372093],\"yaxis\":\"y\",\"type\":\"scatter\",\"visible\":\"legendonly\"},{\"customdata\":[[5,219],[6,204],[20,257],[14,263],[10,353],[19,273],[9,258],[22,257],[10,239],[10,193],[9,198],[4,154],[14,219],[22,214],[20,233],[20,171]],\"hovertemplate\":\"%{fullData.name}\\u003cbr\\u003e%{y:.1f}%\\u003cbr\\u003e%{customdata[0]}\\u002f%{customdata[1]}\",\"legendgroup\":\"King'S Cross\",\"line\":{\"color\":\"#636efa\",\"dash\":\"solid\"},\"marker\":{\"symbol\":\"circle\"},\"mode\":\"lines\",\"name\":\"King'S Cross\",\"orientation\":\"v\",\"showlegend\":true,\"x\":[2010,2011,2012,2013,2014,2015,2016,2017,2018,2019,2020,2021,2022,2023,2024,2025],\"xaxis\":\"x\",\"y\":[2.2831050228310503,2.9411764705882355,7.782101167315175,5.32319391634981,2.8328611898016995,6.95970695970696,3.488372093023256,8.560311284046692,4.184100418410042,5.181347150259067,4.545454545454546,2.5974025974025974,6.392694063926941,10.280373831775702,8.583690987124463,11.695906432748538],\"yaxis\":\"y\",\"type\":\"scatter\",\"visible\":\"legendonly\"},{\"customdata\":[[23,249],[31,343],[41,434],[44,446],[38,397],[26,356],[34,355],[45,358],[30,299],[29,352],[24,274],[30,340],[43,378],[61,440],[42,435],[51,351]],\"hovertemplate\":\"%{fullData.name}\\u003cbr\\u003e%{y:.1f}%\\u003cbr\\u003e%{customdata[0]}\\u002f%{customdata[1]}\",\"legendgroup\":\"Primrose Hill\",\"line\":{\"color\":\"#EF553B\",\"dash\":\"solid\"},\"marker\":{\"symbol\":\"circle\"},\"mode\":\"lines\",\"name\":\"Primrose Hill\",\"orientation\":\"v\",\"showlegend\":true,\"x\":[2010,2011,2012,2013,2014,2015,2016,2017,2018,2019,2020,2021,2022,2023,2024,2025],\"xaxis\":\"x\",\"y\":[9.236947791164658,9.037900874635568,9.44700460829493,9.865470852017937,9.571788413098236,7.303370786516854,9.577464788732394,12.569832402234637,10.033444816053512,8.238636363636363,8.75912408759124,8.823529411764707,11.375661375661375,13.863636363636363,9.655172413793103,14.52991452991453],\"yaxis\":\"y\",\"type\":\"scatter\",\"visible\":\"legendonly\"},{\"customdata\":[[9,272],[22,394],[29,424],[27,472],[31,435],[21,452],[33,444],[34,450],[32,447],[23,505],[21,372],[34,549],[46,511],[40,394],[32,400],[27,287]],\"hovertemplate\":\"%{fullData.name}\\u003cbr\\u003e%{y:.1f}%\\u003cbr\\u003e%{customdata[0]}\\u002f%{customdata[1]}\",\"legendgroup\":\"Regent'S Park\",\"line\":{\"color\":\"#00cc96\",\"dash\":\"solid\"},\"marker\":{\"symbol\":\"circle\"},\"mode\":\"lines\",\"name\":\"Regent'S Park\",\"orientation\":\"v\",\"showlegend\":true,\"x\":[2010,2011,2012,2013,2014,2015,2016,2017,2018,2019,2020,2021,2022,2023,2024,2025],\"xaxis\":\"x\",\"y\":[3.3088235294117645,5.583756345177665,6.839622641509434,5.720338983050848,7.126436781609195,4.646017699115045,7.4324324324324325,7.555555555555555,7.158836689038031,4.554455445544554,5.645161290322581,6.193078324225866,9.001956947162427,10.152284263959391,8.0,9.40766550522648],\"yaxis\":\"y\",\"type\":\"scatter\",\"visible\":\"legendonly\"},{\"customdata\":[[50,334],[83,470],[130,553],[70,473],[54,379],[61,439],[92,503],[65,395],[73,374],[83,371],[82,392],[77,453],[44,320],[99,444],[106,554],[57,274]],\"hovertemplate\":\"%{fullData.name}\\u003cbr\\u003e%{y:.1f}%\\u003cbr\\u003e%{customdata[0]}\\u002f%{customdata[1]}\",\"legendgroup\":\"South Hampstead\",\"line\":{\"color\":\"#ab63fa\",\"dash\":\"solid\"},\"marker\":{\"symbol\":\"circle\"},\"mode\":\"lines\",\"name\":\"South Hampstead\",\"orientation\":\"v\",\"showlegend\":true,\"x\":[2010,2011,2012,2013,2014,2015,2016,2017,2018,2019,2020,2021,2022,2023,2024,2025],\"xaxis\":\"x\",\"y\":[14.970059880239521,17.659574468085108,23.508137432188065,14.799154334038056,14.248021108179419,13.895216400911162,18.290258449304176,16.455696202531644,19.518716577540108,22.371967654986523,20.918367346938776,16.997792494481235,13.75,22.2972972972973,19.133574007220215,20.802919708029197],\"yaxis\":\"y\",\"type\":\"scatter\",\"visible\":\"legendonly\"},{\"customdata\":[[8,228],[18,340],[16,267],[16,301],[27,309],[28,292],[26,315],[25,327],[25,232],[14,212],[13,196],[15,140],[8,125],[31,198],[37,188],[16,83]],\"hovertemplate\":\"%{fullData.name}\\u003cbr\\u003e%{y:.1f}%\\u003cbr\\u003e%{customdata[0]}\\u002f%{customdata[1]}\",\"legendgroup\":\"St Pancras & Somers Town\",\"line\":{\"color\":\"#FFA15A\",\"dash\":\"solid\"},\"marker\":{\"symbol\":\"circle\"},\"mode\":\"lines\",\"name\":\"St Pancras & Somers Town\",\"orientation\":\"v\",\"showlegend\":true,\"x\":[2010,2011,2012,2013,2014,2015,2016,2017,2018,2019,2020,2021,2022,2023,2024,2025],\"xaxis\":\"x\",\"y\":[3.508771929824561,5.294117647058823,5.992509363295881,5.3156146179401995,8.737864077669903,9.58904109589041,8.253968253968255,7.6452599388379205,10.775862068965518,6.60377358490566,6.63265306122449,10.714285714285714,6.4,15.656565656565656,19.680851063829788,19.27710843373494],\"yaxis\":\"y\",\"type\":\"scatter\",\"visible\":\"legendonly\"},{\"customdata\":[[13,117],[7,109],[17,118],[10,107],[19,114],[16,129],[12,88],[14,108],[10,68],[11,92],[15,89],[12,77],[2,38],[0,4],[0,2]],\"hovertemplate\":\"%{fullData.name}\\u003cbr\\u003e%{y:.1f}%\\u003cbr\\u003e%{customdata[0]}\\u002f%{customdata[1]}\",\"legendgroup\":\"Swiss Cottage\",\"line\":{\"color\":\"#19d3f3\",\"dash\":\"solid\"},\"marker\":{\"symbol\":\"circle\"},\"mode\":\"lines\",\"name\":\"Swiss Cottage\",\"orientation\":\"v\",\"showlegend\":true,\"x\":[2010,2011,2012,2013,2014,2015,2016,2017,2018,2019,2020,2021,2022,2023,2024],\"xaxis\":\"x\",\"y\":[11.11111111111111,6.422018348623853,14.40677966101695,9.345794392523365,16.666666666666668,12.4031007751938,13.636363636363637,12.962962962962964,14.705882352941176,11.956521739130435,16.853932584269664,15.584415584415584,5.2631578947368425,0.0,0.0],\"yaxis\":\"y\",\"type\":\"scatter\",\"visible\":\"legendonly\"},{\"customdata\":[[9,307],[39,436],[37,480],[39,445],[25,439],[30,394],[25,444],[19,374],[18,328],[13,289],[19,293],[17,228],[48,361],[23,300],[55,410],[28,219]],\"hovertemplate\":\"%{fullData.name}\\u003cbr\\u003e%{y:.1f}%\\u003cbr\\u003e%{customdata[0]}\\u002f%{customdata[1]}\",\"legendgroup\":\"West Hampstead\",\"line\":{\"color\":\"#FF6692\",\"dash\":\"solid\"},\"marker\":{\"symbol\":\"circle\"},\"mode\":\"lines\",\"name\":\"West Hampstead\",\"orientation\":\"v\",\"showlegend\":true,\"x\":[2010,2011,2012,2013,2014,2015,2016,2017,2018,2019,2020,2021,2022,2023,2024,2025],\"xaxis\":\"x\",\"y\":[2.9315960912052117,8.944954128440367,7.708333333333333,8.764044943820224,5.694760820045558,7.614213197969543,5.63063063063063,5.080213903743315,5.487804878048781,4.498269896193771,6.484641638225256,7.456140350877193,13.296398891966758,7.666666666666667,13.414634146341463,12.785388127853881],\"yaxis\":\"y\",\"type\":\"scatter\",\"visible\":\"legendonly\"},{\"customdata\":[[1,1],[0,1]],\"hovertemplate\":\"%{fullData.name}\\u003cbr\\u003e%{y:.1f}%\\u003cbr\\u003e%{customdata[0]}\\u002f%{customdata[1]}\",\"legendgroup\":\"Camden\",\"line\":{\"color\":\"#B6E880\",\"dash\":\"solid\"},\"marker\":{\"symbol\":\"circle\"},\"mode\":\"lines\",\"name\":\"Camden\",\"orientation\":\"v\",\"showlegend\":true,\"x\":[2012,2016],\"xaxis\":\"x\",\"y\":[100.0,0.0],\"yaxis\":\"y\",\"type\":\"scatter\",\"visible\":\"legendonly\"},{\"customdata\":[[0,1],[1,1],[1,1]],\"hovertemplate\":\"%{fullData.name}\\u003cbr\\u003e%{y:.1f}%\\u003cbr\\u003e%{customdata[0]}\\u002f%{customdata[1]}\",\"legendgroup\":\"Camden Square; Camden Town\",\"line\":{\"color\":\"#FF97FF\",\"dash\":\"solid\"},\"marker\":{\"symbol\":\"circle\"},\"mode\":\"lines\",\"name\":\"Camden Square; Camden Town\",\"orientation\":\"v\",\"showlegend\":true,\"x\":[2022,2024,2025],\"xaxis\":\"x\",\"y\":[0.0,100.0,100.0],\"yaxis\":\"y\",\"type\":\"scatter\",\"visible\":\"legendonly\"},{\"customdata\":[[9,113],[18,226],[7,206],[11,170]],\"hovertemplate\":\"%{fullData.name}\\u003cbr\\u003e%{y:.1f}%\\u003cbr\\u003e%{customdata[0]}\\u002f%{customdata[1]}\",\"legendgroup\":\"Holborn And Covent Garden\",\"line\":{\"color\":\"#FECB52\",\"dash\":\"solid\"},\"marker\":{\"symbol\":\"circle\"},\"mode\":\"lines\",\"name\":\"Holborn And Covent Garden\",\"orientation\":\"v\",\"showlegend\":true,\"x\":[2022,2023,2024,2025],\"xaxis\":\"x\",\"y\":[7.964601769911504,7.964601769911504,3.3980582524271843,6.470588235294118],\"yaxis\":\"y\",\"type\":\"scatter\",\"visible\":\"legendonly\"},{\"customdata\":[[1,10],[4,35],[2,34],[0,15]],\"hovertemplate\":\"%{fullData.name}\\u003cbr\\u003e%{y:.1f}%\\u003cbr\\u003e%{customdata[0]}\\u002f%{customdata[1]}\",\"legendgroup\":\"St Pancras And Somers Town\",\"line\":{\"color\":\"#636efa\",\"dash\":\"solid\"},\"marker\":{\"symbol\":\"circle\"},\"mode\":\"lines\",\"name\":\"St Pancras And Somers Town\",\"orientation\":\"v\",\"showlegend\":true,\"x\":[2022,2023,2024,2025],\"xaxis\":\"x\",\"y\":[10.0,11.428571428571429,5.882352941176471,0.0],\"yaxis\":\"y\",\"type\":\"scatter\",\"visible\":\"legendonly\"},{\"customdata\":[[0,2],[1,1]],\"hovertemplate\":\"%{fullData.name}\\u003cbr\\u003e%{y:.1f}%\\u003cbr\\u003e%{customdata[0]}\\u002f%{customdata[1]}\",\"legendgroup\":\"Frognal; Frognal & Fitzjohns\",\"line\":{\"color\":\"#EF553B\",\"dash\":\"solid\"},\"marker\":{\"symbol\":\"circle\"},\"mode\":\"lines\",\"name\":\"Frognal; Frognal & Fitzjohns\",\"orientation\":\"v\",\"showlegend\":true,\"x\":[2023,2024],\"xaxis\":\"x\",\"y\":[0.0,100.0],\"yaxis\":\"y\",\"type\":\"scatter\",\"visible\":\"legendonly\"},{\"customdata\":[[1,1]],\"hovertemplate\":\"%{fullData.name}\\u003cbr\\u003e%{y:.1f}%\\u003cbr\\u003e%{customdata[0]}\\u002f%{customdata[1]}\",\"legendgroup\":\"Highgate; South Hampstead\",\"line\":{\"color\":\"#00cc96\",\"dash\":\"solid\"},\"marker\":{\"symbol\":\"circle\"},\"mode\":\"lines\",\"name\":\"Highgate; South Hampstead\",\"orientation\":\"v\",\"showlegend\":true,\"x\":[2023],\"xaxis\":\"x\",\"y\":[100.0],\"yaxis\":\"y\",\"type\":\"scatter\",\"visible\":\"legendonly\"},{\"customdata\":[[1,1],[0,1]],\"hovertemplate\":\"%{fullData.name}\\u003cbr\\u003e%{y:.1f}%\\u003cbr\\u003e%{customdata[0]}\\u002f%{customdata[1]}\",\"legendgroup\":\"Camden Square; Cantelowes\",\"line\":{\"color\":\"#ab63fa\",\"dash\":\"solid\"},\"marker\":{\"symbol\":\"circle\"},\"mode\":\"lines\",\"name\":\"Camden Square; Cantelowes\",\"orientation\":\"v\",\"showlegend\":true,\"x\":[2024,2025],\"xaxis\":\"x\",\"y\":[100.0,0.0],\"yaxis\":\"y\",\"type\":\"scatter\",\"visible\":\"legendonly\"},{\"customdata\":[[0,1],[506,6740],[823,8676],[790,9080],[887,9239],[742,8807],[766,8997],[783,9151],[835,8977],[709,7862],[642,7854],[776,7357],[755,7538],[781,7135],[922,8037],[919,8244],[673,5441]],\"hovertemplate\":\"%{fullData.name}\\u003cbr\\u003e%{y:.1f}%\\u003cbr\\u003e%{customdata[0]}\\u002f%{customdata[1]}\",\"legendgroup\":\"All Wards\",\"line\":{\"color\":\"#FFA15A\",\"dash\":\"solid\"},\"marker\":{\"symbol\":\"circle\"},\"mode\":\"lines\",\"name\":\"All Wards\",\"orientation\":\"v\",\"showlegend\":true,\"x\":[1975,2010,2011,2012,2013,2014,2015,2016,2017,2018,2019,2020,2021,2022,2023,2024,2025],\"xaxis\":\"x\",\"y\":[0.0,7.507418397626113,9.485938220378054,8.700440528634362,9.600606126204134,8.425116384693993,8.513949094142491,8.556441918915965,9.301548401470425,9.018061561943526,8.174178762414057,10.547777626750033,10.015919342000531,10.94604064470918,11.471942267015056,11.147501213003396,12.369049807020769],\"yaxis\":\"y\",\"type\":\"scatter\",\"visible\":true}],                        {\"template\":{\"data\":{\"histogram2dcontour\":[{\"type\":\"histogram2dcontour\",\"colorbar\":{\"outlinewidth\":0,\"ticks\":\"\"},\"colorscale\":[[0.0,\"#0d0887\"],[0.1111111111111111,\"#46039f\"],[0.2222222222222222,\"#7201a8\"],[0.3333333333333333,\"#9c179e\"],[0.4444444444444444,\"#bd3786\"],[0.5555555555555556,\"#d8576b\"],[0.6666666666666666,\"#ed7953\"],[0.7777777777777778,\"#fb9f3a\"],[0.8888888888888888,\"#fdca26\"],[1.0,\"#f0f921\"]]}],\"choropleth\":[{\"type\":\"choropleth\",\"colorbar\":{\"outlinewidth\":0,\"ticks\":\"\"}}],\"histogram2d\":[{\"type\":\"histogram2d\",\"colorbar\":{\"outlinewidth\":0,\"ticks\":\"\"},\"colorscale\":[[0.0,\"#0d0887\"],[0.1111111111111111,\"#46039f\"],[0.2222222222222222,\"#7201a8\"],[0.3333333333333333,\"#9c179e\"],[0.4444444444444444,\"#bd3786\"],[0.5555555555555556,\"#d8576b\"],[0.6666666666666666,\"#ed7953\"],[0.7777777777777778,\"#fb9f3a\"],[0.8888888888888888,\"#fdca26\"],[1.0,\"#f0f921\"]]}],\"heatmap\":[{\"type\":\"heatmap\",\"colorbar\":{\"outlinewidth\":0,\"ticks\":\"\"},\"colorscale\":[[0.0,\"#0d0887\"],[0.1111111111111111,\"#46039f\"],[0.2222222222222222,\"#7201a8\"],[0.3333333333333333,\"#9c179e\"],[0.4444444444444444,\"#bd3786\"],[0.5555555555555556,\"#d8576b\"],[0.6666666666666666,\"#ed7953\"],[0.7777777777777778,\"#fb9f3a\"],[0.8888888888888888,\"#fdca26\"],[1.0,\"#f0f921\"]]}],\"heatmapgl\":[{\"type\":\"heatmapgl\",\"colorbar\":{\"outlinewidth\":0,\"ticks\":\"\"},\"colorscale\":[[0.0,\"#0d0887\"],[0.1111111111111111,\"#46039f\"],[0.2222222222222222,\"#7201a8\"],[0.3333333333333333,\"#9c179e\"],[0.4444444444444444,\"#bd3786\"],[0.5555555555555556,\"#d8576b\"],[0.6666666666666666,\"#ed7953\"],[0.7777777777777778,\"#fb9f3a\"],[0.8888888888888888,\"#fdca26\"],[1.0,\"#f0f921\"]]}],\"contourcarpet\":[{\"type\":\"contourcarpet\",\"colorbar\":{\"outlinewidth\":0,\"ticks\":\"\"}}],\"contour\":[{\"type\":\"contour\",\"colorbar\":{\"outlinewidth\":0,\"ticks\":\"\"},\"colorscale\":[[0.0,\"#0d0887\"],[0.1111111111111111,\"#46039f\"],[0.2222222222222222,\"#7201a8\"],[0.3333333333333333,\"#9c179e\"],[0.4444444444444444,\"#bd3786\"],[0.5555555555555556,\"#d8576b\"],[0.6666666666666666,\"#ed7953\"],[0.7777777777777778,\"#fb9f3a\"],[0.8888888888888888,\"#fdca26\"],[1.0,\"#f0f921\"]]}],\"surface\":[{\"type\":\"surface\",\"colorbar\":{\"outlinewidth\":0,\"ticks\":\"\"},\"colorscale\":[[0.0,\"#0d0887\"],[0.1111111111111111,\"#46039f\"],[0.2222222222222222,\"#7201a8\"],[0.3333333333333333,\"#9c179e\"],[0.4444444444444444,\"#bd3786\"],[0.5555555555555556,\"#d8576b\"],[0.6666666666666666,\"#ed7953\"],[0.7777777777777778,\"#fb9f3a\"],[0.8888888888888888,\"#fdca26\"],[1.0,\"#f0f921\"]]}],\"mesh3d\":[{\"type\":\"mesh3d\",\"colorbar\":{\"outlinewidth\":0,\"ticks\":\"\"}}],\"scatter\":[{\"fillpattern\":{\"fillmode\":\"overlay\",\"size\":10,\"solidity\":0.2},\"type\":\"scatter\"}],\"parcoords\":[{\"type\":\"parcoords\",\"line\":{\"colorbar\":{\"outlinewidth\":0,\"ticks\":\"\"}}}],\"scatterpolargl\":[{\"type\":\"scatterpolargl\",\"marker\":{\"colorbar\":{\"outlinewidth\":0,\"ticks\":\"\"}}}],\"bar\":[{\"error_x\":{\"color\":\"#2a3f5f\"},\"error_y\":{\"color\":\"#2a3f5f\"},\"marker\":{\"line\":{\"color\":\"#E5ECF6\",\"width\":0.5},\"pattern\":{\"fillmode\":\"overlay\",\"size\":10,\"solidity\":0.2}},\"type\":\"bar\"}],\"scattergeo\":[{\"type\":\"scattergeo\",\"marker\":{\"colorbar\":{\"outlinewidth\":0,\"ticks\":\"\"}}}],\"scatterpolar\":[{\"type\":\"scatterpolar\",\"marker\":{\"colorbar\":{\"outlinewidth\":0,\"ticks\":\"\"}}}],\"histogram\":[{\"marker\":{\"pattern\":{\"fillmode\":\"overlay\",\"size\":10,\"solidity\":0.2}},\"type\":\"histogram\"}],\"scattergl\":[{\"type\":\"scattergl\",\"marker\":{\"colorbar\":{\"outlinewidth\":0,\"ticks\":\"\"}}}],\"scatter3d\":[{\"type\":\"scatter3d\",\"line\":{\"colorbar\":{\"outlinewidth\":0,\"ticks\":\"\"}},\"marker\":{\"colorbar\":{\"outlinewidth\":0,\"ticks\":\"\"}}}],\"scattermapbox\":[{\"type\":\"scattermapbox\",\"marker\":{\"colorbar\":{\"outlinewidth\":0,\"ticks\":\"\"}}}],\"scatterternary\":[{\"type\":\"scatterternary\",\"marker\":{\"colorbar\":{\"outlinewidth\":0,\"ticks\":\"\"}}}],\"scattercarpet\":[{\"type\":\"scattercarpet\",\"marker\":{\"colorbar\":{\"outlinewidth\":0,\"ticks\":\"\"}}}],\"carpet\":[{\"aaxis\":{\"endlinecolor\":\"#2a3f5f\",\"gridcolor\":\"white\",\"linecolor\":\"white\",\"minorgridcolor\":\"white\",\"startlinecolor\":\"#2a3f5f\"},\"baxis\":{\"endlinecolor\":\"#2a3f5f\",\"gridcolor\":\"white\",\"linecolor\":\"white\",\"minorgridcolor\":\"white\",\"startlinecolor\":\"#2a3f5f\"},\"type\":\"carpet\"}],\"table\":[{\"cells\":{\"fill\":{\"color\":\"#EBF0F8\"},\"line\":{\"color\":\"white\"}},\"header\":{\"fill\":{\"color\":\"#C8D4E3\"},\"line\":{\"color\":\"white\"}},\"type\":\"table\"}],\"barpolar\":[{\"marker\":{\"line\":{\"color\":\"#E5ECF6\",\"width\":0.5},\"pattern\":{\"fillmode\":\"overlay\",\"size\":10,\"solidity\":0.2}},\"type\":\"barpolar\"}],\"pie\":[{\"automargin\":true,\"type\":\"pie\"}]},\"layout\":{\"autotypenumbers\":\"strict\",\"colorway\":[\"#636efa\",\"#EF553B\",\"#00cc96\",\"#ab63fa\",\"#FFA15A\",\"#19d3f3\",\"#FF6692\",\"#B6E880\",\"#FF97FF\",\"#FECB52\"],\"font\":{\"color\":\"#2a3f5f\"},\"hovermode\":\"closest\",\"hoverlabel\":{\"align\":\"left\"},\"paper_bgcolor\":\"white\",\"plot_bgcolor\":\"#E5ECF6\",\"polar\":{\"bgcolor\":\"#E5ECF6\",\"angularaxis\":{\"gridcolor\":\"white\",\"linecolor\":\"white\",\"ticks\":\"\"},\"radialaxis\":{\"gridcolor\":\"white\",\"linecolor\":\"white\",\"ticks\":\"\"}},\"ternary\":{\"bgcolor\":\"#E5ECF6\",\"aaxis\":{\"gridcolor\":\"white\",\"linecolor\":\"white\",\"ticks\":\"\"},\"baxis\":{\"gridcolor\":\"white\",\"linecolor\":\"white\",\"ticks\":\"\"},\"caxis\":{\"gridcolor\":\"white\",\"linecolor\":\"white\",\"ticks\":\"\"}},\"coloraxis\":{\"colorbar\":{\"outlinewidth\":0,\"ticks\":\"\"}},\"colorscale\":{\"sequential\":[[0.0,\"#0d0887\"],[0.1111111111111111,\"#46039f\"],[0.2222222222222222,\"#7201a8\"],[0.3333333333333333,\"#9c179e\"],[0.4444444444444444,\"#bd3786\"],[0.5555555555555556,\"#d8576b\"],[0.6666666666666666,\"#ed7953\"],[0.7777777777777778,\"#fb9f3a\"],[0.8888888888888888,\"#fdca26\"],[1.0,\"#f0f921\"]],\"sequentialminus\":[[0.0,\"#0d0887\"],[0.1111111111111111,\"#46039f\"],[0.2222222222222222,\"#7201a8\"],[0.3333333333333333,\"#9c179e\"],[0.4444444444444444,\"#bd3786\"],[0.5555555555555556,\"#d8576b\"],[0.6666666666666666,\"#ed7953\"],[0.7777777777777778,\"#fb9f3a\"],[0.8888888888888888,\"#fdca26\"],[1.0,\"#f0f921\"]],\"diverging\":[[0,\"#8e0152\"],[0.1,\"#c51b7d\"],[0.2,\"#de77ae\"],[0.3,\"#f1b6da\"],[0.4,\"#fde0ef\"],[0.5,\"#f7f7f7\"],[0.6,\"#e6f5d0\"],[0.7,\"#b8e186\"],[0.8,\"#7fbc41\"],[0.9,\"#4d9221\"],[1,\"#276419\"]]},\"xaxis\":{\"gridcolor\":\"white\",\"linecolor\":\"white\",\"ticks\":\"\",\"title\":{\"standoff\":15},\"zerolinecolor\":\"white\",\"automargin\":true,\"zerolinewidth\":2},\"yaxis\":{\"gridcolor\":\"white\",\"linecolor\":\"white\",\"ticks\":\"\",\"title\":{\"standoff\":15},\"zerolinecolor\":\"white\",\"automargin\":true,\"zerolinewidth\":2},\"scene\":{\"xaxis\":{\"backgroundcolor\":\"#E5ECF6\",\"gridcolor\":\"white\",\"linecolor\":\"white\",\"showbackground\":true,\"ticks\":\"\",\"zerolinecolor\":\"white\",\"gridwidth\":2},\"yaxis\":{\"backgroundcolor\":\"#E5ECF6\",\"gridcolor\":\"white\",\"linecolor\":\"white\",\"showbackground\":true,\"ticks\":\"\",\"zerolinecolor\":\"white\",\"gridwidth\":2},\"zaxis\":{\"backgroundcolor\":\"#E5ECF6\",\"gridcolor\":\"white\",\"linecolor\":\"white\",\"showbackground\":true,\"ticks\":\"\",\"zerolinecolor\":\"white\",\"gridwidth\":2}},\"shapedefaults\":{\"line\":{\"color\":\"#2a3f5f\"}},\"annotationdefaults\":{\"arrowcolor\":\"#2a3f5f\",\"arrowhead\":0,\"arrowwidth\":1},\"geo\":{\"bgcolor\":\"white\",\"landcolor\":\"#E5ECF6\",\"subunitcolor\":\"white\",\"showland\":true,\"showlakes\":true,\"lakecolor\":\"white\"},\"title\":{\"x\":0.05},\"mapbox\":{\"style\":\"light\"}}},\"xaxis\":{\"anchor\":\"y\",\"domain\":[0.0,1.0],\"title\":{\"text\":\"Year\"}},\"yaxis\":{\"anchor\":\"x\",\"domain\":[0.0,1.0],\"title\":{\"text\":\"% Green Applications\"}},\"legend\":{\"title\":{\"text\":\"Ward\"},\"tracegroupgap\":0,\"itemclick\":\"toggle\",\"itemdoubleclick\":\"toggleothers\"},\"title\":{\"text\":\"Green Planning Applications Over Time\"},\"hovermode\":\"x unified\"},                        {\"responsive\": true}                    ).then(function(){\n",
       "                            \n",
       "var gd = document.getElementById('33717f52-77f1-4187-8b28-559f63b36475');\n",
       "var x = new MutationObserver(function (mutations, observer) {{\n",
       "        var display = window.getComputedStyle(gd).display;\n",
       "        if (!display || display === 'none') {{\n",
       "            console.log([gd, 'removed!']);\n",
       "            Plotly.purge(gd);\n",
       "            observer.disconnect();\n",
       "        }}\n",
       "}});\n",
       "\n",
       "// Listen for the removal of the full notebook cells\n",
       "var notebookContainer = gd.closest('#notebook-container');\n",
       "if (notebookContainer) {{\n",
       "    x.observe(notebookContainer, {childList: true});\n",
       "}}\n",
       "\n",
       "// Listen for the clearing of the current output cell\n",
       "var outputEl = gd.closest('.output');\n",
       "if (outputEl) {{\n",
       "    x.observe(outputEl, {childList: true});\n",
       "}}\n",
       "\n",
       "                        })                };                });            </script>        </div>"
      ]
     },
     "metadata": {},
     "output_type": "display_data"
    },
    {
     "name": "stdout",
     "output_type": "stream",
     "text": [
      "Chart rendered at: 2025-09-28 20:19:14\n"
     ]
    }
   ],
   "source": [
    "# --- VISUALISING GREEN PLANNING APPLICATIONS OVER TIME --- I MISS TABLEAU!\n",
    "\n",
    "\n",
    "# Clean decision_date and extract year\n",
    "df_merged['decision_date'] = pd.to_datetime(df_merged['decision_date'], dayfirst=True, errors='coerce')\n",
    "df_merged = df_merged.dropna(subset=['decision_date'])  # drop invalid dates\n",
    "df_merged['decision_year'] = df_merged['decision_date'].dt.year\n",
    "\n",
    "# Aggregate % green by year and ward\n",
    "time_summary = (\n",
    "    df_merged.groupby(['decision_year', 'ward_final'], dropna=False)\n",
    "             .agg(total_count=('is_green', 'size'),\n",
    "                  green_count=('is_green', 'sum'))\n",
    "             .reset_index()\n",
    ")\n",
    "time_summary['pct_green'] = 100 * time_summary['green_count'] / time_summary['total_count']\n",
    "\n",
    "# Keep only wards that have at least one green application\n",
    "wards_with_green = time_summary.groupby('ward_final')['green_count'].sum()\n",
    "wards_with_green = wards_with_green[wards_with_green > 0].index.tolist()\n",
    "time_summary = time_summary[time_summary['ward_final'].isin(wards_with_green)]\n",
    "\n",
    "# Compute aggregate (all wards)\n",
    "agg_summary = (\n",
    "    df_merged.groupby('decision_year', dropna=False)\n",
    "             .agg(total_count=('is_green', 'size'),\n",
    "                  green_count=('is_green', 'sum'))\n",
    "             .reset_index()\n",
    ")\n",
    "agg_summary['pct_green'] = 100 * agg_summary['green_count'] / agg_summary['total_count']\n",
    "agg_summary['ward_final'] = 'All Wards'\n",
    "\n",
    "# Combine aggregate + ward-level data\n",
    "plot_summary = pd.concat([time_summary, agg_summary], ignore_index=True)\n",
    "\n",
    "# Create interactive line chart\n",
    "fig = px.line(\n",
    "    plot_summary,\n",
    "    x='decision_year',\n",
    "    y='pct_green',\n",
    "    color='ward_final',\n",
    "    labels={'pct_green': '% Green Applications', 'decision_year': 'Year', 'ward_final': 'Ward'},\n",
    "    hover_data={'green_count': True, 'total_count': True},\n",
    "    title='Green Planning Applications Over Time'\n",
    ")\n",
    "\n",
    "# Customize hover text\n",
    "for trace in fig.data:\n",
    "    trace.hovertemplate = (\n",
    "        \"%{fullData.name}<br>\" +\n",
    "        \"%{y:.1f}%<br>\" +\n",
    "        \"%{customdata[0]}/%{customdata[1]}\"\n",
    "    )\n",
    "\n",
    "# Set initial visibility\n",
    "for trace in fig.data:\n",
    "    if trace.name == 'All Wards':\n",
    "        trace.visible = True\n",
    "    else:\n",
    "        trace.visible = 'legendonly'  # hidden but selectable in legend\n",
    "\n",
    "# Legend acts as multi-select\n",
    "fig.update_layout(\n",
    "    hovermode='x unified',\n",
    "    legend_title='Ward',\n",
    "    legend=dict(\n",
    "        itemclick='toggle',         # click toggles individual traces\n",
    "        itemdoubleclick='toggleothers'  # double click isolates one trace\n",
    "    )\n",
    ")\n",
    "\n",
    "fig.show()\n",
    "print(f\"Chart rendered at: {time.strftime('%Y-%m-%d %H:%M:%S')}\")\n"
   ]
  },
  {
   "cell_type": "code",
   "execution_count": 29,
   "id": "7e324476-b944-4a46-8f92-7744781fd66c",
   "metadata": {},
   "outputs": [
    {
     "name": "stderr",
     "output_type": "stream",
     "text": [
      "/var/folders/k1/lkhx_pfs64v10ky854xhlg0m0000gn/T/ipykernel_28728/3685053737.py:28: DeprecationWarning:\n",
      "\n",
      "DataFrameGroupBy.apply operated on the grouping columns. This behavior is deprecated, and in a future version of pandas the grouping columns will be excluded from the operation. Either pass `include_groups=False` to exclude the groupings or explicitly select the grouping columns after groupby to silence this warning.\n",
      "\n"
     ]
    },
    {
     "data": {
      "application/vnd.plotly.v1+json": {
       "config": {
        "plotlyServerURL": "https://plot.ly"
       },
       "data": [
        {
         "hovertemplate": "%{y}<br>%{x:.1f}%<br>%{text} applications",
         "marker": {
          "color": [
           "green",
           "green",
           "green",
           "green",
           "green",
           "grey",
           "grey",
           "grey",
           "grey",
           "grey",
           "grey",
           "grey",
           "grey",
           "grey",
           "grey",
           "grey",
           "grey",
           "grey",
           "grey",
           "grey",
           "grey",
           "grey",
           "grey",
           "grey",
           "grey",
           "grey",
           "grey",
           "red",
           "red",
           "red",
           "red",
           "red"
          ]
         },
         "name": "2025",
         "orientation": "h",
         "text": [
          1,
          274,
          637,
          83,
          167,
          387,
          351,
          97,
          211,
          408,
          219,
          171,
          148,
          92,
          470,
          287,
          210,
          204,
          518,
          170,
          86,
          220,
          1,
          15,
          1,
          1,
          1,
          1,
          3,
          1,
          1,
          5
         ],
         "type": "bar",
         "visible": true,
         "x": [
          100,
          20.802919708029197,
          19.78021978021978,
          19.27710843373494,
          16.167664670658684,
          14.728682170542635,
          14.52991452991453,
          14.43298969072165,
          13.744075829383887,
          13.235294117647058,
          12.785388127853881,
          11.695906432748538,
          10.135135135135135,
          9.782608695652174,
          9.574468085106384,
          9.40766550522648,
          8.571428571428571,
          7.352941176470588,
          7.142857142857143,
          6.470588235294118,
          5.813953488372093,
          5,
          0,
          0,
          0,
          0,
          0,
          0,
          0,
          0,
          0,
          0
         ],
         "y": [
          "Camden Square; Camden Town",
          "South Hampstead",
          "Belsize",
          "St Pancras & Somers Town",
          "Kentish Town South",
          "Highgate",
          "Primrose Hill",
          "Kentish Town North",
          "Haverstock",
          "Frognal",
          "West Hampstead",
          "King'S Cross",
          "Fortune Green",
          "Camden Square",
          "Bloomsbury",
          "Regent'S Park",
          "Gospel Oak",
          "Holborn & Covent Garden",
          "Hampstead Town",
          "Holborn And Covent Garden",
          "Kilburn",
          "Camden Town",
          "Bloomsbury; Kilburn",
          "St Pancras And Somers Town",
          "South Hampstead; Swiss Cottage",
          "Bloomsbury; King's Cross",
          "Camden Square; Cantelowes",
          "Kentish Town South; St Pancras and Somers Town",
          "Camden Square; Holborn and Covent Garden; King's Cross",
          "Fortune Green; West Hampstead",
          "Camden Town; Primrose Hill",
          "Holborn and Covent Garden; King's Cross"
         ]
        },
        {
         "hovertemplate": "%{y}<br>%{x:.1f}%<br>%{text} applications",
         "marker": {
          "color": [
           "green",
           "green",
           "green",
           "green",
           "green",
           "grey",
           "grey",
           "grey",
           "grey",
           "grey",
           "grey",
           "grey",
           "grey",
           "grey",
           "grey",
           "grey",
           "grey",
           "grey",
           "grey",
           "grey",
           "grey",
           "grey",
           "grey",
           "grey",
           "grey",
           "grey",
           "grey",
           "grey",
           "grey",
           "grey",
           "grey",
           "grey",
           "grey",
           "grey",
           "red",
           "red",
           "red",
           "red",
           "red"
          ]
         },
         "name": "2024",
         "orientation": "h",
         "text": [
          1,
          1,
          1,
          192,
          213,
          188,
          554,
          216,
          410,
          573,
          509,
          941,
          154,
          932,
          435,
          368,
          233,
          400,
          266,
          606,
          172,
          280,
          34,
          328,
          206,
          2,
          1,
          6,
          1,
          4,
          6,
          3,
          1,
          2,
          1,
          1,
          1,
          1,
          1
         ],
         "type": "bar",
         "visible": false,
         "x": [
          100,
          100,
          100,
          20.833333333333332,
          20.657276995305164,
          19.680851063829788,
          19.133574007220215,
          14.814814814814815,
          13.414634146341463,
          12.041884816753926,
          11.984282907662083,
          11.370882040382572,
          11.03896103896104,
          9.871244635193133,
          9.655172413793103,
          8.967391304347826,
          8.583690987124463,
          8,
          7.894736842105263,
          7.590759075907591,
          7.558139534883721,
          7.5,
          5.882352941176471,
          5.7926829268292686,
          3.3980582524271843,
          0,
          0,
          0,
          0,
          0,
          0,
          0,
          0,
          0,
          0,
          0,
          0,
          0,
          0
         ],
         "y": [
          "Frognal; Frognal & Fitzjohns",
          "Camden Square; Camden Town",
          "Camden Square; Cantelowes",
          "Camden Square",
          "Kentish Town South",
          "St Pancras & Somers Town",
          "South Hampstead",
          "Haverstock",
          "West Hampstead",
          "Highgate",
          "Frognal",
          "Belsize",
          "Kentish Town North",
          "Hampstead Town",
          "Primrose Hill",
          "Holborn & Covent Garden",
          "King'S Cross",
          "Regent'S Park",
          "Gospel Oak",
          "Bloomsbury",
          "Kilburn",
          "Camden Town",
          "St Pancras And Somers Town",
          "Fortune Green",
          "Holborn And Covent Garden",
          "Swiss Cottage",
          "King's Cross; St Pancras & Somers Town",
          "King's Cross; St Pancras and Somers Town",
          "Adjoining Borough; Regent's Park",
          "Kentish Town",
          "Frognal & Fitzjohns",
          "Cantelowes",
          "Camden Town; Primrose Hill",
          "Camden Town; Frognal",
          "Camden Town; Camden Town with Primrose Hill",
          "Camden Town With Primrose Hill",
          "Camden Square; King's Cross",
          "Bloomsbury; Holborn and Covent Garden",
          "Gospel Oak; Haverstock"
         ]
        },
        {
         "hovertemplate": "%{y}<br>%{x:.1f}%<br>%{text} applications",
         "marker": {
          "color": [
           "green",
           "green",
           "green",
           "green",
           "green",
           "grey",
           "grey",
           "grey",
           "grey",
           "grey",
           "grey",
           "grey",
           "grey",
           "grey",
           "grey",
           "grey",
           "grey",
           "grey",
           "grey",
           "grey",
           "grey",
           "grey",
           "grey",
           "grey",
           "grey",
           "grey",
           "grey",
           "grey",
           "grey",
           "grey",
           "grey",
           "red",
           "red",
           "red",
           "red",
           "red"
          ]
         },
         "name": "2023",
         "orientation": "h",
         "text": [
          1,
          4,
          444,
          146,
          198,
          962,
          440,
          311,
          200,
          942,
          35,
          203,
          178,
          321,
          379,
          214,
          394,
          504,
          510,
          226,
          300,
          548,
          237,
          310,
          3,
          2,
          6,
          1,
          1,
          1,
          1,
          1,
          8,
          1,
          4,
          1
         ],
         "type": "bar",
         "visible": false,
         "x": [
          100,
          50,
          22.2972972972973,
          16.438356164383563,
          15.656565656565656,
          15.384615384615385,
          13.863636363636363,
          13.504823151125402,
          13,
          11.67728237791932,
          11.428571428571429,
          11.330049261083744,
          11.235955056179776,
          10.903426791277258,
          10.554089709762533,
          10.280373831775702,
          10.152284263959391,
          9.722222222222221,
          8.235294117647058,
          7.964601769911504,
          7.666666666666667,
          6.386861313868613,
          6.329113924050633,
          3.870967741935484,
          0,
          0,
          0,
          0,
          0,
          0,
          0,
          0,
          0,
          0,
          0,
          0
         ],
         "y": [
          "Highgate; South Hampstead",
          "Kentish Town",
          "South Hampstead",
          "Camden Square",
          "St Pancras & Somers Town",
          "Belsize",
          "Primrose Hill",
          "Gospel Oak",
          "Kilburn",
          "Hampstead Town",
          "St Pancras And Somers Town",
          "Kentish Town South",
          "Kentish Town North",
          "Haverstock",
          "Holborn & Covent Garden",
          "King'S Cross",
          "Regent'S Park",
          "Frognal",
          "Highgate",
          "Holborn And Covent Garden",
          "West Hampstead",
          "Bloomsbury",
          "Camden Town",
          "Fortune Green",
          "Hampstead Town; Highgate",
          "Frognal; Frognal & Fitzjohns",
          "Frognal & Fitzjohns",
          "Cantelowes",
          "Camden Town; Haverstock; Primrose Hill",
          "King's Cross; Regent's Park; St Pancras and Somers Town",
          "King's Cross; St Pancras and Somers Town",
          "Camden Town; Camden Town with Primrose Hill",
          "Camden Town With Primrose Hill",
          "Camden Square; Haverstock",
          "Swiss Cottage",
          "Adjoining Borough"
         ]
        },
        {
         "hovertemplate": "%{y}<br>%{x:.1f}%<br>%{text} applications",
         "marker": {
          "color": [
           "green",
           "green",
           "green",
           "green",
           "green",
           "grey",
           "grey",
           "grey",
           "grey",
           "grey",
           "grey",
           "grey",
           "grey",
           "grey",
           "grey",
           "grey",
           "grey",
           "grey",
           "grey",
           "grey",
           "grey",
           "grey",
           "grey",
           "grey",
           "grey",
           "grey",
           "red",
           "red",
           "red",
           "red",
           "red"
          ]
         },
         "name": "2022",
         "orientation": "h",
         "text": [
          238,
          154,
          59,
          135,
          194,
          818,
          320,
          44,
          448,
          361,
          46,
          444,
          378,
          758,
          10,
          229,
          255,
          511,
          333,
          25,
          113,
          125,
          219,
          162,
          245,
          38,
          469,
          1,
          1,
          1,
          1
         ],
         "type": "bar",
         "visible": false,
         "x": [
          17.647058823529413,
          17.532467532467532,
          16.949152542372882,
          16.296296296296298,
          15.97938144329897,
          14.058679706601467,
          13.75,
          13.636363636363637,
          13.616071428571429,
          13.296398891966758,
          13.043478260869565,
          11.711711711711711,
          11.375661375661375,
          10.158311345646437,
          10,
          9.606986899563319,
          9.019607843137255,
          9.001956947162427,
          8.108108108108109,
          8,
          7.964601769911504,
          6.4,
          6.392694063926941,
          6.172839506172839,
          5.3061224489795915,
          5.2631578947368425,
          4.264392324093817,
          0,
          0,
          0,
          0
         ],
         "y": [
          "Haverstock",
          "Camden Square",
          "Camden Town With Primrose Hill",
          "Kilburn",
          "Kentish Town South",
          "Belsize",
          "South Hampstead",
          "Cantelowes",
          "Frognal",
          "West Hampstead",
          "Frognal & Fitzjohns",
          "Highgate",
          "Primrose Hill",
          "Hampstead Town",
          "St Pancras And Somers Town",
          "Camden Town",
          "Gospel Oak",
          "Regent'S Park",
          "Holborn & Covent Garden",
          "Kentish Town",
          "Holborn And Covent Garden",
          "St Pancras & Somers Town",
          "King'S Cross",
          "Kentish Town North",
          "Fortune Green",
          "Swiss Cottage",
          "Bloomsbury",
          "Camden Town; Primrose Hill",
          "Camden Square; Camden Town",
          "Bloomsbury; Holborn and Covent Garden",
          "Camden Town; Primrose Hill; Regent's Park"
         ]
        },
        {
         "hovertemplate": "%{y}<br>%{x:.1f}%<br>%{text} applications",
         "marker": {
          "color": [
           "green",
           "green",
           "green",
           "green",
           "green",
           "grey",
           "grey",
           "grey",
           "grey",
           "grey",
           "grey",
           "grey",
           "grey",
           "grey",
           "grey",
           "grey",
           "grey",
           "grey",
           "grey",
           "grey",
           "grey",
           "red",
           "red",
           "red",
           "red",
           "red"
          ]
         },
         "name": "2021",
         "orientation": "h",
         "text": [
          453,
          77,
          177,
          48,
          104,
          915,
          271,
          408,
          290,
          140,
          171,
          567,
          50,
          114,
          210,
          781,
          144,
          340,
          91,
          228,
          507,
          549,
          292,
          456,
          154,
          1
         ],
         "type": "bar",
         "visible": false,
         "x": [
          16.997792494481235,
          15.584415584415584,
          15.254237288135593,
          14.583333333333334,
          13.461538461538462,
          13.442622950819672,
          12.915129151291513,
          12.5,
          11.03448275862069,
          10.714285714285714,
          10.526315789473685,
          10.229276895943563,
          10,
          9.649122807017545,
          9.523809523809524,
          9.346991037131883,
          9.027777777777779,
          8.823529411764707,
          8.791208791208792,
          7.456140350877193,
          6.70611439842209,
          6.193078324225866,
          5.821917808219178,
          4.385964912280702,
          2.5974025974025974,
          0
         ],
         "y": [
          "South Hampstead",
          "Swiss Cottage",
          "Kilburn",
          "Cantelowes",
          "Frognal & Fitzjohns",
          "Belsize",
          "Haverstock",
          "Frognal",
          "Gospel Oak",
          "St Pancras & Somers Town",
          "Kentish Town South",
          "Highgate",
          "Kentish Town",
          "Camden Square",
          "Camden Town",
          "Hampstead Town",
          "Kentish Town North",
          "Primrose Hill",
          "Camden Town With Primrose Hill",
          "West Hampstead",
          "Holborn & Covent Garden",
          "Regent'S Park",
          "Fortune Green",
          "Bloomsbury",
          "King'S Cross",
          "Adjoining Borough"
         ]
        },
        {
         "hovertemplate": "%{y}<br>%{x:.1f}%<br>%{text} applications",
         "marker": {
          "color": [
           "green",
           "green",
           "green",
           "green",
           "green",
           "grey",
           "grey",
           "grey",
           "grey",
           "grey",
           "grey",
           "grey",
           "grey",
           "grey",
           "grey",
           "grey",
           "grey",
           "grey",
           "grey",
           "grey",
           "grey",
           "red",
           "red",
           "red",
           "red",
           "red"
          ]
         },
         "name": "2020",
         "orientation": "h",
         "text": [
          392,
          75,
          89,
          157,
          852,
          472,
          507,
          113,
          748,
          157,
          86,
          310,
          64,
          285,
          274,
          137,
          525,
          559,
          196,
          166,
          293,
          372,
          228,
          97,
          198,
          5
         ],
         "type": "bar",
         "visible": false,
         "x": [
          20.918367346938776,
          20,
          16.853932584269664,
          15.286624203821656,
          14.788732394366198,
          12.923728813559322,
          12.820512820512821,
          11.504424778761061,
          11.497326203208557,
          11.464968152866241,
          10.465116279069768,
          10,
          9.375,
          8.771929824561404,
          8.75912408759124,
          8.02919708029197,
          7.0476190476190474,
          6.797853309481217,
          6.63265306122449,
          6.626506024096385,
          6.484641638225256,
          5.645161290322581,
          5.2631578947368425,
          5.154639175257732,
          4.545454545454546,
          0
         ],
         "y": [
          "South Hampstead",
          "Kentish Town",
          "Swiss Cottage",
          "Kentish Town South",
          "Belsize",
          "Frognal",
          "Highgate",
          "Frognal & Fitzjohns",
          "Hampstead Town",
          "Camden Town",
          "Camden Square",
          "Fortune Green",
          "Cantelowes",
          "Gospel Oak",
          "Primrose Hill",
          "Kentish Town North",
          "Bloomsbury",
          "Holborn & Covent Garden",
          "St Pancras & Somers Town",
          "Kilburn",
          "West Hampstead",
          "Regent'S Park",
          "Haverstock",
          "Camden Town With Primrose Hill",
          "King'S Cross",
          "Adjoining Borough"
         ]
        },
        {
         "hovertemplate": "%{y}<br>%{x:.1f}%<br>%{text} applications",
         "marker": {
          "color": [
           "green",
           "green",
           "green",
           "green",
           "green",
           "grey",
           "grey",
           "grey",
           "grey",
           "grey",
           "grey",
           "grey",
           "grey",
           "grey",
           "grey",
           "grey",
           "grey",
           "grey",
           "grey",
           "grey",
           "grey",
           "red",
           "red",
           "red",
           "red",
           "red"
          ]
         },
         "name": "2019",
         "orientation": "h",
         "text": [
          371,
          72,
          185,
          407,
          92,
          51,
          768,
          105,
          794,
          159,
          121,
          352,
          522,
          248,
          147,
          212,
          264,
          193,
          608,
          505,
          289,
          113,
          706,
          214,
          354,
          2
         ],
         "type": "bar",
         "visible": false,
         "x": [
          22.371967654986523,
          13.88888888888889,
          12.432432432432432,
          12.039312039312039,
          11.956521739130435,
          11.764705882352942,
          11.458333333333334,
          10.476190476190476,
          10.453400503778338,
          9.433962264150944,
          8.264462809917354,
          8.238636363636363,
          7.854406130268199,
          6.854838709677419,
          6.802721088435374,
          6.60377358490566,
          6.4393939393939394,
          5.181347150259067,
          4.605263157894737,
          4.554455445544554,
          4.498269896193771,
          4.424778761061947,
          3.9660056657223794,
          3.7383177570093458,
          2.824858757062147,
          0
         ],
         "y": [
          "South Hampstead",
          "Kentish Town",
          "Kentish Town South",
          "Frognal",
          "Swiss Cottage",
          "Cantelowes",
          "Belsize",
          "Frognal & Fitzjohns",
          "Hampstead Town",
          "Kilburn",
          "Camden Town With Primrose Hill",
          "Primrose Hill",
          "Highgate",
          "Haverstock",
          "Kentish Town North",
          "St Pancras & Somers Town",
          "Gospel Oak",
          "King'S Cross",
          "Bloomsbury",
          "Regent'S Park",
          "West Hampstead",
          "Camden Square",
          "Holborn & Covent Garden",
          "Camden Town",
          "Fortune Green",
          "Adjoining Borough"
         ]
        },
        {
         "hovertemplate": "%{y}<br>%{x:.1f}%<br>%{text} applications",
         "marker": {
          "color": [
           "green",
           "green",
           "green",
           "green",
           "green",
           "grey",
           "grey",
           "grey",
           "grey",
           "grey",
           "grey",
           "grey",
           "grey",
           "grey",
           "grey",
           "grey",
           "grey",
           "grey",
           "grey",
           "grey",
           "grey",
           "grey",
           "grey",
           "red",
           "red",
           "red",
           "red",
           "red"
          ]
         },
         "name": "2018",
         "orientation": "h",
         "text": [
          374,
          131,
          371,
          68,
          98,
          62,
          175,
          263,
          766,
          469,
          232,
          784,
          299,
          11,
          214,
          447,
          397,
          64,
          265,
          328,
          156,
          682,
          239,
          603,
          234,
          128,
          1,
          1
         ],
         "type": "bar",
         "visible": false,
         "x": [
          19.518716577540108,
          16.03053435114504,
          15.09433962264151,
          14.705882352941176,
          13.26530612244898,
          12.903225806451612,
          12.571428571428571,
          11.787072243346008,
          11.488250652741515,
          11.087420042643924,
          10.775862068965518,
          10.204081632653061,
          10.033444816053512,
          9.090909090909092,
          8.411214953271028,
          7.158836689038031,
          6.801007556675063,
          6.25,
          5.660377358490566,
          5.487804878048781,
          5.128205128205129,
          4.69208211143695,
          4.184100418410042,
          3.9800995024875623,
          3.8461538461538463,
          1.5625,
          0,
          0
         ],
         "y": [
          "South Hampstead",
          "Frognal & Fitzjohns",
          "Frognal",
          "Swiss Cottage",
          "Camden Town With Primrose Hill",
          "Cantelowes",
          "Kilburn",
          "Haverstock",
          "Belsize",
          "Highgate",
          "St Pancras & Somers Town",
          "Hampstead Town",
          "Primrose Hill",
          "Adjoining Borough",
          "Kentish Town South",
          "Regent'S Park",
          "Fortune Green",
          "Kentish Town",
          "Gospel Oak",
          "West Hampstead",
          "Kentish Town North",
          "Holborn & Covent Garden",
          "King'S Cross",
          "Bloomsbury",
          "Camden Town",
          "Camden Square",
          "Adjoining Borough; Kentish Town",
          "Adjoining Borough; Swiss Cottage"
         ]
        },
        {
         "hovertemplate": "%{y}<br>%{x:.1f}%<br>%{text} applications",
         "marker": {
          "color": [
           "green",
           "green",
           "green",
           "green",
           "green",
           "grey",
           "grey",
           "grey",
           "grey",
           "grey",
           "grey",
           "grey",
           "grey",
           "grey",
           "grey",
           "grey",
           "grey",
           "grey",
           "grey",
           "grey",
           "grey",
           "red",
           "red",
           "red",
           "red",
           "red"
          ]
         },
         "name": "2017",
         "orientation": "h",
         "text": [
          395,
          487,
          1007,
          141,
          137,
          108,
          358,
          70,
          320,
          191,
          462,
          97,
          864,
          257,
          336,
          327,
          277,
          450,
          252,
          33,
          87,
          797,
          374,
          588,
          159,
          403
         ],
         "type": "bar",
         "visible": false,
         "x": [
          16.455696202531644,
          15.605749486652977,
          15.09433962264151,
          14.893617021276595,
          13.86861313868613,
          12.962962962962964,
          12.569832402234637,
          11.428571428571429,
          10.625,
          10.471204188481675,
          9.523809523809524,
          9.278350515463918,
          9.25925925925926,
          8.560311284046692,
          8.333333333333334,
          7.6452599388379205,
          7.581227436823105,
          7.555555555555555,
          7.5396825396825395,
          6.0606060606060606,
          5.747126436781609,
          5.520702634880803,
          5.080213903743315,
          3.5714285714285716,
          3.1446540880503147,
          0.7444168734491315
         ],
         "y": [
          "South Hampstead",
          "Frognal",
          "Belsize",
          "Camden Square",
          "Camden Town With Primrose Hill",
          "Swiss Cottage",
          "Primrose Hill",
          "Cantelowes",
          "Gospel Oak",
          "Kentish Town South",
          "Highgate",
          "Frognal & Fitzjohns",
          "Hampstead Town",
          "King'S Cross",
          "Haverstock",
          "St Pancras & Somers Town",
          "Camden Town",
          "Regent'S Park",
          "Kilburn",
          "Adjoining Borough",
          "Kentish Town",
          "Holborn & Covent Garden",
          "West Hampstead",
          "Bloomsbury",
          "Kentish Town North",
          "Fortune Green"
         ]
        },
        {
         "hovertemplate": "%{y}<br>%{x:.1f}%<br>%{text} applications",
         "marker": {
          "color": [
           "green",
           "green",
           "green",
           "green",
           "green",
           "grey",
           "grey",
           "grey",
           "grey",
           "grey",
           "grey",
           "grey",
           "grey",
           "grey",
           "grey",
           "grey",
           "grey",
           "grey",
           "grey",
           "grey",
           "grey",
           "grey",
           "red",
           "red",
           "red",
           "red",
           "red"
          ]
         },
         "name": "2016",
         "orientation": "h",
         "text": [
          11,
          503,
          88,
          350,
          875,
          857,
          137,
          118,
          153,
          355,
          202,
          474,
          122,
          439,
          315,
          374,
          201,
          444,
          322,
          706,
          444,
          56,
          402,
          782,
          162,
          258,
          1
         ],
         "type": "bar",
         "visible": false,
         "x": [
          36.36363636363637,
          18.290258449304176,
          13.636363636363637,
          12.285714285714286,
          11.542857142857143,
          10.268378063010502,
          10.218978102189782,
          10.169491525423728,
          9.803921568627452,
          9.577464788732394,
          9.405940594059405,
          9.282700421940929,
          9.01639344262295,
          8.883826879271071,
          8.253968253968255,
          7.4866310160427805,
          7.462686567164179,
          7.4324324324324325,
          6.832298136645963,
          5.665722379603399,
          5.63063063063063,
          5.357142857142857,
          4.477611940298507,
          3.836317135549872,
          3.7037037037037037,
          3.488372093023256,
          0
         ],
         "y": [
          "Adjoining Borough",
          "South Hampstead",
          "Swiss Cottage",
          "Gospel Oak",
          "Belsize",
          "Hampstead Town",
          "Camden Town With Primrose Hill",
          "Frognal & Fitzjohns",
          "Camden Square",
          "Primrose Hill",
          "Kentish Town South",
          "Frognal",
          "Kentish Town",
          "Highgate",
          "St Pancras & Somers Town",
          "Haverstock",
          "Kilburn",
          "Regent'S Park",
          "Camden Town",
          "Holborn & Covent Garden",
          "West Hampstead",
          "Cantelowes",
          "Fortune Green",
          "Bloomsbury",
          "Kentish Town North",
          "King'S Cross",
          "Camden"
         ]
        },
        {
         "hovertemplate": "%{y}<br>%{x:.1f}%<br>%{text} applications",
         "marker": {
          "color": [
           "green",
           "green",
           "green",
           "green",
           "green",
           "grey",
           "grey",
           "grey",
           "grey",
           "grey",
           "grey",
           "grey",
           "grey",
           "grey",
           "grey",
           "grey",
           "grey",
           "grey",
           "grey",
           "grey",
           "grey",
           "grey",
           "red",
           "red",
           "red",
           "red",
           "red"
          ]
         },
         "name": "2015",
         "orientation": "h",
         "text": [
          241,
          129,
          439,
          833,
          129,
          934,
          505,
          292,
          169,
          265,
          315,
          57,
          394,
          513,
          356,
          273,
          152,
          202,
          638,
          313,
          720,
          452,
          108,
          397,
          157,
          1,
          13
         ],
         "type": "bar",
         "visible": false,
         "x": [
          17.842323651452283,
          15.503875968992247,
          13.895216400911162,
          13.445378151260504,
          12.4031007751938,
          10.38543897216274,
          9.900990099009901,
          9.58904109589041,
          9.467455621301776,
          9.433962264150944,
          8.88888888888889,
          8.771929824561404,
          7.614213197969543,
          7.60233918128655,
          7.303370786516854,
          6.95970695970696,
          6.578947368421052,
          5.445544554455446,
          5.329153605015674,
          5.111821086261981,
          4.722222222222222,
          4.646017699115045,
          4.62962962962963,
          3.7783375314861463,
          3.1847133757961785,
          0,
          0
         ],
         "y": [
          "Kilburn",
          "Frognal & Fitzjohns",
          "South Hampstead",
          "Belsize",
          "Swiss Cottage",
          "Hampstead Town",
          "Frognal",
          "St Pancras & Somers Town",
          "Camden Town With Primrose Hill",
          "Haverstock",
          "Gospel Oak",
          "Cantelowes",
          "West Hampstead",
          "Highgate",
          "Primrose Hill",
          "King'S Cross",
          "Camden Square",
          "Kentish Town South",
          "Holborn & Covent Garden",
          "Camden Town",
          "Bloomsbury",
          "Regent'S Park",
          "Kentish Town",
          "Fortune Green",
          "Kentish Town North",
          "Adjoining Borough; Cantelowes",
          "Adjoining Borough"
         ]
        },
        {
         "hovertemplate": "%{y}<br>%{x:.1f}%<br>%{text} applications",
         "marker": {
          "color": [
           "green",
           "green",
           "green",
           "green",
           "green",
           "grey",
           "grey",
           "grey",
           "grey",
           "grey",
           "grey",
           "grey",
           "grey",
           "grey",
           "grey",
           "grey",
           "grey",
           "grey",
           "grey",
           "grey",
           "grey",
           "red",
           "red",
           "red",
           "red",
           "red"
          ]
         },
         "name": "2014",
         "orientation": "h",
         "text": [
          67,
          114,
          98,
          379,
          881,
          137,
          440,
          439,
          110,
          195,
          232,
          20,
          397,
          303,
          201,
          309,
          894,
          247,
          435,
          439,
          675,
          160,
          816,
          97,
          353,
          369
         ],
         "type": "bar",
         "visible": false,
         "x": [
          19.402985074626866,
          16.666666666666668,
          15.306122448979592,
          14.248021108179419,
          11.91827468785471,
          11.678832116788321,
          11.590909090909092,
          11.161731207289295,
          10.909090909090908,
          10.76923076923077,
          10.344827586206897,
          10,
          9.571788413098236,
          9.570957095709572,
          8.955223880597014,
          8.737864077669903,
          8.165548098434005,
          7.6923076923076925,
          7.126436781609195,
          5.694760820045558,
          5.185185185185185,
          5,
          4.901960784313726,
          4.123711340206185,
          2.8328611898016995,
          1.084010840108401
         ],
         "y": [
          "Cantelowes",
          "Swiss Cottage",
          "Frognal & Fitzjohns",
          "South Hampstead",
          "Belsize",
          "Camden Town With Primrose Hill",
          "Highgate",
          "Frognal",
          "Camden Square",
          "Kilburn",
          "Camden Town",
          "Adjoining Borough",
          "Primrose Hill",
          "Gospel Oak",
          "Kentish Town South",
          "St Pancras & Somers Town",
          "Hampstead Town",
          "Haverstock",
          "Regent'S Park",
          "West Hampstead",
          "Holborn & Covent Garden",
          "Kentish Town North",
          "Bloomsbury",
          "Kentish Town",
          "King'S Cross",
          "Fortune Green"
         ]
        },
        {
         "hovertemplate": "%{y}<br>%{x:.1f}%<br>%{text} applications",
         "marker": {
          "color": [
           "green",
           "green",
           "green",
           "green",
           "green",
           "grey",
           "grey",
           "grey",
           "grey",
           "grey",
           "grey",
           "grey",
           "grey",
           "grey",
           "grey",
           "grey",
           "grey",
           "grey",
           "grey",
           "grey",
           "grey",
           "red",
           "red",
           "red",
           "red",
           "red"
          ]
         },
         "name": "2013",
         "orientation": "h",
         "text": [
          244,
          1126,
          27,
          473,
          474,
          104,
          155,
          32,
          470,
          316,
          213,
          446,
          904,
          107,
          155,
          445,
          169,
          260,
          84,
          472,
          263,
          301,
          659,
          261,
          333,
          746
         ],
         "type": "bar",
         "visible": false,
         "x": [
          18.0327868852459,
          17.14031971580817,
          14.814814814814815,
          14.799154334038056,
          13.713080168776372,
          13.461538461538462,
          12.903225806451612,
          12.5,
          12.127659574468085,
          12.025316455696203,
          11.737089201877934,
          9.865470852017937,
          9.513274336283185,
          9.345794392523365,
          9.03225806451613,
          8.764044943820224,
          7.6923076923076925,
          6.923076923076923,
          5.9523809523809526,
          5.720338983050848,
          5.32319391634981,
          5.3156146179401995,
          4.09711684370258,
          3.0651340996168583,
          3.003003003003003,
          2.9490616621983916
         ],
         "y": [
          "Haverstock",
          "Belsize",
          "Adjoining Borough",
          "South Hampstead",
          "Frognal",
          "Camden Square",
          "Frognal & Fitzjohns",
          "Cantelowes",
          "Highgate",
          "Gospel Oak",
          "Kentish Town South",
          "Primrose Hill",
          "Hampstead Town",
          "Swiss Cottage",
          "Camden Town With Primrose Hill",
          "West Hampstead",
          "Kentish Town North",
          "Kilburn",
          "Kentish Town",
          "Regent'S Park",
          "King'S Cross",
          "St Pancras & Somers Town",
          "Holborn & Covent Garden",
          "Camden Town",
          "Fortune Green",
          "Bloomsbury"
         ]
        },
        {
         "hovertemplate": "%{y}<br>%{x:.1f}%<br>%{text} applications",
         "marker": {
          "color": [
           "green",
           "green",
           "green",
           "green",
           "green",
           "grey",
           "grey",
           "grey",
           "grey",
           "grey",
           "grey",
           "grey",
           "grey",
           "grey",
           "grey",
           "grey",
           "grey",
           "grey",
           "grey",
           "grey",
           "grey",
           "grey",
           "red",
           "red",
           "red",
           "red",
           "red"
          ]
         },
         "name": "2012",
         "orientation": "h",
         "text": [
          1,
          553,
          80,
          27,
          118,
          56,
          885,
          131,
          263,
          428,
          227,
          434,
          921,
          551,
          165,
          257,
          480,
          117,
          263,
          144,
          424,
          161,
          267,
          393,
          284,
          709,
          741
         ],
         "type": "bar",
         "visible": false,
         "x": [
          100,
          23.508137432188065,
          15,
          14.814814814814815,
          14.40677966101695,
          14.285714285714286,
          12.542372881355933,
          11.450381679389313,
          10.64638783269962,
          10.514018691588785,
          9.691629955947137,
          9.44700460829493,
          9.229098805646037,
          8.52994555353902,
          7.878787878787879,
          7.782101167315175,
          7.708333333333333,
          7.6923076923076925,
          7.604562737642586,
          6.944444444444445,
          6.839622641509434,
          6.832298136645963,
          5.992509363295881,
          4.580152671755725,
          3.8732394366197185,
          2.8208744710860367,
          1.349527665317139
         ],
         "y": [
          "Camden",
          "South Hampstead",
          "Kentish Town",
          "Adjoining Borough",
          "Swiss Cottage",
          "Cantelowes",
          "Belsize",
          "Camden Town With Primrose Hill",
          "Camden Town",
          "Frognal",
          "Kentish Town South",
          "Primrose Hill",
          "Hampstead Town",
          "Highgate",
          "Haverstock",
          "King'S Cross",
          "West Hampstead",
          "Frognal & Fitzjohns",
          "Kilburn",
          "Camden Square",
          "Regent'S Park",
          "Kentish Town North",
          "St Pancras & Somers Town",
          "Fortune Green",
          "Gospel Oak",
          "Holborn & Covent Garden",
          "Bloomsbury"
         ]
        },
        {
         "hovertemplate": "%{y}<br>%{x:.1f}%<br>%{text} applications",
         "marker": {
          "color": [
           "green",
           "green",
           "green",
           "green",
           "green",
           "grey",
           "grey",
           "grey",
           "grey",
           "grey",
           "grey",
           "grey",
           "grey",
           "grey",
           "grey",
           "grey",
           "grey",
           "grey",
           "grey",
           "grey",
           "grey",
           "grey",
           "grey",
           "red",
           "red",
           "red",
           "red",
           "red"
          ]
         },
         "name": "2011",
         "orientation": "h",
         "text": [
          5,
          470,
          905,
          73,
          244,
          178,
          212,
          66,
          141,
          34,
          628,
          104,
          478,
          952,
          141,
          343,
          436,
          194,
          109,
          394,
          340,
          370,
          225,
          145,
          638,
          204,
          646,
          1
         ],
         "type": "bar",
         "visible": false,
         "x": [
          20,
          17.659574468085108,
          16.132596685082873,
          13.698630136986301,
          12.704918032786885,
          12.359550561797754,
          12.264150943396226,
          12.121212121212121,
          12.056737588652481,
          11.764705882352942,
          11.624203821656051,
          11.538461538461538,
          11.297071129707113,
          11.239495798319327,
          10.638297872340425,
          9.037900874635568,
          8.944954128440367,
          6.701030927835052,
          6.422018348623853,
          5.583756345177665,
          5.294117647058823,
          5.135135135135135,
          4.444444444444445,
          4.137931034482759,
          3.9184952978056424,
          2.9411764705882355,
          2.7863777089783284,
          0
         ],
         "y": [
          "Adjoining Borough; Kentish Town",
          "South Hampstead",
          "Belsize",
          "Cantelowes",
          "Gospel Oak",
          "Kentish Town South",
          "Haverstock",
          "Kentish Town",
          "Camden Town With Primrose Hill",
          "Adjoining Borough",
          "Highgate",
          "Frognal & Fitzjohns",
          "Frognal",
          "Hampstead Town",
          "Camden Square",
          "Primrose Hill",
          "West Hampstead",
          "Kilburn",
          "Swiss Cottage",
          "Regent'S Park",
          "St Pancras & Somers Town",
          "Fortune Green",
          "Camden Town",
          "Kentish Town North",
          "Bloomsbury",
          "King'S Cross",
          "Holborn & Covent Garden",
          "Unknown"
         ]
        }
       ],
       "layout": {
        "height": 600,
        "template": {
         "data": {
          "bar": [
           {
            "error_x": {
             "color": "#2a3f5f"
            },
            "error_y": {
             "color": "#2a3f5f"
            },
            "marker": {
             "line": {
              "color": "#E5ECF6",
              "width": 0.5
             },
             "pattern": {
              "fillmode": "overlay",
              "size": 10,
              "solidity": 0.2
             }
            },
            "type": "bar"
           }
          ],
          "barpolar": [
           {
            "marker": {
             "line": {
              "color": "#E5ECF6",
              "width": 0.5
             },
             "pattern": {
              "fillmode": "overlay",
              "size": 10,
              "solidity": 0.2
             }
            },
            "type": "barpolar"
           }
          ],
          "carpet": [
           {
            "aaxis": {
             "endlinecolor": "#2a3f5f",
             "gridcolor": "white",
             "linecolor": "white",
             "minorgridcolor": "white",
             "startlinecolor": "#2a3f5f"
            },
            "baxis": {
             "endlinecolor": "#2a3f5f",
             "gridcolor": "white",
             "linecolor": "white",
             "minorgridcolor": "white",
             "startlinecolor": "#2a3f5f"
            },
            "type": "carpet"
           }
          ],
          "choropleth": [
           {
            "colorbar": {
             "outlinewidth": 0,
             "ticks": ""
            },
            "type": "choropleth"
           }
          ],
          "contour": [
           {
            "colorbar": {
             "outlinewidth": 0,
             "ticks": ""
            },
            "colorscale": [
             [
              0,
              "#0d0887"
             ],
             [
              0.1111111111111111,
              "#46039f"
             ],
             [
              0.2222222222222222,
              "#7201a8"
             ],
             [
              0.3333333333333333,
              "#9c179e"
             ],
             [
              0.4444444444444444,
              "#bd3786"
             ],
             [
              0.5555555555555556,
              "#d8576b"
             ],
             [
              0.6666666666666666,
              "#ed7953"
             ],
             [
              0.7777777777777778,
              "#fb9f3a"
             ],
             [
              0.8888888888888888,
              "#fdca26"
             ],
             [
              1,
              "#f0f921"
             ]
            ],
            "type": "contour"
           }
          ],
          "contourcarpet": [
           {
            "colorbar": {
             "outlinewidth": 0,
             "ticks": ""
            },
            "type": "contourcarpet"
           }
          ],
          "heatmap": [
           {
            "colorbar": {
             "outlinewidth": 0,
             "ticks": ""
            },
            "colorscale": [
             [
              0,
              "#0d0887"
             ],
             [
              0.1111111111111111,
              "#46039f"
             ],
             [
              0.2222222222222222,
              "#7201a8"
             ],
             [
              0.3333333333333333,
              "#9c179e"
             ],
             [
              0.4444444444444444,
              "#bd3786"
             ],
             [
              0.5555555555555556,
              "#d8576b"
             ],
             [
              0.6666666666666666,
              "#ed7953"
             ],
             [
              0.7777777777777778,
              "#fb9f3a"
             ],
             [
              0.8888888888888888,
              "#fdca26"
             ],
             [
              1,
              "#f0f921"
             ]
            ],
            "type": "heatmap"
           }
          ],
          "heatmapgl": [
           {
            "colorbar": {
             "outlinewidth": 0,
             "ticks": ""
            },
            "colorscale": [
             [
              0,
              "#0d0887"
             ],
             [
              0.1111111111111111,
              "#46039f"
             ],
             [
              0.2222222222222222,
              "#7201a8"
             ],
             [
              0.3333333333333333,
              "#9c179e"
             ],
             [
              0.4444444444444444,
              "#bd3786"
             ],
             [
              0.5555555555555556,
              "#d8576b"
             ],
             [
              0.6666666666666666,
              "#ed7953"
             ],
             [
              0.7777777777777778,
              "#fb9f3a"
             ],
             [
              0.8888888888888888,
              "#fdca26"
             ],
             [
              1,
              "#f0f921"
             ]
            ],
            "type": "heatmapgl"
           }
          ],
          "histogram": [
           {
            "marker": {
             "pattern": {
              "fillmode": "overlay",
              "size": 10,
              "solidity": 0.2
             }
            },
            "type": "histogram"
           }
          ],
          "histogram2d": [
           {
            "colorbar": {
             "outlinewidth": 0,
             "ticks": ""
            },
            "colorscale": [
             [
              0,
              "#0d0887"
             ],
             [
              0.1111111111111111,
              "#46039f"
             ],
             [
              0.2222222222222222,
              "#7201a8"
             ],
             [
              0.3333333333333333,
              "#9c179e"
             ],
             [
              0.4444444444444444,
              "#bd3786"
             ],
             [
              0.5555555555555556,
              "#d8576b"
             ],
             [
              0.6666666666666666,
              "#ed7953"
             ],
             [
              0.7777777777777778,
              "#fb9f3a"
             ],
             [
              0.8888888888888888,
              "#fdca26"
             ],
             [
              1,
              "#f0f921"
             ]
            ],
            "type": "histogram2d"
           }
          ],
          "histogram2dcontour": [
           {
            "colorbar": {
             "outlinewidth": 0,
             "ticks": ""
            },
            "colorscale": [
             [
              0,
              "#0d0887"
             ],
             [
              0.1111111111111111,
              "#46039f"
             ],
             [
              0.2222222222222222,
              "#7201a8"
             ],
             [
              0.3333333333333333,
              "#9c179e"
             ],
             [
              0.4444444444444444,
              "#bd3786"
             ],
             [
              0.5555555555555556,
              "#d8576b"
             ],
             [
              0.6666666666666666,
              "#ed7953"
             ],
             [
              0.7777777777777778,
              "#fb9f3a"
             ],
             [
              0.8888888888888888,
              "#fdca26"
             ],
             [
              1,
              "#f0f921"
             ]
            ],
            "type": "histogram2dcontour"
           }
          ],
          "mesh3d": [
           {
            "colorbar": {
             "outlinewidth": 0,
             "ticks": ""
            },
            "type": "mesh3d"
           }
          ],
          "parcoords": [
           {
            "line": {
             "colorbar": {
              "outlinewidth": 0,
              "ticks": ""
             }
            },
            "type": "parcoords"
           }
          ],
          "pie": [
           {
            "automargin": true,
            "type": "pie"
           }
          ],
          "scatter": [
           {
            "fillpattern": {
             "fillmode": "overlay",
             "size": 10,
             "solidity": 0.2
            },
            "type": "scatter"
           }
          ],
          "scatter3d": [
           {
            "line": {
             "colorbar": {
              "outlinewidth": 0,
              "ticks": ""
             }
            },
            "marker": {
             "colorbar": {
              "outlinewidth": 0,
              "ticks": ""
             }
            },
            "type": "scatter3d"
           }
          ],
          "scattercarpet": [
           {
            "marker": {
             "colorbar": {
              "outlinewidth": 0,
              "ticks": ""
             }
            },
            "type": "scattercarpet"
           }
          ],
          "scattergeo": [
           {
            "marker": {
             "colorbar": {
              "outlinewidth": 0,
              "ticks": ""
             }
            },
            "type": "scattergeo"
           }
          ],
          "scattergl": [
           {
            "marker": {
             "colorbar": {
              "outlinewidth": 0,
              "ticks": ""
             }
            },
            "type": "scattergl"
           }
          ],
          "scattermapbox": [
           {
            "marker": {
             "colorbar": {
              "outlinewidth": 0,
              "ticks": ""
             }
            },
            "type": "scattermapbox"
           }
          ],
          "scatterpolar": [
           {
            "marker": {
             "colorbar": {
              "outlinewidth": 0,
              "ticks": ""
             }
            },
            "type": "scatterpolar"
           }
          ],
          "scatterpolargl": [
           {
            "marker": {
             "colorbar": {
              "outlinewidth": 0,
              "ticks": ""
             }
            },
            "type": "scatterpolargl"
           }
          ],
          "scatterternary": [
           {
            "marker": {
             "colorbar": {
              "outlinewidth": 0,
              "ticks": ""
             }
            },
            "type": "scatterternary"
           }
          ],
          "surface": [
           {
            "colorbar": {
             "outlinewidth": 0,
             "ticks": ""
            },
            "colorscale": [
             [
              0,
              "#0d0887"
             ],
             [
              0.1111111111111111,
              "#46039f"
             ],
             [
              0.2222222222222222,
              "#7201a8"
             ],
             [
              0.3333333333333333,
              "#9c179e"
             ],
             [
              0.4444444444444444,
              "#bd3786"
             ],
             [
              0.5555555555555556,
              "#d8576b"
             ],
             [
              0.6666666666666666,
              "#ed7953"
             ],
             [
              0.7777777777777778,
              "#fb9f3a"
             ],
             [
              0.8888888888888888,
              "#fdca26"
             ],
             [
              1,
              "#f0f921"
             ]
            ],
            "type": "surface"
           }
          ],
          "table": [
           {
            "cells": {
             "fill": {
              "color": "#EBF0F8"
             },
             "line": {
              "color": "white"
             }
            },
            "header": {
             "fill": {
              "color": "#C8D4E3"
             },
             "line": {
              "color": "white"
             }
            },
            "type": "table"
           }
          ]
         },
         "layout": {
          "annotationdefaults": {
           "arrowcolor": "#2a3f5f",
           "arrowhead": 0,
           "arrowwidth": 1
          },
          "autotypenumbers": "strict",
          "coloraxis": {
           "colorbar": {
            "outlinewidth": 0,
            "ticks": ""
           }
          },
          "colorscale": {
           "diverging": [
            [
             0,
             "#8e0152"
            ],
            [
             0.1,
             "#c51b7d"
            ],
            [
             0.2,
             "#de77ae"
            ],
            [
             0.3,
             "#f1b6da"
            ],
            [
             0.4,
             "#fde0ef"
            ],
            [
             0.5,
             "#f7f7f7"
            ],
            [
             0.6,
             "#e6f5d0"
            ],
            [
             0.7,
             "#b8e186"
            ],
            [
             0.8,
             "#7fbc41"
            ],
            [
             0.9,
             "#4d9221"
            ],
            [
             1,
             "#276419"
            ]
           ],
           "sequential": [
            [
             0,
             "#0d0887"
            ],
            [
             0.1111111111111111,
             "#46039f"
            ],
            [
             0.2222222222222222,
             "#7201a8"
            ],
            [
             0.3333333333333333,
             "#9c179e"
            ],
            [
             0.4444444444444444,
             "#bd3786"
            ],
            [
             0.5555555555555556,
             "#d8576b"
            ],
            [
             0.6666666666666666,
             "#ed7953"
            ],
            [
             0.7777777777777778,
             "#fb9f3a"
            ],
            [
             0.8888888888888888,
             "#fdca26"
            ],
            [
             1,
             "#f0f921"
            ]
           ],
           "sequentialminus": [
            [
             0,
             "#0d0887"
            ],
            [
             0.1111111111111111,
             "#46039f"
            ],
            [
             0.2222222222222222,
             "#7201a8"
            ],
            [
             0.3333333333333333,
             "#9c179e"
            ],
            [
             0.4444444444444444,
             "#bd3786"
            ],
            [
             0.5555555555555556,
             "#d8576b"
            ],
            [
             0.6666666666666666,
             "#ed7953"
            ],
            [
             0.7777777777777778,
             "#fb9f3a"
            ],
            [
             0.8888888888888888,
             "#fdca26"
            ],
            [
             1,
             "#f0f921"
            ]
           ]
          },
          "colorway": [
           "#636efa",
           "#EF553B",
           "#00cc96",
           "#ab63fa",
           "#FFA15A",
           "#19d3f3",
           "#FF6692",
           "#B6E880",
           "#FF97FF",
           "#FECB52"
          ],
          "font": {
           "color": "#2a3f5f"
          },
          "geo": {
           "bgcolor": "white",
           "lakecolor": "white",
           "landcolor": "#E5ECF6",
           "showlakes": true,
           "showland": true,
           "subunitcolor": "white"
          },
          "hoverlabel": {
           "align": "left"
          },
          "hovermode": "closest",
          "mapbox": {
           "style": "light"
          },
          "paper_bgcolor": "white",
          "plot_bgcolor": "#E5ECF6",
          "polar": {
           "angularaxis": {
            "gridcolor": "white",
            "linecolor": "white",
            "ticks": ""
           },
           "bgcolor": "#E5ECF6",
           "radialaxis": {
            "gridcolor": "white",
            "linecolor": "white",
            "ticks": ""
           }
          },
          "scene": {
           "xaxis": {
            "backgroundcolor": "#E5ECF6",
            "gridcolor": "white",
            "gridwidth": 2,
            "linecolor": "white",
            "showbackground": true,
            "ticks": "",
            "zerolinecolor": "white"
           },
           "yaxis": {
            "backgroundcolor": "#E5ECF6",
            "gridcolor": "white",
            "gridwidth": 2,
            "linecolor": "white",
            "showbackground": true,
            "ticks": "",
            "zerolinecolor": "white"
           },
           "zaxis": {
            "backgroundcolor": "#E5ECF6",
            "gridcolor": "white",
            "gridwidth": 2,
            "linecolor": "white",
            "showbackground": true,
            "ticks": "",
            "zerolinecolor": "white"
           }
          },
          "shapedefaults": {
           "line": {
            "color": "#2a3f5f"
           }
          },
          "ternary": {
           "aaxis": {
            "gridcolor": "white",
            "linecolor": "white",
            "ticks": ""
           },
           "baxis": {
            "gridcolor": "white",
            "linecolor": "white",
            "ticks": ""
           },
           "bgcolor": "#E5ECF6",
           "caxis": {
            "gridcolor": "white",
            "linecolor": "white",
            "ticks": ""
           }
          },
          "title": {
           "x": 0.05
          },
          "xaxis": {
           "automargin": true,
           "gridcolor": "white",
           "linecolor": "white",
           "ticks": "",
           "title": {
            "standoff": 15
           },
           "zerolinecolor": "white",
           "zerolinewidth": 2
          },
          "yaxis": {
           "automargin": true,
           "gridcolor": "white",
           "linecolor": "white",
           "ticks": "",
           "title": {
            "standoff": 15
           },
           "zerolinecolor": "white",
           "zerolinewidth": 2
          }
         }
        },
        "title": {
         "text": "Top and Bottom Wards by % Green Applications – 2025"
        },
        "updatemenus": [
         {
          "active": 0,
          "buttons": [
           {
            "args": [
             {
              "visible": [
               true,
               false,
               false,
               false,
               false,
               false,
               false,
               false,
               false,
               false,
               false,
               false,
               false,
               false,
               false
              ]
             },
             {
              "title": "Top and Bottom Wards by % Green Applications – 2025"
             }
            ],
            "label": "2025",
            "method": "update"
           },
           {
            "args": [
             {
              "visible": [
               false,
               true,
               false,
               false,
               false,
               false,
               false,
               false,
               false,
               false,
               false,
               false,
               false,
               false,
               false
              ]
             },
             {
              "title": "Top and Bottom Wards by % Green Applications – 2024"
             }
            ],
            "label": "2024",
            "method": "update"
           },
           {
            "args": [
             {
              "visible": [
               false,
               false,
               true,
               false,
               false,
               false,
               false,
               false,
               false,
               false,
               false,
               false,
               false,
               false,
               false
              ]
             },
             {
              "title": "Top and Bottom Wards by % Green Applications – 2023"
             }
            ],
            "label": "2023",
            "method": "update"
           },
           {
            "args": [
             {
              "visible": [
               false,
               false,
               false,
               true,
               false,
               false,
               false,
               false,
               false,
               false,
               false,
               false,
               false,
               false,
               false
              ]
             },
             {
              "title": "Top and Bottom Wards by % Green Applications – 2022"
             }
            ],
            "label": "2022",
            "method": "update"
           },
           {
            "args": [
             {
              "visible": [
               false,
               false,
               false,
               false,
               true,
               false,
               false,
               false,
               false,
               false,
               false,
               false,
               false,
               false,
               false
              ]
             },
             {
              "title": "Top and Bottom Wards by % Green Applications – 2021"
             }
            ],
            "label": "2021",
            "method": "update"
           },
           {
            "args": [
             {
              "visible": [
               false,
               false,
               false,
               false,
               false,
               true,
               false,
               false,
               false,
               false,
               false,
               false,
               false,
               false,
               false
              ]
             },
             {
              "title": "Top and Bottom Wards by % Green Applications – 2020"
             }
            ],
            "label": "2020",
            "method": "update"
           },
           {
            "args": [
             {
              "visible": [
               false,
               false,
               false,
               false,
               false,
               false,
               true,
               false,
               false,
               false,
               false,
               false,
               false,
               false,
               false
              ]
             },
             {
              "title": "Top and Bottom Wards by % Green Applications – 2019"
             }
            ],
            "label": "2019",
            "method": "update"
           },
           {
            "args": [
             {
              "visible": [
               false,
               false,
               false,
               false,
               false,
               false,
               false,
               true,
               false,
               false,
               false,
               false,
               false,
               false,
               false
              ]
             },
             {
              "title": "Top and Bottom Wards by % Green Applications – 2018"
             }
            ],
            "label": "2018",
            "method": "update"
           },
           {
            "args": [
             {
              "visible": [
               false,
               false,
               false,
               false,
               false,
               false,
               false,
               false,
               true,
               false,
               false,
               false,
               false,
               false,
               false
              ]
             },
             {
              "title": "Top and Bottom Wards by % Green Applications – 2017"
             }
            ],
            "label": "2017",
            "method": "update"
           },
           {
            "args": [
             {
              "visible": [
               false,
               false,
               false,
               false,
               false,
               false,
               false,
               false,
               false,
               true,
               false,
               false,
               false,
               false,
               false
              ]
             },
             {
              "title": "Top and Bottom Wards by % Green Applications – 2016"
             }
            ],
            "label": "2016",
            "method": "update"
           },
           {
            "args": [
             {
              "visible": [
               false,
               false,
               false,
               false,
               false,
               false,
               false,
               false,
               false,
               false,
               true,
               false,
               false,
               false,
               false
              ]
             },
             {
              "title": "Top and Bottom Wards by % Green Applications – 2015"
             }
            ],
            "label": "2015",
            "method": "update"
           },
           {
            "args": [
             {
              "visible": [
               false,
               false,
               false,
               false,
               false,
               false,
               false,
               false,
               false,
               false,
               false,
               true,
               false,
               false,
               false
              ]
             },
             {
              "title": "Top and Bottom Wards by % Green Applications – 2014"
             }
            ],
            "label": "2014",
            "method": "update"
           },
           {
            "args": [
             {
              "visible": [
               false,
               false,
               false,
               false,
               false,
               false,
               false,
               false,
               false,
               false,
               false,
               false,
               true,
               false,
               false
              ]
             },
             {
              "title": "Top and Bottom Wards by % Green Applications – 2013"
             }
            ],
            "label": "2013",
            "method": "update"
           },
           {
            "args": [
             {
              "visible": [
               false,
               false,
               false,
               false,
               false,
               false,
               false,
               false,
               false,
               false,
               false,
               false,
               false,
               true,
               false
              ]
             },
             {
              "title": "Top and Bottom Wards by % Green Applications – 2012"
             }
            ],
            "label": "2012",
            "method": "update"
           },
           {
            "args": [
             {
              "visible": [
               false,
               false,
               false,
               false,
               false,
               false,
               false,
               false,
               false,
               false,
               false,
               false,
               false,
               false,
               true
              ]
             },
             {
              "title": "Top and Bottom Wards by % Green Applications – 2011"
             }
            ],
            "label": "2011",
            "method": "update"
           }
          ],
          "x": 1.1,
          "y": 1.15
         }
        ],
        "xaxis": {
         "title": {
          "text": "% Green"
         }
        },
        "yaxis": {
         "autorange": "reversed",
         "title": {
          "text": "Ward"
         }
        }
       }
      },
      "image/png": "[encoded data removed]",
      "text/html": [
       "<div>                            <div id=\"52ab44c5-fc04-4a81-a5fd-7977ee24f261\" class=\"plotly-graph-div\" style=\"height:600px; width:100%;\"></div>            <script type=\"text/javascript\">                require([\"plotly\"], function(Plotly) {                    window.PLOTLYENV=window.PLOTLYENV || {};                                    if (document.getElementById(\"52ab44c5-fc04-4a81-a5fd-7977ee24f261\")) {                    Plotly.newPlot(                        \"52ab44c5-fc04-4a81-a5fd-7977ee24f261\",                        [{\"hovertemplate\":\"%{y}\\u003cbr\\u003e%{x:.1f}%\\u003cbr\\u003e%{text} applications\",\"marker\":{\"color\":[\"green\",\"green\",\"green\",\"green\",\"green\",\"grey\",\"grey\",\"grey\",\"grey\",\"grey\",\"grey\",\"grey\",\"grey\",\"grey\",\"grey\",\"grey\",\"grey\",\"grey\",\"grey\",\"grey\",\"grey\",\"grey\",\"grey\",\"grey\",\"grey\",\"grey\",\"grey\",\"red\",\"red\",\"red\",\"red\",\"red\"]},\"name\":\"2025\",\"orientation\":\"h\",\"text\":[1.0,274.0,637.0,83.0,167.0,387.0,351.0,97.0,211.0,408.0,219.0,171.0,148.0,92.0,470.0,287.0,210.0,204.0,518.0,170.0,86.0,220.0,1.0,15.0,1.0,1.0,1.0,1.0,3.0,1.0,1.0,5.0],\"visible\":true,\"x\":[100.0,20.802919708029197,19.78021978021978,19.27710843373494,16.167664670658684,14.728682170542635,14.52991452991453,14.43298969072165,13.744075829383887,13.235294117647058,12.785388127853881,11.695906432748538,10.135135135135135,9.782608695652174,9.574468085106384,9.40766550522648,8.571428571428571,7.352941176470588,7.142857142857143,6.470588235294118,5.813953488372093,5.0,0.0,0.0,0.0,0.0,0.0,0.0,0.0,0.0,0.0,0.0],\"y\":[\"Camden Square; Camden Town\",\"South Hampstead\",\"Belsize\",\"St Pancras & Somers Town\",\"Kentish Town South\",\"Highgate\",\"Primrose Hill\",\"Kentish Town North\",\"Haverstock\",\"Frognal\",\"West Hampstead\",\"King'S Cross\",\"Fortune Green\",\"Camden Square\",\"Bloomsbury\",\"Regent'S Park\",\"Gospel Oak\",\"Holborn & Covent Garden\",\"Hampstead Town\",\"Holborn And Covent Garden\",\"Kilburn\",\"Camden Town\",\"Bloomsbury; Kilburn\",\"St Pancras And Somers Town\",\"South Hampstead; Swiss Cottage\",\"Bloomsbury; King's Cross\",\"Camden Square; Cantelowes\",\"Kentish Town South; St Pancras and Somers Town\",\"Camden Square; Holborn and Covent Garden; King's Cross\",\"Fortune Green; West Hampstead\",\"Camden Town; Primrose Hill\",\"Holborn and Covent Garden; King's Cross\"],\"type\":\"bar\"},{\"hovertemplate\":\"%{y}\\u003cbr\\u003e%{x:.1f}%\\u003cbr\\u003e%{text} applications\",\"marker\":{\"color\":[\"green\",\"green\",\"green\",\"green\",\"green\",\"grey\",\"grey\",\"grey\",\"grey\",\"grey\",\"grey\",\"grey\",\"grey\",\"grey\",\"grey\",\"grey\",\"grey\",\"grey\",\"grey\",\"grey\",\"grey\",\"grey\",\"grey\",\"grey\",\"grey\",\"grey\",\"grey\",\"grey\",\"grey\",\"grey\",\"grey\",\"grey\",\"grey\",\"grey\",\"red\",\"red\",\"red\",\"red\",\"red\"]},\"name\":\"2024\",\"orientation\":\"h\",\"text\":[1.0,1.0,1.0,192.0,213.0,188.0,554.0,216.0,410.0,573.0,509.0,941.0,154.0,932.0,435.0,368.0,233.0,400.0,266.0,606.0,172.0,280.0,34.0,328.0,206.0,2.0,1.0,6.0,1.0,4.0,6.0,3.0,1.0,2.0,1.0,1.0,1.0,1.0,1.0],\"visible\":false,\"x\":[100.0,100.0,100.0,20.833333333333332,20.657276995305164,19.680851063829788,19.133574007220215,14.814814814814815,13.414634146341463,12.041884816753926,11.984282907662083,11.370882040382572,11.03896103896104,9.871244635193133,9.655172413793103,8.967391304347826,8.583690987124463,8.0,7.894736842105263,7.590759075907591,7.558139534883721,7.5,5.882352941176471,5.7926829268292686,3.3980582524271843,0.0,0.0,0.0,0.0,0.0,0.0,0.0,0.0,0.0,0.0,0.0,0.0,0.0,0.0],\"y\":[\"Frognal; Frognal & Fitzjohns\",\"Camden Square; Camden Town\",\"Camden Square; Cantelowes\",\"Camden Square\",\"Kentish Town South\",\"St Pancras & Somers Town\",\"South Hampstead\",\"Haverstock\",\"West Hampstead\",\"Highgate\",\"Frognal\",\"Belsize\",\"Kentish Town North\",\"Hampstead Town\",\"Primrose Hill\",\"Holborn & Covent Garden\",\"King'S Cross\",\"Regent'S Park\",\"Gospel Oak\",\"Bloomsbury\",\"Kilburn\",\"Camden Town\",\"St Pancras And Somers Town\",\"Fortune Green\",\"Holborn And Covent Garden\",\"Swiss Cottage\",\"King's Cross; St Pancras & Somers Town\",\"King's Cross; St Pancras and Somers Town\",\"Adjoining Borough; Regent's Park\",\"Kentish Town\",\"Frognal & Fitzjohns\",\"Cantelowes\",\"Camden Town; Primrose Hill\",\"Camden Town; Frognal\",\"Camden Town; Camden Town with Primrose Hill\",\"Camden Town With Primrose Hill\",\"Camden Square; King's Cross\",\"Bloomsbury; Holborn and Covent Garden\",\"Gospel Oak; Haverstock\"],\"type\":\"bar\"},{\"hovertemplate\":\"%{y}\\u003cbr\\u003e%{x:.1f}%\\u003cbr\\u003e%{text} applications\",\"marker\":{\"color\":[\"green\",\"green\",\"green\",\"green\",\"green\",\"grey\",\"grey\",\"grey\",\"grey\",\"grey\",\"grey\",\"grey\",\"grey\",\"grey\",\"grey\",\"grey\",\"grey\",\"grey\",\"grey\",\"grey\",\"grey\",\"grey\",\"grey\",\"grey\",\"grey\",\"grey\",\"grey\",\"grey\",\"grey\",\"grey\",\"grey\",\"red\",\"red\",\"red\",\"red\",\"red\"]},\"name\":\"2023\",\"orientation\":\"h\",\"text\":[1.0,4.0,444.0,146.0,198.0,962.0,440.0,311.0,200.0,942.0,35.0,203.0,178.0,321.0,379.0,214.0,394.0,504.0,510.0,226.0,300.0,548.0,237.0,310.0,3.0,2.0,6.0,1.0,1.0,1.0,1.0,1.0,8.0,1.0,4.0,1.0],\"visible\":false,\"x\":[100.0,50.0,22.2972972972973,16.438356164383563,15.656565656565656,15.384615384615385,13.863636363636363,13.504823151125402,13.0,11.67728237791932,11.428571428571429,11.330049261083744,11.235955056179776,10.903426791277258,10.554089709762533,10.280373831775702,10.152284263959391,9.722222222222221,8.235294117647058,7.964601769911504,7.666666666666667,6.386861313868613,6.329113924050633,3.870967741935484,0.0,0.0,0.0,0.0,0.0,0.0,0.0,0.0,0.0,0.0,0.0,0.0],\"y\":[\"Highgate; South Hampstead\",\"Kentish Town\",\"South Hampstead\",\"Camden Square\",\"St Pancras & Somers Town\",\"Belsize\",\"Primrose Hill\",\"Gospel Oak\",\"Kilburn\",\"Hampstead Town\",\"St Pancras And Somers Town\",\"Kentish Town South\",\"Kentish Town North\",\"Haverstock\",\"Holborn & Covent Garden\",\"King'S Cross\",\"Regent'S Park\",\"Frognal\",\"Highgate\",\"Holborn And Covent Garden\",\"West Hampstead\",\"Bloomsbury\",\"Camden Town\",\"Fortune Green\",\"Hampstead Town; Highgate\",\"Frognal; Frognal & Fitzjohns\",\"Frognal & Fitzjohns\",\"Cantelowes\",\"Camden Town; Haverstock; Primrose Hill\",\"King's Cross; Regent's Park; St Pancras and Somers Town\",\"King's Cross; St Pancras and Somers Town\",\"Camden Town; Camden Town with Primrose Hill\",\"Camden Town With Primrose Hill\",\"Camden Square; Haverstock\",\"Swiss Cottage\",\"Adjoining Borough\"],\"type\":\"bar\"},{\"hovertemplate\":\"%{y}\\u003cbr\\u003e%{x:.1f}%\\u003cbr\\u003e%{text} applications\",\"marker\":{\"color\":[\"green\",\"green\",\"green\",\"green\",\"green\",\"grey\",\"grey\",\"grey\",\"grey\",\"grey\",\"grey\",\"grey\",\"grey\",\"grey\",\"grey\",\"grey\",\"grey\",\"grey\",\"grey\",\"grey\",\"grey\",\"grey\",\"grey\",\"grey\",\"grey\",\"grey\",\"red\",\"red\",\"red\",\"red\",\"red\"]},\"name\":\"2022\",\"orientation\":\"h\",\"text\":[238.0,154.0,59.0,135.0,194.0,818.0,320.0,44.0,448.0,361.0,46.0,444.0,378.0,758.0,10.0,229.0,255.0,511.0,333.0,25.0,113.0,125.0,219.0,162.0,245.0,38.0,469.0,1.0,1.0,1.0,1.0],\"visible\":false,\"x\":[17.647058823529413,17.532467532467532,16.949152542372882,16.296296296296298,15.97938144329897,14.058679706601467,13.75,13.636363636363637,13.616071428571429,13.296398891966758,13.043478260869565,11.711711711711711,11.375661375661375,10.158311345646437,10.0,9.606986899563319,9.019607843137255,9.001956947162427,8.108108108108109,8.0,7.964601769911504,6.4,6.392694063926941,6.172839506172839,5.3061224489795915,5.2631578947368425,4.264392324093817,0.0,0.0,0.0,0.0],\"y\":[\"Haverstock\",\"Camden Square\",\"Camden Town With Primrose Hill\",\"Kilburn\",\"Kentish Town South\",\"Belsize\",\"South Hampstead\",\"Cantelowes\",\"Frognal\",\"West Hampstead\",\"Frognal & Fitzjohns\",\"Highgate\",\"Primrose Hill\",\"Hampstead Town\",\"St Pancras And Somers Town\",\"Camden Town\",\"Gospel Oak\",\"Regent'S Park\",\"Holborn & Covent Garden\",\"Kentish Town\",\"Holborn And Covent Garden\",\"St Pancras & Somers Town\",\"King'S Cross\",\"Kentish Town North\",\"Fortune Green\",\"Swiss Cottage\",\"Bloomsbury\",\"Camden Town; Primrose Hill\",\"Camden Square; Camden Town\",\"Bloomsbury; Holborn and Covent Garden\",\"Camden Town; Primrose Hill; Regent's Park\"],\"type\":\"bar\"},{\"hovertemplate\":\"%{y}\\u003cbr\\u003e%{x:.1f}%\\u003cbr\\u003e%{text} applications\",\"marker\":{\"color\":[\"green\",\"green\",\"green\",\"green\",\"green\",\"grey\",\"grey\",\"grey\",\"grey\",\"grey\",\"grey\",\"grey\",\"grey\",\"grey\",\"grey\",\"grey\",\"grey\",\"grey\",\"grey\",\"grey\",\"grey\",\"red\",\"red\",\"red\",\"red\",\"red\"]},\"name\":\"2021\",\"orientation\":\"h\",\"text\":[453.0,77.0,177.0,48.0,104.0,915.0,271.0,408.0,290.0,140.0,171.0,567.0,50.0,114.0,210.0,781.0,144.0,340.0,91.0,228.0,507.0,549.0,292.0,456.0,154.0,1.0],\"visible\":false,\"x\":[16.997792494481235,15.584415584415584,15.254237288135593,14.583333333333334,13.461538461538462,13.442622950819672,12.915129151291513,12.5,11.03448275862069,10.714285714285714,10.526315789473685,10.229276895943563,10.0,9.649122807017545,9.523809523809524,9.346991037131883,9.027777777777779,8.823529411764707,8.791208791208792,7.456140350877193,6.70611439842209,6.193078324225866,5.821917808219178,4.385964912280702,2.5974025974025974,0.0],\"y\":[\"South Hampstead\",\"Swiss Cottage\",\"Kilburn\",\"Cantelowes\",\"Frognal & Fitzjohns\",\"Belsize\",\"Haverstock\",\"Frognal\",\"Gospel Oak\",\"St Pancras & Somers Town\",\"Kentish Town South\",\"Highgate\",\"Kentish Town\",\"Camden Square\",\"Camden Town\",\"Hampstead Town\",\"Kentish Town North\",\"Primrose Hill\",\"Camden Town With Primrose Hill\",\"West Hampstead\",\"Holborn & Covent Garden\",\"Regent'S Park\",\"Fortune Green\",\"Bloomsbury\",\"King'S Cross\",\"Adjoining Borough\"],\"type\":\"bar\"},{\"hovertemplate\":\"%{y}\\u003cbr\\u003e%{x:.1f}%\\u003cbr\\u003e%{text} applications\",\"marker\":{\"color\":[\"green\",\"green\",\"green\",\"green\",\"green\",\"grey\",\"grey\",\"grey\",\"grey\",\"grey\",\"grey\",\"grey\",\"grey\",\"grey\",\"grey\",\"grey\",\"grey\",\"grey\",\"grey\",\"grey\",\"grey\",\"red\",\"red\",\"red\",\"red\",\"red\"]},\"name\":\"2020\",\"orientation\":\"h\",\"text\":[392.0,75.0,89.0,157.0,852.0,472.0,507.0,113.0,748.0,157.0,86.0,310.0,64.0,285.0,274.0,137.0,525.0,559.0,196.0,166.0,293.0,372.0,228.0,97.0,198.0,5.0],\"visible\":false,\"x\":[20.918367346938776,20.0,16.853932584269664,15.286624203821656,14.788732394366198,12.923728813559322,12.820512820512821,11.504424778761061,11.497326203208557,11.464968152866241,10.465116279069768,10.0,9.375,8.771929824561404,8.75912408759124,8.02919708029197,7.0476190476190474,6.797853309481217,6.63265306122449,6.626506024096385,6.484641638225256,5.645161290322581,5.2631578947368425,5.154639175257732,4.545454545454546,0.0],\"y\":[\"South Hampstead\",\"Kentish Town\",\"Swiss Cottage\",\"Kentish Town South\",\"Belsize\",\"Frognal\",\"Highgate\",\"Frognal & Fitzjohns\",\"Hampstead Town\",\"Camden Town\",\"Camden Square\",\"Fortune Green\",\"Cantelowes\",\"Gospel Oak\",\"Primrose Hill\",\"Kentish Town North\",\"Bloomsbury\",\"Holborn & Covent Garden\",\"St Pancras & Somers Town\",\"Kilburn\",\"West Hampstead\",\"Regent'S Park\",\"Haverstock\",\"Camden Town With Primrose Hill\",\"King'S Cross\",\"Adjoining Borough\"],\"type\":\"bar\"},{\"hovertemplate\":\"%{y}\\u003cbr\\u003e%{x:.1f}%\\u003cbr\\u003e%{text} applications\",\"marker\":{\"color\":[\"green\",\"green\",\"green\",\"green\",\"green\",\"grey\",\"grey\",\"grey\",\"grey\",\"grey\",\"grey\",\"grey\",\"grey\",\"grey\",\"grey\",\"grey\",\"grey\",\"grey\",\"grey\",\"grey\",\"grey\",\"red\",\"red\",\"red\",\"red\",\"red\"]},\"name\":\"2019\",\"orientation\":\"h\",\"text\":[371.0,72.0,185.0,407.0,92.0,51.0,768.0,105.0,794.0,159.0,121.0,352.0,522.0,248.0,147.0,212.0,264.0,193.0,608.0,505.0,289.0,113.0,706.0,214.0,354.0,2.0],\"visible\":false,\"x\":[22.371967654986523,13.88888888888889,12.432432432432432,12.039312039312039,11.956521739130435,11.764705882352942,11.458333333333334,10.476190476190476,10.453400503778338,9.433962264150944,8.264462809917354,8.238636363636363,7.854406130268199,6.854838709677419,6.802721088435374,6.60377358490566,6.4393939393939394,5.181347150259067,4.605263157894737,4.554455445544554,4.498269896193771,4.424778761061947,3.9660056657223794,3.7383177570093458,2.824858757062147,0.0],\"y\":[\"South Hampstead\",\"Kentish Town\",\"Kentish Town South\",\"Frognal\",\"Swiss Cottage\",\"Cantelowes\",\"Belsize\",\"Frognal & Fitzjohns\",\"Hampstead Town\",\"Kilburn\",\"Camden Town With Primrose Hill\",\"Primrose Hill\",\"Highgate\",\"Haverstock\",\"Kentish Town North\",\"St Pancras & Somers Town\",\"Gospel Oak\",\"King'S Cross\",\"Bloomsbury\",\"Regent'S Park\",\"West Hampstead\",\"Camden Square\",\"Holborn & Covent Garden\",\"Camden Town\",\"Fortune Green\",\"Adjoining Borough\"],\"type\":\"bar\"},{\"hovertemplate\":\"%{y}\\u003cbr\\u003e%{x:.1f}%\\u003cbr\\u003e%{text} applications\",\"marker\":{\"color\":[\"green\",\"green\",\"green\",\"green\",\"green\",\"grey\",\"grey\",\"grey\",\"grey\",\"grey\",\"grey\",\"grey\",\"grey\",\"grey\",\"grey\",\"grey\",\"grey\",\"grey\",\"grey\",\"grey\",\"grey\",\"grey\",\"grey\",\"red\",\"red\",\"red\",\"red\",\"red\"]},\"name\":\"2018\",\"orientation\":\"h\",\"text\":[374.0,131.0,371.0,68.0,98.0,62.0,175.0,263.0,766.0,469.0,232.0,784.0,299.0,11.0,214.0,447.0,397.0,64.0,265.0,328.0,156.0,682.0,239.0,603.0,234.0,128.0,1.0,1.0],\"visible\":false,\"x\":[19.518716577540108,16.03053435114504,15.09433962264151,14.705882352941176,13.26530612244898,12.903225806451612,12.571428571428571,11.787072243346008,11.488250652741515,11.087420042643924,10.775862068965518,10.204081632653061,10.033444816053512,9.090909090909092,8.411214953271028,7.158836689038031,6.801007556675063,6.25,5.660377358490566,5.487804878048781,5.128205128205129,4.69208211143695,4.184100418410042,3.9800995024875623,3.8461538461538463,1.5625,0.0,0.0],\"y\":[\"South Hampstead\",\"Frognal & Fitzjohns\",\"Frognal\",\"Swiss Cottage\",\"Camden Town With Primrose Hill\",\"Cantelowes\",\"Kilburn\",\"Haverstock\",\"Belsize\",\"Highgate\",\"St Pancras & Somers Town\",\"Hampstead Town\",\"Primrose Hill\",\"Adjoining Borough\",\"Kentish Town South\",\"Regent'S Park\",\"Fortune Green\",\"Kentish Town\",\"Gospel Oak\",\"West Hampstead\",\"Kentish Town North\",\"Holborn & Covent Garden\",\"King'S Cross\",\"Bloomsbury\",\"Camden Town\",\"Camden Square\",\"Adjoining Borough; Kentish Town\",\"Adjoining Borough; Swiss Cottage\"],\"type\":\"bar\"},{\"hovertemplate\":\"%{y}\\u003cbr\\u003e%{x:.1f}%\\u003cbr\\u003e%{text} applications\",\"marker\":{\"color\":[\"green\",\"green\",\"green\",\"green\",\"green\",\"grey\",\"grey\",\"grey\",\"grey\",\"grey\",\"grey\",\"grey\",\"grey\",\"grey\",\"grey\",\"grey\",\"grey\",\"grey\",\"grey\",\"grey\",\"grey\",\"red\",\"red\",\"red\",\"red\",\"red\"]},\"name\":\"2017\",\"orientation\":\"h\",\"text\":[395.0,487.0,1007.0,141.0,137.0,108.0,358.0,70.0,320.0,191.0,462.0,97.0,864.0,257.0,336.0,327.0,277.0,450.0,252.0,33.0,87.0,797.0,374.0,588.0,159.0,403.0],\"visible\":false,\"x\":[16.455696202531644,15.605749486652977,15.09433962264151,14.893617021276595,13.86861313868613,12.962962962962964,12.569832402234637,11.428571428571429,10.625,10.471204188481675,9.523809523809524,9.278350515463918,9.25925925925926,8.560311284046692,8.333333333333334,7.6452599388379205,7.581227436823105,7.555555555555555,7.5396825396825395,6.0606060606060606,5.747126436781609,5.520702634880803,5.080213903743315,3.5714285714285716,3.1446540880503147,0.7444168734491315],\"y\":[\"South Hampstead\",\"Frognal\",\"Belsize\",\"Camden Square\",\"Camden Town With Primrose Hill\",\"Swiss Cottage\",\"Primrose Hill\",\"Cantelowes\",\"Gospel Oak\",\"Kentish Town South\",\"Highgate\",\"Frognal & Fitzjohns\",\"Hampstead Town\",\"King'S Cross\",\"Haverstock\",\"St Pancras & Somers Town\",\"Camden Town\",\"Regent'S Park\",\"Kilburn\",\"Adjoining Borough\",\"Kentish Town\",\"Holborn & Covent Garden\",\"West Hampstead\",\"Bloomsbury\",\"Kentish Town North\",\"Fortune Green\"],\"type\":\"bar\"},{\"hovertemplate\":\"%{y}\\u003cbr\\u003e%{x:.1f}%\\u003cbr\\u003e%{text} applications\",\"marker\":{\"color\":[\"green\",\"green\",\"green\",\"green\",\"green\",\"grey\",\"grey\",\"grey\",\"grey\",\"grey\",\"grey\",\"grey\",\"grey\",\"grey\",\"grey\",\"grey\",\"grey\",\"grey\",\"grey\",\"grey\",\"grey\",\"grey\",\"red\",\"red\",\"red\",\"red\",\"red\"]},\"name\":\"2016\",\"orientation\":\"h\",\"text\":[11.0,503.0,88.0,350.0,875.0,857.0,137.0,118.0,153.0,355.0,202.0,474.0,122.0,439.0,315.0,374.0,201.0,444.0,322.0,706.0,444.0,56.0,402.0,782.0,162.0,258.0,1.0],\"visible\":false,\"x\":[36.36363636363637,18.290258449304176,13.636363636363637,12.285714285714286,11.542857142857143,10.268378063010502,10.218978102189782,10.169491525423728,9.803921568627452,9.577464788732394,9.405940594059405,9.282700421940929,9.01639344262295,8.883826879271071,8.253968253968255,7.4866310160427805,7.462686567164179,7.4324324324324325,6.832298136645963,5.665722379603399,5.63063063063063,5.357142857142857,4.477611940298507,3.836317135549872,3.7037037037037037,3.488372093023256,0.0],\"y\":[\"Adjoining Borough\",\"South Hampstead\",\"Swiss Cottage\",\"Gospel Oak\",\"Belsize\",\"Hampstead Town\",\"Camden Town With Primrose Hill\",\"Frognal & Fitzjohns\",\"Camden Square\",\"Primrose Hill\",\"Kentish Town South\",\"Frognal\",\"Kentish Town\",\"Highgate\",\"St Pancras & Somers Town\",\"Haverstock\",\"Kilburn\",\"Regent'S Park\",\"Camden Town\",\"Holborn & Covent Garden\",\"West Hampstead\",\"Cantelowes\",\"Fortune Green\",\"Bloomsbury\",\"Kentish Town North\",\"King'S Cross\",\"Camden\"],\"type\":\"bar\"},{\"hovertemplate\":\"%{y}\\u003cbr\\u003e%{x:.1f}%\\u003cbr\\u003e%{text} applications\",\"marker\":{\"color\":[\"green\",\"green\",\"green\",\"green\",\"green\",\"grey\",\"grey\",\"grey\",\"grey\",\"grey\",\"grey\",\"grey\",\"grey\",\"grey\",\"grey\",\"grey\",\"grey\",\"grey\",\"grey\",\"grey\",\"grey\",\"grey\",\"red\",\"red\",\"red\",\"red\",\"red\"]},\"name\":\"2015\",\"orientation\":\"h\",\"text\":[241.0,129.0,439.0,833.0,129.0,934.0,505.0,292.0,169.0,265.0,315.0,57.0,394.0,513.0,356.0,273.0,152.0,202.0,638.0,313.0,720.0,452.0,108.0,397.0,157.0,1.0,13.0],\"visible\":false,\"x\":[17.842323651452283,15.503875968992247,13.895216400911162,13.445378151260504,12.4031007751938,10.38543897216274,9.900990099009901,9.58904109589041,9.467455621301776,9.433962264150944,8.88888888888889,8.771929824561404,7.614213197969543,7.60233918128655,7.303370786516854,6.95970695970696,6.578947368421052,5.445544554455446,5.329153605015674,5.111821086261981,4.722222222222222,4.646017699115045,4.62962962962963,3.7783375314861463,3.1847133757961785,0.0,0.0],\"y\":[\"Kilburn\",\"Frognal & Fitzjohns\",\"South Hampstead\",\"Belsize\",\"Swiss Cottage\",\"Hampstead Town\",\"Frognal\",\"St Pancras & Somers Town\",\"Camden Town With Primrose Hill\",\"Haverstock\",\"Gospel Oak\",\"Cantelowes\",\"West Hampstead\",\"Highgate\",\"Primrose Hill\",\"King'S Cross\",\"Camden Square\",\"Kentish Town South\",\"Holborn & Covent Garden\",\"Camden Town\",\"Bloomsbury\",\"Regent'S Park\",\"Kentish Town\",\"Fortune Green\",\"Kentish Town North\",\"Adjoining Borough; Cantelowes\",\"Adjoining Borough\"],\"type\":\"bar\"},{\"hovertemplate\":\"%{y}\\u003cbr\\u003e%{x:.1f}%\\u003cbr\\u003e%{text} applications\",\"marker\":{\"color\":[\"green\",\"green\",\"green\",\"green\",\"green\",\"grey\",\"grey\",\"grey\",\"grey\",\"grey\",\"grey\",\"grey\",\"grey\",\"grey\",\"grey\",\"grey\",\"grey\",\"grey\",\"grey\",\"grey\",\"grey\",\"red\",\"red\",\"red\",\"red\",\"red\"]},\"name\":\"2014\",\"orientation\":\"h\",\"text\":[67.0,114.0,98.0,379.0,881.0,137.0,440.0,439.0,110.0,195.0,232.0,20.0,397.0,303.0,201.0,309.0,894.0,247.0,435.0,439.0,675.0,160.0,816.0,97.0,353.0,369.0],\"visible\":false,\"x\":[19.402985074626866,16.666666666666668,15.306122448979592,14.248021108179419,11.91827468785471,11.678832116788321,11.590909090909092,11.161731207289295,10.909090909090908,10.76923076923077,10.344827586206897,10.0,9.571788413098236,9.570957095709572,8.955223880597014,8.737864077669903,8.165548098434005,7.6923076923076925,7.126436781609195,5.694760820045558,5.185185185185185,5.0,4.901960784313726,4.123711340206185,2.8328611898016995,1.084010840108401],\"y\":[\"Cantelowes\",\"Swiss Cottage\",\"Frognal & Fitzjohns\",\"South Hampstead\",\"Belsize\",\"Camden Town With Primrose Hill\",\"Highgate\",\"Frognal\",\"Camden Square\",\"Kilburn\",\"Camden Town\",\"Adjoining Borough\",\"Primrose Hill\",\"Gospel Oak\",\"Kentish Town South\",\"St Pancras & Somers Town\",\"Hampstead Town\",\"Haverstock\",\"Regent'S Park\",\"West Hampstead\",\"Holborn & Covent Garden\",\"Kentish Town North\",\"Bloomsbury\",\"Kentish Town\",\"King'S Cross\",\"Fortune Green\"],\"type\":\"bar\"},{\"hovertemplate\":\"%{y}\\u003cbr\\u003e%{x:.1f}%\\u003cbr\\u003e%{text} applications\",\"marker\":{\"color\":[\"green\",\"green\",\"green\",\"green\",\"green\",\"grey\",\"grey\",\"grey\",\"grey\",\"grey\",\"grey\",\"grey\",\"grey\",\"grey\",\"grey\",\"grey\",\"grey\",\"grey\",\"grey\",\"grey\",\"grey\",\"red\",\"red\",\"red\",\"red\",\"red\"]},\"name\":\"2013\",\"orientation\":\"h\",\"text\":[244.0,1126.0,27.0,473.0,474.0,104.0,155.0,32.0,470.0,316.0,213.0,446.0,904.0,107.0,155.0,445.0,169.0,260.0,84.0,472.0,263.0,301.0,659.0,261.0,333.0,746.0],\"visible\":false,\"x\":[18.0327868852459,17.14031971580817,14.814814814814815,14.799154334038056,13.713080168776372,13.461538461538462,12.903225806451612,12.5,12.127659574468085,12.025316455696203,11.737089201877934,9.865470852017937,9.513274336283185,9.345794392523365,9.03225806451613,8.764044943820224,7.6923076923076925,6.923076923076923,5.9523809523809526,5.720338983050848,5.32319391634981,5.3156146179401995,4.09711684370258,3.0651340996168583,3.003003003003003,2.9490616621983916],\"y\":[\"Haverstock\",\"Belsize\",\"Adjoining Borough\",\"South Hampstead\",\"Frognal\",\"Camden Square\",\"Frognal & Fitzjohns\",\"Cantelowes\",\"Highgate\",\"Gospel Oak\",\"Kentish Town South\",\"Primrose Hill\",\"Hampstead Town\",\"Swiss Cottage\",\"Camden Town With Primrose Hill\",\"West Hampstead\",\"Kentish Town North\",\"Kilburn\",\"Kentish Town\",\"Regent'S Park\",\"King'S Cross\",\"St Pancras & Somers Town\",\"Holborn & Covent Garden\",\"Camden Town\",\"Fortune Green\",\"Bloomsbury\"],\"type\":\"bar\"},{\"hovertemplate\":\"%{y}\\u003cbr\\u003e%{x:.1f}%\\u003cbr\\u003e%{text} applications\",\"marker\":{\"color\":[\"green\",\"green\",\"green\",\"green\",\"green\",\"grey\",\"grey\",\"grey\",\"grey\",\"grey\",\"grey\",\"grey\",\"grey\",\"grey\",\"grey\",\"grey\",\"grey\",\"grey\",\"grey\",\"grey\",\"grey\",\"grey\",\"red\",\"red\",\"red\",\"red\",\"red\"]},\"name\":\"2012\",\"orientation\":\"h\",\"text\":[1.0,553.0,80.0,27.0,118.0,56.0,885.0,131.0,263.0,428.0,227.0,434.0,921.0,551.0,165.0,257.0,480.0,117.0,263.0,144.0,424.0,161.0,267.0,393.0,284.0,709.0,741.0],\"visible\":false,\"x\":[100.0,23.508137432188065,15.0,14.814814814814815,14.40677966101695,14.285714285714286,12.542372881355933,11.450381679389313,10.64638783269962,10.514018691588785,9.691629955947137,9.44700460829493,9.229098805646037,8.52994555353902,7.878787878787879,7.782101167315175,7.708333333333333,7.6923076923076925,7.604562737642586,6.944444444444445,6.839622641509434,6.832298136645963,5.992509363295881,4.580152671755725,3.8732394366197185,2.8208744710860367,1.349527665317139],\"y\":[\"Camden\",\"South Hampstead\",\"Kentish Town\",\"Adjoining Borough\",\"Swiss Cottage\",\"Cantelowes\",\"Belsize\",\"Camden Town With Primrose Hill\",\"Camden Town\",\"Frognal\",\"Kentish Town South\",\"Primrose Hill\",\"Hampstead Town\",\"Highgate\",\"Haverstock\",\"King'S Cross\",\"West Hampstead\",\"Frognal & Fitzjohns\",\"Kilburn\",\"Camden Square\",\"Regent'S Park\",\"Kentish Town North\",\"St Pancras & Somers Town\",\"Fortune Green\",\"Gospel Oak\",\"Holborn & Covent Garden\",\"Bloomsbury\"],\"type\":\"bar\"},{\"hovertemplate\":\"%{y}\\u003cbr\\u003e%{x:.1f}%\\u003cbr\\u003e%{text} applications\",\"marker\":{\"color\":[\"green\",\"green\",\"green\",\"green\",\"green\",\"grey\",\"grey\",\"grey\",\"grey\",\"grey\",\"grey\",\"grey\",\"grey\",\"grey\",\"grey\",\"grey\",\"grey\",\"grey\",\"grey\",\"grey\",\"grey\",\"grey\",\"grey\",\"red\",\"red\",\"red\",\"red\",\"red\"]},\"name\":\"2011\",\"orientation\":\"h\",\"text\":[5.0,470.0,905.0,73.0,244.0,178.0,212.0,66.0,141.0,34.0,628.0,104.0,478.0,952.0,141.0,343.0,436.0,194.0,109.0,394.0,340.0,370.0,225.0,145.0,638.0,204.0,646.0,1.0],\"visible\":false,\"x\":[20.0,17.659574468085108,16.132596685082873,13.698630136986301,12.704918032786885,12.359550561797754,12.264150943396226,12.121212121212121,12.056737588652481,11.764705882352942,11.624203821656051,11.538461538461538,11.297071129707113,11.239495798319327,10.638297872340425,9.037900874635568,8.944954128440367,6.701030927835052,6.422018348623853,5.583756345177665,5.294117647058823,5.135135135135135,4.444444444444445,4.137931034482759,3.9184952978056424,2.9411764705882355,2.7863777089783284,0.0],\"y\":[\"Adjoining Borough; Kentish Town\",\"South Hampstead\",\"Belsize\",\"Cantelowes\",\"Gospel Oak\",\"Kentish Town South\",\"Haverstock\",\"Kentish Town\",\"Camden Town With Primrose Hill\",\"Adjoining Borough\",\"Highgate\",\"Frognal & Fitzjohns\",\"Frognal\",\"Hampstead Town\",\"Camden Square\",\"Primrose Hill\",\"West Hampstead\",\"Kilburn\",\"Swiss Cottage\",\"Regent'S Park\",\"St Pancras & Somers Town\",\"Fortune Green\",\"Camden Town\",\"Kentish Town North\",\"Bloomsbury\",\"King'S Cross\",\"Holborn & Covent Garden\",\"Unknown\"],\"type\":\"bar\"}],                        {\"template\":{\"data\":{\"histogram2dcontour\":[{\"type\":\"histogram2dcontour\",\"colorbar\":{\"outlinewidth\":0,\"ticks\":\"\"},\"colorscale\":[[0.0,\"#0d0887\"],[0.1111111111111111,\"#46039f\"],[0.2222222222222222,\"#7201a8\"],[0.3333333333333333,\"#9c179e\"],[0.4444444444444444,\"#bd3786\"],[0.5555555555555556,\"#d8576b\"],[0.6666666666666666,\"#ed7953\"],[0.7777777777777778,\"#fb9f3a\"],[0.8888888888888888,\"#fdca26\"],[1.0,\"#f0f921\"]]}],\"choropleth\":[{\"type\":\"choropleth\",\"colorbar\":{\"outlinewidth\":0,\"ticks\":\"\"}}],\"histogram2d\":[{\"type\":\"histogram2d\",\"colorbar\":{\"outlinewidth\":0,\"ticks\":\"\"},\"colorscale\":[[0.0,\"#0d0887\"],[0.1111111111111111,\"#46039f\"],[0.2222222222222222,\"#7201a8\"],[0.3333333333333333,\"#9c179e\"],[0.4444444444444444,\"#bd3786\"],[0.5555555555555556,\"#d8576b\"],[0.6666666666666666,\"#ed7953\"],[0.7777777777777778,\"#fb9f3a\"],[0.8888888888888888,\"#fdca26\"],[1.0,\"#f0f921\"]]}],\"heatmap\":[{\"type\":\"heatmap\",\"colorbar\":{\"outlinewidth\":0,\"ticks\":\"\"},\"colorscale\":[[0.0,\"#0d0887\"],[0.1111111111111111,\"#46039f\"],[0.2222222222222222,\"#7201a8\"],[0.3333333333333333,\"#9c179e\"],[0.4444444444444444,\"#bd3786\"],[0.5555555555555556,\"#d8576b\"],[0.6666666666666666,\"#ed7953\"],[0.7777777777777778,\"#fb9f3a\"],[0.8888888888888888,\"#fdca26\"],[1.0,\"#f0f921\"]]}],\"heatmapgl\":[{\"type\":\"heatmapgl\",\"colorbar\":{\"outlinewidth\":0,\"ticks\":\"\"},\"colorscale\":[[0.0,\"#0d0887\"],[0.1111111111111111,\"#46039f\"],[0.2222222222222222,\"#7201a8\"],[0.3333333333333333,\"#9c179e\"],[0.4444444444444444,\"#bd3786\"],[0.5555555555555556,\"#d8576b\"],[0.6666666666666666,\"#ed7953\"],[0.7777777777777778,\"#fb9f3a\"],[0.8888888888888888,\"#fdca26\"],[1.0,\"#f0f921\"]]}],\"contourcarpet\":[{\"type\":\"contourcarpet\",\"colorbar\":{\"outlinewidth\":0,\"ticks\":\"\"}}],\"contour\":[{\"type\":\"contour\",\"colorbar\":{\"outlinewidth\":0,\"ticks\":\"\"},\"colorscale\":[[0.0,\"#0d0887\"],[0.1111111111111111,\"#46039f\"],[0.2222222222222222,\"#7201a8\"],[0.3333333333333333,\"#9c179e\"],[0.4444444444444444,\"#bd3786\"],[0.5555555555555556,\"#d8576b\"],[0.6666666666666666,\"#ed7953\"],[0.7777777777777778,\"#fb9f3a\"],[0.8888888888888888,\"#fdca26\"],[1.0,\"#f0f921\"]]}],\"surface\":[{\"type\":\"surface\",\"colorbar\":{\"outlinewidth\":0,\"ticks\":\"\"},\"colorscale\":[[0.0,\"#0d0887\"],[0.1111111111111111,\"#46039f\"],[0.2222222222222222,\"#7201a8\"],[0.3333333333333333,\"#9c179e\"],[0.4444444444444444,\"#bd3786\"],[0.5555555555555556,\"#d8576b\"],[0.6666666666666666,\"#ed7953\"],[0.7777777777777778,\"#fb9f3a\"],[0.8888888888888888,\"#fdca26\"],[1.0,\"#f0f921\"]]}],\"mesh3d\":[{\"type\":\"mesh3d\",\"colorbar\":{\"outlinewidth\":0,\"ticks\":\"\"}}],\"scatter\":[{\"fillpattern\":{\"fillmode\":\"overlay\",\"size\":10,\"solidity\":0.2},\"type\":\"scatter\"}],\"parcoords\":[{\"type\":\"parcoords\",\"line\":{\"colorbar\":{\"outlinewidth\":0,\"ticks\":\"\"}}}],\"scatterpolargl\":[{\"type\":\"scatterpolargl\",\"marker\":{\"colorbar\":{\"outlinewidth\":0,\"ticks\":\"\"}}}],\"bar\":[{\"error_x\":{\"color\":\"#2a3f5f\"},\"error_y\":{\"color\":\"#2a3f5f\"},\"marker\":{\"line\":{\"color\":\"#E5ECF6\",\"width\":0.5},\"pattern\":{\"fillmode\":\"overlay\",\"size\":10,\"solidity\":0.2}},\"type\":\"bar\"}],\"scattergeo\":[{\"type\":\"scattergeo\",\"marker\":{\"colorbar\":{\"outlinewidth\":0,\"ticks\":\"\"}}}],\"scatterpolar\":[{\"type\":\"scatterpolar\",\"marker\":{\"colorbar\":{\"outlinewidth\":0,\"ticks\":\"\"}}}],\"histogram\":[{\"marker\":{\"pattern\":{\"fillmode\":\"overlay\",\"size\":10,\"solidity\":0.2}},\"type\":\"histogram\"}],\"scattergl\":[{\"type\":\"scattergl\",\"marker\":{\"colorbar\":{\"outlinewidth\":0,\"ticks\":\"\"}}}],\"scatter3d\":[{\"type\":\"scatter3d\",\"line\":{\"colorbar\":{\"outlinewidth\":0,\"ticks\":\"\"}},\"marker\":{\"colorbar\":{\"outlinewidth\":0,\"ticks\":\"\"}}}],\"scattermapbox\":[{\"type\":\"scattermapbox\",\"marker\":{\"colorbar\":{\"outlinewidth\":0,\"ticks\":\"\"}}}],\"scatterternary\":[{\"type\":\"scatterternary\",\"marker\":{\"colorbar\":{\"outlinewidth\":0,\"ticks\":\"\"}}}],\"scattercarpet\":[{\"type\":\"scattercarpet\",\"marker\":{\"colorbar\":{\"outlinewidth\":0,\"ticks\":\"\"}}}],\"carpet\":[{\"aaxis\":{\"endlinecolor\":\"#2a3f5f\",\"gridcolor\":\"white\",\"linecolor\":\"white\",\"minorgridcolor\":\"white\",\"startlinecolor\":\"#2a3f5f\"},\"baxis\":{\"endlinecolor\":\"#2a3f5f\",\"gridcolor\":\"white\",\"linecolor\":\"white\",\"minorgridcolor\":\"white\",\"startlinecolor\":\"#2a3f5f\"},\"type\":\"carpet\"}],\"table\":[{\"cells\":{\"fill\":{\"color\":\"#EBF0F8\"},\"line\":{\"color\":\"white\"}},\"header\":{\"fill\":{\"color\":\"#C8D4E3\"},\"line\":{\"color\":\"white\"}},\"type\":\"table\"}],\"barpolar\":[{\"marker\":{\"line\":{\"color\":\"#E5ECF6\",\"width\":0.5},\"pattern\":{\"fillmode\":\"overlay\",\"size\":10,\"solidity\":0.2}},\"type\":\"barpolar\"}],\"pie\":[{\"automargin\":true,\"type\":\"pie\"}]},\"layout\":{\"autotypenumbers\":\"strict\",\"colorway\":[\"#636efa\",\"#EF553B\",\"#00cc96\",\"#ab63fa\",\"#FFA15A\",\"#19d3f3\",\"#FF6692\",\"#B6E880\",\"#FF97FF\",\"#FECB52\"],\"font\":{\"color\":\"#2a3f5f\"},\"hovermode\":\"closest\",\"hoverlabel\":{\"align\":\"left\"},\"paper_bgcolor\":\"white\",\"plot_bgcolor\":\"#E5ECF6\",\"polar\":{\"bgcolor\":\"#E5ECF6\",\"angularaxis\":{\"gridcolor\":\"white\",\"linecolor\":\"white\",\"ticks\":\"\"},\"radialaxis\":{\"gridcolor\":\"white\",\"linecolor\":\"white\",\"ticks\":\"\"}},\"ternary\":{\"bgcolor\":\"#E5ECF6\",\"aaxis\":{\"gridcolor\":\"white\",\"linecolor\":\"white\",\"ticks\":\"\"},\"baxis\":{\"gridcolor\":\"white\",\"linecolor\":\"white\",\"ticks\":\"\"},\"caxis\":{\"gridcolor\":\"white\",\"linecolor\":\"white\",\"ticks\":\"\"}},\"coloraxis\":{\"colorbar\":{\"outlinewidth\":0,\"ticks\":\"\"}},\"colorscale\":{\"sequential\":[[0.0,\"#0d0887\"],[0.1111111111111111,\"#46039f\"],[0.2222222222222222,\"#7201a8\"],[0.3333333333333333,\"#9c179e\"],[0.4444444444444444,\"#bd3786\"],[0.5555555555555556,\"#d8576b\"],[0.6666666666666666,\"#ed7953\"],[0.7777777777777778,\"#fb9f3a\"],[0.8888888888888888,\"#fdca26\"],[1.0,\"#f0f921\"]],\"sequentialminus\":[[0.0,\"#0d0887\"],[0.1111111111111111,\"#46039f\"],[0.2222222222222222,\"#7201a8\"],[0.3333333333333333,\"#9c179e\"],[0.4444444444444444,\"#bd3786\"],[0.5555555555555556,\"#d8576b\"],[0.6666666666666666,\"#ed7953\"],[0.7777777777777778,\"#fb9f3a\"],[0.8888888888888888,\"#fdca26\"],[1.0,\"#f0f921\"]],\"diverging\":[[0,\"#8e0152\"],[0.1,\"#c51b7d\"],[0.2,\"#de77ae\"],[0.3,\"#f1b6da\"],[0.4,\"#fde0ef\"],[0.5,\"#f7f7f7\"],[0.6,\"#e6f5d0\"],[0.7,\"#b8e186\"],[0.8,\"#7fbc41\"],[0.9,\"#4d9221\"],[1,\"#276419\"]]},\"xaxis\":{\"gridcolor\":\"white\",\"linecolor\":\"white\",\"ticks\":\"\",\"title\":{\"standoff\":15},\"zerolinecolor\":\"white\",\"automargin\":true,\"zerolinewidth\":2},\"yaxis\":{\"gridcolor\":\"white\",\"linecolor\":\"white\",\"ticks\":\"\",\"title\":{\"standoff\":15},\"zerolinecolor\":\"white\",\"automargin\":true,\"zerolinewidth\":2},\"scene\":{\"xaxis\":{\"backgroundcolor\":\"#E5ECF6\",\"gridcolor\":\"white\",\"linecolor\":\"white\",\"showbackground\":true,\"ticks\":\"\",\"zerolinecolor\":\"white\",\"gridwidth\":2},\"yaxis\":{\"backgroundcolor\":\"#E5ECF6\",\"gridcolor\":\"white\",\"linecolor\":\"white\",\"showbackground\":true,\"ticks\":\"\",\"zerolinecolor\":\"white\",\"gridwidth\":2},\"zaxis\":{\"backgroundcolor\":\"#E5ECF6\",\"gridcolor\":\"white\",\"linecolor\":\"white\",\"showbackground\":true,\"ticks\":\"\",\"zerolinecolor\":\"white\",\"gridwidth\":2}},\"shapedefaults\":{\"line\":{\"color\":\"#2a3f5f\"}},\"annotationdefaults\":{\"arrowcolor\":\"#2a3f5f\",\"arrowhead\":0,\"arrowwidth\":1},\"geo\":{\"bgcolor\":\"white\",\"landcolor\":\"#E5ECF6\",\"subunitcolor\":\"white\",\"showland\":true,\"showlakes\":true,\"lakecolor\":\"white\"},\"title\":{\"x\":0.05},\"mapbox\":{\"style\":\"light\"}}},\"yaxis\":{\"title\":{\"text\":\"Ward\"},\"autorange\":\"reversed\"},\"updatemenus\":[{\"active\":0,\"buttons\":[{\"args\":[{\"visible\":[true,false,false,false,false,false,false,false,false,false,false,false,false,false,false]},{\"title\":\"Top and Bottom Wards by % Green Applications \\u2013 2025\"}],\"label\":\"2025\",\"method\":\"update\"},{\"args\":[{\"visible\":[false,true,false,false,false,false,false,false,false,false,false,false,false,false,false]},{\"title\":\"Top and Bottom Wards by % Green Applications \\u2013 2024\"}],\"label\":\"2024\",\"method\":\"update\"},{\"args\":[{\"visible\":[false,false,true,false,false,false,false,false,false,false,false,false,false,false,false]},{\"title\":\"Top and Bottom Wards by % Green Applications \\u2013 2023\"}],\"label\":\"2023\",\"method\":\"update\"},{\"args\":[{\"visible\":[false,false,false,true,false,false,false,false,false,false,false,false,false,false,false]},{\"title\":\"Top and Bottom Wards by % Green Applications \\u2013 2022\"}],\"label\":\"2022\",\"method\":\"update\"},{\"args\":[{\"visible\":[false,false,false,false,true,false,false,false,false,false,false,false,false,false,false]},{\"title\":\"Top and Bottom Wards by % Green Applications \\u2013 2021\"}],\"label\":\"2021\",\"method\":\"update\"},{\"args\":[{\"visible\":[false,false,false,false,false,true,false,false,false,false,false,false,false,false,false]},{\"title\":\"Top and Bottom Wards by % Green Applications \\u2013 2020\"}],\"label\":\"2020\",\"method\":\"update\"},{\"args\":[{\"visible\":[false,false,false,false,false,false,true,false,false,false,false,false,false,false,false]},{\"title\":\"Top and Bottom Wards by % Green Applications \\u2013 2019\"}],\"label\":\"2019\",\"method\":\"update\"},{\"args\":[{\"visible\":[false,false,false,false,false,false,false,true,false,false,false,false,false,false,false]},{\"title\":\"Top and Bottom Wards by % Green Applications \\u2013 2018\"}],\"label\":\"2018\",\"method\":\"update\"},{\"args\":[{\"visible\":[false,false,false,false,false,false,false,false,true,false,false,false,false,false,false]},{\"title\":\"Top and Bottom Wards by % Green Applications \\u2013 2017\"}],\"label\":\"2017\",\"method\":\"update\"},{\"args\":[{\"visible\":[false,false,false,false,false,false,false,false,false,true,false,false,false,false,false]},{\"title\":\"Top and Bottom Wards by % Green Applications \\u2013 2016\"}],\"label\":\"2016\",\"method\":\"update\"},{\"args\":[{\"visible\":[false,false,false,false,false,false,false,false,false,false,true,false,false,false,false]},{\"title\":\"Top and Bottom Wards by % Green Applications \\u2013 2015\"}],\"label\":\"2015\",\"method\":\"update\"},{\"args\":[{\"visible\":[false,false,false,false,false,false,false,false,false,false,false,true,false,false,false]},{\"title\":\"Top and Bottom Wards by % Green Applications \\u2013 2014\"}],\"label\":\"2014\",\"method\":\"update\"},{\"args\":[{\"visible\":[false,false,false,false,false,false,false,false,false,false,false,false,true,false,false]},{\"title\":\"Top and Bottom Wards by % Green Applications \\u2013 2013\"}],\"label\":\"2013\",\"method\":\"update\"},{\"args\":[{\"visible\":[false,false,false,false,false,false,false,false,false,false,false,false,false,true,false]},{\"title\":\"Top and Bottom Wards by % Green Applications \\u2013 2012\"}],\"label\":\"2012\",\"method\":\"update\"},{\"args\":[{\"visible\":[false,false,false,false,false,false,false,false,false,false,false,false,false,false,true]},{\"title\":\"Top and Bottom Wards by % Green Applications \\u2013 2011\"}],\"label\":\"2011\",\"method\":\"update\"}],\"x\":1.1,\"y\":1.15}],\"title\":{\"text\":\"Top and Bottom Wards by % Green Applications \\u2013 2025\"},\"xaxis\":{\"title\":{\"text\":\"% Green\"}},\"height\":600},                        {\"responsive\": true}                    ).then(function(){\n",
       "                            \n",
       "var gd = document.getElementById('52ab44c5-fc04-4a81-a5fd-7977ee24f261');\n",
       "var x = new MutationObserver(function (mutations, observer) {{\n",
       "        var display = window.getComputedStyle(gd).display;\n",
       "        if (!display || display === 'none') {{\n",
       "            console.log([gd, 'removed!']);\n",
       "            Plotly.purge(gd);\n",
       "            observer.disconnect();\n",
       "        }}\n",
       "}});\n",
       "\n",
       "// Listen for the removal of the full notebook cells\n",
       "var notebookContainer = gd.closest('#notebook-container');\n",
       "if (notebookContainer) {{\n",
       "    x.observe(notebookContainer, {childList: true});\n",
       "}}\n",
       "\n",
       "// Listen for the clearing of the current output cell\n",
       "var outputEl = gd.closest('.output');\n",
       "if (outputEl) {{\n",
       "    x.observe(outputEl, {childList: true});\n",
       "}}\n",
       "\n",
       "                        })                };                });            </script>        </div>"
      ]
     },
     "metadata": {},
     "output_type": "display_data"
    },
    {
     "name": "stdout",
     "output_type": "stream",
     "text": [
      "Chart rendered at: 2025-09-28 20:19:25\n"
     ]
    }
   ],
   "source": [
    "# --- VISUALISE ALL WARDS YEAR BY YEAR ---\n",
    "''' This works fine, but apparently Pandas is deprecating \n",
    "DataFrameGroupBy.apply operated on the grouping columns.\n",
    "Would need to amend in future.\n",
    "'''\n",
    "\n",
    "# Filter data since 2011\n",
    "df_filtered = df_merged[pd.to_datetime(df_merged['decision_date'], dayfirst=True).dt.year >= 2011].copy()\n",
    "df_filtered['decision_year'] = pd.to_datetime(df_filtered['decision_date'], dayfirst=True).dt.year\n",
    "\n",
    "# Aggregate by year and ward \n",
    "ward_year_summary = (\n",
    "    df_filtered.groupby(['decision_year', 'ward_final'], dropna=False)\n",
    "               .agg(total_count=('is_green', 'size'),\n",
    "                    green_count=('is_green', 'sum'))\n",
    "               .reset_index()\n",
    ")\n",
    "ward_year_summary['pct_green'] = 100 * ward_year_summary['green_count'] / ward_year_summary['total_count']\n",
    "\n",
    "# Assign colors per year\n",
    "def assign_colors(group):\n",
    "    group_sorted = group.sort_values('pct_green', ascending=False).copy()\n",
    "    group_sorted['color'] = 'grey'\n",
    "    group_sorted.loc[group_sorted.head(5).index, 'color'] = 'green'\n",
    "    group_sorted.loc[group_sorted.tail(5).index, 'color'] = 'red'\n",
    "    return group_sorted\n",
    "\n",
    "ward_year_summary = ward_year_summary.groupby('decision_year', group_keys=False).apply(assign_colors)\n",
    "\n",
    "# Build figure\n",
    "years = sorted(ward_year_summary['decision_year'].unique(), reverse=True)\n",
    "initial_year = years[0]\n",
    "\n",
    "fig = go.Figure()\n",
    "\n",
    "# Add traces for each year, initially only show the latest year\n",
    "for year in years:\n",
    "    df_year = ward_year_summary[ward_year_summary['decision_year'] == year]\n",
    "    fig.add_trace(go.Bar(\n",
    "        x=df_year['pct_green'],\n",
    "        y=df_year['ward_final'],\n",
    "        orientation='h',\n",
    "        text=df_year['total_count'],\n",
    "        marker_color=df_year['color'],\n",
    "        name=str(year),\n",
    "        visible=(year == initial_year),\n",
    "        hovertemplate='%{y}<br>%{x:.1f}%<br>%{text} applications'\n",
    "    ))\n",
    "\n",
    "# Dropdown for years\n",
    "buttons = []\n",
    "for i, year in enumerate(years):\n",
    "    visible = [j == i for j in range(len(years))]\n",
    "    buttons.append(dict(\n",
    "        label=str(year),\n",
    "        method='update',\n",
    "        args=[{'visible': visible},\n",
    "              {'title': f'Top and Bottom Wards by % Green Applications – {year}'}]\n",
    "    ))\n",
    "\n",
    "fig.update_layout(\n",
    "    updatemenus=[dict(active=0, buttons=buttons, x=1.1, y=1.15)],\n",
    "    title=f'Top and Bottom Wards by % Green Applications – {initial_year}',\n",
    "    xaxis_title='% Green',\n",
    "    yaxis_title='Ward',\n",
    "    yaxis=dict(autorange='reversed'),\n",
    "    height=600\n",
    ")\n",
    "\n",
    "fig.show()\n",
    "print(f\"Chart rendered at: {time.strftime('%Y-%m-%d %H:%M:%S')}\")\n"
   ]
  },
  {
   "cell_type": "code",
   "execution_count": 30,
   "id": "b5874b47-15c2-44be-8d5f-952fdbe187ef",
   "metadata": {},
   "outputs": [
    {
     "name": "stdout",
     "output_type": "stream",
     "text": [
      "                                                                              Decision  Count\n",
      "0                                                                              Granted  41417\n",
      "1                                               No Objection to Works to Tree(s) in CA  13653\n",
      "2                                                                   Withdrawn Decision   5854\n",
      "3                                                                              Refused   3995\n",
      "4                                                                  Approve Works (TPO)   3611\n",
      "5                                     Granted Subject to a Section 106 Legal Agreement   3339\n",
      "6                                                 No Objection to Emergency Works (CA)    843\n",
      "7                                                                         No objection    542\n",
      "8                                Refused and Warning of Enforcement Action to be Taken    442\n",
      "9                                                                   Refuse Works (TPO)    359\n",
      "10                                          Prior Approval Required - Approval Refused    323\n",
      "11                                               Objection to Works to Tree(s) in a CA    292\n",
      "12                                            Prior Approval Required - Approval Given    270\n",
      "13                                                                Part Granted/Refused    230\n",
      "14                                                                Grant Prior Approval    211\n",
      "15                                                       Approve Emergency Works (TPO)    207\n",
      "16                                           Granted and Warning of Enforcement Action    178\n",
      "17                       Granted Prior approval subject to Section 106 Legal agreement    110\n",
      "18                                               Non-Determination: would have refused     76\n",
      "19                                                               Refuse Prior Approval     72\n",
      "20                                                                            Approval     70\n",
      "21                               Refused and Warning of Prosecution Action to be Taken     58\n",
      "22                                                         Prior Approval not required     54\n",
      "23                                                                           Objection     54\n",
      "24                                                                            Notified     46\n",
      "25                                                                    EIA Not Required     42\n",
      "26                                          Granted and Enforcement Action to be Taken     38\n",
      "27  Granted subject to a Section 106 Legal Agreement and Warning of Enforcement Action     24\n",
      "28                                                                        EIA Required     13\n",
      "29                                               Non-Determination: would have granted      8\n",
      "30                                               Grant Certificate, Refuse Application      5\n",
      "31                                                                                Void      4\n",
      "32                                                       Deemed Consent - No Objection      4\n",
      "33                                                        Agree S106 Deed of Variation      3\n",
      "34                                                          Deemed Consent - Objection      3\n",
      "35                                          Part Granted/Refused - warn of prosecution      2\n",
      "36                                                                    Complaint upheld      2\n",
      "37                                              Approve Heritage Partnership Agreement      2\n",
      "38                                                                      Limited Period      1\n",
      "39                                                   Objection to Emergency Works (CA)      1\n",
      "40                                                       Pre-application Advice Issued      1\n",
      "41                                                  Listed as Asset of Community Value      1\n",
      "42                                                        Refuse Emergency Works (TPO)      1\n"
     ]
    }
   ],
   "source": [
    "# --- HOW OFTEN ARE DIFFERENT DECISIONS MADE? ---\n",
    "\n",
    "# Build the table\n",
    "decision_table = (\n",
    "    df['decision']\n",
    "      .value_counts(dropna=False)           # count each unique value (including NaN)\n",
    "      .rename_axis('Decision')              # name the index\n",
    "      .reset_index(name='Count')            # convert to DataFrame\n",
    ")\n",
    "\n",
    "# Show full table with no column-wrapping\n",
    "with pd.option_context(\n",
    "    'display.max_rows', None,      # show all rows\n",
    "    'display.max_columns', None,   # show all columns\n",
    "    'display.width', 2000,         # set a very wide display width\n",
    "    'display.max_colwidth', None   # don’t truncate column contents\n",
    "):\n",
    "    print(decision_table)\n"
   ]
  },
  {
   "cell_type": "code",
   "execution_count": null,
   "id": "08714d8b-fc50-47f1-bcb2-af5214c9603b",
   "metadata": {},
   "outputs": [],
   "source": [
    "# --- END NOTE ---\n",
    "\n",
    "'''So far I've ascertained how many applications have been submitted that have some notion of greenness. \n",
    "But an additional end point we'd like is to compare the rate of applications being accepted vs refused\n",
    "and whether there's any relationship to greenness. \n",
    "\n",
    "Required steps:\n",
    "categorise decisions into \"yes\", \"no\", \"N/A\"\n",
    "Run analysis\n",
    "\n",
    "Problem exists in that different types of applications may be more/less likely to be green\n",
    "And these may also have their own rates of being submitted over time\n",
    "and of being accepted/rejected.\n",
    "\n",
    "Unlikely to have enough data if we split by application type,\n",
    "unless we also remove the ward split.\n",
    "\n",
    "However, the merit of the project hinges on the semantic vector comparison, so it would make more sense\n",
    "to spend time refining that before putting in work elsewhere.\n",
    "\n",
    "'''\n"
   ]
  },
  {
   "cell_type": "code",
   "execution_count": null,
   "id": "6fe7c1eb-3054-4dfc-bdb5-ab7a462e1f4b",
   "metadata": {},
   "outputs": [],
   "source": []
  }
 ],
 "metadata": {
  "kernelspec": {
   "display_name": "Python [conda env:base] *",
   "language": "python",
   "name": "conda-base-py"
  },
  "language_info": {
   "codemirror_mode": {
    "name": "ipython",
    "version": 3
   },
   "file_extension": ".py",
   "mimetype": "text/x-python",
   "name": "python",
   "nbconvert_exporter": "python",
   "pygments_lexer": "ipython3",
   "version": "3.13.5"
  }
 },
 "nbformat": 4,
 "nbformat_minor": 5
}
